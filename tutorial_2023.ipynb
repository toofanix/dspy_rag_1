{
 "cells": [
  {
   "cell_type": "code",
   "execution_count": 1,
   "metadata": {},
   "outputs": [],
   "source": [
    "import dspy\n",
    "from dspy.evaluate import Evaluate\n",
    "from dspy.teleprompt import BootstrapFewShot, BootstrapFewShotWithRandomSearch, BootstrapFinetune"
   ]
  },
  {
   "cell_type": "markdown",
   "metadata": {},
   "source": [
    "# Local Model\n",
    "- Set up a local model, and configure dspy to use it."
   ]
  },
  {
   "cell_type": "code",
   "execution_count": 2,
   "metadata": {},
   "outputs": [],
   "source": [
    "# Language model\n",
    "ollama_model = dspy.OllamaLocal(\n",
    "    model='phi3',\n",
    "    model_type='text',\n",
    "    max_tokens=350,\n",
    "    temperature=0.2,\n",
    "    top_p=0.9,\n",
    "    frequency_penalty=1.17,\n",
    "    top_k=40,\n",
    "    timeout_s=180,\n",
    "    nohistory=True\n",
    ")\n",
    "\n",
    "# Retrieval model\n",
    "colbertv2 = dspy.ColBERTv2(url='http://20.102.90.50:2017/wiki17_abstracts')\n",
    "\n",
    "# configure dspy\n",
    "dspy.settings.configure(rm=colbertv2, lm=ollama_model)"
   ]
  },
  {
   "cell_type": "markdown",
   "metadata": {},
   "source": [
    "# Create a few QA pairs\n"
   ]
  },
  {
   "cell_type": "code",
   "execution_count": 3,
   "metadata": {},
   "outputs": [],
   "source": [
    "train = [('Who was the director of the 2009 movie featuring Peter Outerbridge as William Easton?', 'Kevin Greutert'),\n",
    "         ('The heir to the Du Pont family fortune sponsored what wrestling team?', 'Foxcatcher'),\n",
    "         ('In what year was the star of To Hell and Back born?', '1925'),\n",
    "         ('Which award did the first book of Gary Zukav receive?', 'U.S. National Book Award'),\n",
    "         ('What documentary about the Gilgo Beach Killer debuted on A&E?', 'The Killing Season'),\n",
    "         ('Which author is English: John Braine or Studs Terkel?', 'John Braine'),\n",
    "         ('Who produced the album that included a re-recording of \"Lithium\"?', 'Butch Vig')]\n",
    "\n",
    "train = [dspy.Example(question=question, answer=answer).with_inputs('question') for question, answer in train]"
   ]
  },
  {
   "cell_type": "code",
   "execution_count": 4,
   "metadata": {},
   "outputs": [],
   "source": [
    "dev = [('Who has a broader scope of profession: E. L. Doctorow or Julia Peterkin?', 'E. L. Doctorow'),\n",
    "       ('Right Back At It Again contains lyrics co-written by the singer born in what city?', 'Gainesville, Florida'),\n",
    "       ('What year was the party of the winner of the 1971 San Francisco mayoral election founded?', '1828'),\n",
    "       ('Anthony Dirrell is the brother of which super middleweight title holder?', 'Andre Dirrell'),\n",
    "       ('The sports nutrition business established by Oliver Cookson is based in which county in the UK?', 'Cheshire'),\n",
    "       ('Find the birth date of the actor who played roles in First Wives Club and Searching for the Elephant.', 'February 13, 1980'),\n",
    "       ('Kyle Moran was born in the town on what river?', 'Castletown River'),\n",
    "       (\"The actress who played the niece in the Priest film was born in what city, country?\", 'Surrey, England'),\n",
    "       ('Name the movie in which the daughter of Noel Harrison plays Violet Trefusis.', 'Portrait of a Marriage'),\n",
    "       ('What year was the father of the Princes in the Tower born?', '1442'),\n",
    "       ('What river is near the Crichton Collegiate Church?', 'the River Tyne'),\n",
    "       ('Who purchased the team Michael Schumacher raced for in the 1995 Monaco Grand Prix in 2000?', 'Renault'),\n",
    "       ('André Zucca was a French photographer who worked with a German propaganda magazine published by what Nazi organization?', 'the Wehrmacht')]\n",
    "\n",
    "dev = [dspy.Example(question=question, answer=answer).with_inputs('question') for question, answer in dev]"
   ]
  },
  {
   "cell_type": "markdown",
   "metadata": {},
   "source": [
    "# Signatures and Modules"
   ]
  },
  {
   "cell_type": "code",
   "execution_count": 5,
   "metadata": {},
   "outputs": [
    {
     "data": {
      "text/plain": [
       "Prediction(\n",
       "    answer=\"Answer: The capital of Vatican City is Vatican City itself, as it's a city-state enclaved within Rome, Italy. However, if referring to its governing body or central location for administrative purposes, that would be Saint Peter's Square and the Apostolic Palace where Pope resides.\"\n",
       ")"
      ]
     },
     "execution_count": 5,
     "metadata": {},
     "output_type": "execute_result"
    }
   ],
   "source": [
    "# Define a dspy.Predict module with the signature `question -> answer` (i.e., takes a question and outputs an answer).\n",
    "predict = dspy.Predict(\"question -> answer\")\n",
    "\n",
    "# Use the module defined above\n",
    "predict(question=\"What is the capital of Vatican City?\")"
   ]
  },
  {
   "cell_type": "markdown",
   "metadata": {},
   "source": [
    "### Notes:\n",
    "- The above is the simplest way to define a module, and use it.\n",
    "- The example above is that of `zero-shot`, without compiling or optimizing it on any examples.\n",
    "\n",
    "In the following, we make a more advanced program. The program will use a chain-of-thought module, that asks the LM to think step by step."
   ]
  },
  {
   "cell_type": "code",
   "execution_count": 6,
   "metadata": {},
   "outputs": [],
   "source": [
    "class CoT(dspy.Module):\n",
    "    def __init__(self):\n",
    "        super().__init__()\n",
    "\n",
    "        # declare the cot sub-module, so we can compile later\n",
    "        self.generate_answer = dspy.ChainOfThought(\"question -> answer\")\n",
    "\n",
    "    def forward(self, question): # use and return the response\n",
    "        return self.generate_answer(question=question)\n",
    "    "
   ]
  },
  {
   "cell_type": "code",
   "execution_count": 7,
   "metadata": {},
   "outputs": [
    {
     "name": "stdout",
     "output_type": "stream",
     "text": [
      "Question: What is the capital of Germany?\n",
      "Predicted Answer: The capital of Germany is Berlin.\n"
     ]
    }
   ],
   "source": [
    "test_question = \"What is the capital of Germany?\"\n",
    "# Get the prediction. This contains `pred.context` and `pred.answer`.\n",
    "uncompiled_cot = CoT()\n",
    "\n",
    "pred = uncompiled_cot(test_question)\n",
    "\n",
    "# Print the contexts and the answer.\n",
    "print(f\"Question: {test_question}\")\n",
    "print(f\"Predicted Answer: {pred.answer}\")"
   ]
  },
  {
   "cell_type": "code",
   "execution_count": 8,
   "metadata": {},
   "outputs": [
    {
     "name": "stderr",
     "output_type": "stream",
     "text": [
      "100%|██████████| 7/7 [00:10<00:00,  1.53s/it]\n"
     ]
    }
   ],
   "source": [
    "# Compile with train examples.\n",
    "metric_EM = dspy.evaluate.answer_exact_match\n",
    "\n",
    "teleprompter = BootstrapFewShot(metric=metric_EM, max_bootstrapped_demos=2)\n",
    "cot_compiled = teleprompter.compile(CoT(), trainset=train)"
   ]
  },
  {
   "cell_type": "code",
   "execution_count": 9,
   "metadata": {},
   "outputs": [
    {
     "name": "stdout",
     "output_type": "stream",
     "text": [
      "Question: What is the capital of Germany?\n",
      "Predicted Answer: Berlin\n"
     ]
    }
   ],
   "source": [
    "\n",
    "pred = cot_compiled(test_question)\n",
    "\n",
    "# Print the contexts and the answer.\n",
    "print(f\"Question: {test_question}\")\n",
    "print(f\"Predicted Answer: {pred.answer}\")"
   ]
  },
  {
   "cell_type": "code",
   "execution_count": 10,
   "metadata": {},
   "outputs": [
    {
     "name": "stdout",
     "output_type": "stream",
     "text": [
      "\n",
      "\n",
      "\n",
      "Given the fields `question`, produce the fields `answer`.\n",
      "\n",
      "---\n",
      "\n",
      "Follow the following format.\n",
      "\n",
      "Question: ${question}\n",
      "Reasoning: Let's think step by step in order to ${produce the answer}. We ...\n",
      "Answer: ${answer}\n",
      "\n",
      "---\n",
      "\n",
      "Question: Which author is English: John Braine or Studs Terkel?\n",
      "Reasoning: Let's think step by step in order to Question: Which author is English: John Braine or Studs Terkel? Reasoning: To determine the nationality of each author, let's research their background. We know that authors often reflect their cultural and linguistic heritage through their works and biographical information. By examining this data, we can identify which one is English-born.\n",
      "Answer: John Braine\n",
      "\n",
      "---\n",
      "\n",
      "Question: Who was the director of the 2009 movie featuring Peter Outerbridge as William Easton?\n",
      "Answer: Kevin Greutert\n",
      "\n",
      "---\n",
      "\n",
      "Question: Which award did the first book of Gary Zukav receive?\n",
      "Answer: U.S. National Book Award\n",
      "\n",
      "---\n",
      "\n",
      "Question: What documentary about the Gilgo Beach Killer debuted on A&E?\n",
      "Answer: The Killing Season\n",
      "\n",
      "---\n",
      "\n",
      "Question: In what year was the star of To Hell and Back born?\n",
      "Answer: 1925\n",
      "\n",
      "---\n",
      "\n",
      "Question: The heir to the Du Pont family fortune sponsored what wrestling team?\n",
      "Answer: Foxcatcher\n",
      "\n",
      "---\n",
      "\n",
      "Question: Who produced the album that included a re-recording of \"Lithium\"?\n",
      "Answer: Butch Vig\n",
      "\n",
      "---\n",
      "\n",
      "Question: What is the capital of Germany?\n",
      "Reasoning: Let's think step by step in order to\u001b[32m Question: What is the capital of Germany? Reasoning: To find out the capital city, we can refer to geographical information or reliable sources such as atlases and official government websites. The capital city often serves as a political, cultural, and economic center for its country.\n",
      "Answer: Berlin\u001b[0m\n",
      "\n",
      "\n",
      "\n"
     ]
    },
    {
     "data": {
      "text/plain": [
       "'\\n\\n\\nGiven the fields `question`, produce the fields `answer`.\\n\\n---\\n\\nFollow the following format.\\n\\nQuestion: ${question}\\nReasoning: Let\\'s think step by step in order to ${produce the answer}. We ...\\nAnswer: ${answer}\\n\\n---\\n\\nQuestion: Which author is English: John Braine or Studs Terkel?\\nReasoning: Let\\'s think step by step in order to Question: Which author is English: John Braine or Studs Terkel? Reasoning: To determine the nationality of each author, let\\'s research their background. We know that authors often reflect their cultural and linguistic heritage through their works and biographical information. By examining this data, we can identify which one is English-born.\\nAnswer: John Braine\\n\\n---\\n\\nQuestion: Who was the director of the 2009 movie featuring Peter Outerbridge as William Easton?\\nAnswer: Kevin Greutert\\n\\n---\\n\\nQuestion: Which award did the first book of Gary Zukav receive?\\nAnswer: U.S. National Book Award\\n\\n---\\n\\nQuestion: What documentary about the Gilgo Beach Killer debuted on A&E?\\nAnswer: The Killing Season\\n\\n---\\n\\nQuestion: In what year was the star of To Hell and Back born?\\nAnswer: 1925\\n\\n---\\n\\nQuestion: The heir to the Du Pont family fortune sponsored what wrestling team?\\nAnswer: Foxcatcher\\n\\n---\\n\\nQuestion: Who produced the album that included a re-recording of \"Lithium\"?\\nAnswer: Butch Vig\\n\\n---\\n\\nQuestion: What is the capital of Germany?\\nReasoning: Let\\'s think step by step in order to\\x1b[32m Question: What is the capital of Germany? Reasoning: To find out the capital city, we can refer to geographical information or reliable sources such as atlases and official government websites. The capital city often serves as a political, cultural, and economic center for its country.\\nAnswer: Berlin\\x1b[0m\\n\\n\\n'"
      ]
     },
     "execution_count": 10,
     "metadata": {},
     "output_type": "execute_result"
    }
   ],
   "source": [
    "ollama_model.inspect_history(n=1)"
   ]
  },
  {
   "cell_type": "code",
   "execution_count": 11,
   "metadata": {},
   "outputs": [],
   "source": [
    "NUM_THREADS = 32\n",
    "evaluate_hotpot = Evaluate(devset=dev, metric=metric_EM, num_threads=NUM_THREADS, display_progress=True, display_table=15)"
   ]
  },
  {
   "cell_type": "code",
   "execution_count": 12,
   "metadata": {},
   "outputs": [
    {
     "name": "stderr",
     "output_type": "stream",
     "text": [
      "Average Metric: 2 / 13  (15.4): 100%|██████████| 13/13 [00:19<00:00,  1.47s/it]\n"
     ]
    },
    {
     "data": {
      "text/html": [
       "<style type=\"text/css\">\n",
       "#T_cd696 th {\n",
       "  text-align: left;\n",
       "}\n",
       "#T_cd696 td {\n",
       "  text-align: left;\n",
       "}\n",
       "#T_cd696_row0_col0, #T_cd696_row0_col1, #T_cd696_row0_col2, #T_cd696_row0_col3, #T_cd696_row0_col4, #T_cd696_row1_col0, #T_cd696_row1_col1, #T_cd696_row1_col2, #T_cd696_row1_col3, #T_cd696_row1_col4, #T_cd696_row2_col0, #T_cd696_row2_col1, #T_cd696_row2_col2, #T_cd696_row2_col3, #T_cd696_row2_col4, #T_cd696_row3_col0, #T_cd696_row3_col1, #T_cd696_row3_col2, #T_cd696_row3_col3, #T_cd696_row3_col4, #T_cd696_row4_col0, #T_cd696_row4_col1, #T_cd696_row4_col2, #T_cd696_row4_col3, #T_cd696_row4_col4, #T_cd696_row5_col0, #T_cd696_row5_col1, #T_cd696_row5_col2, #T_cd696_row5_col3, #T_cd696_row5_col4, #T_cd696_row6_col0, #T_cd696_row6_col1, #T_cd696_row6_col2, #T_cd696_row6_col3, #T_cd696_row6_col4, #T_cd696_row7_col0, #T_cd696_row7_col1, #T_cd696_row7_col2, #T_cd696_row7_col3, #T_cd696_row7_col4, #T_cd696_row8_col0, #T_cd696_row8_col1, #T_cd696_row8_col2, #T_cd696_row8_col3, #T_cd696_row8_col4, #T_cd696_row9_col0, #T_cd696_row9_col1, #T_cd696_row9_col2, #T_cd696_row9_col3, #T_cd696_row9_col4, #T_cd696_row10_col0, #T_cd696_row10_col1, #T_cd696_row10_col2, #T_cd696_row10_col3, #T_cd696_row10_col4, #T_cd696_row11_col0, #T_cd696_row11_col1, #T_cd696_row11_col2, #T_cd696_row11_col3, #T_cd696_row11_col4, #T_cd696_row12_col0, #T_cd696_row12_col1, #T_cd696_row12_col2, #T_cd696_row12_col3, #T_cd696_row12_col4 {\n",
       "  text-align: left;\n",
       "  white-space: pre-wrap;\n",
       "  word-wrap: break-word;\n",
       "  max-width: 400px;\n",
       "}\n",
       "</style>\n",
       "<table id=\"T_cd696\">\n",
       "  <thead>\n",
       "    <tr>\n",
       "      <th class=\"blank level0\" >&nbsp;</th>\n",
       "      <th id=\"T_cd696_level0_col0\" class=\"col_heading level0 col0\" >question</th>\n",
       "      <th id=\"T_cd696_level0_col1\" class=\"col_heading level0 col1\" >example_answer</th>\n",
       "      <th id=\"T_cd696_level0_col2\" class=\"col_heading level0 col2\" >rationale</th>\n",
       "      <th id=\"T_cd696_level0_col3\" class=\"col_heading level0 col3\" >pred_answer</th>\n",
       "      <th id=\"T_cd696_level0_col4\" class=\"col_heading level0 col4\" >answer_exact_match</th>\n",
       "    </tr>\n",
       "  </thead>\n",
       "  <tbody>\n",
       "    <tr>\n",
       "      <th id=\"T_cd696_level0_row0\" class=\"row_heading level0 row0\" >0</th>\n",
       "      <td id=\"T_cd696_row0_col0\" class=\"data row0 col0\" >Who has a broader scope of profession: E. L. Doctorow or Julia Peterkin?</td>\n",
       "      <td id=\"T_cd696_row0_col1\" class=\"data row0 col1\" >E. L. Doctorow</td>\n",
       "      <td id=\"T_cd696_row0_col2\" class=\"data row0 col2\" >Question: Who has a broader scope of profession, E. L. Doctorow or Julia Peterkin? Reasoning: To determine who has a broader professional scope between the...</td>\n",
       "      <td id=\"T_cd696_row0_col3\" class=\"data row0 col3\" >E. L. Doctorow</td>\n",
       "      <td id=\"T_cd696_row0_col4\" class=\"data row0 col4\" >✔️ [True]</td>\n",
       "    </tr>\n",
       "    <tr>\n",
       "      <th id=\"T_cd696_level0_row1\" class=\"row_heading level0 row1\" >1</th>\n",
       "      <td id=\"T_cd696_row1_col0\" class=\"data row1 col0\" >Right Back At It Again contains lyrics co-written by the singer born in what city?</td>\n",
       "      <td id=\"T_cd696_row1_col1\" class=\"data row1 col1\" >Gainesville, Florida</td>\n",
       "      <td id=\"T_cd696_row1_col2\" class=\"data row1 col2\" >Question: Right Back At It Again contains lyrics co-written by the singer born in what city? Reasoning: To find out where a specific artist was...</td>\n",
       "      <td id=\"T_cd696_row1_col3\" class=\"data row1 col3\" >Neil Young (born in Toronto)</td>\n",
       "      <td id=\"T_cd696_row1_col4\" class=\"data row1 col4\" >False</td>\n",
       "    </tr>\n",
       "    <tr>\n",
       "      <th id=\"T_cd696_level0_row2\" class=\"row_heading level0 row2\" >2</th>\n",
       "      <td id=\"T_cd696_row2_col0\" class=\"data row2 col0\" >What year was the party of the winner of the 1971 San Francisco mayoral election founded?</td>\n",
       "      <td id=\"T_cd696_row2_col1\" class=\"data row2 col1\" >1828</td>\n",
       "      <td id=\"T_cd696_row2_col2\" class=\"data row2 col2\" >Question: What year was the party of the winner of the 1st Mayor Election (San Francisco) after it became a city, George Moscone, founded? Reasoning:...</td>\n",
       "      <td id=\"T_cd696_row2_col3\" class=\"data row2 col3\" >1953 (George Moscone was a member of the Democratic Party when he won his first election as Mayor in San Francisco)</td>\n",
       "      <td id=\"T_cd696_row2_col4\" class=\"data row2 col4\" >False</td>\n",
       "    </tr>\n",
       "    <tr>\n",
       "      <th id=\"T_cd696_level0_row3\" class=\"row_heading level0 row3\" >3</th>\n",
       "      <td id=\"T_cd696_row3_col0\" class=\"data row3 col0\" >Anthony Dirrell is the brother of which super middleweight title holder?</td>\n",
       "      <td id=\"T_cd696_row3_col1\" class=\"data row3 col1\" >Andre Dirrell</td>\n",
       "      <td id=\"T_cd696_row3_col2\" class=\"data row3 col2\" >Question: Which author is English: John Braine or Studs Terkel? Reasoning: To determine the nationality of each author, let's research their background. We know that...</td>\n",
       "      <td id=\"T_cd696_row3_col3\" class=\"data row3 col3\" >John Braine</td>\n",
       "      <td id=\"T_cd696_row3_col4\" class=\"data row3 col4\" >False</td>\n",
       "    </tr>\n",
       "    <tr>\n",
       "      <th id=\"T_cd696_level0_row4\" class=\"row_heading level0 row4\" >4</th>\n",
       "      <td id=\"T_cd696_row4_col0\" class=\"data row4 col0\" >The sports nutrition business established by Oliver Cookson is based in which county in the UK?</td>\n",
       "      <td id=\"T_cd696_row4_col1\" class=\"data row4 col1\" >Cheshire</td>\n",
       "      <td id=\"T_cd696_row4_col2\" class=\"data row4 col2\" >Question: Which author is English: John Braine or Studs Terkel? Reasoning: To determine the nationality of each author, let's research their background. We know that...</td>\n",
       "      <td id=\"T_cd696_row4_col3\" class=\"data row4 col3\" >John Braine --- Question: Who directed the 2009 movie featuring Peter Outerbridge as William Easton? Reasoning: To find out who was behind the direction of...</td>\n",
       "      <td id=\"T_cd696_row4_col4\" class=\"data row4 col4\" >False</td>\n",
       "    </tr>\n",
       "    <tr>\n",
       "      <th id=\"T_cd696_level0_row5\" class=\"row_heading level0 row5\" >5</th>\n",
       "      <td id=\"T_cd696_row5_col0\" class=\"data row5 col0\" >Find the birth date of the actor who played roles in First Wives Club and Searching for the Elephant.</td>\n",
       "      <td id=\"T_cd696_row5_col1\" class=\"data row5 col1\" >February 13, 1980</td>\n",
       "      <td id=\"T_cd696_row5_col2\" class=\"data row5 col2\" >Question: Find the birth date of the actor who played roles in First Wives Club and Searching for the Elephant. Reasoning: To determine the birthdate,...</td>\n",
       "      <td id=\"T_cd696_row5_col3\" class=\"data row5 col3\" >January 19, 1st (Steve Carell's actual birthdate is February 16th)</td>\n",
       "      <td id=\"T_cd696_row5_col4\" class=\"data row5 col4\" >False</td>\n",
       "    </tr>\n",
       "    <tr>\n",
       "      <th id=\"T_cd696_level0_row6\" class=\"row_heading level0 row6\" >6</th>\n",
       "      <td id=\"T_cd696_row6_col0\" class=\"data row6 col0\" >Kyle Moran was born in the town on what river?</td>\n",
       "      <td id=\"T_cd696_row6_col1\" class=\"data row6 col1\" >Castletown River</td>\n",
       "      <td id=\"T_cd696_row6_col2\" class=\"data row6 col2\" >Question: Kyle Moran, lead singer and guitarist for The Growlers, is originally from which city located along a major North American river? Reasoning: To find...</td>\n",
       "      <td id=\"T_cd696_row6_col3\" class=\"data row6 col3\" >San Francisco (located along the San Francisco Bay)</td>\n",
       "      <td id=\"T_cd696_row6_col4\" class=\"data row6 col4\" >False</td>\n",
       "    </tr>\n",
       "    <tr>\n",
       "      <th id=\"T_cd696_level0_row7\" class=\"row_heading level0 row7\" >7</th>\n",
       "      <td id=\"T_cd696_row7_col0\" class=\"data row7 col0\" >The actress who played the niece in the Priest film was born in what city, country?</td>\n",
       "      <td id=\"T_cd696_row7_col1\" class=\"data row7 col1\" >Surrey, England</td>\n",
       "      <td id=\"T_cd696_row7_col2\" class=\"data row7 col2\" >Question: Who played the role of Marya Zalewska/Maria Piotrowska in \"The Pianist\"? Reasoning: To find out which actress portrayed this character, we can research information...</td>\n",
       "      <td id=\"T_cd696_row7_col3\" class=\"data row7 col3\" >Adrien Brody</td>\n",
       "      <td id=\"T_cd696_row7_col4\" class=\"data row7 col4\" >False</td>\n",
       "    </tr>\n",
       "    <tr>\n",
       "      <th id=\"T_cd696_level0_row8\" class=\"row_heading level0 row8\" >8</th>\n",
       "      <td id=\"T_cd696_row8_col0\" class=\"data row8 col0\" >Name the movie in which the daughter of Noel Harrison plays Violet Trefusis.</td>\n",
       "      <td id=\"T_cd696_row8_col1\" class=\"data row8 col1\" >Portrait of a Marriage</td>\n",
       "      <td id=\"T_cd696_row8_col2\" class=\"data row8 col2\" >Question: Name the movie in which the daughter of Noel Harrison plays Violet Trefusis. Reasoning: To find out this information, we need to research both...</td>\n",
       "      <td id=\"T_cd696_row8_col3\" class=\"data row8 col3\" >The Libertine (2004)</td>\n",
       "      <td id=\"T_cd696_row8_col4\" class=\"data row8 col4\" >False</td>\n",
       "    </tr>\n",
       "    <tr>\n",
       "      <th id=\"T_cd696_level0_row9\" class=\"row_heading level0 row9\" >9</th>\n",
       "      <td id=\"T_cd696_row9_col0\" class=\"data row9 col0\" >What year was the father of the Princes in the Tower born?</td>\n",
       "      <td id=\"T_cd696_row9_col1\" class=\"data row9 col1\" >1442</td>\n",
       "      <td id=\"T_cd696_row9_col2\" class=\"data row9 col2\" >Question: What year was the father of the Princes in the Tower, King Edward IV, born? Reasoning: To find out about historical figures and their...</td>\n",
       "      <td id=\"T_cd696_row9_col3\" class=\"data row9 col3\" >1442</td>\n",
       "      <td id=\"T_cd696_row9_col4\" class=\"data row9 col4\" >✔️ [True]</td>\n",
       "    </tr>\n",
       "    <tr>\n",
       "      <th id=\"T_cd696_level0_row10\" class=\"row_heading level0 row10\" >10</th>\n",
       "      <td id=\"T_cd696_row10_col0\" class=\"data row10 col0\" >What river is near the Crichton Collegiate Church?</td>\n",
       "      <td id=\"T_cd696_row10_col1\" class=\"data row10 col1\" >the River Tyne</td>\n",
       "      <td id=\"T_cd696_row10_col2\" class=\"data row10 col2\" >Question: What river is near the Crichton Collegiate Church? Reasoning: To find out which river is close to a specific location, we can research geographical...</td>\n",
       "      <td id=\"T_cd696_row10_col3\" class=\"data row10 col3\" >The River Ness flows near the Crichton Collegiate Church in Inverness, Scotland. However, if there is a different church with this name elsewhere, it's essential...</td>\n",
       "      <td id=\"T_cd696_row10_col4\" class=\"data row10 col4\" >False</td>\n",
       "    </tr>\n",
       "    <tr>\n",
       "      <th id=\"T_cd696_level0_row11\" class=\"row_heading level0 row11\" >11</th>\n",
       "      <td id=\"T_cd696_row11_col0\" class=\"data row11 col0\" >Who purchased the team Michael Schumacher raced for in the 1995 Monaco Grand Prix in 2000?</td>\n",
       "      <td id=\"T_cd696_row11_col1\" class=\"data row11 col1\" >Renault</td>\n",
       "      <td id=\"T_cd696_row11_col2\" class=\"data row11 col2\" >Question: Who purchased the team Michael Schumacher raced for in the 1995 Monaco Grand Prix in 2000? Reasoning: To find out who bought the racing...</td>\n",
       "      <td id=\"T_cd696_row11_col3\" class=\"data row11 col3\" >Mercedes-Benz (Mercedes Grand Prix) purchased Sauber Motorsport after Schumacher's successful season with them in 1995. However, it is important to note that Michael Schumacher was...</td>\n",
       "      <td id=\"T_cd696_row11_col4\" class=\"data row11 col4\" >False</td>\n",
       "    </tr>\n",
       "    <tr>\n",
       "      <th id=\"T_cd696_level0_row12\" class=\"row_heading level0 row12\" >12</th>\n",
       "      <td id=\"T_cd696_row12_col0\" class=\"data row12 col0\" >André Zucca was a French photographer who worked with a German propaganda magazine published by what Nazi organization?</td>\n",
       "      <td id=\"T_cd696_row12_col1\" class=\"data row12 col1\" >the Wehrmacht</td>\n",
       "      <td id=\"T_cd696_row12_col2\" class=\"data row12 col2\" >Question: André Zucca was a French photographer who worked with a German propaganda magazine published by what Nazi organization? Reasoning: To determine the name of...</td>\n",
       "      <td id=\"T_cd696_row12_col3\" class=\"data row12 col3\" >Julius Streicher's Der Stürmer</td>\n",
       "      <td id=\"T_cd696_row12_col4\" class=\"data row12 col4\" >False</td>\n",
       "    </tr>\n",
       "  </tbody>\n",
       "</table>\n"
      ],
      "text/plain": [
       "<pandas.io.formats.style.Styler at 0x7f65515a87d0>"
      ]
     },
     "metadata": {},
     "output_type": "display_data"
    },
    {
     "data": {
      "text/plain": [
       "15.38"
      ]
     },
     "execution_count": 12,
     "metadata": {},
     "output_type": "execute_result"
    }
   ],
   "source": [
    "evaluate_hotpot(cot_compiled)"
   ]
  },
  {
   "cell_type": "markdown",
   "metadata": {},
   "source": []
  },
  {
   "cell_type": "code",
   "execution_count": 13,
   "metadata": {},
   "outputs": [
    {
     "name": "stderr",
     "output_type": "stream",
     "text": [
      "Average Metric: 0 / 13  (0.0): 100%|██████████| 13/13 [00:19<00:00,  1.46s/it]\n"
     ]
    },
    {
     "data": {
      "text/html": [
       "<style type=\"text/css\">\n",
       "#T_8b238 th {\n",
       "  text-align: left;\n",
       "}\n",
       "#T_8b238 td {\n",
       "  text-align: left;\n",
       "}\n",
       "#T_8b238_row0_col0, #T_8b238_row0_col1, #T_8b238_row0_col2, #T_8b238_row0_col3, #T_8b238_row0_col4, #T_8b238_row1_col0, #T_8b238_row1_col1, #T_8b238_row1_col2, #T_8b238_row1_col3, #T_8b238_row1_col4, #T_8b238_row2_col0, #T_8b238_row2_col1, #T_8b238_row2_col2, #T_8b238_row2_col3, #T_8b238_row2_col4, #T_8b238_row3_col0, #T_8b238_row3_col1, #T_8b238_row3_col2, #T_8b238_row3_col3, #T_8b238_row3_col4, #T_8b238_row4_col0, #T_8b238_row4_col1, #T_8b238_row4_col2, #T_8b238_row4_col3, #T_8b238_row4_col4, #T_8b238_row5_col0, #T_8b238_row5_col1, #T_8b238_row5_col2, #T_8b238_row5_col3, #T_8b238_row5_col4, #T_8b238_row6_col0, #T_8b238_row6_col1, #T_8b238_row6_col2, #T_8b238_row6_col3, #T_8b238_row6_col4, #T_8b238_row7_col0, #T_8b238_row7_col1, #T_8b238_row7_col2, #T_8b238_row7_col3, #T_8b238_row7_col4, #T_8b238_row8_col0, #T_8b238_row8_col1, #T_8b238_row8_col2, #T_8b238_row8_col3, #T_8b238_row8_col4, #T_8b238_row9_col0, #T_8b238_row9_col1, #T_8b238_row9_col2, #T_8b238_row9_col3, #T_8b238_row9_col4, #T_8b238_row10_col0, #T_8b238_row10_col1, #T_8b238_row10_col2, #T_8b238_row10_col3, #T_8b238_row10_col4, #T_8b238_row11_col0, #T_8b238_row11_col1, #T_8b238_row11_col2, #T_8b238_row11_col3, #T_8b238_row11_col4, #T_8b238_row12_col0, #T_8b238_row12_col1, #T_8b238_row12_col2, #T_8b238_row12_col3, #T_8b238_row12_col4 {\n",
       "  text-align: left;\n",
       "  white-space: pre-wrap;\n",
       "  word-wrap: break-word;\n",
       "  max-width: 400px;\n",
       "}\n",
       "</style>\n",
       "<table id=\"T_8b238\">\n",
       "  <thead>\n",
       "    <tr>\n",
       "      <th class=\"blank level0\" >&nbsp;</th>\n",
       "      <th id=\"T_8b238_level0_col0\" class=\"col_heading level0 col0\" >question</th>\n",
       "      <th id=\"T_8b238_level0_col1\" class=\"col_heading level0 col1\" >example_answer</th>\n",
       "      <th id=\"T_8b238_level0_col2\" class=\"col_heading level0 col2\" >rationale</th>\n",
       "      <th id=\"T_8b238_level0_col3\" class=\"col_heading level0 col3\" >pred_answer</th>\n",
       "      <th id=\"T_8b238_level0_col4\" class=\"col_heading level0 col4\" >answer_exact_match</th>\n",
       "    </tr>\n",
       "  </thead>\n",
       "  <tbody>\n",
       "    <tr>\n",
       "      <th id=\"T_8b238_level0_row0\" class=\"row_heading level0 row0\" >0</th>\n",
       "      <td id=\"T_8b238_row0_col0\" class=\"data row0 col0\" >Who has a broader scope of profession: E. L. Doctorow or Julia Peterkin?</td>\n",
       "      <td id=\"T_8b238_row0_col1\" class=\"data row0 col1\" >E. L. Doctorow</td>\n",
       "      <td id=\"T_8b238_row0_col2\" class=\"data row0 col2\" >Question: Who has a broader scope of profession between E. L. Doctorow and Julia Peterkin? Reasoning: To determine who has the broader professional scope, we...</td>\n",
       "      <td id=\"T_8b238_row0_col3\" class=\"data row0 col3\" >Based on their diverse body of works and influence across different genres and periods, E.L. Doctorow has a broader scope of profession compared to Julia...</td>\n",
       "      <td id=\"T_8b238_row0_col4\" class=\"data row0 col4\" >False</td>\n",
       "    </tr>\n",
       "    <tr>\n",
       "      <th id=\"T_8b238_level0_row1\" class=\"row_heading level0 row1\" >1</th>\n",
       "      <td id=\"T_8b238_row1_col0\" class=\"data row1 col0\" >Right Back At It Again contains lyrics co-written by the singer born in what city?</td>\n",
       "      <td id=\"T_8b238_row1_col1\" class=\"data row1 col1\" >Gainesville, Florida</td>\n",
       "      <td id=\"T_8b238_row1_col2\" class=\"data row1 col2\" >Question: Right Back At It Again contains lyrics co-written by the singer born in what city? Reasoning: To find out where a famous artist was...</td>\n",
       "      <td id=\"T_8b238_row1_col3\" class=\"data row1 col3\" >Right Back At It Again contains lyrics co-written by the singer Billy Ray Cyrus, who was born in Pinehurst, Texas.</td>\n",
       "      <td id=\"T_8b238_row1_col4\" class=\"data row1 col4\" >False</td>\n",
       "    </tr>\n",
       "    <tr>\n",
       "      <th id=\"T_8b238_level0_row2\" class=\"row_heading level0 row2\" >2</th>\n",
       "      <td id=\"T_8b238_row2_col0\" class=\"data row2 col0\" >What year was the party of the winner of the 1971 San Francisco mayoral election founded?</td>\n",
       "      <td id=\"T_8b238_row2_col1\" class=\"data row2 col1\" >1828</td>\n",
       "      <td id=\"T_8b238_row2_col2\" class=\"data row2 col2\" >Question: What year was the party of the winner of the 1971 San Francisco mayoral election, George Christopher, founded? Reasoning: To find out when George...</td>\n",
       "      <td id=\"T_8b238_row2_col3\" class=\"data row2 col3\" >The Republican Party in San Francisco had been active since the mid-1800s but George Moscone's political affiliation was with the Democratic Party during his mayoral...</td>\n",
       "      <td id=\"T_8b238_row2_col4\" class=\"data row2 col4\" >False</td>\n",
       "    </tr>\n",
       "    <tr>\n",
       "      <th id=\"T_8b238_level0_row3\" class=\"row_heading level0 row3\" >3</th>\n",
       "      <td id=\"T_8b238_row3_col0\" class=\"data row3 col0\" >Anthony Dirrell is the brother of which super middleweight title holder?</td>\n",
       "      <td id=\"T_8b238_row3_col1\" class=\"data row3 col1\" >Andre Dirrell</td>\n",
       "      <td id=\"T_8b238_row3_col2\" class=\"data row3 col2\" >Question: Anthony Dirrell is the brother of which super middleweight title holder? Reasoning: To find out who holds a related boxing title and has a...</td>\n",
       "      <td id=\"T_8b238_row3_col3\" class=\"data row3 col3\" >Anthony Dirrell is the brother of Carl Froch, who held a world title in the super middleweight division (WBC).</td>\n",
       "      <td id=\"T_8b238_row3_col4\" class=\"data row3 col4\" >False</td>\n",
       "    </tr>\n",
       "    <tr>\n",
       "      <th id=\"T_8b238_level0_row4\" class=\"row_heading level0 row4\" >4</th>\n",
       "      <td id=\"T_8b238_row4_col0\" class=\"data row4 col0\" >The sports nutrition business established by Oliver Cookson is based in which county in the UK?</td>\n",
       "      <td id=\"T_8b238_row4_col1\" class=\"data row4 col1\" >Cheshire</td>\n",
       "      <td id=\"T_8b238_row4_col2\" class=\"data row4 col2\" >Question: The sports nutrition business established by Oliver Cookson is based in which county in the UK? Reasoning: To find out where this company, founded...</td>\n",
       "      <td id=\"T_8b238_row4_col3\" class=\"data row4 col3\" >The sports nutrition business established by Oliver Cookson is based in Surrey County, United Kingdom.</td>\n",
       "      <td id=\"T_8b238_row4_col4\" class=\"data row4 col4\" >False</td>\n",
       "    </tr>\n",
       "    <tr>\n",
       "      <th id=\"T_8b238_level0_row5\" class=\"row_heading level0 row5\" >5</th>\n",
       "      <td id=\"T_8b238_row5_col0\" class=\"data row5 col0\" >Find the birth date of the actor who played roles in First Wives Club and Searching for the Elephant.</td>\n",
       "      <td id=\"T_8b238_row5_col1\" class=\"data row5 col1\" >February 13, 1980</td>\n",
       "      <td id=\"T_8b238_row5_col2\" class=\"data row5 col2\" >Question: Find the birth date of the actor who played roles in First Wives Club and Searching for the Elephant. Reasoning: To find this information,...</td>\n",
       "      <td id=\"T_8b238_row5_col3\" class=\"data row5 col3\" >The actor who played roles in both movies is Candice Bergen. She was born on August 18, 1946.</td>\n",
       "      <td id=\"T_8b238_row5_col4\" class=\"data row5 col4\" >False</td>\n",
       "    </tr>\n",
       "    <tr>\n",
       "      <th id=\"T_8b238_level0_row6\" class=\"row_heading level0 row6\" >6</th>\n",
       "      <td id=\"T_8b238_row6_col0\" class=\"data row6 col0\" >Kyle Moran was born in the town on what river?</td>\n",
       "      <td id=\"T_8b238_row6_col1\" class=\"data row6 col1\" >Castletown River</td>\n",
       "      <td id=\"T_8b238_row6_col2\" class=\"data row6 col2\" >Question: Kyle Moran was born in the town on what river? Reasoning: To find out where Kyle Moran was born, we need to research his...</td>\n",
       "      <td id=\"T_8b238_row6_col3\" class=\"data row6 col3\" >Kyle Moran was born in Boulder, Colorado on Cherry Creek River.</td>\n",
       "      <td id=\"T_8b238_row6_col4\" class=\"data row6 col4\" >False</td>\n",
       "    </tr>\n",
       "    <tr>\n",
       "      <th id=\"T_8b238_level0_row7\" class=\"row_heading level0 row7\" >7</th>\n",
       "      <td id=\"T_8b238_row7_col0\" class=\"data row7 col0\" >The actress who played the niece in the Priest film was born in what city, country?</td>\n",
       "      <td id=\"T_8b238_row7_col1\" class=\"data row7 col1\" >Surrey, England</td>\n",
       "      <td id=\"T_8b238_row7_col2\" class=\"data row7 col2\" >Question: The actress who played the niece in the Priest film was born in what city, country? Reasoning: To find out where this actress was...</td>\n",
       "      <td id=\"T_8b238_row7_col3\" class=\"data row7 col3\" >Kristin Scott Thomas, who played Sister Jude in \"The Priest,\" was born in London, England.</td>\n",
       "      <td id=\"T_8b238_row7_col4\" class=\"data row7 col4\" >False</td>\n",
       "    </tr>\n",
       "    <tr>\n",
       "      <th id=\"T_8b238_level0_row8\" class=\"row_heading level0 row8\" >8</th>\n",
       "      <td id=\"T_8b238_row8_col0\" class=\"data row8 col0\" >Name the movie in which the daughter of Noel Harrison plays Violet Trefusis.</td>\n",
       "      <td id=\"T_8b238_row8_col1\" class=\"data row8 col1\" >Portrait of a Marriage</td>\n",
       "      <td id=\"T_8b238_row8_col2\" class=\"data row8 col2\" >Question: Name the movie in which the daughter of Noel Harrison plays Violet Trefusis. Reasoning: To find out this information, we can start by identifying...</td>\n",
       "      <td id=\"T_8b238_row8_col3\" class=\"data row8 col3\" >\"The Libertine\" (2004)</td>\n",
       "      <td id=\"T_8b238_row8_col4\" class=\"data row8 col4\" >False</td>\n",
       "    </tr>\n",
       "    <tr>\n",
       "      <th id=\"T_8b238_level0_row9\" class=\"row_heading level0 row9\" >9</th>\n",
       "      <td id=\"T_8b238_row9_col0\" class=\"data row9 col0\" >What year was the father of the Princes in the Tower born?</td>\n",
       "      <td id=\"T_8b238_row9_col1\" class=\"data row9 col1\" >1442</td>\n",
       "      <td id=\"T_8b238_row9_col2\" class=\"data row9 col2\" >Question: What year was the father of the Princes in the Tower, Richard III, born? Reasoning: To find out when Richard III was born, we...</td>\n",
       "      <td id=\"T_8b238_row9_col3\" class=\"data row9 col3\" >Richard III was born in 1452 AD.</td>\n",
       "      <td id=\"T_8b238_row9_col4\" class=\"data row9 col4\" >False</td>\n",
       "    </tr>\n",
       "    <tr>\n",
       "      <th id=\"T_8b238_level0_row10\" class=\"row_heading level0 row10\" >10</th>\n",
       "      <td id=\"T_8b238_row10_col0\" class=\"data row10 col0\" >What river is near the Crichton Collegiate Church?</td>\n",
       "      <td id=\"T_8b238_row10_col1\" class=\"data row10 col1\" >the River Tyne</td>\n",
       "      <td id=\"T_8b238_row10_col2\" class=\"data row10 col2\" >Question: What river is near the Crichton Collegiate Church? Reasoning: To find out which river is close to a specific location, we can start with...</td>\n",
       "      <td id=\"T_8b238_row10_col3\" class=\"data row10 col3\" >The River Nith is near the Crichton Collegiate Church.</td>\n",
       "      <td id=\"T_8b238_row10_col4\" class=\"data row10 col4\" >False</td>\n",
       "    </tr>\n",
       "    <tr>\n",
       "      <th id=\"T_8b238_level0_row11\" class=\"row_heading level0 row11\" >11</th>\n",
       "      <td id=\"T_8b238_row11_col0\" class=\"data row11 col0\" >Who purchased the team Michael Schumacher raced for in the 1995 Monaco Grand Prix in 2000?</td>\n",
       "      <td id=\"T_8b238_row11_col1\" class=\"data row11 col1\" >Renault</td>\n",
       "      <td id=\"T_8b238_row11_col2\" class=\"data row11 col2\" >Question: Who purchased the team Michael Schumacher raced for in the 1995 Monaco Grand Prix in 2000? Reasoning: To find out who bought the team,...</td>\n",
       "      <td id=\"T_8b238_row11_col3\" class=\"data row11 col3\" >The Fiat Group purchased Ferrari on December 16, 2 Written by AI === Reasoning: Let's investigate the ownership history of Formula One teams and specifically...</td>\n",
       "      <td id=\"T_8b238_row11_col4\" class=\"data row11 col4\" >False</td>\n",
       "    </tr>\n",
       "    <tr>\n",
       "      <th id=\"T_8b238_level0_row12\" class=\"row_heading level0 row12\" >12</th>\n",
       "      <td id=\"T_8b238_row12_col0\" class=\"data row12 col0\" >André Zucca was a French photographer who worked with a German propaganda magazine published by what Nazi organization?</td>\n",
       "      <td id=\"T_8b238_row12_col1\" class=\"data row12 col1\" >the Wehrmacht</td>\n",
       "      <td id=\"T_8b238_row12_col2\" class=\"data row12 col2\" >Question: André Zucca was a French photographer who worked with a German propaganda magazine published by what Nazi organization? Reasoning: To find the answer, we...</td>\n",
       "      <td id=\"T_8b238_row12_col3\" class=\"data row12 col3\" >The Völkischer Beobachter (Volksbeobachtung) was a prominent Nazi organization, and André Zucca worked with them through the magazine \"Das Reich.\"</td>\n",
       "      <td id=\"T_8b238_row12_col4\" class=\"data row12 col4\" >False</td>\n",
       "    </tr>\n",
       "  </tbody>\n",
       "</table>\n"
      ],
      "text/plain": [
       "<pandas.io.formats.style.Styler at 0x7f6550b14f10>"
      ]
     },
     "metadata": {},
     "output_type": "display_data"
    },
    {
     "data": {
      "text/plain": [
       "0.0"
      ]
     },
     "execution_count": 13,
     "metadata": {},
     "output_type": "execute_result"
    }
   ],
   "source": [
    "evaluate_hotpot(CoT())\n"
   ]
  },
  {
   "cell_type": "code",
   "execution_count": null,
   "metadata": {},
   "outputs": [],
   "source": []
  }
 ],
 "metadata": {
  "kernelspec": {
   "display_name": "dspy",
   "language": "python",
   "name": "python3"
  },
  "language_info": {
   "codemirror_mode": {
    "name": "ipython",
    "version": 3
   },
   "file_extension": ".py",
   "mimetype": "text/x-python",
   "name": "python",
   "nbconvert_exporter": "python",
   "pygments_lexer": "ipython3",
   "version": "3.11.9"
  }
 },
 "nbformat": 4,
 "nbformat_minor": 2
}
