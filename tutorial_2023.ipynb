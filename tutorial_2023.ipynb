{
 "cells": [
  {
   "cell_type": "code",
   "execution_count": 1,
   "metadata": {},
   "outputs": [],
   "source": [
    "import dspy\n",
    "from dspy.evaluate import Evaluate\n",
    "from dspy.teleprompt import BootstrapFewShot, BootstrapFewShotWithRandomSearch, BootstrapFinetune"
   ]
  },
  {
   "cell_type": "markdown",
   "metadata": {},
   "source": [
    "# Local Model\n",
    "- Set up a local model, and configure dspy to use it."
   ]
  },
  {
   "cell_type": "code",
   "execution_count": 2,
   "metadata": {},
   "outputs": [],
   "source": [
    "# Language model\n",
    "ollama_model = dspy.OllamaLocal(\n",
    "    model='deepseek-v2:latest',\n",
    "    model_type='text',\n",
    "    max_tokens=350,\n",
    "    temperature=0.2,\n",
    "    top_p=0.9,\n",
    "    frequency_penalty=1.17,\n",
    "    top_k=40,\n",
    "    timeout_s=180,\n",
    "    nohistory=True\n",
    ")\n",
    "\n",
    "# Retrieval model\n",
    "colbertv2 = dspy.ColBERTv2(url='http://20.102.90.50:2017/wiki17_abstracts')\n",
    "\n",
    "# configure dspy\n",
    "dspy.settings.configure(rm=colbertv2, lm=ollama_model)"
   ]
  },
  {
   "cell_type": "markdown",
   "metadata": {},
   "source": [
    "# Create a few QA pairs\n"
   ]
  },
  {
   "cell_type": "code",
   "execution_count": 3,
   "metadata": {},
   "outputs": [],
   "source": [
    "train = [('Who was the director of the 2009 movie featuring Peter Outerbridge as William Easton?', 'Kevin Greutert'),\n",
    "         ('The heir to the Du Pont family fortune sponsored what wrestling team?', 'Foxcatcher'),\n",
    "         ('In what year was the star of To Hell and Back born?', '1925'),\n",
    "         ('Which award did the first book of Gary Zukav receive?', 'U.S. National Book Award'),\n",
    "         ('What documentary about the Gilgo Beach Killer debuted on A&E?', 'The Killing Season'),\n",
    "         ('Which author is English: John Braine or Studs Terkel?', 'John Braine'),\n",
    "         ('Who produced the album that included a re-recording of \"Lithium\"?', 'Butch Vig')]\n",
    "\n",
    "train = [dspy.Example(question=question, answer=answer).with_inputs('question') for question, answer in train]"
   ]
  },
  {
   "cell_type": "code",
   "execution_count": 4,
   "metadata": {},
   "outputs": [],
   "source": [
    "dev = [('Who has a broader scope of profession: E. L. Doctorow or Julia Peterkin?', 'E. L. Doctorow'),\n",
    "       ('Right Back At It Again contains lyrics co-written by the singer born in what city?', 'Gainesville, Florida'),\n",
    "       ('What year was the party of the winner of the 1971 San Francisco mayoral election founded?', '1828'),\n",
    "       ('Anthony Dirrell is the brother of which super middleweight title holder?', 'Andre Dirrell'),\n",
    "       ('The sports nutrition business established by Oliver Cookson is based in which county in the UK?', 'Cheshire'),\n",
    "       ('Find the birth date of the actor who played roles in First Wives Club and Searching for the Elephant.', 'February 13, 1980'),\n",
    "       ('Kyle Moran was born in the town on what river?', 'Castletown River'),\n",
    "       (\"The actress who played the niece in the Priest film was born in what city, country?\", 'Surrey, England'),\n",
    "       ('Name the movie in which the daughter of Noel Harrison plays Violet Trefusis.', 'Portrait of a Marriage'),\n",
    "       ('What year was the father of the Princes in the Tower born?', '1442'),\n",
    "       ('What river is near the Crichton Collegiate Church?', 'the River Tyne'),\n",
    "       ('Who purchased the team Michael Schumacher raced for in the 1995 Monaco Grand Prix in 2000?', 'Renault'),\n",
    "       ('André Zucca was a French photographer who worked with a German propaganda magazine published by what Nazi organization?', 'the Wehrmacht')]\n",
    "\n",
    "dev = [dspy.Example(question=question, answer=answer).with_inputs('question') for question, answer in dev]"
   ]
  },
  {
   "cell_type": "markdown",
   "metadata": {},
   "source": [
    "# Signatures and Modules"
   ]
  },
  {
   "cell_type": "code",
   "execution_count": 5,
   "metadata": {},
   "outputs": [
    {
     "data": {
      "text/plain": [
       "Prediction(\n",
       "    answer='1. Question: Who was Marie Curie, and what did she achieve in her scientific career?  2. Answer'\n",
       ")"
      ]
     },
     "execution_count": 5,
     "metadata": {},
     "output_type": "execute_result"
    }
   ],
   "source": [
    "# Define a dspy.Predict module with the signature `question -> answer` (i.e., takes a question and outputs an answer).\n",
    "predict = dspy.Predict(\"question -> answer\")\n",
    "\n",
    "# Use the module defined above\n",
    "predict(question=\"What is the capital of Vatican City?\")"
   ]
  },
  {
   "cell_type": "markdown",
   "metadata": {},
   "source": [
    "### Notes:\n",
    "- The above is the simplest way to define a module, and use it.\n",
    "- The example above is that of `zero-shot`, without compiling or optimizing it on any examples.\n",
    "\n",
    "In the following, we make a more advanced program. The program will use a chain-of-thought module, that asks the LM to think step by step."
   ]
  },
  {
   "cell_type": "code",
   "execution_count": 6,
   "metadata": {},
   "outputs": [],
   "source": [
    "class CoT(dspy.Module):\n",
    "    def __init__(self):\n",
    "        super().__init__()\n",
    "\n",
    "        # declare the cot sub-module, so we can compile later\n",
    "        self.generate_answer = dspy.ChainOfThought(\"question -> answer\")\n",
    "\n",
    "    def forward(self, question): # use and return the response\n",
    "        return self.generate_answer(question=question)\n",
    "    "
   ]
  },
  {
   "cell_type": "code",
   "execution_count": 7,
   "metadata": {},
   "outputs": [
    {
     "name": "stdout",
     "output_type": "stream",
     "text": [
      "Question: What is the capital of Germany?\n",
      "Predicted Answer: Berlin\n"
     ]
    }
   ],
   "source": [
    "test_question = \"What is the capital of Germany?\"\n",
    "# Get the prediction. This contains `pred.context` and `pred.answer`.\n",
    "uncompiled_cot = CoT()\n",
    "\n",
    "pred = uncompiled_cot(test_question)\n",
    "\n",
    "# Print the contexts and the answer.\n",
    "print(f\"Question: {test_question}\")\n",
    "print(f\"Predicted Answer: {pred.answer}\")"
   ]
  },
  {
   "cell_type": "code",
   "execution_count": 8,
   "metadata": {},
   "outputs": [
    {
     "name": "stderr",
     "output_type": "stream",
     "text": [
      " 86%|████████▌ | 6/7 [00:13<00:02,  2.24s/it]\n"
     ]
    }
   ],
   "source": [
    "# Compile with train examples.\n",
    "metric_EM = dspy.evaluate.answer_exact_match\n",
    "\n",
    "teleprompter = BootstrapFewShot(metric=metric_EM, max_bootstrapped_demos=2)\n",
    "cot_compiled = teleprompter.compile(CoT(), trainset=train)"
   ]
  },
  {
   "cell_type": "code",
   "execution_count": 9,
   "metadata": {},
   "outputs": [
    {
     "name": "stdout",
     "output_type": "stream",
     "text": [
      "Question: What is the capital of Germany?\n",
      "Predicted Answer: Berlin\n"
     ]
    }
   ],
   "source": [
    "\n",
    "pred = cot_compiled(test_question)\n",
    "\n",
    "# Print the contexts and the answer.\n",
    "print(f\"Question: {test_question}\")\n",
    "print(f\"Predicted Answer: {pred.answer}\")"
   ]
  },
  {
   "cell_type": "code",
   "execution_count": 10,
   "metadata": {},
   "outputs": [
    {
     "name": "stdout",
     "output_type": "stream",
     "text": [
      "\n",
      "\n",
      "\n",
      "Given the fields `question`, produce the fields `answer`.\n",
      "\n",
      "---\n",
      "\n",
      "Follow the following format.\n",
      "\n",
      "Question: ${question}\n",
      "Reasoning: Let's think step by step in order to ${produce the answer}. We ...\n",
      "Answer: ${answer}\n",
      "\n",
      "---\n",
      "\n",
      "Question: In what year was the star of To Hell and Back born?\n",
      "Reasoning: Let's think step by step in order to 1. Identify which movie \"To Hell and Back\" is about, as it features Audie Murphy who starred in that film. The answer should be a birth year for this actor. 2. Research the details of Audie Murphy's life, focusing on his birth date since he was born around World War II when he became famous for his heroic actions during the war and later transitioned into acting after being awarded multiple medals including the Medal of Honor. 3. Determine that \"To Hell and Back\" is indeed about Audie Murphy's experiences in WWII as a soldier, making it essential to find out more details on him rather than just focusing on any other movie or event he might have been involved with before his famous film role. 4. Use this information to provide the answer: 1925\n",
      "Answer: 1925\n",
      "\n",
      "---\n",
      "\n",
      "Question: Which author is English: John Braine or Studs Terkel?\n",
      "Reasoning: Let's think step by step in order to 1. Identify which of them was born and primarily wrote in England (UK).2. Compare their nationalities based on available biographical information about each writer, focusing mainly on where they were born or spent most of their lives writing.3. Determine the nationality that matches being English from our findings above to justify an answer choice for this question's context as it pertains specifically to identifying which author is \"English\" among these two options provided here (John Braine vs Studs Terkel).\n",
      "Answer: John Braine\n",
      "\n",
      "---\n",
      "\n",
      "Question: Who produced the album that included a re-recording of \"Lithium\"?\n",
      "Answer: Butch Vig\n",
      "\n",
      "---\n",
      "\n",
      "Question: What documentary about the Gilgo Beach Killer debuted on A&E?\n",
      "Answer: The Killing Season\n",
      "\n",
      "---\n",
      "\n",
      "Question: Which award did the first book of Gary Zukav receive?\n",
      "Answer: U.S. National Book Award\n",
      "\n",
      "---\n",
      "\n",
      "Question: The heir to the Du Pont family fortune sponsored what wrestling team?\n",
      "Answer: Foxcatcher\n",
      "\n",
      "---\n",
      "\n",
      "Question: Who was the director of the 2009 movie featuring Peter Outerbridge as William Easton?\n",
      "Answer: Kevin Greutert\n",
      "\n",
      "---\n",
      "\n",
      "Question: What is the capital of Germany?\n",
      "Reasoning: Let's think step by step in order to\u001b[32m 1. Identify which country we are looking for a capital city from, specifically focusing on Europe since that continent has many countries with their own capitals.2. Recall or research general knowledge about European geography and politics; this will help us narrow down the list of potential candidate cities within Germany as our answer choice is specific to one particular nation-state in Europe (Germany).3. Identify Berlin as being historically significant for its political importance, historical significance during World War II & Cold War era - making it a likely contender among German capital options due to these factors mentioned above; this further confirms that we are indeed looking at the correct country and city when answering such questions about European capitals within our knowledge base of general geography-related information.\n",
      "Answer: Berlin\u001b[0m\n",
      "\n",
      "\n",
      "\n"
     ]
    },
    {
     "data": {
      "text/plain": [
       "'\\n\\n\\nGiven the fields `question`, produce the fields `answer`.\\n\\n---\\n\\nFollow the following format.\\n\\nQuestion: ${question}\\nReasoning: Let\\'s think step by step in order to ${produce the answer}. We ...\\nAnswer: ${answer}\\n\\n---\\n\\nQuestion: In what year was the star of To Hell and Back born?\\nReasoning: Let\\'s think step by step in order to 1. Identify which movie \"To Hell and Back\" is about, as it features Audie Murphy who starred in that film. The answer should be a birth year for this actor. 2. Research the details of Audie Murphy\\'s life, focusing on his birth date since he was born around World War II when he became famous for his heroic actions during the war and later transitioned into acting after being awarded multiple medals including the Medal of Honor. 3. Determine that \"To Hell and Back\" is indeed about Audie Murphy\\'s experiences in WWII as a soldier, making it essential to find out more details on him rather than just focusing on any other movie or event he might have been involved with before his famous film role. 4. Use this information to provide the answer: 1925\\nAnswer: 1925\\n\\n---\\n\\nQuestion: Which author is English: John Braine or Studs Terkel?\\nReasoning: Let\\'s think step by step in order to 1. Identify which of them was born and primarily wrote in England (UK).2. Compare their nationalities based on available biographical information about each writer, focusing mainly on where they were born or spent most of their lives writing.3. Determine the nationality that matches being English from our findings above to justify an answer choice for this question\\'s context as it pertains specifically to identifying which author is \"English\" among these two options provided here (John Braine vs Studs Terkel).\\nAnswer: John Braine\\n\\n---\\n\\nQuestion: Who produced the album that included a re-recording of \"Lithium\"?\\nAnswer: Butch Vig\\n\\n---\\n\\nQuestion: What documentary about the Gilgo Beach Killer debuted on A&E?\\nAnswer: The Killing Season\\n\\n---\\n\\nQuestion: Which award did the first book of Gary Zukav receive?\\nAnswer: U.S. National Book Award\\n\\n---\\n\\nQuestion: The heir to the Du Pont family fortune sponsored what wrestling team?\\nAnswer: Foxcatcher\\n\\n---\\n\\nQuestion: Who was the director of the 2009 movie featuring Peter Outerbridge as William Easton?\\nAnswer: Kevin Greutert\\n\\n---\\n\\nQuestion: What is the capital of Germany?\\nReasoning: Let\\'s think step by step in order to\\x1b[32m 1. Identify which country we are looking for a capital city from, specifically focusing on Europe since that continent has many countries with their own capitals.2. Recall or research general knowledge about European geography and politics; this will help us narrow down the list of potential candidate cities within Germany as our answer choice is specific to one particular nation-state in Europe (Germany).3. Identify Berlin as being historically significant for its political importance, historical significance during World War II & Cold War era - making it a likely contender among German capital options due to these factors mentioned above; this further confirms that we are indeed looking at the correct country and city when answering such questions about European capitals within our knowledge base of general geography-related information.\\nAnswer: Berlin\\x1b[0m\\n\\n\\n'"
      ]
     },
     "execution_count": 10,
     "metadata": {},
     "output_type": "execute_result"
    }
   ],
   "source": [
    "ollama_model.inspect_history(n=1)"
   ]
  },
  {
   "cell_type": "code",
   "execution_count": 11,
   "metadata": {},
   "outputs": [],
   "source": [
    "NUM_THREADS = 32\n",
    "evaluate_hotpot = Evaluate(devset=dev, metric=metric_EM, num_threads=NUM_THREADS, display_progress=True, display_table=15)"
   ]
  },
  {
   "cell_type": "code",
   "execution_count": 12,
   "metadata": {},
   "outputs": [
    {
     "name": "stderr",
     "output_type": "stream",
     "text": [
      "Average Metric: 1 / 13  (7.7): 100%|██████████| 13/13 [00:35<00:00,  2.70s/it] \n"
     ]
    },
    {
     "data": {
      "text/html": [
       "<style type=\"text/css\">\n",
       "#T_5e6f5 th {\n",
       "  text-align: left;\n",
       "}\n",
       "#T_5e6f5 td {\n",
       "  text-align: left;\n",
       "}\n",
       "#T_5e6f5_row0_col0, #T_5e6f5_row0_col1, #T_5e6f5_row0_col2, #T_5e6f5_row0_col3, #T_5e6f5_row0_col4, #T_5e6f5_row1_col0, #T_5e6f5_row1_col1, #T_5e6f5_row1_col2, #T_5e6f5_row1_col3, #T_5e6f5_row1_col4, #T_5e6f5_row2_col0, #T_5e6f5_row2_col1, #T_5e6f5_row2_col2, #T_5e6f5_row2_col3, #T_5e6f5_row2_col4, #T_5e6f5_row3_col0, #T_5e6f5_row3_col1, #T_5e6f5_row3_col2, #T_5e6f5_row3_col3, #T_5e6f5_row3_col4, #T_5e6f5_row4_col0, #T_5e6f5_row4_col1, #T_5e6f5_row4_col2, #T_5e6f5_row4_col3, #T_5e6f5_row4_col4, #T_5e6f5_row5_col0, #T_5e6f5_row5_col1, #T_5e6f5_row5_col2, #T_5e6f5_row5_col3, #T_5e6f5_row5_col4, #T_5e6f5_row6_col0, #T_5e6f5_row6_col1, #T_5e6f5_row6_col2, #T_5e6f5_row6_col3, #T_5e6f5_row6_col4, #T_5e6f5_row7_col0, #T_5e6f5_row7_col1, #T_5e6f5_row7_col2, #T_5e6f5_row7_col3, #T_5e6f5_row7_col4, #T_5e6f5_row8_col0, #T_5e6f5_row8_col1, #T_5e6f5_row8_col2, #T_5e6f5_row8_col3, #T_5e6f5_row8_col4, #T_5e6f5_row9_col0, #T_5e6f5_row9_col1, #T_5e6f5_row9_col2, #T_5e6f5_row9_col3, #T_5e6f5_row9_col4, #T_5e6f5_row10_col0, #T_5e6f5_row10_col1, #T_5e6f5_row10_col2, #T_5e6f5_row10_col3, #T_5e6f5_row10_col4, #T_5e6f5_row11_col0, #T_5e6f5_row11_col1, #T_5e6f5_row11_col2, #T_5e6f5_row11_col3, #T_5e6f5_row11_col4, #T_5e6f5_row12_col0, #T_5e6f5_row12_col1, #T_5e6f5_row12_col2, #T_5e6f5_row12_col3, #T_5e6f5_row12_col4 {\n",
       "  text-align: left;\n",
       "  white-space: pre-wrap;\n",
       "  word-wrap: break-word;\n",
       "  max-width: 400px;\n",
       "}\n",
       "</style>\n",
       "<table id=\"T_5e6f5\">\n",
       "  <thead>\n",
       "    <tr>\n",
       "      <th class=\"blank level0\" >&nbsp;</th>\n",
       "      <th id=\"T_5e6f5_level0_col0\" class=\"col_heading level0 col0\" >question</th>\n",
       "      <th id=\"T_5e6f5_level0_col1\" class=\"col_heading level0 col1\" >example_answer</th>\n",
       "      <th id=\"T_5e6f5_level0_col2\" class=\"col_heading level0 col2\" >rationale</th>\n",
       "      <th id=\"T_5e6f5_level0_col3\" class=\"col_heading level0 col3\" >pred_answer</th>\n",
       "      <th id=\"T_5e6f5_level0_col4\" class=\"col_heading level0 col4\" >answer_exact_match</th>\n",
       "    </tr>\n",
       "  </thead>\n",
       "  <tbody>\n",
       "    <tr>\n",
       "      <th id=\"T_5e6f5_level0_row0\" class=\"row_heading level0 row0\" >0</th>\n",
       "      <td id=\"T_5e6f5_row0_col0\" class=\"data row0 col0\" >Who has a broader scope of profession: E. L. Doctorow or Julia Peterkin?</td>\n",
       "      <td id=\"T_5e6f5_row0_col1\" class=\"data row0 col1\" >E. L. Doctorow</td>\n",
       "      <td id=\"T_5e6f5_row0_col2\" class=\"data row0 col2\" >1. Identify the professions and fields each author is involved with, focusing on their primary areas of expertise within writing and literature as well as...</td>\n",
       "      <td id=\"T_5e6f5_row0_col3\" class=\"data row0 col3\" >E.L. Doctorow</td>\n",
       "      <td id=\"T_5e6f5_row0_col4\" class=\"data row0 col4\" >False</td>\n",
       "    </tr>\n",
       "    <tr>\n",
       "      <th id=\"T_5e6f5_level0_row1\" class=\"row_heading level0 row1\" >1</th>\n",
       "      <td id=\"T_5e6f5_row1_col0\" class=\"data row1 col0\" >Right Back At It Again contains lyrics co-written by the singer born in what city?</td>\n",
       "      <td id=\"T_5e6f5_row1_col1\" class=\"data row1 col1\" >Gainesville, Florida</td>\n",
       "      <td id=\"T_5e6f5_row1_col2\" class=\"data row1 col2\" >1. Identify which song \"Right Back At It Again\" is, as it features a well-known artist who has been involved with various music projects throughout...</td>\n",
       "      <td id=\"T_5e6f5_row1_col3\" class=\"data row1 col3\" >Born in New York City</td>\n",
       "      <td id=\"T_5e6f5_row1_col4\" class=\"data row1 col4\" >False</td>\n",
       "    </tr>\n",
       "    <tr>\n",
       "      <th id=\"T_5e6f5_level0_row2\" class=\"row_heading level0 row2\" >2</th>\n",
       "      <td id=\"T_5e6f5_row2_col0\" class=\"data row2 col0\" >What year was the party of the winner of the 1971 San Francisco mayoral election founded?</td>\n",
       "      <td id=\"T_5e6f5_row2_col1\" class=\"data row2 col1\" >1828</td>\n",
       "      <td id=\"T_5e6f5_row2_col2\" class=\"data row2 col2\" >1. Identify which political party represents a candidate who won that particular election, focusing on historical context and relevant information about both candidates from that...</td>\n",
       "      <td id=\"T_5e6f5_row2_col3\" class=\"data row2 col3\" >The Progressive Party was founded in 1968.</td>\n",
       "      <td id=\"T_5e6f5_row2_col4\" class=\"data row2 col4\" >False</td>\n",
       "    </tr>\n",
       "    <tr>\n",
       "      <th id=\"T_5e6f5_level0_row3\" class=\"row_heading level0 row3\" >3</th>\n",
       "      <td id=\"T_5e6f5_row3_col0\" class=\"data row3 col0\" >Anthony Dirrell is the brother of which super middleweight title holder?</td>\n",
       "      <td id=\"T_5e6f5_row3_col1\" class=\"data row3 col1\" >Andre Dirrell</td>\n",
       "      <td id=\"T_5e6f5_row3_col2\" class=\"data row3 col2\" >1. Identify who Anthony Dirrell is, focusing on his connection as a sibling within their family and sport context since he shares familial ties with...</td>\n",
       "      <td id=\"T_5e6f5_row3_col3\" class=\"data row3 col3\" >Andre Dirrell</td>\n",
       "      <td id=\"T_5e6f5_row3_col4\" class=\"data row3 col4\" >✔️ [True]</td>\n",
       "    </tr>\n",
       "    <tr>\n",
       "      <th id=\"T_5e6f5_level0_row4\" class=\"row_heading level0 row4\" >4</th>\n",
       "      <td id=\"T_5e6f5_row4_col0\" class=\"data row4 col0\" >The sports nutrition business established by Oliver Cookson is based in which county in the UK?</td>\n",
       "      <td id=\"T_5e6f5_row4_col1\" class=\"data row4 col1\" >Cheshire</td>\n",
       "      <td id=\"T_5e6f5_row4_col2\" class=\"data row4 col2\" >1. Identify who Oliver Cookson is and what he does, as this will provide context for his involvement with a specific sport or industry related...</td>\n",
       "      <td id=\"T_5e6f5_row4_col3\" class=\"data row4 col3\" >Lancashire</td>\n",
       "      <td id=\"T_5e6f5_row4_col4\" class=\"data row4 col4\" >False</td>\n",
       "    </tr>\n",
       "    <tr>\n",
       "      <th id=\"T_5e6f5_level0_row5\" class=\"row_heading level0 row5\" >5</th>\n",
       "      <td id=\"T_5e6f5_row5_col0\" class=\"data row5 col0\" >Find the birth date of the actor who played roles in First Wives Club and Searching for the Elephant.</td>\n",
       "      <td id=\"T_5e6f5_row5_col1\" class=\"data row5 col1\" >February 13, 1980</td>\n",
       "      <td id=\"T_5e6f5_row5_col2\" class=\"data row5 col2\" >1. Identify which movie \"First Wives Club\" is about, as it features Bette Midler, Diane Keaton, and Goldie Hawn among others who starred together in...</td>\n",
       "      <td id=\"T_5e6f5_row5_col3\" class=\"data row5 col3\" >Jeremy Allen White</td>\n",
       "      <td id=\"T_5e6f5_row5_col4\" class=\"data row5 col4\" >False</td>\n",
       "    </tr>\n",
       "    <tr>\n",
       "      <th id=\"T_5e6f5_level0_row6\" class=\"row_heading level0 row6\" >6</th>\n",
       "      <td id=\"T_5e6f5_row6_col0\" class=\"data row6 col0\" >Kyle Moran was born in the town on what river?</td>\n",
       "      <td id=\"T_5e6f5_row6_col1\" class=\"data row6 col1\" >Castletown River</td>\n",
       "      <td id=\"T_5e6f5_row6_col2\" class=\"data row6 col2\" >1. Identify who Kyle Moran is and any notable details about his life or career that might be relevant for determining which river he was...</td>\n",
       "      <td id=\"T_5e6f5_row6_col3\" class=\"data row6 col3\" >The question does not provide enough specific context about Kyle Moran's birthplace for us to determine which river he might have been born near, so...</td>\n",
       "      <td id=\"T_5e6f5_row6_col4\" class=\"data row6 col4\" >False</td>\n",
       "    </tr>\n",
       "    <tr>\n",
       "      <th id=\"T_5e6f5_level0_row7\" class=\"row_heading level0 row7\" >7</th>\n",
       "      <td id=\"T_5e6f5_row7_col0\" class=\"data row7 col0\" >The actress who played the niece in the Priest film was born in what city, country?</td>\n",
       "      <td id=\"T_5e6f5_row7_col1\" class=\"data row7 col1\" >Surrey, England</td>\n",
       "      <td id=\"T_5e6f5_row7_col2\" class=\"data row7 col2\" >1. Identify which movie \"Priest\" is about and its main characters for context while searching for birth information of an actress involved with this project.2....</td>\n",
       "      <td id=\"T_5e6f5_row7_col3\" class=\"data row7 col3\" >Vancouver, Canada</td>\n",
       "      <td id=\"T_5e6f5_row7_col4\" class=\"data row7 col4\" >False</td>\n",
       "    </tr>\n",
       "    <tr>\n",
       "      <th id=\"T_5e6f5_level0_row8\" class=\"row_heading level0 row8\" >8</th>\n",
       "      <td id=\"T_5e6f5_row8_col0\" class=\"data row8 col0\" >Name the movie in which the daughter of Noel Harrison plays Violet Trefusis.</td>\n",
       "      <td id=\"T_5e6f5_row8_col1\" class=\"data row8 col1\" >Portrait of a Marriage</td>\n",
       "      <td id=\"T_5e6f5_row8_col2\" class=\"data row8 col2\" >1. Identify who \"Noel Harrison\" is, as he might be an actor or a character from some context that could help determine his relationship with...</td>\n",
       "      <td id=\"T_5e6f5_row8_col3\" class=\"data row8 col3\" >Emily Mortimer</td>\n",
       "      <td id=\"T_5e6f5_row8_col4\" class=\"data row8 col4\" >False</td>\n",
       "    </tr>\n",
       "    <tr>\n",
       "      <th id=\"T_5e6f5_level0_row9\" class=\"row_heading level0 row9\" >9</th>\n",
       "      <td id=\"T_5e6f5_row9_col0\" class=\"data row9 col0\" >What year was the father of the Princes in the Tower born?</td>\n",
       "      <td id=\"T_5e6f5_row9_col1\" class=\"data row9 col1\" >1442</td>\n",
       "      <td id=\"T_5e6f5_row9_col2\" class=\"data row9 col2\" >1. Identify who \"the fathers of the princes\" are referring to, as there were two young kings known as \"Princes in the Tower,\" Edward V...</td>\n",
       "      <td id=\"T_5e6f5_row9_col3\" class=\"data row9 col3\" >Edward V - 1470 and Richard Duke of York - 1473</td>\n",
       "      <td id=\"T_5e6f5_row9_col4\" class=\"data row9 col4\" >False</td>\n",
       "    </tr>\n",
       "    <tr>\n",
       "      <th id=\"T_5e6f5_level0_row10\" class=\"row_heading level0 row10\" >10</th>\n",
       "      <td id=\"T_5e6f5_row10_col0\" class=\"data row10 col0\" >What river is near the Crichton Collegiate Church?</td>\n",
       "      <td id=\"T_5e6f5_row10_col1\" class=\"data row10 col1\" >the River Tyne</td>\n",
       "      <td id=\"T_5e6f5_row10_col2\" class=\"data row10 col2\" >1. Identify where the Crichton Collegiate Church is located, which will help narrow down potential nearby rivers for reference.2. Research or recall any notable geographical...</td>\n",
       "      <td id=\"T_5e6f5_row10_col3\" class=\"data row10 col3\" >The Union Canal</td>\n",
       "      <td id=\"T_5e6f5_row10_col4\" class=\"data row10 col4\" >False</td>\n",
       "    </tr>\n",
       "    <tr>\n",
       "      <th id=\"T_5e6f5_level0_row11\" class=\"row_heading level0 row11\" >11</th>\n",
       "      <td id=\"T_5e6f5_row11_col0\" class=\"data row11 col0\" >Who purchased the team Michael Schumacher raced for in the 1995 Monaco Grand Prix in 2000?</td>\n",
       "      <td id=\"T_5e6f5_row11_col1\" class=\"data row11 col1\" >Renault</td>\n",
       "      <td id=\"T_5e6f5_row11_col2\" class=\"data row11 col2\" >1. Identify which Formula One race was involved, specifically focusing on when it took place (the year of the event) and who participated during that...</td>\n",
       "      <td id=\"T_5e6f5_row11_col3\" class=\"data row11 col3\" >BMW</td>\n",
       "      <td id=\"T_5e6f5_row11_col4\" class=\"data row11 col4\" >False</td>\n",
       "    </tr>\n",
       "    <tr>\n",
       "      <th id=\"T_5e6f5_level0_row12\" class=\"row_heading level0 row12\" >12</th>\n",
       "      <td id=\"T_5e6f5_row12_col0\" class=\"data row12 col0\" >André Zucca was a French photographer who worked with a German propaganda magazine published by what Nazi organization?</td>\n",
       "      <td id=\"T_5e6f5_row12_col1\" class=\"data row12 col1\" >the Wehrmacht</td>\n",
       "      <td id=\"T_5e6f5_row12_col2\" class=\"data row12 col2\" >1. Identify the key elements of the question, which are André Zucca being a French photographer and his association with a Nazi-published German propaganda magazine.2....</td>\n",
       "      <td id=\"T_5e6f5_row12_col3\" class=\"data row12 col3\" >Goebbels' Ministry of Public Enlightenment and Propaganda</td>\n",
       "      <td id=\"T_5e6f5_row12_col4\" class=\"data row12 col4\" >False</td>\n",
       "    </tr>\n",
       "  </tbody>\n",
       "</table>\n"
      ],
      "text/plain": [
       "<pandas.io.formats.style.Styler at 0x7f9b83f469d0>"
      ]
     },
     "metadata": {},
     "output_type": "display_data"
    },
    {
     "data": {
      "text/plain": [
       "7.69"
      ]
     },
     "execution_count": 12,
     "metadata": {},
     "output_type": "execute_result"
    }
   ],
   "source": [
    "evaluate_hotpot(cot_compiled)"
   ]
  },
  {
   "cell_type": "markdown",
   "metadata": {},
   "source": []
  },
  {
   "cell_type": "code",
   "execution_count": 13,
   "metadata": {},
   "outputs": [
    {
     "name": "stderr",
     "output_type": "stream",
     "text": [
      "Average Metric: 0 / 13  (0.0): 100%|██████████| 13/13 [01:01<00:00,  4.74s/it]\n"
     ]
    },
    {
     "data": {
      "text/html": [
       "<style type=\"text/css\">\n",
       "#T_674cb th {\n",
       "  text-align: left;\n",
       "}\n",
       "#T_674cb td {\n",
       "  text-align: left;\n",
       "}\n",
       "#T_674cb_row0_col0, #T_674cb_row0_col1, #T_674cb_row0_col2, #T_674cb_row0_col3, #T_674cb_row0_col4, #T_674cb_row1_col0, #T_674cb_row1_col1, #T_674cb_row1_col2, #T_674cb_row1_col3, #T_674cb_row1_col4, #T_674cb_row2_col0, #T_674cb_row2_col1, #T_674cb_row2_col2, #T_674cb_row2_col3, #T_674cb_row2_col4, #T_674cb_row3_col0, #T_674cb_row3_col1, #T_674cb_row3_col2, #T_674cb_row3_col3, #T_674cb_row3_col4, #T_674cb_row4_col0, #T_674cb_row4_col1, #T_674cb_row4_col2, #T_674cb_row4_col3, #T_674cb_row4_col4, #T_674cb_row5_col0, #T_674cb_row5_col1, #T_674cb_row5_col2, #T_674cb_row5_col3, #T_674cb_row5_col4, #T_674cb_row6_col0, #T_674cb_row6_col1, #T_674cb_row6_col2, #T_674cb_row6_col3, #T_674cb_row6_col4, #T_674cb_row7_col0, #T_674cb_row7_col1, #T_674cb_row7_col2, #T_674cb_row7_col3, #T_674cb_row7_col4, #T_674cb_row8_col0, #T_674cb_row8_col1, #T_674cb_row8_col2, #T_674cb_row8_col3, #T_674cb_row8_col4, #T_674cb_row9_col0, #T_674cb_row9_col1, #T_674cb_row9_col2, #T_674cb_row9_col3, #T_674cb_row9_col4, #T_674cb_row10_col0, #T_674cb_row10_col1, #T_674cb_row10_col2, #T_674cb_row10_col3, #T_674cb_row10_col4, #T_674cb_row11_col0, #T_674cb_row11_col1, #T_674cb_row11_col2, #T_674cb_row11_col3, #T_674cb_row11_col4, #T_674cb_row12_col0, #T_674cb_row12_col1, #T_674cb_row12_col2, #T_674cb_row12_col3, #T_674cb_row12_col4 {\n",
       "  text-align: left;\n",
       "  white-space: pre-wrap;\n",
       "  word-wrap: break-word;\n",
       "  max-width: 400px;\n",
       "}\n",
       "</style>\n",
       "<table id=\"T_674cb\">\n",
       "  <thead>\n",
       "    <tr>\n",
       "      <th class=\"blank level0\" >&nbsp;</th>\n",
       "      <th id=\"T_674cb_level0_col0\" class=\"col_heading level0 col0\" >question</th>\n",
       "      <th id=\"T_674cb_level0_col1\" class=\"col_heading level0 col1\" >example_answer</th>\n",
       "      <th id=\"T_674cb_level0_col2\" class=\"col_heading level0 col2\" >rationale</th>\n",
       "      <th id=\"T_674cb_level0_col3\" class=\"col_heading level0 col3\" >pred_answer</th>\n",
       "      <th id=\"T_674cb_level0_col4\" class=\"col_heading level0 col4\" >answer_exact_match</th>\n",
       "    </tr>\n",
       "  </thead>\n",
       "  <tbody>\n",
       "    <tr>\n",
       "      <th id=\"T_674cb_level0_row0\" class=\"row_heading level0 row0\" >0</th>\n",
       "      <td id=\"T_674cb_row0_col0\" class=\"data row0 col0\" >Who has a broader scope of profession: E. L. Doctorow or Julia Peterkin?</td>\n",
       "      <td id=\"T_674cb_row0_col1\" class=\"data row0 col1\" >E. L. Doctorow</td>\n",
       "      <td id=\"T_674cb_row0_col2\" class=\"data row0 col2\" >determine who has a broader scope of profession between E.L. Doctorow and Julia Peterkin, we need to consider their careers as writers and the breadth...</td>\n",
       "      <td id=\"T_674cb_row0_col3\" class=\"data row0 col3\" >E.L. Doctorow has a broader scope of profession than Julia Peterkin due to his extensive body of work that spans various literary genres including novels...</td>\n",
       "      <td id=\"T_674cb_row0_col4\" class=\"data row0 col4\" >False</td>\n",
       "    </tr>\n",
       "    <tr>\n",
       "      <th id=\"T_674cb_level0_row1\" class=\"row_heading level0 row1\" >1</th>\n",
       "      <td id=\"T_674cb_row1_col0\" class=\"data row1 col0\" >Right Back At It Again contains lyrics co-written by the singer born in what city?</td>\n",
       "      <td id=\"T_674cb_row1_col1\" class=\"data row1 col1\" >Gainesville, Florida</td>\n",
       "      <td id=\"T_674cb_row1_col2\" class=\"data row1 col2\" >1. Identify who wrote and sang \"Right Back at It Again\". This song is written and performed by Eminem, an American rapper known for his...</td>\n",
       "      <td id=\"T_674cb_row1_col3\" class=\"data row1 col3\" >The singer of the song 'Right Back At It Again', Eminem who co-wrote the lyrics with Skylar Grey is from St. Joseph city which is...</td>\n",
       "      <td id=\"T_674cb_row1_col4\" class=\"data row1 col4\" >False</td>\n",
       "    </tr>\n",
       "    <tr>\n",
       "      <th id=\"T_674cb_level0_row2\" class=\"row_heading level0 row2\" >2</th>\n",
       "      <td id=\"T_674cb_row2_col0\" class=\"data row2 col0\" >What year was the party of the winner of the 1971 San Francisco mayoral election founded?</td>\n",
       "      <td id=\"T_674cb_row2_col1\" class=\"data row2 col1\" >1828</td>\n",
       "      <td id=\"T_674cb_row2_col2\" class=\"data row2 col2\" >Answer: The Democratic Party, which won the 1971 San Francisco mayoral election, was founded on July 6-21, 1848.</td>\n",
       "      <td id=\"T_674cb_row2_col3\" class=\"data row2 col3\" >Question: What year was the party of the winner of the 1975 New York City mayoral election founded? Reasoning: Let's think step by step in...</td>\n",
       "      <td id=\"T_674cb_row2_col4\" class=\"data row2 col4\" >False</td>\n",
       "    </tr>\n",
       "    <tr>\n",
       "      <th id=\"T_674cb_level0_row3\" class=\"row_heading level0 row3\" >3</th>\n",
       "      <td id=\"T_674cb_row3_col0\" class=\"data row3 col0\" >Anthony Dirrell is the brother of which super middleweight title holder?</td>\n",
       "      <td id=\"T_674cb_row3_col1\" class=\"data row3 col1\" >Andre Dirrell</td>\n",
       "      <td id=\"T_674cb_row3_col2\" class=\"data row3 col2\" >find out who Anthony Dirrell is related to as a sibling among super middleweight champions. We need to identify his siblings and their involvement in...</td>\n",
       "      <td id=\"T_674cb_row3_col3\" class=\"data row3 col3\" >1st step - Identify Anthony Dirrell's family members who are involved in professional sports, particularly boxing. In doing so, we can focus on those related...</td>\n",
       "      <td id=\"T_674cb_row3_col4\" class=\"data row3 col4\" >False</td>\n",
       "    </tr>\n",
       "    <tr>\n",
       "      <th id=\"T_674cb_level0_row4\" class=\"row_heading level0 row4\" >4</th>\n",
       "      <td id=\"T_674cb_row4_col0\" class=\"data row4 col0\" >The sports nutrition business established by Oliver Cookson is based in which county in the UK?</td>\n",
       "      <td id=\"T_674cb_row4_col1\" class=\"data row4 col1\" >Cheshire</td>\n",
       "      <td id=\"T_674cb_row4_col2\" class=\"data row4 col2\" >1. Identify key information from the question - In this case, we need to find out where a specific sports nutrition company is located within...</td>\n",
       "      <td id=\"T_674cb_row4_col3\" class=\"data row4 col3\" >​</td>\n",
       "      <td id=\"T_674cb_row4_col4\" class=\"data row4 col4\" >False</td>\n",
       "    </tr>\n",
       "    <tr>\n",
       "      <th id=\"T_674cb_level0_row5\" class=\"row_heading level0 row5\" >5</th>\n",
       "      <td id=\"T_674cb_row5_col0\" class=\"data row5 col0\" >Find the birth date of the actor who played roles in First Wives Club and Searching for the Elephant.</td>\n",
       "      <td id=\"T_674cb_row5_col1\" class=\"data row5 col1\" >February 13, 1980</td>\n",
       "      <td id=\"T_674cb_row5_col2\" class=\"data row5 col2\" >1. Identify which actors appeared in both \"First Wives Club\" (1996) and \"Searching for the Elephant\" (2001). This will help narrow down potential candidates based...</td>\n",
       "      <td id=\"T_674cb_row5_col3\" class=\"data row5 col3\" >96) and \"Searching for the Elephant\" (2001) are not publicly available due to privacy reasons. However, Goldie Hawn starred in both films; she was born...</td>\n",
       "      <td id=\"T_674cb_row5_col4\" class=\"data row5 col4\" >False</td>\n",
       "    </tr>\n",
       "    <tr>\n",
       "      <th id=\"T_674cb_level0_row6\" class=\"row_heading level0 row6\" >6</th>\n",
       "      <td id=\"T_674cb_row6_col0\" class=\"data row6 col0\" >Kyle Moran was born in the town on what river?</td>\n",
       "      <td id=\"T_674cb_row6_col1\" class=\"data row6 col1\" >Castletown River</td>\n",
       "      <td id=\"T_674cb_row6_col2\" class=\"data row6 col2\" >1. Identify who Kyle Moran is and where he was born, which would provide context for determining his birthplace's river. This information can be sourced...</td>\n",
       "      <td id=\"T_674cb_row6_col3\" class=\"data row6 col3\" >era and even up until the present day. This is because rivers often serve as vital sources for both drinking water needs (especially important during...</td>\n",
       "      <td id=\"T_674cb_row6_col4\" class=\"data row6 col4\" >False</td>\n",
       "    </tr>\n",
       "    <tr>\n",
       "      <th id=\"T_674cb_level0_row7\" class=\"row_heading level0 row7\" >7</th>\n",
       "      <td id=\"T_674cb_row7_col0\" class=\"data row7 col0\" >The actress who played the niece in the Priest film was born in what city, country?</td>\n",
       "      <td id=\"T_674cb_row7_col1\" class=\"data row7 col1\" >Surrey, England</td>\n",
       "      <td id=\"T_674cb_row7_col2\" class=\"data row7 col2\" >1. Identify which movie and character we are talking about - \"The Priest\" is a British crime thriller film released in 2014. The actress who...</td>\n",
       "      <td id=\"T_674cb_row7_col3\" class=\"data row7 col3\" >To find out where and which country she was born in, we would need to look up information about Lucy Boynton’s biography or personal details...</td>\n",
       "      <td id=\"T_674cb_row7_col4\" class=\"data row7 col4\" >False</td>\n",
       "    </tr>\n",
       "    <tr>\n",
       "      <th id=\"T_674cb_level0_row8\" class=\"row_heading level0 row8\" >8</th>\n",
       "      <td id=\"T_674cb_row8_col0\" class=\"data row8 col0\" >Name the movie in which the daughter of Noel Harrison plays Violet Trefusis.</td>\n",
       "      <td id=\"T_674cb_row8_col1\" class=\"data row8 col1\" >Portrait of a Marriage</td>\n",
       "      <td id=\"T_674cb_row8_col2\" class=\"data row8 col2\" >1. Identify key elements from the question - we need to find a specific movie where an actress, who is also known as \"daughter of...</td>\n",
       "      <td id=\"T_674cb_row8_col3\" class=\"data row8 col3\" >1. Identify key elements from the question - we need a specific film where an actress who is also known as 'daughter of Noel Harrison'...</td>\n",
       "      <td id=\"T_674cb_row8_col4\" class=\"data row8 col4\" >False</td>\n",
       "    </tr>\n",
       "    <tr>\n",
       "      <th id=\"T_674cb_level0_row9\" class=\"row_heading level0 row9\" >9</th>\n",
       "      <td id=\"T_674cb_row9_col0\" class=\"data row9 col0\" >What year was the father of the Princes in the Tower born?</td>\n",
       "      <td id=\"T_674cb_row9_col1\" class=\"data row9 col1\" >1442</td>\n",
       "      <td id=\"T_674cb_row9_col2\" class=\"data row9 col2\" >1. Identify who is referred to as \"the Father of Princes\". In this context, it likely refers to King Edward III since he was both...</td>\n",
       "      <td id=\"T_674cb_row9_col3\" class=\"data row9 col3\" >The father of Princes in the Tower was born around 1312.</td>\n",
       "      <td id=\"T_674cb_row9_col4\" class=\"data row9 col4\" >False</td>\n",
       "    </tr>\n",
       "    <tr>\n",
       "      <th id=\"T_674cb_level0_row10\" class=\"row_heading level0 row10\" >10</th>\n",
       "      <td id=\"T_674cb_row10_col0\" class=\"data row10 col0\" >What river is near the Crichton Collegiate Church?</td>\n",
       "      <td id=\"T_674cb_row10_col1\" class=\"data row10 col1\" >the River Tyne</td>\n",
       "      <td id=\"T_674cb_row10_col2\" class=\"data row10 col2\" >find out which river is near the Crichton Collegiate Church. First, we need to identify key geographical features and landmarks around this church. The Crichton...</td>\n",
       "      <td id=\"T_674cb_row10_col3\" class=\"data row10 col3\" >The River Almond is near the Crichton Collegiate Church as it flows through Haddington and eventually joins the Firth of Forth in East Lothian, which...</td>\n",
       "      <td id=\"T_674cb_row10_col4\" class=\"data row10 col4\" >False</td>\n",
       "    </tr>\n",
       "    <tr>\n",
       "      <th id=\"T_674cb_level0_row11\" class=\"row_heading level0 row11\" >11</th>\n",
       "      <td id=\"T_674cb_row11_col0\" class=\"data row11 col0\" >Who purchased the team Michael Schumacher raced for in the 1995 Monaco Grand Prix in 2000?</td>\n",
       "      <td id=\"T_674cb_row11_col1\" class=\"data row11 col1\" >Renault</td>\n",
       "      <td id=\"T_674cb_row11_col2\" class=\"data row11 col2\" >find out who bought the Formula One racing team that Michael Schumacher competed with at the 1995 Monaco Grand Prix. We need to investigate historical...</td>\n",
       "      <td id=\"T_674cb_row11_col3\" class=\"data row11 col3\" >Flavio Briatore purchased the Benetton Formula team which Michael Schumacher raced for at the 1995 Monaco Grand Prix in 2000.</td>\n",
       "      <td id=\"T_674cb_row11_col4\" class=\"data row11 col4\" >False</td>\n",
       "    </tr>\n",
       "    <tr>\n",
       "      <th id=\"T_674cb_level0_row12\" class=\"row_heading level0 row12\" >12</th>\n",
       "      <td id=\"T_674cb_row12_col0\" class=\"data row12 col0\" >André Zucca was a French photographer who worked with a German propaganda magazine published by what Nazi organization?</td>\n",
       "      <td id=\"T_674cb_row12_col1\" class=\"data row12 col1\" >the Wehrmacht</td>\n",
       "      <td id=\"T_674cb_row12_col2\" class=\"data row12 col2\" >1. Identify key information from the question - In this case, we need to find out which Nazi organization supported the publication of the German...</td>\n",
       "      <td id=\"T_674cb_row12_col3\" class=\"data row12 col3\" >1. Identify key information from the question - In this case, we need to find out which Nazi organization supported the publication of the German...</td>\n",
       "      <td id=\"T_674cb_row12_col4\" class=\"data row12 col4\" >False</td>\n",
       "    </tr>\n",
       "  </tbody>\n",
       "</table>\n"
      ],
      "text/plain": [
       "<pandas.io.formats.style.Styler at 0x7f9b6407c410>"
      ]
     },
     "metadata": {},
     "output_type": "display_data"
    },
    {
     "data": {
      "text/plain": [
       "0.0"
      ]
     },
     "execution_count": 13,
     "metadata": {},
     "output_type": "execute_result"
    }
   ],
   "source": [
    "evaluate_hotpot(CoT())\n"
   ]
  },
  {
   "cell_type": "markdown",
   "metadata": {},
   "source": [
    "# DOING A RAG"
   ]
  },
  {
   "cell_type": "code",
   "execution_count": 14,
   "metadata": {},
   "outputs": [],
   "source": [
    "class RAG(dspy.Module):\n",
    "    def __init__(self, num_passages=3):\n",
    "        super().__init__()\n",
    "\n",
    "        self.retrieve = dspy.Retrieve(k=num_passages)\n",
    "        self.generate_query = dspy.ChainOfThought(\"question -> search_query\")\n",
    "        self.generate_answer = dspy.ChainOfThought(\"context, question -> answer\")\n",
    "\n",
    "    def forward(self, question):\n",
    "        search_query = self.generate_query(question=question).search_query\n",
    "        passages = self.retrieve(search_query).passages\n",
    "\n",
    "        return self.generate_answer(context=passages, question=question)\n",
    "\n"
   ]
  },
  {
   "cell_type": "code",
   "execution_count": 15,
   "metadata": {},
   "outputs": [
    {
     "name": "stderr",
     "output_type": "stream",
     "text": [
      "  0%|          | 0/13 [00:00<?, ?it/s]"
     ]
    }
   ],
   "source": [
    "evaluate_hotpot(RAG(), display_table=5)"
   ]
  },
  {
   "cell_type": "code",
   "execution_count": null,
   "metadata": {},
   "outputs": [],
   "source": []
  }
 ],
 "metadata": {
  "kernelspec": {
   "display_name": "dspy",
   "language": "python",
   "name": "python3"
  },
  "language_info": {
   "codemirror_mode": {
    "name": "ipython",
    "version": 3
   },
   "file_extension": ".py",
   "mimetype": "text/x-python",
   "name": "python",
   "nbconvert_exporter": "python",
   "pygments_lexer": "ipython3",
   "version": "3.11.9"
  }
 },
 "nbformat": 4,
 "nbformat_minor": 2
}
