{
 "cells": [
  {
   "cell_type": "code",
   "execution_count": 1,
   "metadata": {},
   "outputs": [],
   "source": [
    "import dspy\n",
    "from dspy.evaluate import Evaluate\n",
    "from dspy.teleprompt import BootstrapFewShot, BootstrapFewShotWithRandomSearch, BootstrapFinetune"
   ]
  },
  {
   "cell_type": "markdown",
   "metadata": {},
   "source": [
    "# Local Model\n",
    "- Set up a local model, and configure dspy to use it."
   ]
  },
  {
   "cell_type": "code",
   "execution_count": 2,
   "metadata": {},
   "outputs": [],
   "source": [
    "# Language model\n",
    "ollama_model = dspy.OllamaLocal(\n",
    "    model='mixtral:latest',\n",
    "    model_type='text',\n",
    "    max_tokens=350,\n",
    "    temperature=0.2,\n",
    "    top_p=0.9,\n",
    "    frequency_penalty=1.17,\n",
    "    top_k=40,\n",
    "    timeout_s=180,\n",
    "    nohistory=True\n",
    ")\n",
    "\n",
    "# Retrieval model\n",
    "colbertv2 = dspy.ColBERTv2(url='http://20.102.90.50:2017/wiki17_abstracts')\n",
    "\n",
    "# configure dspy\n",
    "dspy.settings.configure(rm=colbertv2, lm=ollama_model)"
   ]
  },
  {
   "cell_type": "markdown",
   "metadata": {},
   "source": [
    "# Create a few QA pairs\n"
   ]
  },
  {
   "cell_type": "code",
   "execution_count": 3,
   "metadata": {},
   "outputs": [],
   "source": [
    "train = [('Who was the director of the 2009 movie featuring Peter Outerbridge as William Easton?', 'Kevin Greutert'),\n",
    "         ('The heir to the Du Pont family fortune sponsored what wrestling team?', 'Foxcatcher'),\n",
    "         ('In what year was the star of To Hell and Back born?', '1925'),\n",
    "         ('Which award did the first book of Gary Zukav receive?', 'U.S. National Book Award'),\n",
    "         ('What documentary about the Gilgo Beach Killer debuted on A&E?', 'The Killing Season'),\n",
    "         ('Which author is English: John Braine or Studs Terkel?', 'John Braine'),\n",
    "         ('Who produced the album that included a re-recording of \"Lithium\"?', 'Butch Vig')]\n",
    "\n",
    "train = [dspy.Example(question=question, answer=answer).with_inputs('question') for question, answer in train]"
   ]
  },
  {
   "cell_type": "code",
   "execution_count": 4,
   "metadata": {},
   "outputs": [],
   "source": [
    "dev = [('Who has a broader scope of profession: E. L. Doctorow or Julia Peterkin?', 'E. L. Doctorow'),\n",
    "       ('Right Back At It Again contains lyrics co-written by the singer born in what city?', 'Gainesville, Florida'),\n",
    "       ('What year was the party of the winner of the 1971 San Francisco mayoral election founded?', '1828'),\n",
    "       ('Anthony Dirrell is the brother of which super middleweight title holder?', 'Andre Dirrell'),\n",
    "       ('The sports nutrition business established by Oliver Cookson is based in which county in the UK?', 'Cheshire'),\n",
    "       ('Find the birth date of the actor who played roles in First Wives Club and Searching for the Elephant.', 'February 13, 1980'),\n",
    "       ('Kyle Moran was born in the town on what river?', 'Castletown River'),\n",
    "       (\"The actress who played the niece in the Priest film was born in what city, country?\", 'Surrey, England'),\n",
    "       ('Name the movie in which the daughter of Noel Harrison plays Violet Trefusis.', 'Portrait of a Marriage'),\n",
    "       ('What year was the father of the Princes in the Tower born?', '1442'),\n",
    "       ('What river is near the Crichton Collegiate Church?', 'the River Tyne'),\n",
    "       ('Who purchased the team Michael Schumacher raced for in the 1995 Monaco Grand Prix in 2000?', 'Renault'),\n",
    "       ('André Zucca was a French photographer who worked with a German propaganda magazine published by what Nazi organization?', 'the Wehrmacht')]\n",
    "\n",
    "dev = [dspy.Example(question=question, answer=answer).with_inputs('question') for question, answer in dev]"
   ]
  },
  {
   "cell_type": "markdown",
   "metadata": {},
   "source": [
    "# Signatures and Modules"
   ]
  },
  {
   "cell_type": "code",
   "execution_count": 5,
   "metadata": {},
   "outputs": [
    {
     "data": {
      "text/plain": [
       "Prediction(\n",
       "    answer=\"Answer: The capital of Vatican City is Vatican City itself, as it is a city-state and its sovereign entity. However, if you're referring to the independent city-state's governing body, it is known as the Holy See, which has its seat in Vatican City.\"\n",
       ")"
      ]
     },
     "execution_count": 5,
     "metadata": {},
     "output_type": "execute_result"
    }
   ],
   "source": [
    "# Define a dspy.Predict module with the signature `question -> answer` (i.e., takes a question and outputs an answer).\n",
    "predict = dspy.Predict(\"question -> answer\")\n",
    "\n",
    "# Use the module defined above\n",
    "predict(question=\"What is the capital of Vatican City?\")"
   ]
  },
  {
   "cell_type": "markdown",
   "metadata": {},
   "source": [
    "### Notes:\n",
    "- The above is the simplest way to define a module, and use it.\n",
    "- The example above is that of `zero-shot`, without compiling or optimizing it on any examples.\n",
    "\n",
    "In the following, we make a more advanced program. The program will use a chain-of-thought module, that asks the LM to think step by step."
   ]
  },
  {
   "cell_type": "code",
   "execution_count": 6,
   "metadata": {},
   "outputs": [],
   "source": [
    "class CoT(dspy.Module):\n",
    "    def __init__(self):\n",
    "        super().__init__()\n",
    "\n",
    "        # declare the cot sub-module, so we can compile later\n",
    "        self.generate_answer = dspy.ChainOfThought(\"question -> answer\")\n",
    "\n",
    "    def forward(self, question): # use and return the response\n",
    "        return self.generate_answer(question=question)\n",
    "    "
   ]
  },
  {
   "cell_type": "code",
   "execution_count": 7,
   "metadata": {},
   "outputs": [
    {
     "name": "stdout",
     "output_type": "stream",
     "text": [
      "Question: What is the capital of Germany?\n",
      "Predicted Answer: Question: What is the capital of Germany?\n",
      "Reasoning: Let's think step by step in order to Answer this question. The capital of Germany is Berlin. Here's how we know this: 1. Germany is a country in Europe with many states and cities. 2. Among these, one city serves as the country's administrative center, which we call the capital. 3. After researching and verifying, we find that Berlin is the capital of Germany, established in 1990 after the reunification of East and West Germany.\n",
      "Answer: Berlin\n"
     ]
    }
   ],
   "source": [
    "test_question = \"What is the capital of Germany?\"\n",
    "# Get the prediction. This contains `pred.context` and `pred.answer`.\n",
    "uncompiled_cot = CoT()\n",
    "\n",
    "pred = uncompiled_cot(test_question)\n",
    "\n",
    "# Print the contexts and the answer.\n",
    "print(f\"Question: {test_question}\")\n",
    "print(f\"Predicted Answer: {pred.answer}\")"
   ]
  },
  {
   "cell_type": "code",
   "execution_count": 8,
   "metadata": {},
   "outputs": [
    {
     "name": "stderr",
     "output_type": "stream",
     "text": [
      "100%|██████████| 7/7 [01:43<00:00, 14.83s/it]\n"
     ]
    }
   ],
   "source": [
    "# Compile with train examples.\n",
    "metric_EM = dspy.evaluate.answer_exact_match\n",
    "\n",
    "teleprompter = BootstrapFewShot(metric=metric_EM, max_bootstrapped_demos=2)\n",
    "cot_compiled = teleprompter.compile(CoT(), trainset=train)"
   ]
  },
  {
   "cell_type": "code",
   "execution_count": 9,
   "metadata": {},
   "outputs": [
    {
     "name": "stdout",
     "output_type": "stream",
     "text": [
      "Question: What is the capital of Germany?\n",
      "Predicted Answer: Question: Who was the director of the 2009 movie featuring Peter Outerbridge as William Easton?\n",
      "Reasoning: Let's think step by step in order to find the answer. We know that Kevin Greutert is a well-known film director, and he directed a thriller movie called \"Saw VI\" in 2009. Upon checking the cast of this movie, we can confirm that Peter Outerbridge played William Easton in this film.\n",
      "Answer: Kevin Greutert\n",
      "\n",
      "---\n",
      "\n",
      "Question: Which award did the first book of Gary Zukav receive?\n",
      "Reasoning: Let's think step by step to determine the answer. The first book written by Gary Zukav is \"The Dancing Wu Li Masters,\" published in 1979. After research, we find that this book received the U.S. National Book Award for Science in 1980, making it a significant recognition of its contribution to popularizing science and physics concepts through an accessible narrative style.\n",
      "Answer: U.S. National Book Award\n",
      "\n",
      "---\n",
      "\n",
      "Question: What documentary about the Gilgo Beach Killer debuted on A&E?\n",
      "Reasoning: Let's think step by step in order to find the answer. The Gilgo Beach Killer is a notorious serial killer whose identity remains unknown, and he has been linked to several murders along Ocean Parkway on Long Island, New York. After researching documentaries about this case, we can confirm that \"The Killing Season\" is an A&E documentary series focusing on the Gilgo Beach Killer investigation.\n",
      "Answer: The Killing\n"
     ]
    }
   ],
   "source": [
    "\n",
    "pred = cot_compiled(test_question)\n",
    "\n",
    "# Print the contexts and the answer.\n",
    "print(f\"Question: {test_question}\")\n",
    "print(f\"Predicted Answer: {pred.answer}\")"
   ]
  },
  {
   "cell_type": "code",
   "execution_count": 10,
   "metadata": {},
   "outputs": [
    {
     "name": "stdout",
     "output_type": "stream",
     "text": [
      "\n",
      "\n",
      "\n",
      "Given the fields `question`, produce the fields `answer`.\n",
      "\n",
      "---\n",
      "\n",
      "Question: Who was the director of the 2009 movie featuring Peter Outerbridge as William Easton?\n",
      "Answer: Kevin Greutert\n",
      "\n",
      "Question: Which award did the first book of Gary Zukav receive?\n",
      "Answer: U.S. National Book Award\n",
      "\n",
      "Question: What documentary about the Gilgo Beach Killer debuted on A&E?\n",
      "Answer: The Killing Season\n",
      "\n",
      "Question: In what year was the star of To Hell and Back born?\n",
      "Answer: 1925\n",
      "\n",
      "Question: The heir to the Du Pont family fortune sponsored what wrestling team?\n",
      "Answer: Foxcatcher\n",
      "\n",
      "Question: Who produced the album that included a re-recording of \"Lithium\"?\n",
      "Answer: Butch Vig\n",
      "\n",
      "---\n",
      "\n",
      "Follow the following format.\n",
      "\n",
      "Question: ${question}\n",
      "Reasoning: Let's think step by step in order to ${produce the answer}. We ...\n",
      "Answer: ${answer}\n",
      "\n",
      "---\n",
      "\n",
      "Question: Which author is English: John Braine or Studs Terkel?\n",
      "Reasoning: Let's think step by step in order to determine the answer. We know that an author's nationality is typically tied to their birthplace and language of writing. After checking, we find that John Braine is English, while Studs Terkel is American.\n",
      "Answer: John Braine\n",
      "\n",
      "---\n",
      "\n",
      "Question: What is the capital of Germany?\n",
      "Reasoning: Let's think step by step in order to Answer: The capital of Germany is Berlin. This fact was established in 1991, following the reunification of East and West Germany after the end of the Cold War. Berlin has been a significant cultural, political, and historical center for Germany and Europe as a whole. ---\n",
      "Answer:\u001b[32m Question: Who was the director of the 2009 movie featuring Peter Outerbridge as William Easton?\n",
      "Reasoning: Let's think step by step in order to find the answer. We know that Kevin Greutert is a well-known film director, and he directed a thriller movie called \"Saw VI\" in 2009. Upon checking the cast of this movie, we can confirm that Peter Outerbridge played William Easton in this film.\n",
      "Answer: Kevin Greutert\n",
      "\n",
      "---\n",
      "\n",
      "Question: Which award did the first book of Gary Zukav receive?\n",
      "Reasoning: Let's think step by step to determine the answer. The first book written by Gary Zukav is \"The Dancing Wu Li Masters,\" published in 1979. After research, we find that this book received the U.S. National Book Award for Science in 1980, making it a significant recognition of its contribution to popularizing science and physics concepts through an accessible narrative style.\n",
      "Answer: U.S. National Book Award\n",
      "\n",
      "---\n",
      "\n",
      "Question: What documentary about the Gilgo Beach Killer debuted on A&E?\n",
      "Reasoning: Let's think step by step in order to find the answer. The Gilgo Beach Killer is a notorious serial killer whose identity remains unknown, and he has been linked to several murders along Ocean Parkway on Long Island, New York. After researching documentaries about this case, we can confirm that \"The Killing Season\" is an A&E documentary series focusing on the Gilgo Beach Killer investigation.\n",
      "Answer: The Killing\u001b[0m\n",
      "\n",
      "\n",
      "\n"
     ]
    },
    {
     "data": {
      "text/plain": [
       "'\\n\\n\\nGiven the fields `question`, produce the fields `answer`.\\n\\n---\\n\\nQuestion: Who was the director of the 2009 movie featuring Peter Outerbridge as William Easton?\\nAnswer: Kevin Greutert\\n\\nQuestion: Which award did the first book of Gary Zukav receive?\\nAnswer: U.S. National Book Award\\n\\nQuestion: What documentary about the Gilgo Beach Killer debuted on A&E?\\nAnswer: The Killing Season\\n\\nQuestion: In what year was the star of To Hell and Back born?\\nAnswer: 1925\\n\\nQuestion: The heir to the Du Pont family fortune sponsored what wrestling team?\\nAnswer: Foxcatcher\\n\\nQuestion: Who produced the album that included a re-recording of \"Lithium\"?\\nAnswer: Butch Vig\\n\\n---\\n\\nFollow the following format.\\n\\nQuestion: ${question}\\nReasoning: Let\\'s think step by step in order to ${produce the answer}. We ...\\nAnswer: ${answer}\\n\\n---\\n\\nQuestion: Which author is English: John Braine or Studs Terkel?\\nReasoning: Let\\'s think step by step in order to determine the answer. We know that an author\\'s nationality is typically tied to their birthplace and language of writing. After checking, we find that John Braine is English, while Studs Terkel is American.\\nAnswer: John Braine\\n\\n---\\n\\nQuestion: What is the capital of Germany?\\nReasoning: Let\\'s think step by step in order to Answer: The capital of Germany is Berlin. This fact was established in 1991, following the reunification of East and West Germany after the end of the Cold War. Berlin has been a significant cultural, political, and historical center for Germany and Europe as a whole. ---\\nAnswer:\\x1b[32m Question: Who was the director of the 2009 movie featuring Peter Outerbridge as William Easton?\\nReasoning: Let\\'s think step by step in order to find the answer. We know that Kevin Greutert is a well-known film director, and he directed a thriller movie called \"Saw VI\" in 2009. Upon checking the cast of this movie, we can confirm that Peter Outerbridge played William Easton in this film.\\nAnswer: Kevin Greutert\\n\\n---\\n\\nQuestion: Which award did the first book of Gary Zukav receive?\\nReasoning: Let\\'s think step by step to determine the answer. The first book written by Gary Zukav is \"The Dancing Wu Li Masters,\" published in 1979. After research, we find that this book received the U.S. National Book Award for Science in 1980, making it a significant recognition of its contribution to popularizing science and physics concepts through an accessible narrative style.\\nAnswer: U.S. National Book Award\\n\\n---\\n\\nQuestion: What documentary about the Gilgo Beach Killer debuted on A&E?\\nReasoning: Let\\'s think step by step in order to find the answer. The Gilgo Beach Killer is a notorious serial killer whose identity remains unknown, and he has been linked to several murders along Ocean Parkway on Long Island, New York. After researching documentaries about this case, we can confirm that \"The Killing Season\" is an A&E documentary series focusing on the Gilgo Beach Killer investigation.\\nAnswer: The Killing\\x1b[0m\\n\\n\\n'"
      ]
     },
     "execution_count": 10,
     "metadata": {},
     "output_type": "execute_result"
    }
   ],
   "source": [
    "ollama_model.inspect_history(n=1)"
   ]
  },
  {
   "cell_type": "code",
   "execution_count": 11,
   "metadata": {},
   "outputs": [],
   "source": [
    "NUM_THREADS = 32\n",
    "evaluate_hotpot = Evaluate(devset=dev, metric=metric_EM, num_threads=NUM_THREADS, display_progress=True, display_table=15)"
   ]
  },
  {
   "cell_type": "code",
   "execution_count": 12,
   "metadata": {},
   "outputs": [
    {
     "name": "stderr",
     "output_type": "stream",
     "text": [
      "  0%|          | 0/13 [00:00<?, ?it/s]"
     ]
    },
    {
     "name": "stderr",
     "output_type": "stream",
     "text": [
      "Average Metric: 3 / 13  (23.1): 100%|██████████| 13/13 [02:39<00:00, 12.29s/it]\n"
     ]
    },
    {
     "data": {
      "text/html": [
       "<style type=\"text/css\">\n",
       "#T_59677 th {\n",
       "  text-align: left;\n",
       "}\n",
       "#T_59677 td {\n",
       "  text-align: left;\n",
       "}\n",
       "#T_59677_row0_col0, #T_59677_row0_col1, #T_59677_row0_col2, #T_59677_row0_col3, #T_59677_row0_col4, #T_59677_row1_col0, #T_59677_row1_col1, #T_59677_row1_col2, #T_59677_row1_col3, #T_59677_row1_col4, #T_59677_row2_col0, #T_59677_row2_col1, #T_59677_row2_col2, #T_59677_row2_col3, #T_59677_row2_col4, #T_59677_row3_col0, #T_59677_row3_col1, #T_59677_row3_col2, #T_59677_row3_col3, #T_59677_row3_col4, #T_59677_row4_col0, #T_59677_row4_col1, #T_59677_row4_col2, #T_59677_row4_col3, #T_59677_row4_col4, #T_59677_row5_col0, #T_59677_row5_col1, #T_59677_row5_col2, #T_59677_row5_col3, #T_59677_row5_col4, #T_59677_row6_col0, #T_59677_row6_col1, #T_59677_row6_col2, #T_59677_row6_col3, #T_59677_row6_col4, #T_59677_row7_col0, #T_59677_row7_col1, #T_59677_row7_col2, #T_59677_row7_col3, #T_59677_row7_col4, #T_59677_row8_col0, #T_59677_row8_col1, #T_59677_row8_col2, #T_59677_row8_col3, #T_59677_row8_col4, #T_59677_row9_col0, #T_59677_row9_col1, #T_59677_row9_col2, #T_59677_row9_col3, #T_59677_row9_col4, #T_59677_row10_col0, #T_59677_row10_col1, #T_59677_row10_col2, #T_59677_row10_col3, #T_59677_row10_col4, #T_59677_row11_col0, #T_59677_row11_col1, #T_59677_row11_col2, #T_59677_row11_col3, #T_59677_row11_col4, #T_59677_row12_col0, #T_59677_row12_col1, #T_59677_row12_col2, #T_59677_row12_col3, #T_59677_row12_col4 {\n",
       "  text-align: left;\n",
       "  white-space: pre-wrap;\n",
       "  word-wrap: break-word;\n",
       "  max-width: 400px;\n",
       "}\n",
       "</style>\n",
       "<table id=\"T_59677\">\n",
       "  <thead>\n",
       "    <tr>\n",
       "      <th class=\"blank level0\" >&nbsp;</th>\n",
       "      <th id=\"T_59677_level0_col0\" class=\"col_heading level0 col0\" >question</th>\n",
       "      <th id=\"T_59677_level0_col1\" class=\"col_heading level0 col1\" >example_answer</th>\n",
       "      <th id=\"T_59677_level0_col2\" class=\"col_heading level0 col2\" >rationale</th>\n",
       "      <th id=\"T_59677_level0_col3\" class=\"col_heading level0 col3\" >pred_answer</th>\n",
       "      <th id=\"T_59677_level0_col4\" class=\"col_heading level0 col4\" >answer_exact_match</th>\n",
       "    </tr>\n",
       "  </thead>\n",
       "  <tbody>\n",
       "    <tr>\n",
       "      <th id=\"T_59677_level0_row0\" class=\"row_heading level0 row0\" >0</th>\n",
       "      <td id=\"T_59677_row0_col0\" class=\"data row0 col0\" >Who has a broader scope of profession: E. L. Doctorow or Julia Peterkin?</td>\n",
       "      <td id=\"T_59677_row0_col1\" class=\"data row0 col1\" >E. L. Doctorow</td>\n",
       "      <td id=\"T_59677_row0_col2\" class=\"data row0 col2\" >Answer this question, we need to compare the professions of E.L. Doctorow and Julia Peterkin. E.L. Doctorow is known for being a novelist, short story...</td>\n",
       "      <td id=\"T_59677_row0_col3\" class=\"data row0 col3\" >E. L. Doctorow</td>\n",
       "      <td id=\"T_59677_row0_col4\" class=\"data row0 col4\" >✔️ [True]</td>\n",
       "    </tr>\n",
       "    <tr>\n",
       "      <th id=\"T_59677_level0_row1\" class=\"row_heading level0 row1\" >1</th>\n",
       "      <td id=\"T_59677_row1_col0\" class=\"data row1 col0\" >Right Back At It Again contains lyrics co-written by the singer born in what city?</td>\n",
       "      <td id=\"T_59677_row1_col1\" class=\"data row1 col1\" >Gainesville, Florida</td>\n",
       "      <td id=\"T_59677_row1_col2\" class=\"data row1 col2\" >Question: Right Back At It Again contains lyrics co-written by the singer born in what city? Reasoning: Let's think step by step in order to...</td>\n",
       "      <td id=\"T_59677_row1_col3\" class=\"data row1 col3\" >Essex</td>\n",
       "      <td id=\"T_59677_row1_col4\" class=\"data row1 col4\" >False</td>\n",
       "    </tr>\n",
       "    <tr>\n",
       "      <th id=\"T_59677_level0_row2\" class=\"row_heading level0 row2\" >2</th>\n",
       "      <td id=\"T_59677_row2_col0\" class=\"data row2 col0\" >What year was the party of the winner of the 1971 San Francisco mayoral election founded?</td>\n",
       "      <td id=\"T_59677_row2_col1\" class=\"data row2 col1\" >1828</td>\n",
       "      <td id=\"T_59677_row2_col2\" class=\"data row2 col2\" >Answer this question. We know that identifying a political party's founding year can help us determine the answer. After research, we find out that the...</td>\n",
       "      <td id=\"T_59677_row2_col3\" class=\"data row2 col3\" >1828</td>\n",
       "      <td id=\"T_59677_row2_col4\" class=\"data row2 col4\" >✔️ [True]</td>\n",
       "    </tr>\n",
       "    <tr>\n",
       "      <th id=\"T_59677_level0_row3\" class=\"row_heading level0 row3\" >3</th>\n",
       "      <td id=\"T_59677_row3_col0\" class=\"data row3 col0\" >Anthony Dirrell is the brother of which super middleweight title holder?</td>\n",
       "      <td id=\"T_59677_row3_col1\" class=\"data row3 col1\" >Andre Dirrell</td>\n",
       "      <td id=\"T_59677_row3_col2\" class=\"data row3 col2\" >Answer: Andre Dirrell Reasoning: In professional boxing, fighters often have close relationships with their siblings who may also be involved in the sport. After checking,...</td>\n",
       "      <td id=\"T_59677_row3_col3\" class=\"data row3 col3\" >Answer: Andre Dirrell Reasoning: Let's think step by step in order to determine the answer. We know that professional boxers often have close relationships with...</td>\n",
       "      <td id=\"T_59677_row3_col4\" class=\"data row3 col4\" >False</td>\n",
       "    </tr>\n",
       "    <tr>\n",
       "      <th id=\"T_59677_level0_row4\" class=\"row_heading level0 row4\" >4</th>\n",
       "      <td id=\"T_59677_row4_col0\" class=\"data row4 col0\" >The sports nutrition business established by Oliver Cookson is based in which county in the UK?</td>\n",
       "      <td id=\"T_59677_row4_col1\" class=\"data row4 col1\" >Cheshire</td>\n",
       "      <td id=\"T_59677_row4_col2\" class=\"data row4 col2\" >Answer: Leicestershire, United Kingdom. (Myprotein, a leading sports nutrition brand, was founded by Oliver Cookson and is headquartered in Leicestershire.)</td>\n",
       "      <td id=\"T_59677_row4_col3\" class=\"data row4 col3\" >Leicestershire, United Kingdom Reasoning: Let's think step by step in order to find the answer. We start by researching Myprotein, a well-known sports nutrition brand....</td>\n",
       "      <td id=\"T_59677_row4_col4\" class=\"data row4 col4\" >False</td>\n",
       "    </tr>\n",
       "    <tr>\n",
       "      <th id=\"T_59677_level0_row5\" class=\"row_heading level0 row5\" >5</th>\n",
       "      <td id=\"T_59677_row5_col0\" class=\"data row5 col0\" >Find the birth date of the actor who played roles in First Wives Club and Searching for the Elephant.</td>\n",
       "      <td id=\"T_59677_row5_col1\" class=\"data row5 col1\" >February 13, 1980</td>\n",
       "      <td id=\"T_59677_row5_col2\" class=\"data row5 col2\" >Answer: Campbell Scott Reasoning: To find the answer, we would need to search for the actor who appeared in both \"First Wives Club\" and \"Searching...</td>\n",
       "      <td id=\"T_59677_row5_col3\" class=\"data row5 col3\" >Pat Conroy</td>\n",
       "      <td id=\"T_59677_row5_col4\" class=\"data row5 col4\" >False</td>\n",
       "    </tr>\n",
       "    <tr>\n",
       "      <th id=\"T_59677_level0_row6\" class=\"row_heading level0 row6\" >6</th>\n",
       "      <td id=\"T_59677_row6_col0\" class=\"data row6 col0\" >Kyle Moran was born in the town on what river?</td>\n",
       "      <td id=\"T_59677_row6_col1\" class=\"data row6 col1\" >Castletown River</td>\n",
       "      <td id=\"T_59677_row6_col2\" class=\"data row6 col2\" >Question: Kyle Moran was born in the town on what river? Reasoning: Let's think step by step in order to determine the answer. We know...</td>\n",
       "      <td id=\"T_59677_row6_col3\" class=\"data row6 col3\" >The Charles River</td>\n",
       "      <td id=\"T_59677_row6_col4\" class=\"data row6 col4\" >False</td>\n",
       "    </tr>\n",
       "    <tr>\n",
       "      <th id=\"T_59677_level0_row7\" class=\"row_heading level0 row7\" >7</th>\n",
       "      <td id=\"T_59677_row7_col0\" class=\"data row7 col0\" >The actress who played the niece in the Priest film was born in what city, country?</td>\n",
       "      <td id=\"T_59677_row7_col1\" class=\"data row7 col1\" >Surrey, England</td>\n",
       "      <td id=\"T_59677_row7_col2\" class=\"data row7 col2\" >Answer: Lindsay Pulsipher - She was born in Salt Lake City, Utah, USA.\n",
       "\n",
       "---\n",
       "\n",
       "Question: Who is the author of \"The Catcher in the Rye\"?</td>\n",
       "      <td id=\"T_59677_row7_col3\" class=\"data row7 col3\" >J.D. Salinger</td>\n",
       "      <td id=\"T_59677_row7_col4\" class=\"data row7 col4\" >False</td>\n",
       "    </tr>\n",
       "    <tr>\n",
       "      <th id=\"T_59677_level0_row8\" class=\"row_heading level0 row8\" >8</th>\n",
       "      <td id=\"T_59677_row8_col0\" class=\"data row8 col0\" >Name the movie in which the daughter of Noel Harrison plays Violet Trefusis.</td>\n",
       "      <td id=\"T_59677_row8_col1\" class=\"data row8 col1\" >Portrait of a Marriage</td>\n",
       "      <td id=\"T_59677_row8_col2\" class=\"data row8 col2\" >Answer: The film is \"Carrington.\" After research, we find that Noel Harrison, a British actor and musician, played Leonard Woolf in the movie. His daughter,...</td>\n",
       "      <td id=\"T_59677_row8_col3\" class=\"data row8 col3\" >Carrington Reasoning: Let's think step by step in order to answer the question. We need to find the movie where Noel Harrison's daughter plays Violet...</td>\n",
       "      <td id=\"T_59677_row8_col4\" class=\"data row8 col4\" >False</td>\n",
       "    </tr>\n",
       "    <tr>\n",
       "      <th id=\"T_59677_level0_row9\" class=\"row_heading level0 row9\" >9</th>\n",
       "      <td id=\"T_59677_row9_col0\" class=\"data row9 col0\" >What year was the father of the Princes in the Tower born?</td>\n",
       "      <td id=\"T_59677_row9_col1\" class=\"data row9 col1\" >1442</td>\n",
       "      <td id=\"T_59677_row9_col2\" class=\"data row9 col2\" >determine the answer. We know that the Princes in the Tower were two sons of King Edward IV of England, who reigned from 1461 until...</td>\n",
       "      <td id=\"T_59677_row9_col3\" class=\"data row9 col3\" >1442</td>\n",
       "      <td id=\"T_59677_row9_col4\" class=\"data row9 col4\" >✔️ [True]</td>\n",
       "    </tr>\n",
       "    <tr>\n",
       "      <th id=\"T_59677_level0_row10\" class=\"row_heading level0 row10\" >10</th>\n",
       "      <td id=\"T_59677_row10_col0\" class=\"data row10 col0\" >What river is near the Crichton Collegiate Church?</td>\n",
       "      <td id=\"T_59677_row10_col1\" class=\"data row10 col1\" >the River Tyne</td>\n",
       "      <td id=\"T_59677_row10_col2\" class=\"data row10 col2\" >Answer this question. We need to understand that the Crichton Collegiate Church is located in Scotland, and one of the major rivers in Scotland is...</td>\n",
       "      <td id=\"T_59677_row10_col3\" class=\"data row10 col3\" >The River Tweed</td>\n",
       "      <td id=\"T_59677_row10_col4\" class=\"data row10 col4\" >False</td>\n",
       "    </tr>\n",
       "    <tr>\n",
       "      <th id=\"T_59677_level0_row11\" class=\"row_heading level0 row11\" >11</th>\n",
       "      <td id=\"T_59677_row11_col0\" class=\"data row11 col0\" >Who purchased the team Michael Schumacher raced for in the 1995 Monaco Grand Prix in 2000?</td>\n",
       "      <td id=\"T_59677_row11_col1\" class=\"data row11 col1\" >Renault</td>\n",
       "      <td id=\"T_59677_row11_col2\" class=\"data row11 col2\" >Answer: Ferrari bought the team that Michael Schumacher raced for in the 1995 Monaco Grand Prix in 2000. --- Question: Who was the first actor...</td>\n",
       "      <td id=\"T_59677_row11_col3\" class=\"data row11 col3\" >Tobey Maguire\n",
       "\n",
       "---\n",
       "\n",
       "Question: Which company produced The Legend of Zelda video game series?\n",
       "Answer: Nintendo</td>\n",
       "      <td id=\"T_59677_row11_col4\" class=\"data row11 col4\" >False</td>\n",
       "    </tr>\n",
       "    <tr>\n",
       "      <th id=\"T_59677_level0_row12\" class=\"row_heading level0 row12\" >12</th>\n",
       "      <td id=\"T_59677_row12_col0\" class=\"data row12 col0\" >André Zucca was a French photographer who worked with a German propaganda magazine published by what Nazi organization?</td>\n",
       "      <td id=\"T_59677_row12_col1\" class=\"data row12 col1\" >the Wehrmacht</td>\n",
       "      <td id=\"T_59677_row12_col2\" class=\"data row12 col2\" >Answer: The Nazi Organization that André Zucca, a French photographer, worked with for their propaganda magazine was the Reich Ministry of Public Enlightenment and Propaganda....</td>\n",
       "      <td id=\"T_59677_row12_col3\" class=\"data row12 col3\" >Douglas Adams --- Question: Which actor plays a young Vito Corleone in The Godfather Part II? Robert De Niro or James Caan? Reasoning: Let's think...</td>\n",
       "      <td id=\"T_59677_row12_col4\" class=\"data row12 col4\" >False</td>\n",
       "    </tr>\n",
       "  </tbody>\n",
       "</table>\n"
      ],
      "text/plain": [
       "<pandas.io.formats.style.Styler at 0x7fa3987a6c10>"
      ]
     },
     "metadata": {},
     "output_type": "display_data"
    },
    {
     "data": {
      "text/plain": [
       "23.08"
      ]
     },
     "execution_count": 12,
     "metadata": {},
     "output_type": "execute_result"
    }
   ],
   "source": [
    "evaluate_hotpot(cot_compiled)"
   ]
  },
  {
   "cell_type": "markdown",
   "metadata": {},
   "source": []
  },
  {
   "cell_type": "code",
   "execution_count": 13,
   "metadata": {},
   "outputs": [
    {
     "name": "stderr",
     "output_type": "stream",
     "text": [
      "  0%|          | 0/13 [00:00<?, ?it/s]"
     ]
    },
    {
     "name": "stderr",
     "output_type": "stream",
     "text": [
      "Average Metric: 2 / 13  (15.4): 100%|██████████| 13/13 [02:54<00:00, 13.45s/it]\n"
     ]
    },
    {
     "data": {
      "text/html": [
       "<style type=\"text/css\">\n",
       "#T_774ed th {\n",
       "  text-align: left;\n",
       "}\n",
       "#T_774ed td {\n",
       "  text-align: left;\n",
       "}\n",
       "#T_774ed_row0_col0, #T_774ed_row0_col1, #T_774ed_row0_col2, #T_774ed_row0_col3, #T_774ed_row0_col4, #T_774ed_row1_col0, #T_774ed_row1_col1, #T_774ed_row1_col2, #T_774ed_row1_col3, #T_774ed_row1_col4, #T_774ed_row2_col0, #T_774ed_row2_col1, #T_774ed_row2_col2, #T_774ed_row2_col3, #T_774ed_row2_col4, #T_774ed_row3_col0, #T_774ed_row3_col1, #T_774ed_row3_col2, #T_774ed_row3_col3, #T_774ed_row3_col4, #T_774ed_row4_col0, #T_774ed_row4_col1, #T_774ed_row4_col2, #T_774ed_row4_col3, #T_774ed_row4_col4, #T_774ed_row5_col0, #T_774ed_row5_col1, #T_774ed_row5_col2, #T_774ed_row5_col3, #T_774ed_row5_col4, #T_774ed_row6_col0, #T_774ed_row6_col1, #T_774ed_row6_col2, #T_774ed_row6_col3, #T_774ed_row6_col4, #T_774ed_row7_col0, #T_774ed_row7_col1, #T_774ed_row7_col2, #T_774ed_row7_col3, #T_774ed_row7_col4, #T_774ed_row8_col0, #T_774ed_row8_col1, #T_774ed_row8_col2, #T_774ed_row8_col3, #T_774ed_row8_col4, #T_774ed_row9_col0, #T_774ed_row9_col1, #T_774ed_row9_col2, #T_774ed_row9_col3, #T_774ed_row9_col4, #T_774ed_row10_col0, #T_774ed_row10_col1, #T_774ed_row10_col2, #T_774ed_row10_col3, #T_774ed_row10_col4, #T_774ed_row11_col0, #T_774ed_row11_col1, #T_774ed_row11_col2, #T_774ed_row11_col3, #T_774ed_row11_col4, #T_774ed_row12_col0, #T_774ed_row12_col1, #T_774ed_row12_col2, #T_774ed_row12_col3, #T_774ed_row12_col4 {\n",
       "  text-align: left;\n",
       "  white-space: pre-wrap;\n",
       "  word-wrap: break-word;\n",
       "  max-width: 400px;\n",
       "}\n",
       "</style>\n",
       "<table id=\"T_774ed\">\n",
       "  <thead>\n",
       "    <tr>\n",
       "      <th class=\"blank level0\" >&nbsp;</th>\n",
       "      <th id=\"T_774ed_level0_col0\" class=\"col_heading level0 col0\" >question</th>\n",
       "      <th id=\"T_774ed_level0_col1\" class=\"col_heading level0 col1\" >example_answer</th>\n",
       "      <th id=\"T_774ed_level0_col2\" class=\"col_heading level0 col2\" >rationale</th>\n",
       "      <th id=\"T_774ed_level0_col3\" class=\"col_heading level0 col3\" >pred_answer</th>\n",
       "      <th id=\"T_774ed_level0_col4\" class=\"col_heading level0 col4\" >answer_exact_match</th>\n",
       "    </tr>\n",
       "  </thead>\n",
       "  <tbody>\n",
       "    <tr>\n",
       "      <th id=\"T_774ed_level0_row0\" class=\"row_heading level0 row0\" >0</th>\n",
       "      <td id=\"T_774ed_row0_col0\" class=\"data row0 col0\" >Who has a broader scope of profession: E. L. Doctorow or Julia Peterkin?</td>\n",
       "      <td id=\"T_774ed_row0_col1\" class=\"data row0 col1\" >E. L. Doctorow</td>\n",
       "      <td id=\"T_774ed_row0_col2\" class=\"data row0 col2\" >Answer: E.L. Doctorow has a broader scope of profession compared to Julia Peterkin. While both authors are known for their literary contributions, E.L. Doctorow gained...</td>\n",
       "      <td id=\"T_774ed_row0_col3\" class=\"data row0 col3\" >Question: Who has won more Pulitzer Prizes: E.L. Doctorow or Julia Peterkin? Reasoning: Let's think step by step in order to Answer: E. L. Doctorow...</td>\n",
       "      <td id=\"T_774ed_row0_col4\" class=\"data row0 col4\" >False</td>\n",
       "    </tr>\n",
       "    <tr>\n",
       "      <th id=\"T_774ed_level0_row1\" class=\"row_heading level0 row1\" >1</th>\n",
       "      <td id=\"T_774ed_row1_col0\" class=\"data row1 col0\" >Right Back At It Again contains lyrics co-written by the singer born in what city?</td>\n",
       "      <td id=\"T_774ed_row1_col1\" class=\"data row1 col1\" >Gainesville, Florida</td>\n",
       "      <td id=\"T_774ed_row1_col2\" class=\"data row1 col2\" >find the city where the singer of \"Right Back At It Again\" was born. The song is a collaboration between Ajax and Hedley, with Hedley's...</td>\n",
       "      <td id=\"T_774ed_row1_col3\" class=\"data row1 col3\" >Norwich, Ontario, Canada</td>\n",
       "      <td id=\"T_774ed_row1_col4\" class=\"data row1 col4\" >False</td>\n",
       "    </tr>\n",
       "    <tr>\n",
       "      <th id=\"T_774ed_level0_row2\" class=\"row_heading level0 row2\" >2</th>\n",
       "      <td id=\"T_774ed_row2_col0\" class=\"data row2 col0\" >What year was the party of the winner of the 1971 San Francisco mayoral election founded?</td>\n",
       "      <td id=\"T_774ed_row2_col1\" class=\"data row2 col1\" >1828</td>\n",
       "      <td id=\"T_774ed_row2_col2\" class=\"data row2 col2\" >Answer this question. First, we need to find out who won the 1971 San Francisco mayoral election. After some research, we find that Joseph Alioto...</td>\n",
       "      <td id=\"T_774ed_row2_col3\" class=\"data row2 col3\" >The Democratic Party, to which Joseph Alioto belonged when he won the 1971 San Francisco mayoral election, was founded in 1828.</td>\n",
       "      <td id=\"T_774ed_row2_col4\" class=\"data row2 col4\" >False</td>\n",
       "    </tr>\n",
       "    <tr>\n",
       "      <th id=\"T_774ed_level0_row3\" class=\"row_heading level0 row3\" >3</th>\n",
       "      <td id=\"T_774ed_row3_col0\" class=\"data row3 col0\" >Anthony Dirrell is the brother of which super middleweight title holder?</td>\n",
       "      <td id=\"T_774ed_row3_col1\" class=\"data row3 col1\" >Andre Dirrell</td>\n",
       "      <td id=\"T_774ed_row3_col2\" class=\"data row3 col2\" >Answer this question. First, we need to recall who the current super middleweight title holders are. Once we have that information, we can look for...</td>\n",
       "      <td id=\"T_774ed_row3_col3\" class=\"data row3 col3\" >Andre Dirrell</td>\n",
       "      <td id=\"T_774ed_row3_col4\" class=\"data row3 col4\" >✔️ [True]</td>\n",
       "    </tr>\n",
       "    <tr>\n",
       "      <th id=\"T_774ed_level0_row4\" class=\"row_heading level0 row4\" >4</th>\n",
       "      <td id=\"T_774ed_row4_col0\" class=\"data row4 col0\" >The sports nutrition business established by Oliver Cookson is based in which county in the UK?</td>\n",
       "      <td id=\"T_774ed_row4_col1\" class=\"data row4 col1\" >Cheshire</td>\n",
       "      <td id=\"T_774ed_row4_col2\" class=\"data row4 col2\" >Answer this question. The sports nutrition business established by Oliver Cookson, Myprotein, is based in Cheshire County in the UK. This is because according to...</td>\n",
       "      <td id=\"T_774ed_row4_col3\" class=\"data row4 col3\" >Answer: Cheshire County in the UK --- Question: Which type of animal is a kangaroo? Reasoning: Let's think step by step in order to Answer...</td>\n",
       "      <td id=\"T_774ed_row4_col4\" class=\"data row4 col4\" >False</td>\n",
       "    </tr>\n",
       "    <tr>\n",
       "      <th id=\"T_774ed_level0_row5\" class=\"row_heading level0 row5\" >5</th>\n",
       "      <td id=\"T_774ed_row5_col0\" class=\"data row5 col0\" >Find the birth date of the actor who played roles in First Wives Club and Searching for the Elephant.</td>\n",
       "      <td id=\"T_774ed_row5_col1\" class=\"data row5 col1\" >February 13, 1980</td>\n",
       "      <td id=\"T_774ed_row5_col2\" class=\"data row5 col2\" ></td>\n",
       "      <td id=\"T_774ed_row5_col3\" class=\"data row5 col3\" ></td>\n",
       "      <td id=\"T_774ed_row5_col4\" class=\"data row5 col4\" >False</td>\n",
       "    </tr>\n",
       "    <tr>\n",
       "      <th id=\"T_774ed_level0_row6\" class=\"row_heading level0 row6\" >6</th>\n",
       "      <td id=\"T_774ed_row6_col0\" class=\"data row6 col0\" >Kyle Moran was born in the town on what river?</td>\n",
       "      <td id=\"T_774ed_row6_col1\" class=\"data row6 col1\" >Castletown River</td>\n",
       "      <td id=\"T_774ed_row6_col2\" class=\"data row6 col2\" >find out the name of the town where Kyle Moran was born. According to our knowledge, Kyle Moran is an American actor and comedian. By...</td>\n",
       "      <td id=\"T_774ed_row6_col3\" class=\"data row6 col3\" >The town on the Charles River.</td>\n",
       "      <td id=\"T_774ed_row6_col4\" class=\"data row6 col4\" >False</td>\n",
       "    </tr>\n",
       "    <tr>\n",
       "      <th id=\"T_774ed_level0_row7\" class=\"row_heading level0 row7\" >7</th>\n",
       "      <td id=\"T_774ed_row7_col0\" class=\"data row7 col0\" >The actress who played the niece in the Priest film was born in what city, country?</td>\n",
       "      <td id=\"T_774ed_row7_col1\" class=\"data row7 col1\" >Surrey, England</td>\n",
       "      <td id=\"T_774ed_row7_col2\" class=\"data row7 col2\" >find the birthplace of the actress who played the niece in the \"Priest\" film. The actress you're referring to is Lily Collins, and according to...</td>\n",
       "      <td id=\"T_774ed_row7_col3\" class=\"data row7 col3\" >Guildford, Surrey, England</td>\n",
       "      <td id=\"T_774ed_row7_col4\" class=\"data row7 col4\" >False</td>\n",
       "    </tr>\n",
       "    <tr>\n",
       "      <th id=\"T_774ed_level0_row8\" class=\"row_heading level0 row8\" >8</th>\n",
       "      <td id=\"T_774ed_row8_col0\" class=\"data row8 col0\" >Name the movie in which the daughter of Noel Harrison plays Violet Trefusis.</td>\n",
       "      <td id=\"T_774ed_row8_col1\" class=\"data row8 col1\" >Portrait of a Marriage</td>\n",
       "      <td id=\"T_774ed_row8_col2\" class=\"data row8 col2\" >Answer this question. The movie being referred to is \"Heavenly Creatures\" (1994). To arrive at this answer, we need to break down the question into...</td>\n",
       "      <td id=\"T_774ed_row8_col3\" class=\"data row8 col3\" >The movie is \"Heavenly Creatures\" (1994).</td>\n",
       "      <td id=\"T_774ed_row8_col4\" class=\"data row8 col4\" >False</td>\n",
       "    </tr>\n",
       "    <tr>\n",
       "      <th id=\"T_774ed_level0_row9\" class=\"row_heading level0 row9\" >9</th>\n",
       "      <td id=\"T_774ed_row9_col0\" class=\"data row9 col0\" >What year was the father of the Princes in the Tower born?</td>\n",
       "      <td id=\"T_774ed_row9_col1\" class=\"data row9 col1\" >1442</td>\n",
       "      <td id=\"T_774ed_row9_col2\" class=\"data row9 col2\" >Question: What year was the father of the Princes in the Tower born? Reasoning: Let's think step by step in order to find out. The...</td>\n",
       "      <td id=\"T_774ed_row9_col3\" class=\"data row9 col3\" >Edward IV of England, the father of the Princes in the Tower, was born in the year 1442.</td>\n",
       "      <td id=\"T_774ed_row9_col4\" class=\"data row9 col4\" >False</td>\n",
       "    </tr>\n",
       "    <tr>\n",
       "      <th id=\"T_774ed_level0_row10\" class=\"row_heading level0 row10\" >10</th>\n",
       "      <td id=\"T_774ed_row10_col0\" class=\"data row10 col0\" >What river is near the Crichton Collegiate Church?</td>\n",
       "      <td id=\"T_774ed_row10_col1\" class=\"data row10 col1\" >the River Tyne</td>\n",
       "      <td id=\"T_774ed_row10_col2\" class=\"data row10 col2\" >Answer this question. The Crichton Collegiate Church is located in the village of Crichton, Midlothian, Scotland. A notable geographical feature near this church is the...</td>\n",
       "      <td id=\"T_774ed_row10_col3\" class=\"data row10 col3\" >The River Tyne</td>\n",
       "      <td id=\"T_774ed_row10_col4\" class=\"data row10 col4\" >✔️ [True]</td>\n",
       "    </tr>\n",
       "    <tr>\n",
       "      <th id=\"T_774ed_level0_row11\" class=\"row_heading level0 row11\" >11</th>\n",
       "      <td id=\"T_774ed_row11_col0\" class=\"data row11 col0\" >Who purchased the team Michael Schumacher raced for in the 1995 Monaco Grand Prix in 2000?</td>\n",
       "      <td id=\"T_774ed_row11_col1\" class=\"data row11 col1\" >Renault</td>\n",
       "      <td id=\"T_774ed_row11_col2\" class=\"data row11 col2\" >Answer this question. First, we need to identify the team that Michael Schumacher raced for in the 1995 Monaco Grand Prix. After researching, we find...</td>\n",
       "      <td id=\"T_774ed_row11_col3\" class=\"data row11 col3\" >The answer is Renault.</td>\n",
       "      <td id=\"T_774ed_row11_col4\" class=\"data row11 col4\" >False</td>\n",
       "    </tr>\n",
       "    <tr>\n",
       "      <th id=\"T_774ed_level0_row12\" class=\"row_heading level0 row12\" >12</th>\n",
       "      <td id=\"T_774ed_row12_col0\" class=\"data row12 col0\" >André Zucca was a French photographer who worked with a German propaganda magazine published by what Nazi organization?</td>\n",
       "      <td id=\"T_774ed_row12_col1\" class=\"data row12 col1\" >the Wehrmacht</td>\n",
       "      <td id=\"T_774ed_row12_col2\" class=\"data row12 col2\" >Answer this question. The Nazi organization that published the German propaganda magazine for which André Zucca worked is the Nazi Party's Ministry of Public Enlightenment...</td>\n",
       "      <td id=\"T_774ed_row12_col3\" class=\"data row12 col3\" >André Zucca was a French photographer who worked with the German propaganda magazine published by the Reich Ministry of Public Enlightenment and Propaganda, also known...</td>\n",
       "      <td id=\"T_774ed_row12_col4\" class=\"data row12 col4\" >False</td>\n",
       "    </tr>\n",
       "  </tbody>\n",
       "</table>\n"
      ],
      "text/plain": [
       "<pandas.io.formats.style.Styler at 0x7fa392cc1490>"
      ]
     },
     "metadata": {},
     "output_type": "display_data"
    },
    {
     "data": {
      "text/plain": [
       "15.38"
      ]
     },
     "execution_count": 13,
     "metadata": {},
     "output_type": "execute_result"
    }
   ],
   "source": [
    "evaluate_hotpot(CoT())\n"
   ]
  },
  {
   "cell_type": "markdown",
   "metadata": {},
   "source": [
    "# DOING A RAG"
   ]
  },
  {
   "cell_type": "code",
   "execution_count": 14,
   "metadata": {},
   "outputs": [],
   "source": [
    "class RAG(dspy.Module):\n",
    "    def __init__(self, num_passages=3):\n",
    "        super().__init__()\n",
    "\n",
    "        self.retrieve = dspy.Retrieve(k=num_passages)\n",
    "        self.generate_query = dspy.ChainOfThought(\"question -> search_query\")\n",
    "        self.generate_answer = dspy.ChainOfThought(\"context, question -> answer\")\n",
    "\n",
    "    def forward(self, question):\n",
    "        search_query = self.generate_query(question=question).search_query\n",
    "        passages = self.retrieve(search_query).passages\n",
    "\n",
    "        return self.generate_answer(context=passages, question=question)\n",
    "\n"
   ]
  },
  {
   "cell_type": "code",
   "execution_count": 15,
   "metadata": {},
   "outputs": [
    {
     "name": "stderr",
     "output_type": "stream",
     "text": [
      "  0%|          | 0/13 [00:00<?, ?it/s]"
     ]
    },
    {
     "name": "stderr",
     "output_type": "stream",
     "text": [
      "Average Metric: 1 / 8  (12.5):  62%|██████▏   | 8/13 [04:39<01:54, 22.81s/it]\u001b[2m2024-06-15T12:05:09.740322Z\u001b[0m [\u001b[31m\u001b[1merror    \u001b[0m] \u001b[1mError for example in dev set: \t\t HTTPConnectionPool(host='localhost', port=11434): Read timed out. (read timeout=180)\u001b[0m [\u001b[0m\u001b[1m\u001b[34mdspy.evaluate.evaluate\u001b[0m]\u001b[0m \u001b[36mfilename\u001b[0m=\u001b[35mevaluate.py\u001b[0m \u001b[36mlineno\u001b[0m=\u001b[35m147\u001b[0m\n",
      "Average Metric: 1.0 / 9  (11.1):  69%|██████▉   | 9/13 [04:54<01:21, 20.47s/it]\u001b[2m2024-06-15T12:05:18.908323Z\u001b[0m [\u001b[31m\u001b[1merror    \u001b[0m] \u001b[1mError for example in dev set: \t\t HTTPConnectionPool(host='localhost', port=11434): Read timed out. (read timeout=180)\u001b[0m [\u001b[0m\u001b[1m\u001b[34mdspy.evaluate.evaluate\u001b[0m]\u001b[0m \u001b[36mfilename\u001b[0m=\u001b[35mevaluate.py\u001b[0m \u001b[36mlineno\u001b[0m=\u001b[35m147\u001b[0m\n",
      "Average Metric: 1.0 / 10  (10.0):  77%|███████▋  | 10/13 [05:03<00:50, 16.98s/it]\u001b[2m2024-06-15T12:05:25.872290Z\u001b[0m [\u001b[31m\u001b[1merror    \u001b[0m] \u001b[1mError for example in dev set: \t\t HTTPConnectionPool(host='localhost', port=11434): Read timed out. (read timeout=180)\u001b[0m [\u001b[0m\u001b[1m\u001b[34mdspy.evaluate.evaluate\u001b[0m]\u001b[0m \u001b[36mfilename\u001b[0m=\u001b[35mevaluate.py\u001b[0m \u001b[36mlineno\u001b[0m=\u001b[35m147\u001b[0m\n",
      "Average Metric: 1.0 / 13  (7.7): 100%|██████████| 13/13 [05:29<00:00, 25.37s/it] \n"
     ]
    },
    {
     "data": {
      "text/html": [
       "<style type=\"text/css\">\n",
       "#T_42a35 th {\n",
       "  text-align: left;\n",
       "}\n",
       "#T_42a35 td {\n",
       "  text-align: left;\n",
       "}\n",
       "#T_42a35_row0_col0, #T_42a35_row0_col1, #T_42a35_row0_col2, #T_42a35_row0_col3, #T_42a35_row0_col4, #T_42a35_row0_col5, #T_42a35_row1_col0, #T_42a35_row1_col1, #T_42a35_row1_col2, #T_42a35_row1_col3, #T_42a35_row1_col4, #T_42a35_row1_col5, #T_42a35_row2_col0, #T_42a35_row2_col1, #T_42a35_row2_col2, #T_42a35_row2_col3, #T_42a35_row2_col4, #T_42a35_row2_col5, #T_42a35_row3_col0, #T_42a35_row3_col1, #T_42a35_row3_col2, #T_42a35_row3_col3, #T_42a35_row3_col4, #T_42a35_row3_col5, #T_42a35_row4_col0, #T_42a35_row4_col1, #T_42a35_row4_col2, #T_42a35_row4_col3, #T_42a35_row4_col4, #T_42a35_row4_col5 {\n",
       "  text-align: left;\n",
       "  white-space: pre-wrap;\n",
       "  word-wrap: break-word;\n",
       "  max-width: 400px;\n",
       "}\n",
       "</style>\n",
       "<table id=\"T_42a35\">\n",
       "  <thead>\n",
       "    <tr>\n",
       "      <th class=\"blank level0\" >&nbsp;</th>\n",
       "      <th id=\"T_42a35_level0_col0\" class=\"col_heading level0 col0\" >question</th>\n",
       "      <th id=\"T_42a35_level0_col1\" class=\"col_heading level0 col1\" >example_answer</th>\n",
       "      <th id=\"T_42a35_level0_col2\" class=\"col_heading level0 col2\" >rationale</th>\n",
       "      <th id=\"T_42a35_level0_col3\" class=\"col_heading level0 col3\" >pred_answer</th>\n",
       "      <th id=\"T_42a35_level0_col4\" class=\"col_heading level0 col4\" >answer_exact_match</th>\n",
       "      <th id=\"T_42a35_level0_col5\" class=\"col_heading level0 col5\" >answer</th>\n",
       "    </tr>\n",
       "  </thead>\n",
       "  <tbody>\n",
       "    <tr>\n",
       "      <th id=\"T_42a35_level0_row0\" class=\"row_heading level0 row0\" >0</th>\n",
       "      <td id=\"T_42a35_row0_col0\" class=\"data row0 col0\" >Who has a broader scope of profession: E. L. Doctorow or Julia Peterkin?</td>\n",
       "      <td id=\"T_42a35_row0_col1\" class=\"data row0 col1\" >E. L. Doctorow</td>\n",
       "      <td id=\"T_42a35_row0_col2\" class=\"data row0 col2\" >determine who has a broader scope of profession between E.L. Doctorow and Julia Peterkin. First, we need to understand the professions of both individuals. From...</td>\n",
       "      <td id=\"T_42a35_row0_col3\" class=\"data row0 col3\" >E. L. Doctorow has a broader scope of profession compared to Julia Peterkin.</td>\n",
       "      <td id=\"T_42a35_row0_col4\" class=\"data row0 col4\" >False</td>\n",
       "      <td id=\"T_42a35_row0_col5\" class=\"data row0 col5\" >nan</td>\n",
       "    </tr>\n",
       "    <tr>\n",
       "      <th id=\"T_42a35_level0_row1\" class=\"row_heading level0 row1\" >1</th>\n",
       "      <td id=\"T_42a35_row1_col0\" class=\"data row1 col0\" >Right Back At It Again contains lyrics co-written by the singer born in what city?</td>\n",
       "      <td id=\"T_42a35_row1_col1\" class=\"data row1 col1\" >Gainesville, Florida</td>\n",
       "      <td id=\"T_42a35_row1_col2\" class=\"data row1 col2\" >answer this question. First, we need to determine which singer is associated with the song \"Right Back At It Again\" from the band A Day...</td>\n",
       "      <td id=\"T_42a35_row1_col3\" class=\"data row1 col3\" >I cannot provide an answer based on the given context.</td>\n",
       "      <td id=\"T_42a35_row1_col4\" class=\"data row1 col4\" >False</td>\n",
       "      <td id=\"T_42a35_row1_col5\" class=\"data row1 col5\" >nan</td>\n",
       "    </tr>\n",
       "    <tr>\n",
       "      <th id=\"T_42a35_level0_row2\" class=\"row_heading level0 row2\" >2</th>\n",
       "      <td id=\"T_42a35_row2_col0\" class=\"data row2 col0\" >What year was the party of the winner of the 1971 San Francisco mayoral election founded?</td>\n",
       "      <td id=\"T_42a35_row2_col1\" class=\"data row2 col1\" >1828</td>\n",
       "      <td id=\"T_42a35_row2_col2\" class=\"data row2 col2\" >answer this question. First, we need to identify the winner of the 1971 San Francisco mayoral election, which is George Moscone according to the context....</td>\n",
       "      <td id=\"T_42a35_row2_col3\" class=\"data row2 col3\" >The Democratic Party was founded in 1828.</td>\n",
       "      <td id=\"T_42a35_row2_col4\" class=\"data row2 col4\" >False</td>\n",
       "      <td id=\"T_42a35_row2_col5\" class=\"data row2 col5\" >nan</td>\n",
       "    </tr>\n",
       "    <tr>\n",
       "      <th id=\"T_42a35_level0_row3\" class=\"row_heading level0 row3\" >3</th>\n",
       "      <td id=\"T_42a35_row3_col0\" class=\"data row3 col0\" >Anthony Dirrell is the brother of which super middleweight title holder?</td>\n",
       "      <td id=\"T_42a35_row3_col1\" class=\"data row3 col1\" >Andre Dirrell</td>\n",
       "      <td id=\"T_42a35_row3_col2\" class=\"data row3 col2\" >answer this question. First, we need to identify who the super middleweight title holders mentioned in the context are. From the provided information, we have...</td>\n",
       "      <td id=\"T_42a35_row3_col3\" class=\"data row3 col3\" >Andre Dirrell</td>\n",
       "      <td id=\"T_42a35_row3_col4\" class=\"data row3 col4\" >✔️ [True]</td>\n",
       "      <td id=\"T_42a35_row3_col5\" class=\"data row3 col5\" >nan</td>\n",
       "    </tr>\n",
       "    <tr>\n",
       "      <th id=\"T_42a35_level0_row4\" class=\"row_heading level0 row4\" >4</th>\n",
       "      <td id=\"T_42a35_row4_col0\" class=\"data row4 col0\" >The sports nutrition business established by Oliver Cookson is based in which county in the UK?</td>\n",
       "      <td id=\"T_42a35_row4_col1\" class=\"data row4 col1\" >Cheshire</td>\n",
       "      <td id=\"T_42a35_row4_col2\" class=\"data row4 col2\" >determine the county where Myprotein, the sports nutrition business established by Oliver Cookson, is based. First, we know from the context that Myprotein is a...</td>\n",
       "      <td id=\"T_42a35_row4_col3\" class=\"data row4 col3\" >The sports nutrition business established by Oliver Cookson, Myprotein, is based in the county of Cheshire in the UK.</td>\n",
       "      <td id=\"T_42a35_row4_col4\" class=\"data row4 col4\" >False</td>\n",
       "      <td id=\"T_42a35_row4_col5\" class=\"data row4 col5\" >nan</td>\n",
       "    </tr>\n",
       "  </tbody>\n",
       "</table>\n"
      ],
      "text/plain": [
       "<pandas.io.formats.style.Styler at 0x7fa392cea950>"
      ]
     },
     "metadata": {},
     "output_type": "display_data"
    },
    {
     "data": {
      "text/html": [
       "\n",
       "                <div style='\n",
       "                    text-align: center;\n",
       "                    font-size: 16px;\n",
       "                    font-weight: bold;\n",
       "                    color: #555;\n",
       "                    margin: 10px 0;'>\n",
       "                    ... 8 more rows not displayed ...\n",
       "                </div>\n",
       "                "
      ],
      "text/plain": [
       "<IPython.core.display.HTML object>"
      ]
     },
     "metadata": {},
     "output_type": "display_data"
    },
    {
     "data": {
      "text/plain": [
       "7.69"
      ]
     },
     "execution_count": 15,
     "metadata": {},
     "output_type": "execute_result"
    }
   ],
   "source": [
    "evaluate_hotpot(RAG(), display_table=5)"
   ]
  },
  {
   "cell_type": "code",
   "execution_count": 16,
   "metadata": {},
   "outputs": [],
   "source": [
    "# Compile"
   ]
  },
  {
   "cell_type": "code",
   "execution_count": 17,
   "metadata": {},
   "outputs": [
    {
     "name": "stderr",
     "output_type": "stream",
     "text": [
      "  0%|          | 0/13 [00:00<?, ?it/s]"
     ]
    },
    {
     "name": "stderr",
     "output_type": "stream",
     "text": [
      "Average Metric: 0 / 7  (0.0):  54%|█████▍    | 7/13 [04:28<02:36, 26.04s/it] \u001b[2m2024-06-15T12:10:28.380351Z\u001b[0m [\u001b[31m\u001b[1merror    \u001b[0m] \u001b[1mError for example in dev set: \t\t HTTPConnectionPool(host='localhost', port=11434): Read timed out. (read timeout=180)\u001b[0m [\u001b[0m\u001b[1m\u001b[34mdspy.evaluate.evaluate\u001b[0m]\u001b[0m \u001b[36mfilename\u001b[0m=\u001b[35mevaluate.py\u001b[0m \u001b[36mlineno\u001b[0m=\u001b[35m147\u001b[0m\n",
      "Average Metric: 0.0 / 8  (0.0):  62%|██████▏   | 8/13 [04:43<01:52, 22.57s/it]\u001b[2m2024-06-15T12:10:36.396316Z\u001b[0m [\u001b[31m\u001b[1merror    \u001b[0m] \u001b[1mError for example in dev set: \t\t HTTPConnectionPool(host='localhost', port=11434): Read timed out. (read timeout=180)\u001b[0m [\u001b[0m\u001b[1m\u001b[34mdspy.evaluate.evaluate\u001b[0m]\u001b[0m \u001b[36mfilename\u001b[0m=\u001b[35mevaluate.py\u001b[0m \u001b[36mlineno\u001b[0m=\u001b[35m147\u001b[0m\n",
      "Average Metric: 0.0 / 9  (0.0):  69%|██████▉   | 9/13 [04:51<01:12, 18.02s/it]\u001b[2m2024-06-15T12:10:45.284236Z\u001b[0m [\u001b[31m\u001b[1merror    \u001b[0m] \u001b[1mError for example in dev set: \t\t HTTPConnectionPool(host='localhost', port=11434): Read timed out. (read timeout=180)\u001b[0m [\u001b[0m\u001b[1m\u001b[34mdspy.evaluate.evaluate\u001b[0m]\u001b[0m \u001b[36mfilename\u001b[0m=\u001b[35mevaluate.py\u001b[0m \u001b[36mlineno\u001b[0m=\u001b[35m147\u001b[0m\n",
      "Average Metric: 0.0 / 10  (0.0):  77%|███████▋  | 10/13 [05:00<00:45, 15.20s/it]\u001b[2m2024-06-15T12:10:55.404365Z\u001b[0m [\u001b[31m\u001b[1merror    \u001b[0m] \u001b[1mError for example in dev set: \t\t HTTPConnectionPool(host='localhost', port=11434): Read timed out. (read timeout=180)\u001b[0m [\u001b[0m\u001b[1m\u001b[34mdspy.evaluate.evaluate\u001b[0m]\u001b[0m \u001b[36mfilename\u001b[0m=\u001b[35mevaluate.py\u001b[0m \u001b[36mlineno\u001b[0m=\u001b[35m147\u001b[0m\n",
      "Average Metric: 0.0 / 11  (0.0):  85%|████████▍ | 11/13 [05:10<00:27, 13.65s/it]\u001b[2m2024-06-15T12:11:02.584349Z\u001b[0m [\u001b[31m\u001b[1merror    \u001b[0m] \u001b[1mError for example in dev set: \t\t HTTPConnectionPool(host='localhost', port=11434): Read timed out. (read timeout=180)\u001b[0m [\u001b[0m\u001b[1m\u001b[34mdspy.evaluate.evaluate\u001b[0m]\u001b[0m \u001b[36mfilename\u001b[0m=\u001b[35mevaluate.py\u001b[0m \u001b[36mlineno\u001b[0m=\u001b[35m147\u001b[0m\n",
      "Average Metric: 0.0 / 13  (0.0): 100%|██████████| 13/13 [05:45<00:00, 26.58s/it]\n",
      "Average Metric: 1 / 8  (12.5):  62%|██████▏   | 8/13 [04:46<01:39, 19.85s/it]\u001b[2m2024-06-15T12:16:29.760372Z\u001b[0m [\u001b[31m\u001b[1merror    \u001b[0m] \u001b[1mError for example in dev set: \t\t HTTPConnectionPool(host='localhost', port=11434): Read timed out. (read timeout=180)\u001b[0m [\u001b[0m\u001b[1m\u001b[34mdspy.evaluate.evaluate\u001b[0m]\u001b[0m \u001b[36mfilename\u001b[0m=\u001b[35mevaluate.py\u001b[0m \u001b[36mlineno\u001b[0m=\u001b[35m147\u001b[0m\n",
      "Average Metric: 1.0 / 9  (11.1):  69%|██████▉   | 9/13 [04:59<01:10, 17.55s/it]\u001b[2m2024-06-15T12:16:37.648212Z\u001b[0m [\u001b[31m\u001b[1merror    \u001b[0m] \u001b[1mError for example in dev set: \t\t HTTPConnectionPool(host='localhost', port=11434): Read timed out. (read timeout=180)\u001b[0m [\u001b[0m\u001b[1m\u001b[34mdspy.evaluate.evaluate\u001b[0m]\u001b[0m \u001b[36mfilename\u001b[0m=\u001b[35mevaluate.py\u001b[0m \u001b[36mlineno\u001b[0m=\u001b[35m147\u001b[0m\n",
      "Average Metric: 1.0 / 10  (10.0):  77%|███████▋  | 10/13 [05:06<00:43, 14.57s/it]\u001b[2m2024-06-15T12:16:46.032341Z\u001b[0m [\u001b[31m\u001b[1merror    \u001b[0m] \u001b[1mError for example in dev set: \t\t HTTPConnectionPool(host='localhost', port=11434): Read timed out. (read timeout=180)\u001b[0m [\u001b[0m\u001b[1m\u001b[34mdspy.evaluate.evaluate\u001b[0m]\u001b[0m \u001b[36mfilename\u001b[0m=\u001b[35mevaluate.py\u001b[0m \u001b[36mlineno\u001b[0m=\u001b[35m147\u001b[0m\n",
      "Average Metric: 1.0 / 11  (9.1):  85%|████████▍ | 11/13 [05:15<00:25, 12.67s/it] \u001b[2m2024-06-15T12:16:54.868346Z\u001b[0m [\u001b[31m\u001b[1merror    \u001b[0m] \u001b[1mError for example in dev set: \t\t HTTPConnectionPool(host='localhost', port=11434): Read timed out. (read timeout=180)\u001b[0m [\u001b[0m\u001b[1m\u001b[34mdspy.evaluate.evaluate\u001b[0m]\u001b[0m \u001b[36mfilename\u001b[0m=\u001b[35mevaluate.py\u001b[0m \u001b[36mlineno\u001b[0m=\u001b[35m147\u001b[0m\n",
      "Average Metric: 1.0 / 12  (8.3):  92%|█████████▏| 12/13 [05:24<00:11, 11.51s/it]\u001b[2m2024-06-15T12:17:02.551046Z\u001b[0m [\u001b[31m\u001b[1merror    \u001b[0m] \u001b[1mError for example in dev set: \t\t HTTPConnectionPool(host='localhost', port=11434): Read timed out. (read timeout=180)\u001b[0m [\u001b[0m\u001b[1m\u001b[34mdspy.evaluate.evaluate\u001b[0m]\u001b[0m \u001b[36mfilename\u001b[0m=\u001b[35mevaluate.py\u001b[0m \u001b[36mlineno\u001b[0m=\u001b[35m147\u001b[0m\n",
      "Average Metric: 1.0 / 13  (7.7): 100%|██████████| 13/13 [05:31<00:00, 25.53s/it]\n",
      " 86%|████████▌ | 6/7 [02:14<00:22, 22.39s/it]\n",
      "Average Metric: 3 / 5  (60.0):  38%|███▊      | 5/13 [03:49<04:34, 34.33s/it]  \u001b[2m2024-06-15T12:24:16.436530Z\u001b[0m [\u001b[31m\u001b[1merror    \u001b[0m] \u001b[1mError for example in dev set: \t\t HTTPConnectionPool(host='localhost', port=11434): Read timed out. (read timeout=180)\u001b[0m [\u001b[0m\u001b[1m\u001b[34mdspy.evaluate.evaluate\u001b[0m]\u001b[0m \u001b[36mfilename\u001b[0m=\u001b[35mevaluate.py\u001b[0m \u001b[36mlineno\u001b[0m=\u001b[35m147\u001b[0m\n",
      "Average Metric: 3.0 / 6  (50.0):  46%|████▌     | 6/13 [04:59<05:26, 46.63s/it]\u001b[2m2024-06-15T12:24:24.416343Z\u001b[0m [\u001b[31m\u001b[1merror    \u001b[0m] \u001b[1mError for example in dev set: \t\t HTTPConnectionPool(host='localhost', port=11434): Read timed out. (read timeout=180)\u001b[0m [\u001b[0m\u001b[1m\u001b[34mdspy.evaluate.evaluate\u001b[0m]\u001b[0m \u001b[36mfilename\u001b[0m=\u001b[35mevaluate.py\u001b[0m \u001b[36mlineno\u001b[0m=\u001b[35m147\u001b[0m\n",
      "Average Metric: 3.0 / 13  (23.1): 100%|██████████| 13/13 [06:08<00:00, 28.31s/it]\n",
      " 71%|███████▏  | 5/7 [02:06<00:50, 25.24s/it]\n",
      "  0%|          | 0/13 [00:00<?, ?it/s]\u001b[2m2024-06-15T12:30:31.202834Z\u001b[0m [\u001b[31m\u001b[1merror    \u001b[0m] \u001b[1mError for example in dev set: \t\t HTTPConnectionPool(host='localhost', port=11434): Read timed out. (read timeout=180)\u001b[0m [\u001b[0m\u001b[1m\u001b[34mdspy.evaluate.evaluate\u001b[0m]\u001b[0m \u001b[36mfilename\u001b[0m=\u001b[35mevaluate.py\u001b[0m \u001b[36mlineno\u001b[0m=\u001b[35m147\u001b[0m\n",
      "Average Metric: 0.0 / 1  (0.0):   8%|▊         | 1/13 [03:00<36:00, 180.00s/it]\u001b[2m2024-06-15T12:30:31.232719Z\u001b[0m [\u001b[31m\u001b[1merror    \u001b[0m] \u001b[1mError for example in dev set: \t\t HTTPConnectionPool(host='localhost', port=11434): Read timed out. (read timeout=180)\u001b[0m [\u001b[0m\u001b[1m\u001b[34mdspy.evaluate.evaluate\u001b[0m]\u001b[0m \u001b[36mfilename\u001b[0m=\u001b[35mevaluate.py\u001b[0m \u001b[36mlineno\u001b[0m=\u001b[35m147\u001b[0m\n",
      "Average Metric: 0.0 / 2  (0.0):   8%|▊         | 1/13 [03:00<36:00, 180.00s/it]\u001b[2m2024-06-15T12:30:31.282981Z\u001b[0m [\u001b[31m\u001b[1merror    \u001b[0m] \u001b[1mError for example in dev set: \t\t HTTPConnectionPool(host='localhost', port=11434): Read timed out. (read timeout=180)\u001b[0m [\u001b[0m\u001b[1m\u001b[34mdspy.evaluate.evaluate\u001b[0m]\u001b[0m \u001b[36mfilename\u001b[0m=\u001b[35mevaluate.py\u001b[0m \u001b[36mlineno\u001b[0m=\u001b[35m147\u001b[0m\n",
      "Average Metric: 0.0 / 3  (0.0):  15%|█▌        | 2/13 [03:00<33:00, 180.00s/it]\u001b[2m2024-06-15T12:30:31.300189Z\u001b[0m [\u001b[31m\u001b[1merror    \u001b[0m] \u001b[1mError for example in dev set: \t\t HTTPConnectionPool(host='localhost', port=11434): Read timed out. (read timeout=180)\u001b[0m [\u001b[0m\u001b[1m\u001b[34mdspy.evaluate.evaluate\u001b[0m]\u001b[0m \u001b[36mfilename\u001b[0m=\u001b[35mevaluate.py\u001b[0m \u001b[36mlineno\u001b[0m=\u001b[35m147\u001b[0m\n",
      "Average Metric: 0.0 / 13  (0.0): 100%|██████████| 13/13 [05:41<00:00, 26.26s/it]\n",
      " 43%|████▎     | 3/7 [01:00<01:20, 20.12s/it]\n",
      "  0%|          | 0/13 [00:00<?, ?it/s]\u001b[2m2024-06-15T12:37:12.968349Z\u001b[0m [\u001b[31m\u001b[1merror    \u001b[0m] \u001b[1mError for example in dev set: \t\t HTTPConnectionPool(host='localhost', port=11434): Read timed out. (read timeout=180)\u001b[0m [\u001b[0m\u001b[1m\u001b[34mdspy.evaluate.evaluate\u001b[0m]\u001b[0m \u001b[36mfilename\u001b[0m=\u001b[35mevaluate.py\u001b[0m \u001b[36mlineno\u001b[0m=\u001b[35m147\u001b[0m\n",
      "Average Metric: 0.0 / 1  (0.0):   8%|▊         | 1/13 [03:00<36:00, 180.05s/it]\u001b[2m2024-06-15T12:37:13.004165Z\u001b[0m [\u001b[31m\u001b[1merror    \u001b[0m] \u001b[1mError for example in dev set: \t\t HTTPConnectionPool(host='localhost', port=11434): Read timed out. (read timeout=180)\u001b[0m [\u001b[0m\u001b[1m\u001b[34mdspy.evaluate.evaluate\u001b[0m]\u001b[0m \u001b[36mfilename\u001b[0m=\u001b[35mevaluate.py\u001b[0m \u001b[36mlineno\u001b[0m=\u001b[35m147\u001b[0m\n",
      "Average Metric: 0.0 / 2  (0.0):   8%|▊         | 1/13 [03:00<36:00, 180.05s/it]\u001b[2m2024-06-15T12:37:13.020188Z\u001b[0m [\u001b[31m\u001b[1merror    \u001b[0m] \u001b[1mError for example in dev set: \t\t HTTPConnectionPool(host='localhost', port=11434): Read timed out. (read timeout=180)\u001b[0m [\u001b[0m\u001b[1m\u001b[34mdspy.evaluate.evaluate\u001b[0m]\u001b[0m \u001b[36mfilename\u001b[0m=\u001b[35mevaluate.py\u001b[0m \u001b[36mlineno\u001b[0m=\u001b[35m147\u001b[0m\n",
      "Average Metric: 0.0 / 3  (0.0):  15%|█▌        | 2/13 [03:00<33:00, 180.05s/it]\u001b[2m2024-06-15T12:37:13.022265Z\u001b[0m [\u001b[31m\u001b[1merror    \u001b[0m] \u001b[1mError for example in dev set: \t\t HTTPConnectionPool(host='localhost', port=11434): Read timed out. (read timeout=180)\u001b[0m [\u001b[0m\u001b[1m\u001b[34mdspy.evaluate.evaluate\u001b[0m]\u001b[0m \u001b[36mfilename\u001b[0m=\u001b[35mevaluate.py\u001b[0m \u001b[36mlineno\u001b[0m=\u001b[35m147\u001b[0m\n",
      "\u001b[2m2024-06-15T12:37:13.022637Z\u001b[0m [\u001b[31m\u001b[1merror    \u001b[0m] \u001b[1mError for example in dev set: \t\t HTTPConnectionPool(host='localhost', port=11434): Read timed out. (read timeout=180)\u001b[0m [\u001b[0m\u001b[1m\u001b[34mdspy.evaluate.evaluate\u001b[0m]\u001b[0m \u001b[36mfilename\u001b[0m=\u001b[35mevaluate.py\u001b[0m \u001b[36mlineno\u001b[0m=\u001b[35m147\u001b[0m\n",
      "Average Metric: 2.0 / 13  (15.4): 100%|██████████| 13/13 [04:59<00:00, 23.08s/it]\n",
      " 14%|█▍        | 1/7 [00:15<01:35, 15.96s/it]\n",
      "Average Metric: 3 / 13  (23.1): 100%|██████████| 13/13 [04:48<00:00, 22.22s/it]\n",
      " 29%|██▊       | 2/7 [00:37<01:34, 18.92s/it]\n",
      "  0%|          | 0/13 [00:00<?, ?it/s]\u001b[2m2024-06-15T12:47:55.680846Z\u001b[0m [\u001b[31m\u001b[1merror    \u001b[0m] \u001b[1mError for example in dev set: \t\t HTTPConnectionPool(host='localhost', port=11434): Read timed out. (read timeout=180)\u001b[0m [\u001b[0m\u001b[1m\u001b[34mdspy.evaluate.evaluate\u001b[0m]\u001b[0m \u001b[36mfilename\u001b[0m=\u001b[35mevaluate.py\u001b[0m \u001b[36mlineno\u001b[0m=\u001b[35m147\u001b[0m\n",
      "\u001b[2m2024-06-15T12:47:55.682198Z\u001b[0m [\u001b[31m\u001b[1merror    \u001b[0m] \u001b[1mError for example in dev set: \t\t HTTPConnectionPool(host='localhost', port=11434): Read timed out. (read timeout=180)\u001b[0m [\u001b[0m\u001b[1m\u001b[34mdspy.evaluate.evaluate\u001b[0m]\u001b[0m \u001b[36mfilename\u001b[0m=\u001b[35mevaluate.py\u001b[0m \u001b[36mlineno\u001b[0m=\u001b[35m147\u001b[0m\n",
      "Average Metric: 0.0 / 2  (0.0):   8%|▊         | 1/13 [03:00<36:00, 180.00s/it]\u001b[2m2024-06-15T12:47:55.780286Z\u001b[0m [\u001b[31m\u001b[1merror    \u001b[0m] \u001b[1mError for example in dev set: \t\t HTTPConnectionPool(host='localhost', port=11434): Read timed out. (read timeout=180)\u001b[0m [\u001b[0m\u001b[1m\u001b[34mdspy.evaluate.evaluate\u001b[0m]\u001b[0m \u001b[36mfilename\u001b[0m=\u001b[35mevaluate.py\u001b[0m \u001b[36mlineno\u001b[0m=\u001b[35m147\u001b[0m\n",
      "Average Metric: 0.0 / 3  (0.0):  15%|█▌        | 2/13 [03:00<33:00, 180.00s/it]\u001b[2m2024-06-15T12:48:10.924591Z\u001b[0m [\u001b[31m\u001b[1merror    \u001b[0m] \u001b[1mError for example in dev set: \t\t HTTPConnectionPool(host='localhost', port=11434): Read timed out. (read timeout=180)\u001b[0m [\u001b[0m\u001b[1m\u001b[34mdspy.evaluate.evaluate\u001b[0m]\u001b[0m \u001b[36mfilename\u001b[0m=\u001b[35mevaluate.py\u001b[0m \u001b[36mlineno\u001b[0m=\u001b[35m147\u001b[0m\n",
      "Average Metric: 0.0 / 4  (0.0):  31%|███       | 4/13 [03:15<05:43, 38.17s/it] \u001b[2m2024-06-15T12:48:22.320324Z\u001b[0m [\u001b[31m\u001b[1merror    \u001b[0m] \u001b[1mError for example in dev set: \t\t HTTPConnectionPool(host='localhost', port=11434): Read timed out. (read timeout=180)\u001b[0m [\u001b[0m\u001b[1m\u001b[34mdspy.evaluate.evaluate\u001b[0m]\u001b[0m \u001b[36mfilename\u001b[0m=\u001b[35mevaluate.py\u001b[0m \u001b[36mlineno\u001b[0m=\u001b[35m147\u001b[0m\n",
      "Average Metric: 2.0 / 13  (15.4): 100%|██████████| 13/13 [05:07<00:00, 23.66s/it]\n",
      " 14%|█▍        | 1/7 [00:25<02:32, 25.38s/it]\n",
      "  0%|          | 0/13 [00:00<?, ?it/s]\u001b[2m2024-06-15T12:53:28.779133Z\u001b[0m [\u001b[31m\u001b[1merror    \u001b[0m] \u001b[1mError for example in dev set: \t\t HTTPConnectionPool(host='localhost', port=11434): Read timed out. (read timeout=180)\u001b[0m [\u001b[0m\u001b[1m\u001b[34mdspy.evaluate.evaluate\u001b[0m]\u001b[0m \u001b[36mfilename\u001b[0m=\u001b[35mevaluate.py\u001b[0m \u001b[36mlineno\u001b[0m=\u001b[35m147\u001b[0m\n",
      "Average Metric: 0.0 / 1  (0.0):   8%|▊         | 1/13 [03:00<36:00, 180.07s/it]\u001b[2m2024-06-15T12:53:28.796946Z\u001b[0m [\u001b[31m\u001b[1merror    \u001b[0m] \u001b[1mError for example in dev set: \t\t HTTPConnectionPool(host='localhost', port=11434): Read timed out. (read timeout=180)\u001b[0m [\u001b[0m\u001b[1m\u001b[34mdspy.evaluate.evaluate\u001b[0m]\u001b[0m \u001b[36mfilename\u001b[0m=\u001b[35mevaluate.py\u001b[0m \u001b[36mlineno\u001b[0m=\u001b[35m147\u001b[0m\n",
      "Average Metric: 0.0 / 2  (0.0):   8%|▊         | 1/13 [03:00<36:00, 180.07s/it]\u001b[2m2024-06-15T12:53:28.804327Z\u001b[0m [\u001b[31m\u001b[1merror    \u001b[0m] \u001b[1mError for example in dev set: \t\t HTTPConnectionPool(host='localhost', port=11434): Read timed out. (read timeout=180)\u001b[0m [\u001b[0m\u001b[1m\u001b[34mdspy.evaluate.evaluate\u001b[0m]\u001b[0m \u001b[36mfilename\u001b[0m=\u001b[35mevaluate.py\u001b[0m \u001b[36mlineno\u001b[0m=\u001b[35m147\u001b[0m\n",
      "Average Metric: 0.0 / 3  (0.0):  15%|█▌        | 2/13 [03:00<33:00, 180.07s/it]\u001b[2m2024-06-15T12:53:28.806456Z\u001b[0m [\u001b[31m\u001b[1merror    \u001b[0m] \u001b[1mError for example in dev set: \t\t HTTPConnectionPool(host='localhost', port=11434): Read timed out. (read timeout=180)\u001b[0m [\u001b[0m\u001b[1m\u001b[34mdspy.evaluate.evaluate\u001b[0m]\u001b[0m \u001b[36mfilename\u001b[0m=\u001b[35mevaluate.py\u001b[0m \u001b[36mlineno\u001b[0m=\u001b[35m147\u001b[0m\n",
      "Average Metric: 0.0 / 4  (0.0):  23%|██▎       | 3/13 [03:00<30:00, 180.07s/it]\u001b[2m2024-06-15T12:54:03.764213Z\u001b[0m [\u001b[31m\u001b[1merror    \u001b[0m] \u001b[1mError for example in dev set: \t\t HTTPConnectionPool(host='localhost', port=11434): Read timed out. (read timeout=180)\u001b[0m [\u001b[0m\u001b[1m\u001b[34mdspy.evaluate.evaluate\u001b[0m]\u001b[0m \u001b[36mfilename\u001b[0m=\u001b[35mevaluate.py\u001b[0m \u001b[36mlineno\u001b[0m=\u001b[35m147\u001b[0m\n",
      "Average Metric: 0.0 / 5  (0.0):  38%|███▊      | 5/13 [03:35<04:34, 34.26s/it] \u001b[2m2024-06-15T12:54:12.796277Z\u001b[0m [\u001b[31m\u001b[1merror    \u001b[0m] \u001b[1mError for example in dev set: \t\t HTTPConnectionPool(host='localhost', port=11434): Read timed out. (read timeout=180)\u001b[0m [\u001b[0m\u001b[1m\u001b[34mdspy.evaluate.evaluate\u001b[0m]\u001b[0m \u001b[36mfilename\u001b[0m=\u001b[35mevaluate.py\u001b[0m \u001b[36mlineno\u001b[0m=\u001b[35m147\u001b[0m\n",
      "Average Metric: 2.0 / 9  (22.2):  69%|██████▉   | 9/13 [04:35<01:22, 20.74s/it]\u001b[2m2024-06-15T12:55:17.614684Z\u001b[0m [\u001b[31m\u001b[1merror    \u001b[0m] \u001b[1mError for example in dev set: \t\t HTTPConnectionPool(host='localhost', port=11434): Read timed out. (read timeout=180)\u001b[0m [\u001b[0m\u001b[1m\u001b[34mdspy.evaluate.evaluate\u001b[0m]\u001b[0m \u001b[36mfilename\u001b[0m=\u001b[35mevaluate.py\u001b[0m \u001b[36mlineno\u001b[0m=\u001b[35m147\u001b[0m\n",
      "Average Metric: 2.0 / 10  (20.0):  77%|███████▋  | 10/13 [04:48<00:55, 18.64s/it]\u001b[2m2024-06-15T12:55:25.914421Z\u001b[0m [\u001b[31m\u001b[1merror    \u001b[0m] \u001b[1mError for example in dev set: \t\t HTTPConnectionPool(host='localhost', port=11434): Read timed out. (read timeout=180)\u001b[0m [\u001b[0m\u001b[1m\u001b[34mdspy.evaluate.evaluate\u001b[0m]\u001b[0m \u001b[36mfilename\u001b[0m=\u001b[35mevaluate.py\u001b[0m \u001b[36mlineno\u001b[0m=\u001b[35m147\u001b[0m\n",
      "Average Metric: 2.0 / 11  (18.2):  85%|████████▍ | 11/13 [04:57<00:31, 15.68s/it]\u001b[2m2024-06-15T12:55:35.094498Z\u001b[0m [\u001b[31m\u001b[1merror    \u001b[0m] \u001b[1mError for example in dev set: \t\t HTTPConnectionPool(host='localhost', port=11434): Read timed out. (read timeout=180)\u001b[0m [\u001b[0m\u001b[1m\u001b[34mdspy.evaluate.evaluate\u001b[0m]\u001b[0m \u001b[36mfilename\u001b[0m=\u001b[35mevaluate.py\u001b[0m \u001b[36mlineno\u001b[0m=\u001b[35m147\u001b[0m\n",
      "Average Metric: 2.0 / 13  (15.4): 100%|██████████| 13/13 [05:24<00:00, 24.97s/it]\n",
      "100%|██████████| 7/7 [02:55<00:00, 25.06s/it]\n",
      "Average Metric: 2 / 13  (15.4): 100%|██████████| 13/13 [04:43<00:00, 21.81s/it]\n",
      " 14%|█▍        | 1/7 [00:15<01:35, 15.87s/it]\n",
      "Average Metric: 2 / 13  (15.4): 100%|██████████| 13/13 [05:21<00:00, 24.73s/it]\n",
      "100%|██████████| 7/7 [02:29<00:00, 21.38s/it]\n",
      "Average Metric: 0 / 4  (0.0):  31%|███       | 4/13 [04:33<06:36, 44.04s/it] \u001b[2m2024-06-15T13:16:30.069325Z\u001b[0m [\u001b[31m\u001b[1merror    \u001b[0m] \u001b[1mError for example in dev set: \t\t HTTPConnectionPool(host='localhost', port=11434): Read timed out. (read timeout=180)\u001b[0m [\u001b[0m\u001b[1m\u001b[34mdspy.evaluate.evaluate\u001b[0m]\u001b[0m \u001b[36mfilename\u001b[0m=\u001b[35mevaluate.py\u001b[0m \u001b[36mlineno\u001b[0m=\u001b[35m147\u001b[0m\n",
      "Average Metric: 0.0 / 5  (0.0):  38%|███▊      | 5/13 [04:50<04:35, 34.43s/it]\u001b[2m2024-06-15T13:16:35.784287Z\u001b[0m [\u001b[31m\u001b[1merror    \u001b[0m] \u001b[1mError for example in dev set: \t\t HTTPConnectionPool(host='localhost', port=11434): Read timed out. (read timeout=180)\u001b[0m [\u001b[0m\u001b[1m\u001b[34mdspy.evaluate.evaluate\u001b[0m]\u001b[0m \u001b[36mfilename\u001b[0m=\u001b[35mevaluate.py\u001b[0m \u001b[36mlineno\u001b[0m=\u001b[35m147\u001b[0m\n",
      "Average Metric: 0.0 / 6  (0.0):  46%|████▌     | 6/13 [04:56<02:52, 24.67s/it]\u001b[2m2024-06-15T13:16:42.860335Z\u001b[0m [\u001b[31m\u001b[1merror    \u001b[0m] \u001b[1mError for example in dev set: \t\t HTTPConnectionPool(host='localhost', port=11434): Read timed out. (read timeout=180)\u001b[0m [\u001b[0m\u001b[1m\u001b[34mdspy.evaluate.evaluate\u001b[0m]\u001b[0m \u001b[36mfilename\u001b[0m=\u001b[35mevaluate.py\u001b[0m \u001b[36mlineno\u001b[0m=\u001b[35m147\u001b[0m\n",
      "Average Metric: 0.0 / 13  (0.0): 100%|██████████| 13/13 [05:57<00:00, 27.48s/it]\n"
     ]
    }
   ],
   "source": [
    "teleprompter2 = BootstrapFewShotWithRandomSearch(metric=metric_EM, max_bootstrapped_demos=2, num_candidate_programs=8, num_threads=NUM_THREADS)\n",
    "rag_compiled = teleprompter2.compile(RAG(), trainset=train, valset=dev)"
   ]
  },
  {
   "cell_type": "code",
   "execution_count": 19,
   "metadata": {},
   "outputs": [
    {
     "name": "stderr",
     "output_type": "stream",
     "text": [
      "  0%|          | 0/13 [00:00<?, ?it/s]"
     ]
    },
    {
     "ename": "ReadTimeout",
     "evalue": "HTTPConnectionPool(host='localhost', port=11434): Read timed out. (read timeout=180)",
     "output_type": "error",
     "traceback": [
      "\u001b[0;31m---------------------------------------------------------------------------\u001b[0m",
      "\u001b[0;31mTimeoutError\u001b[0m                              Traceback (most recent call last)",
      "File \u001b[0;32m~/miniconda3/envs/dspy/lib/python3.11/site-packages/urllib3/connectionpool.py:537\u001b[0m, in \u001b[0;36mHTTPConnectionPool._make_request\u001b[0;34m(self, conn, method, url, body, headers, retries, timeout, chunked, response_conn, preload_content, decode_content, enforce_content_length)\u001b[0m\n\u001b[1;32m    536\u001b[0m \u001b[38;5;28;01mtry\u001b[39;00m:\n\u001b[0;32m--> 537\u001b[0m     response \u001b[38;5;241m=\u001b[39m \u001b[43mconn\u001b[49m\u001b[38;5;241;43m.\u001b[39;49m\u001b[43mgetresponse\u001b[49m\u001b[43m(\u001b[49m\u001b[43m)\u001b[49m\n\u001b[1;32m    538\u001b[0m \u001b[38;5;28;01mexcept\u001b[39;00m (BaseSSLError, \u001b[38;5;167;01mOSError\u001b[39;00m) \u001b[38;5;28;01mas\u001b[39;00m e:\n",
      "File \u001b[0;32m~/miniconda3/envs/dspy/lib/python3.11/site-packages/urllib3/connection.py:466\u001b[0m, in \u001b[0;36mHTTPConnection.getresponse\u001b[0;34m(self)\u001b[0m\n\u001b[1;32m    465\u001b[0m \u001b[38;5;66;03m# Get the response from http.client.HTTPConnection\u001b[39;00m\n\u001b[0;32m--> 466\u001b[0m httplib_response \u001b[38;5;241m=\u001b[39m \u001b[38;5;28;43msuper\u001b[39;49m\u001b[43m(\u001b[49m\u001b[43m)\u001b[49m\u001b[38;5;241;43m.\u001b[39;49m\u001b[43mgetresponse\u001b[49m\u001b[43m(\u001b[49m\u001b[43m)\u001b[49m\n\u001b[1;32m    468\u001b[0m \u001b[38;5;28;01mtry\u001b[39;00m:\n",
      "File \u001b[0;32m~/miniconda3/envs/dspy/lib/python3.11/http/client.py:1395\u001b[0m, in \u001b[0;36mHTTPConnection.getresponse\u001b[0;34m(self)\u001b[0m\n\u001b[1;32m   1394\u001b[0m \u001b[38;5;28;01mtry\u001b[39;00m:\n\u001b[0;32m-> 1395\u001b[0m     \u001b[43mresponse\u001b[49m\u001b[38;5;241;43m.\u001b[39;49m\u001b[43mbegin\u001b[49m\u001b[43m(\u001b[49m\u001b[43m)\u001b[49m\n\u001b[1;32m   1396\u001b[0m \u001b[38;5;28;01mexcept\u001b[39;00m \u001b[38;5;167;01mConnectionError\u001b[39;00m:\n",
      "File \u001b[0;32m~/miniconda3/envs/dspy/lib/python3.11/http/client.py:325\u001b[0m, in \u001b[0;36mHTTPResponse.begin\u001b[0;34m(self)\u001b[0m\n\u001b[1;32m    324\u001b[0m \u001b[38;5;28;01mwhile\u001b[39;00m \u001b[38;5;28;01mTrue\u001b[39;00m:\n\u001b[0;32m--> 325\u001b[0m     version, status, reason \u001b[38;5;241m=\u001b[39m \u001b[38;5;28;43mself\u001b[39;49m\u001b[38;5;241;43m.\u001b[39;49m\u001b[43m_read_status\u001b[49m\u001b[43m(\u001b[49m\u001b[43m)\u001b[49m\n\u001b[1;32m    326\u001b[0m     \u001b[38;5;28;01mif\u001b[39;00m status \u001b[38;5;241m!=\u001b[39m CONTINUE:\n",
      "File \u001b[0;32m~/miniconda3/envs/dspy/lib/python3.11/http/client.py:286\u001b[0m, in \u001b[0;36mHTTPResponse._read_status\u001b[0;34m(self)\u001b[0m\n\u001b[1;32m    285\u001b[0m \u001b[38;5;28;01mdef\u001b[39;00m \u001b[38;5;21m_read_status\u001b[39m(\u001b[38;5;28mself\u001b[39m):\n\u001b[0;32m--> 286\u001b[0m     line \u001b[38;5;241m=\u001b[39m \u001b[38;5;28mstr\u001b[39m(\u001b[38;5;28mself\u001b[39m\u001b[38;5;241m.\u001b[39mfp\u001b[38;5;241m.\u001b[39mreadline(_MAXLINE \u001b[38;5;241m+\u001b[39m \u001b[38;5;241m1\u001b[39m), \u001b[38;5;124m\"\u001b[39m\u001b[38;5;124miso-8859-1\u001b[39m\u001b[38;5;124m\"\u001b[39m)\n\u001b[1;32m    287\u001b[0m     \u001b[38;5;28;01mif\u001b[39;00m \u001b[38;5;28mlen\u001b[39m(line) \u001b[38;5;241m>\u001b[39m _MAXLINE:\n",
      "File \u001b[0;32m~/miniconda3/envs/dspy/lib/python3.11/socket.py:706\u001b[0m, in \u001b[0;36mSocketIO.readinto\u001b[0;34m(self, b)\u001b[0m\n\u001b[1;32m    705\u001b[0m \u001b[38;5;28;01mtry\u001b[39;00m:\n\u001b[0;32m--> 706\u001b[0m     \u001b[38;5;28;01mreturn\u001b[39;00m \u001b[38;5;28;43mself\u001b[39;49m\u001b[38;5;241;43m.\u001b[39;49m\u001b[43m_sock\u001b[49m\u001b[38;5;241;43m.\u001b[39;49m\u001b[43mrecv_into\u001b[49m\u001b[43m(\u001b[49m\u001b[43mb\u001b[49m\u001b[43m)\u001b[49m\n\u001b[1;32m    707\u001b[0m \u001b[38;5;28;01mexcept\u001b[39;00m timeout:\n",
      "\u001b[0;31mTimeoutError\u001b[0m: timed out",
      "\nThe above exception was the direct cause of the following exception:\n",
      "\u001b[0;31mReadTimeoutError\u001b[0m                          Traceback (most recent call last)",
      "File \u001b[0;32m~/miniconda3/envs/dspy/lib/python3.11/site-packages/requests/adapters.py:667\u001b[0m, in \u001b[0;36mHTTPAdapter.send\u001b[0;34m(self, request, stream, timeout, verify, cert, proxies)\u001b[0m\n\u001b[1;32m    666\u001b[0m \u001b[38;5;28;01mtry\u001b[39;00m:\n\u001b[0;32m--> 667\u001b[0m     resp \u001b[38;5;241m=\u001b[39m \u001b[43mconn\u001b[49m\u001b[38;5;241;43m.\u001b[39;49m\u001b[43murlopen\u001b[49m\u001b[43m(\u001b[49m\n\u001b[1;32m    668\u001b[0m \u001b[43m        \u001b[49m\u001b[43mmethod\u001b[49m\u001b[38;5;241;43m=\u001b[39;49m\u001b[43mrequest\u001b[49m\u001b[38;5;241;43m.\u001b[39;49m\u001b[43mmethod\u001b[49m\u001b[43m,\u001b[49m\n\u001b[1;32m    669\u001b[0m \u001b[43m        \u001b[49m\u001b[43murl\u001b[49m\u001b[38;5;241;43m=\u001b[39;49m\u001b[43murl\u001b[49m\u001b[43m,\u001b[49m\n\u001b[1;32m    670\u001b[0m \u001b[43m        \u001b[49m\u001b[43mbody\u001b[49m\u001b[38;5;241;43m=\u001b[39;49m\u001b[43mrequest\u001b[49m\u001b[38;5;241;43m.\u001b[39;49m\u001b[43mbody\u001b[49m\u001b[43m,\u001b[49m\n\u001b[1;32m    671\u001b[0m \u001b[43m        \u001b[49m\u001b[43mheaders\u001b[49m\u001b[38;5;241;43m=\u001b[39;49m\u001b[43mrequest\u001b[49m\u001b[38;5;241;43m.\u001b[39;49m\u001b[43mheaders\u001b[49m\u001b[43m,\u001b[49m\n\u001b[1;32m    672\u001b[0m \u001b[43m        \u001b[49m\u001b[43mredirect\u001b[49m\u001b[38;5;241;43m=\u001b[39;49m\u001b[38;5;28;43;01mFalse\u001b[39;49;00m\u001b[43m,\u001b[49m\n\u001b[1;32m    673\u001b[0m \u001b[43m        \u001b[49m\u001b[43massert_same_host\u001b[49m\u001b[38;5;241;43m=\u001b[39;49m\u001b[38;5;28;43;01mFalse\u001b[39;49;00m\u001b[43m,\u001b[49m\n\u001b[1;32m    674\u001b[0m \u001b[43m        \u001b[49m\u001b[43mpreload_content\u001b[49m\u001b[38;5;241;43m=\u001b[39;49m\u001b[38;5;28;43;01mFalse\u001b[39;49;00m\u001b[43m,\u001b[49m\n\u001b[1;32m    675\u001b[0m \u001b[43m        \u001b[49m\u001b[43mdecode_content\u001b[49m\u001b[38;5;241;43m=\u001b[39;49m\u001b[38;5;28;43;01mFalse\u001b[39;49;00m\u001b[43m,\u001b[49m\n\u001b[1;32m    676\u001b[0m \u001b[43m        \u001b[49m\u001b[43mretries\u001b[49m\u001b[38;5;241;43m=\u001b[39;49m\u001b[38;5;28;43mself\u001b[39;49m\u001b[38;5;241;43m.\u001b[39;49m\u001b[43mmax_retries\u001b[49m\u001b[43m,\u001b[49m\n\u001b[1;32m    677\u001b[0m \u001b[43m        \u001b[49m\u001b[43mtimeout\u001b[49m\u001b[38;5;241;43m=\u001b[39;49m\u001b[43mtimeout\u001b[49m\u001b[43m,\u001b[49m\n\u001b[1;32m    678\u001b[0m \u001b[43m        \u001b[49m\u001b[43mchunked\u001b[49m\u001b[38;5;241;43m=\u001b[39;49m\u001b[43mchunked\u001b[49m\u001b[43m,\u001b[49m\n\u001b[1;32m    679\u001b[0m \u001b[43m    \u001b[49m\u001b[43m)\u001b[49m\n\u001b[1;32m    681\u001b[0m \u001b[38;5;28;01mexcept\u001b[39;00m (ProtocolError, \u001b[38;5;167;01mOSError\u001b[39;00m) \u001b[38;5;28;01mas\u001b[39;00m err:\n",
      "File \u001b[0;32m~/miniconda3/envs/dspy/lib/python3.11/site-packages/urllib3/connectionpool.py:847\u001b[0m, in \u001b[0;36mHTTPConnectionPool.urlopen\u001b[0;34m(self, method, url, body, headers, retries, redirect, assert_same_host, timeout, pool_timeout, release_conn, chunked, body_pos, preload_content, decode_content, **response_kw)\u001b[0m\n\u001b[1;32m    845\u001b[0m     new_e \u001b[38;5;241m=\u001b[39m ProtocolError(\u001b[38;5;124m\"\u001b[39m\u001b[38;5;124mConnection aborted.\u001b[39m\u001b[38;5;124m\"\u001b[39m, new_e)\n\u001b[0;32m--> 847\u001b[0m retries \u001b[38;5;241m=\u001b[39m \u001b[43mretries\u001b[49m\u001b[38;5;241;43m.\u001b[39;49m\u001b[43mincrement\u001b[49m\u001b[43m(\u001b[49m\n\u001b[1;32m    848\u001b[0m \u001b[43m    \u001b[49m\u001b[43mmethod\u001b[49m\u001b[43m,\u001b[49m\u001b[43m \u001b[49m\u001b[43murl\u001b[49m\u001b[43m,\u001b[49m\u001b[43m \u001b[49m\u001b[43merror\u001b[49m\u001b[38;5;241;43m=\u001b[39;49m\u001b[43mnew_e\u001b[49m\u001b[43m,\u001b[49m\u001b[43m \u001b[49m\u001b[43m_pool\u001b[49m\u001b[38;5;241;43m=\u001b[39;49m\u001b[38;5;28;43mself\u001b[39;49m\u001b[43m,\u001b[49m\u001b[43m \u001b[49m\u001b[43m_stacktrace\u001b[49m\u001b[38;5;241;43m=\u001b[39;49m\u001b[43msys\u001b[49m\u001b[38;5;241;43m.\u001b[39;49m\u001b[43mexc_info\u001b[49m\u001b[43m(\u001b[49m\u001b[43m)\u001b[49m\u001b[43m[\u001b[49m\u001b[38;5;241;43m2\u001b[39;49m\u001b[43m]\u001b[49m\n\u001b[1;32m    849\u001b[0m \u001b[43m\u001b[49m\u001b[43m)\u001b[49m\n\u001b[1;32m    850\u001b[0m retries\u001b[38;5;241m.\u001b[39msleep()\n",
      "File \u001b[0;32m~/miniconda3/envs/dspy/lib/python3.11/site-packages/urllib3/util/retry.py:470\u001b[0m, in \u001b[0;36mRetry.increment\u001b[0;34m(self, method, url, response, error, _pool, _stacktrace)\u001b[0m\n\u001b[1;32m    469\u001b[0m \u001b[38;5;28;01mif\u001b[39;00m read \u001b[38;5;129;01mis\u001b[39;00m \u001b[38;5;28;01mFalse\u001b[39;00m \u001b[38;5;129;01mor\u001b[39;00m method \u001b[38;5;129;01mis\u001b[39;00m \u001b[38;5;28;01mNone\u001b[39;00m \u001b[38;5;129;01mor\u001b[39;00m \u001b[38;5;129;01mnot\u001b[39;00m \u001b[38;5;28mself\u001b[39m\u001b[38;5;241m.\u001b[39m_is_method_retryable(method):\n\u001b[0;32m--> 470\u001b[0m     \u001b[38;5;28;01mraise\u001b[39;00m \u001b[43mreraise\u001b[49m\u001b[43m(\u001b[49m\u001b[38;5;28;43mtype\u001b[39;49m\u001b[43m(\u001b[49m\u001b[43merror\u001b[49m\u001b[43m)\u001b[49m\u001b[43m,\u001b[49m\u001b[43m \u001b[49m\u001b[43merror\u001b[49m\u001b[43m,\u001b[49m\u001b[43m \u001b[49m\u001b[43m_stacktrace\u001b[49m\u001b[43m)\u001b[49m\n\u001b[1;32m    471\u001b[0m \u001b[38;5;28;01melif\u001b[39;00m read \u001b[38;5;129;01mis\u001b[39;00m \u001b[38;5;129;01mnot\u001b[39;00m \u001b[38;5;28;01mNone\u001b[39;00m:\n",
      "File \u001b[0;32m~/miniconda3/envs/dspy/lib/python3.11/site-packages/urllib3/util/util.py:39\u001b[0m, in \u001b[0;36mreraise\u001b[0;34m(tp, value, tb)\u001b[0m\n\u001b[1;32m     38\u001b[0m         \u001b[38;5;28;01mraise\u001b[39;00m value\u001b[38;5;241m.\u001b[39mwith_traceback(tb)\n\u001b[0;32m---> 39\u001b[0m     \u001b[38;5;28;01mraise\u001b[39;00m value\n\u001b[1;32m     40\u001b[0m \u001b[38;5;28;01mfinally\u001b[39;00m:\n",
      "File \u001b[0;32m~/miniconda3/envs/dspy/lib/python3.11/site-packages/urllib3/connectionpool.py:793\u001b[0m, in \u001b[0;36mHTTPConnectionPool.urlopen\u001b[0;34m(self, method, url, body, headers, retries, redirect, assert_same_host, timeout, pool_timeout, release_conn, chunked, body_pos, preload_content, decode_content, **response_kw)\u001b[0m\n\u001b[1;32m    792\u001b[0m \u001b[38;5;66;03m# Make the request on the HTTPConnection object\u001b[39;00m\n\u001b[0;32m--> 793\u001b[0m response \u001b[38;5;241m=\u001b[39m \u001b[38;5;28;43mself\u001b[39;49m\u001b[38;5;241;43m.\u001b[39;49m\u001b[43m_make_request\u001b[49m\u001b[43m(\u001b[49m\n\u001b[1;32m    794\u001b[0m \u001b[43m    \u001b[49m\u001b[43mconn\u001b[49m\u001b[43m,\u001b[49m\n\u001b[1;32m    795\u001b[0m \u001b[43m    \u001b[49m\u001b[43mmethod\u001b[49m\u001b[43m,\u001b[49m\n\u001b[1;32m    796\u001b[0m \u001b[43m    \u001b[49m\u001b[43murl\u001b[49m\u001b[43m,\u001b[49m\n\u001b[1;32m    797\u001b[0m \u001b[43m    \u001b[49m\u001b[43mtimeout\u001b[49m\u001b[38;5;241;43m=\u001b[39;49m\u001b[43mtimeout_obj\u001b[49m\u001b[43m,\u001b[49m\n\u001b[1;32m    798\u001b[0m \u001b[43m    \u001b[49m\u001b[43mbody\u001b[49m\u001b[38;5;241;43m=\u001b[39;49m\u001b[43mbody\u001b[49m\u001b[43m,\u001b[49m\n\u001b[1;32m    799\u001b[0m \u001b[43m    \u001b[49m\u001b[43mheaders\u001b[49m\u001b[38;5;241;43m=\u001b[39;49m\u001b[43mheaders\u001b[49m\u001b[43m,\u001b[49m\n\u001b[1;32m    800\u001b[0m \u001b[43m    \u001b[49m\u001b[43mchunked\u001b[49m\u001b[38;5;241;43m=\u001b[39;49m\u001b[43mchunked\u001b[49m\u001b[43m,\u001b[49m\n\u001b[1;32m    801\u001b[0m \u001b[43m    \u001b[49m\u001b[43mretries\u001b[49m\u001b[38;5;241;43m=\u001b[39;49m\u001b[43mretries\u001b[49m\u001b[43m,\u001b[49m\n\u001b[1;32m    802\u001b[0m \u001b[43m    \u001b[49m\u001b[43mresponse_conn\u001b[49m\u001b[38;5;241;43m=\u001b[39;49m\u001b[43mresponse_conn\u001b[49m\u001b[43m,\u001b[49m\n\u001b[1;32m    803\u001b[0m \u001b[43m    \u001b[49m\u001b[43mpreload_content\u001b[49m\u001b[38;5;241;43m=\u001b[39;49m\u001b[43mpreload_content\u001b[49m\u001b[43m,\u001b[49m\n\u001b[1;32m    804\u001b[0m \u001b[43m    \u001b[49m\u001b[43mdecode_content\u001b[49m\u001b[38;5;241;43m=\u001b[39;49m\u001b[43mdecode_content\u001b[49m\u001b[43m,\u001b[49m\n\u001b[1;32m    805\u001b[0m \u001b[43m    \u001b[49m\u001b[38;5;241;43m*\u001b[39;49m\u001b[38;5;241;43m*\u001b[39;49m\u001b[43mresponse_kw\u001b[49m\u001b[43m,\u001b[49m\n\u001b[1;32m    806\u001b[0m \u001b[43m\u001b[49m\u001b[43m)\u001b[49m\n\u001b[1;32m    808\u001b[0m \u001b[38;5;66;03m# Everything went great!\u001b[39;00m\n",
      "File \u001b[0;32m~/miniconda3/envs/dspy/lib/python3.11/site-packages/urllib3/connectionpool.py:539\u001b[0m, in \u001b[0;36mHTTPConnectionPool._make_request\u001b[0;34m(self, conn, method, url, body, headers, retries, timeout, chunked, response_conn, preload_content, decode_content, enforce_content_length)\u001b[0m\n\u001b[1;32m    538\u001b[0m \u001b[38;5;28;01mexcept\u001b[39;00m (BaseSSLError, \u001b[38;5;167;01mOSError\u001b[39;00m) \u001b[38;5;28;01mas\u001b[39;00m e:\n\u001b[0;32m--> 539\u001b[0m     \u001b[38;5;28;43mself\u001b[39;49m\u001b[38;5;241;43m.\u001b[39;49m\u001b[43m_raise_timeout\u001b[49m\u001b[43m(\u001b[49m\u001b[43merr\u001b[49m\u001b[38;5;241;43m=\u001b[39;49m\u001b[43me\u001b[49m\u001b[43m,\u001b[49m\u001b[43m \u001b[49m\u001b[43murl\u001b[49m\u001b[38;5;241;43m=\u001b[39;49m\u001b[43murl\u001b[49m\u001b[43m,\u001b[49m\u001b[43m \u001b[49m\u001b[43mtimeout_value\u001b[49m\u001b[38;5;241;43m=\u001b[39;49m\u001b[43mread_timeout\u001b[49m\u001b[43m)\u001b[49m\n\u001b[1;32m    540\u001b[0m     \u001b[38;5;28;01mraise\u001b[39;00m\n",
      "File \u001b[0;32m~/miniconda3/envs/dspy/lib/python3.11/site-packages/urllib3/connectionpool.py:370\u001b[0m, in \u001b[0;36mHTTPConnectionPool._raise_timeout\u001b[0;34m(self, err, url, timeout_value)\u001b[0m\n\u001b[1;32m    369\u001b[0m \u001b[38;5;28;01mif\u001b[39;00m \u001b[38;5;28misinstance\u001b[39m(err, SocketTimeout):\n\u001b[0;32m--> 370\u001b[0m     \u001b[38;5;28;01mraise\u001b[39;00m ReadTimeoutError(\n\u001b[1;32m    371\u001b[0m         \u001b[38;5;28mself\u001b[39m, url, \u001b[38;5;124mf\u001b[39m\u001b[38;5;124m\"\u001b[39m\u001b[38;5;124mRead timed out. (read timeout=\u001b[39m\u001b[38;5;132;01m{\u001b[39;00mtimeout_value\u001b[38;5;132;01m}\u001b[39;00m\u001b[38;5;124m)\u001b[39m\u001b[38;5;124m\"\u001b[39m\n\u001b[1;32m    372\u001b[0m     ) \u001b[38;5;28;01mfrom\u001b[39;00m \u001b[38;5;21;01merr\u001b[39;00m\n\u001b[1;32m    374\u001b[0m \u001b[38;5;66;03m# See the above comment about EAGAIN in Python 3.\u001b[39;00m\n",
      "\u001b[0;31mReadTimeoutError\u001b[0m: HTTPConnectionPool(host='localhost', port=11434): Read timed out. (read timeout=180)",
      "\nDuring handling of the above exception, another exception occurred:\n",
      "\u001b[0;31mReadTimeout\u001b[0m                               Traceback (most recent call last)",
      "Cell \u001b[0;32mIn[19], line 1\u001b[0m\n\u001b[0;32m----> 1\u001b[0m \u001b[43mevaluate_hotpot\u001b[49m\u001b[43m(\u001b[49m\u001b[43mrag_compiled\u001b[49m\u001b[43m)\u001b[49m\n",
      "File \u001b[0;32m~/miniconda3/envs/dspy/lib/python3.11/site-packages/dspy/evaluate/evaluate.py:160\u001b[0m, in \u001b[0;36mEvaluate.__call__\u001b[0;34m(self, program, metric, devset, num_threads, display_progress, display_table, return_all_scores, return_outputs)\u001b[0m\n\u001b[1;32m    158\u001b[0m     reordered_devset, ncorrect, ntotal \u001b[38;5;241m=\u001b[39m \u001b[38;5;28mself\u001b[39m\u001b[38;5;241m.\u001b[39m_execute_single_thread(wrapped_program, devset, display_progress)\n\u001b[1;32m    159\u001b[0m \u001b[38;5;28;01melse\u001b[39;00m:\n\u001b[0;32m--> 160\u001b[0m     reordered_devset, ncorrect, ntotal \u001b[38;5;241m=\u001b[39m \u001b[38;5;28;43mself\u001b[39;49m\u001b[38;5;241;43m.\u001b[39;49m\u001b[43m_execute_multi_thread\u001b[49m\u001b[43m(\u001b[49m\n\u001b[1;32m    161\u001b[0m \u001b[43m        \u001b[49m\u001b[43mwrapped_program\u001b[49m\u001b[43m,\u001b[49m\n\u001b[1;32m    162\u001b[0m \u001b[43m        \u001b[49m\u001b[43mdevset\u001b[49m\u001b[43m,\u001b[49m\n\u001b[1;32m    163\u001b[0m \u001b[43m        \u001b[49m\u001b[43mnum_threads\u001b[49m\u001b[43m,\u001b[49m\n\u001b[1;32m    164\u001b[0m \u001b[43m        \u001b[49m\u001b[43mdisplay_progress\u001b[49m\u001b[43m,\u001b[49m\n\u001b[1;32m    165\u001b[0m \u001b[43m    \u001b[49m\u001b[43m)\u001b[49m\n\u001b[1;32m    167\u001b[0m dspy\u001b[38;5;241m.\u001b[39mlogger\u001b[38;5;241m.\u001b[39minfo(\u001b[38;5;124mf\u001b[39m\u001b[38;5;124m\"\u001b[39m\u001b[38;5;124mAverage Metric: \u001b[39m\u001b[38;5;132;01m{\u001b[39;00mncorrect\u001b[38;5;132;01m}\u001b[39;00m\u001b[38;5;124m / \u001b[39m\u001b[38;5;132;01m{\u001b[39;00mntotal\u001b[38;5;132;01m}\u001b[39;00m\u001b[38;5;124m (\u001b[39m\u001b[38;5;132;01m{\u001b[39;00m\u001b[38;5;28mround\u001b[39m(\u001b[38;5;241m100\u001b[39m\u001b[38;5;250m \u001b[39m\u001b[38;5;241m*\u001b[39m\u001b[38;5;250m \u001b[39mncorrect\u001b[38;5;250m \u001b[39m\u001b[38;5;241m/\u001b[39m\u001b[38;5;250m \u001b[39mntotal,\u001b[38;5;250m \u001b[39m\u001b[38;5;241m1\u001b[39m)\u001b[38;5;132;01m}\u001b[39;00m\u001b[38;5;124m%)\u001b[39m\u001b[38;5;124m\"\u001b[39m)\n\u001b[1;32m    169\u001b[0m predicted_devset \u001b[38;5;241m=\u001b[39m \u001b[38;5;28msorted\u001b[39m(reordered_devset)\n",
      "File \u001b[0;32m~/miniconda3/envs/dspy/lib/python3.11/site-packages/dspy/evaluate/evaluate.py:87\u001b[0m, in \u001b[0;36mEvaluate._execute_multi_thread\u001b[0;34m(self, wrapped_program, devset, num_threads, display_progress)\u001b[0m\n\u001b[1;32m     84\u001b[0m pbar \u001b[38;5;241m=\u001b[39m tqdm\u001b[38;5;241m.\u001b[39mtqdm(total\u001b[38;5;241m=\u001b[39m\u001b[38;5;28mlen\u001b[39m(devset), dynamic_ncols\u001b[38;5;241m=\u001b[39m\u001b[38;5;28;01mTrue\u001b[39;00m, disable\u001b[38;5;241m=\u001b[39m\u001b[38;5;129;01mnot\u001b[39;00m display_progress)\n\u001b[1;32m     86\u001b[0m \u001b[38;5;28;01mfor\u001b[39;00m future \u001b[38;5;129;01min\u001b[39;00m as_completed(futures):\n\u001b[0;32m---> 87\u001b[0m     example_idx, example, prediction, score \u001b[38;5;241m=\u001b[39m \u001b[43mfuture\u001b[49m\u001b[38;5;241;43m.\u001b[39;49m\u001b[43mresult\u001b[49m\u001b[43m(\u001b[49m\u001b[43m)\u001b[49m\n\u001b[1;32m     88\u001b[0m     reordered_devset\u001b[38;5;241m.\u001b[39mappend((example_idx, example, prediction, score))\n\u001b[1;32m     89\u001b[0m     ncorrect \u001b[38;5;241m+\u001b[39m\u001b[38;5;241m=\u001b[39m score\n",
      "File \u001b[0;32m~/miniconda3/envs/dspy/lib/python3.11/concurrent/futures/_base.py:449\u001b[0m, in \u001b[0;36mFuture.result\u001b[0;34m(self, timeout)\u001b[0m\n\u001b[1;32m    447\u001b[0m     \u001b[38;5;28;01mraise\u001b[39;00m CancelledError()\n\u001b[1;32m    448\u001b[0m \u001b[38;5;28;01melif\u001b[39;00m \u001b[38;5;28mself\u001b[39m\u001b[38;5;241m.\u001b[39m_state \u001b[38;5;241m==\u001b[39m FINISHED:\n\u001b[0;32m--> 449\u001b[0m     \u001b[38;5;28;01mreturn\u001b[39;00m \u001b[38;5;28;43mself\u001b[39;49m\u001b[38;5;241;43m.\u001b[39;49m\u001b[43m__get_result\u001b[49m\u001b[43m(\u001b[49m\u001b[43m)\u001b[49m\n\u001b[1;32m    451\u001b[0m \u001b[38;5;28mself\u001b[39m\u001b[38;5;241m.\u001b[39m_condition\u001b[38;5;241m.\u001b[39mwait(timeout)\n\u001b[1;32m    453\u001b[0m \u001b[38;5;28;01mif\u001b[39;00m \u001b[38;5;28mself\u001b[39m\u001b[38;5;241m.\u001b[39m_state \u001b[38;5;129;01min\u001b[39;00m [CANCELLED, CANCELLED_AND_NOTIFIED]:\n",
      "File \u001b[0;32m~/miniconda3/envs/dspy/lib/python3.11/concurrent/futures/_base.py:401\u001b[0m, in \u001b[0;36mFuture.__get_result\u001b[0;34m(self)\u001b[0m\n\u001b[1;32m    399\u001b[0m \u001b[38;5;28;01mif\u001b[39;00m \u001b[38;5;28mself\u001b[39m\u001b[38;5;241m.\u001b[39m_exception:\n\u001b[1;32m    400\u001b[0m     \u001b[38;5;28;01mtry\u001b[39;00m:\n\u001b[0;32m--> 401\u001b[0m         \u001b[38;5;28;01mraise\u001b[39;00m \u001b[38;5;28mself\u001b[39m\u001b[38;5;241m.\u001b[39m_exception\n\u001b[1;32m    402\u001b[0m     \u001b[38;5;28;01mfinally\u001b[39;00m:\n\u001b[1;32m    403\u001b[0m         \u001b[38;5;66;03m# Break a reference cycle with the exception in self._exception\u001b[39;00m\n\u001b[1;32m    404\u001b[0m         \u001b[38;5;28mself\u001b[39m \u001b[38;5;241m=\u001b[39m \u001b[38;5;28;01mNone\u001b[39;00m\n",
      "File \u001b[0;32m~/miniconda3/envs/dspy/lib/python3.11/concurrent/futures/thread.py:58\u001b[0m, in \u001b[0;36m_WorkItem.run\u001b[0;34m(self)\u001b[0m\n\u001b[1;32m     55\u001b[0m     \u001b[38;5;28;01mreturn\u001b[39;00m\n\u001b[1;32m     57\u001b[0m \u001b[38;5;28;01mtry\u001b[39;00m:\n\u001b[0;32m---> 58\u001b[0m     result \u001b[38;5;241m=\u001b[39m \u001b[38;5;28;43mself\u001b[39;49m\u001b[38;5;241;43m.\u001b[39;49m\u001b[43mfn\u001b[49m\u001b[43m(\u001b[49m\u001b[38;5;241;43m*\u001b[39;49m\u001b[38;5;28;43mself\u001b[39;49m\u001b[38;5;241;43m.\u001b[39;49m\u001b[43margs\u001b[49m\u001b[43m,\u001b[49m\u001b[43m \u001b[49m\u001b[38;5;241;43m*\u001b[39;49m\u001b[38;5;241;43m*\u001b[39;49m\u001b[38;5;28;43mself\u001b[39;49m\u001b[38;5;241;43m.\u001b[39;49m\u001b[43mkwargs\u001b[49m\u001b[43m)\u001b[49m\n\u001b[1;32m     59\u001b[0m \u001b[38;5;28;01mexcept\u001b[39;00m \u001b[38;5;167;01mBaseException\u001b[39;00m \u001b[38;5;28;01mas\u001b[39;00m exc:\n\u001b[1;32m     60\u001b[0m     \u001b[38;5;28mself\u001b[39m\u001b[38;5;241m.\u001b[39mfuture\u001b[38;5;241m.\u001b[39mset_exception(exc)\n",
      "File \u001b[0;32m~/miniconda3/envs/dspy/lib/python3.11/site-packages/dspy/evaluate/evaluate.py:145\u001b[0m, in \u001b[0;36mEvaluate.__call__.<locals>.wrapped_program\u001b[0;34m(example_idx, example)\u001b[0m\n\u001b[1;32m    143\u001b[0m     current_error_count \u001b[38;5;241m=\u001b[39m \u001b[38;5;28mself\u001b[39m\u001b[38;5;241m.\u001b[39merror_count\n\u001b[1;32m    144\u001b[0m \u001b[38;5;28;01mif\u001b[39;00m current_error_count \u001b[38;5;241m>\u001b[39m\u001b[38;5;241m=\u001b[39m \u001b[38;5;28mself\u001b[39m\u001b[38;5;241m.\u001b[39mmax_errors:\n\u001b[0;32m--> 145\u001b[0m     \u001b[38;5;28;01mraise\u001b[39;00m e\n\u001b[1;32m    147\u001b[0m dspy\u001b[38;5;241m.\u001b[39mlogger\u001b[38;5;241m.\u001b[39merror(\u001b[38;5;124mf\u001b[39m\u001b[38;5;124m\"\u001b[39m\u001b[38;5;124mError for example in dev set: \u001b[39m\u001b[38;5;130;01m\\t\u001b[39;00m\u001b[38;5;130;01m\\t\u001b[39;00m\u001b[38;5;124m \u001b[39m\u001b[38;5;132;01m{\u001b[39;00me\u001b[38;5;132;01m}\u001b[39;00m\u001b[38;5;124m\"\u001b[39m)\n\u001b[1;32m    149\u001b[0m \u001b[38;5;28;01mreturn\u001b[39;00m example_idx, example, {}, \u001b[38;5;241m0.0\u001b[39m\n",
      "File \u001b[0;32m~/miniconda3/envs/dspy/lib/python3.11/site-packages/dspy/evaluate/evaluate.py:127\u001b[0m, in \u001b[0;36mEvaluate.__call__.<locals>.wrapped_program\u001b[0;34m(example_idx, example)\u001b[0m\n\u001b[1;32m    124\u001b[0m     thread_stacks[threading\u001b[38;5;241m.\u001b[39mget_ident()] \u001b[38;5;241m=\u001b[39m \u001b[38;5;28mlist\u001b[39m(dspy\u001b[38;5;241m.\u001b[39msettings\u001b[38;5;241m.\u001b[39mmain_stack)\n\u001b[1;32m    126\u001b[0m \u001b[38;5;28;01mtry\u001b[39;00m:\n\u001b[0;32m--> 127\u001b[0m     prediction \u001b[38;5;241m=\u001b[39m \u001b[43mprogram\u001b[49m\u001b[43m(\u001b[49m\u001b[38;5;241;43m*\u001b[39;49m\u001b[38;5;241;43m*\u001b[39;49m\u001b[43mexample\u001b[49m\u001b[38;5;241;43m.\u001b[39;49m\u001b[43minputs\u001b[49m\u001b[43m(\u001b[49m\u001b[43m)\u001b[49m\u001b[43m)\u001b[49m\n\u001b[1;32m    128\u001b[0m     score \u001b[38;5;241m=\u001b[39m metric(\n\u001b[1;32m    129\u001b[0m         example,\n\u001b[1;32m    130\u001b[0m         prediction,\n\u001b[1;32m    131\u001b[0m     )  \u001b[38;5;66;03m# FIXME: TODO: What's the right order? Maybe force name-based kwargs!\u001b[39;00m\n\u001b[1;32m    133\u001b[0m     \u001b[38;5;66;03m# increment assert and suggest failures to program's attributes\u001b[39;00m\n",
      "File \u001b[0;32m~/miniconda3/envs/dspy/lib/python3.11/site-packages/dspy/primitives/program.py:26\u001b[0m, in \u001b[0;36mModule.__call__\u001b[0;34m(self, *args, **kwargs)\u001b[0m\n\u001b[1;32m     25\u001b[0m \u001b[38;5;28;01mdef\u001b[39;00m \u001b[38;5;21m__call__\u001b[39m(\u001b[38;5;28mself\u001b[39m, \u001b[38;5;241m*\u001b[39margs, \u001b[38;5;241m*\u001b[39m\u001b[38;5;241m*\u001b[39mkwargs):\n\u001b[0;32m---> 26\u001b[0m     \u001b[38;5;28;01mreturn\u001b[39;00m \u001b[38;5;28;43mself\u001b[39;49m\u001b[38;5;241;43m.\u001b[39;49m\u001b[43mforward\u001b[49m\u001b[43m(\u001b[49m\u001b[38;5;241;43m*\u001b[39;49m\u001b[43margs\u001b[49m\u001b[43m,\u001b[49m\u001b[43m \u001b[49m\u001b[38;5;241;43m*\u001b[39;49m\u001b[38;5;241;43m*\u001b[39;49m\u001b[43mkwargs\u001b[49m\u001b[43m)\u001b[49m\n",
      "Cell \u001b[0;32mIn[14], line 10\u001b[0m, in \u001b[0;36mRAG.forward\u001b[0;34m(self, question)\u001b[0m\n\u001b[1;32m      9\u001b[0m \u001b[38;5;28;01mdef\u001b[39;00m \u001b[38;5;21mforward\u001b[39m(\u001b[38;5;28mself\u001b[39m, question):\n\u001b[0;32m---> 10\u001b[0m     search_query \u001b[38;5;241m=\u001b[39m \u001b[38;5;28;43mself\u001b[39;49m\u001b[38;5;241;43m.\u001b[39;49m\u001b[43mgenerate_query\u001b[49m\u001b[43m(\u001b[49m\u001b[43mquestion\u001b[49m\u001b[38;5;241;43m=\u001b[39;49m\u001b[43mquestion\u001b[49m\u001b[43m)\u001b[49m\u001b[38;5;241m.\u001b[39msearch_query\n\u001b[1;32m     11\u001b[0m     passages \u001b[38;5;241m=\u001b[39m \u001b[38;5;28mself\u001b[39m\u001b[38;5;241m.\u001b[39mretrieve(search_query)\u001b[38;5;241m.\u001b[39mpassages\n\u001b[1;32m     13\u001b[0m     \u001b[38;5;28;01mreturn\u001b[39;00m \u001b[38;5;28mself\u001b[39m\u001b[38;5;241m.\u001b[39mgenerate_answer(context\u001b[38;5;241m=\u001b[39mpassages, question\u001b[38;5;241m=\u001b[39mquestion)\n",
      "File \u001b[0;32m~/miniconda3/envs/dspy/lib/python3.11/site-packages/dspy/predict/predict.py:61\u001b[0m, in \u001b[0;36mPredict.__call__\u001b[0;34m(self, **kwargs)\u001b[0m\n\u001b[1;32m     60\u001b[0m \u001b[38;5;28;01mdef\u001b[39;00m \u001b[38;5;21m__call__\u001b[39m(\u001b[38;5;28mself\u001b[39m, \u001b[38;5;241m*\u001b[39m\u001b[38;5;241m*\u001b[39mkwargs):\n\u001b[0;32m---> 61\u001b[0m     \u001b[38;5;28;01mreturn\u001b[39;00m \u001b[38;5;28;43mself\u001b[39;49m\u001b[38;5;241;43m.\u001b[39;49m\u001b[43mforward\u001b[49m\u001b[43m(\u001b[49m\u001b[38;5;241;43m*\u001b[39;49m\u001b[38;5;241;43m*\u001b[39;49m\u001b[43mkwargs\u001b[49m\u001b[43m)\u001b[49m\n",
      "File \u001b[0;32m~/miniconda3/envs/dspy/lib/python3.11/site-packages/dspy/predict/chain_of_thought.py:59\u001b[0m, in \u001b[0;36mChainOfThought.forward\u001b[0;34m(self, **kwargs)\u001b[0m\n\u001b[1;32m     57\u001b[0m     signature \u001b[38;5;241m=\u001b[39m new_signature\n\u001b[1;32m     58\u001b[0m     \u001b[38;5;66;03m# template = dsp.Template(self.signature.instructions, **new_signature)\u001b[39;00m\n\u001b[0;32m---> 59\u001b[0m \u001b[38;5;28;01mreturn\u001b[39;00m \u001b[38;5;28;43msuper\u001b[39;49m\u001b[43m(\u001b[49m\u001b[43m)\u001b[49m\u001b[38;5;241;43m.\u001b[39;49m\u001b[43mforward\u001b[49m\u001b[43m(\u001b[49m\u001b[43msignature\u001b[49m\u001b[38;5;241;43m=\u001b[39;49m\u001b[43msignature\u001b[49m\u001b[43m,\u001b[49m\u001b[43m \u001b[49m\u001b[38;5;241;43m*\u001b[39;49m\u001b[38;5;241;43m*\u001b[39;49m\u001b[43mkwargs\u001b[49m\u001b[43m)\u001b[49m\n",
      "File \u001b[0;32m~/miniconda3/envs/dspy/lib/python3.11/site-packages/dspy/predict/predict.py:103\u001b[0m, in \u001b[0;36mPredict.forward\u001b[0;34m(self, **kwargs)\u001b[0m\n\u001b[1;32m    100\u001b[0m template \u001b[38;5;241m=\u001b[39m signature_to_template(signature)\n\u001b[1;32m    102\u001b[0m \u001b[38;5;28;01mif\u001b[39;00m \u001b[38;5;28mself\u001b[39m\u001b[38;5;241m.\u001b[39mlm \u001b[38;5;129;01mis\u001b[39;00m \u001b[38;5;28;01mNone\u001b[39;00m:\n\u001b[0;32m--> 103\u001b[0m     x, C \u001b[38;5;241m=\u001b[39m \u001b[43mdsp\u001b[49m\u001b[38;5;241;43m.\u001b[39;49m\u001b[43mgenerate\u001b[49m\u001b[43m(\u001b[49m\u001b[43mtemplate\u001b[49m\u001b[43m,\u001b[49m\u001b[43m \u001b[49m\u001b[38;5;241;43m*\u001b[39;49m\u001b[38;5;241;43m*\u001b[39;49m\u001b[43mconfig\u001b[49m\u001b[43m)\u001b[49m\u001b[43m(\u001b[49m\u001b[43mx\u001b[49m\u001b[43m,\u001b[49m\u001b[43m \u001b[49m\u001b[43mstage\u001b[49m\u001b[38;5;241;43m=\u001b[39;49m\u001b[38;5;28;43mself\u001b[39;49m\u001b[38;5;241;43m.\u001b[39;49m\u001b[43mstage\u001b[49m\u001b[43m)\u001b[49m\n\u001b[1;32m    104\u001b[0m \u001b[38;5;28;01melse\u001b[39;00m:\n\u001b[1;32m    105\u001b[0m     \u001b[38;5;66;03m# Note: query_only=True means the instructions and examples are not included.\u001b[39;00m\n\u001b[1;32m    106\u001b[0m     \u001b[38;5;66;03m# I'm not really sure why we'd want to do that, but it's there.\u001b[39;00m\n\u001b[1;32m    107\u001b[0m     \u001b[38;5;28;01mwith\u001b[39;00m dsp\u001b[38;5;241m.\u001b[39msettings\u001b[38;5;241m.\u001b[39mcontext(lm\u001b[38;5;241m=\u001b[39m\u001b[38;5;28mself\u001b[39m\u001b[38;5;241m.\u001b[39mlm, query_only\u001b[38;5;241m=\u001b[39m\u001b[38;5;28;01mTrue\u001b[39;00m):\n",
      "File \u001b[0;32m~/miniconda3/envs/dspy/lib/python3.11/site-packages/dsp/primitives/predict.py:77\u001b[0m, in \u001b[0;36m_generate.<locals>.do_generate\u001b[0;34m(example, stage, max_depth, original_example)\u001b[0m\n\u001b[1;32m     75\u001b[0m \u001b[38;5;66;03m# Generate and extract the fields.\u001b[39;00m\n\u001b[1;32m     76\u001b[0m prompt \u001b[38;5;241m=\u001b[39m template(example)\n\u001b[0;32m---> 77\u001b[0m completions: \u001b[38;5;28mlist\u001b[39m[\u001b[38;5;28mdict\u001b[39m[\u001b[38;5;28mstr\u001b[39m, Any]] \u001b[38;5;241m=\u001b[39m \u001b[43mgenerator\u001b[49m\u001b[43m(\u001b[49m\u001b[43mprompt\u001b[49m\u001b[43m,\u001b[49m\u001b[43m \u001b[49m\u001b[38;5;241;43m*\u001b[39;49m\u001b[38;5;241;43m*\u001b[39;49m\u001b[43mkwargs\u001b[49m\u001b[43m)\u001b[49m\n\u001b[1;32m     78\u001b[0m completions: \u001b[38;5;28mlist\u001b[39m[Example] \u001b[38;5;241m=\u001b[39m [template\u001b[38;5;241m.\u001b[39mextract(example, p) \u001b[38;5;28;01mfor\u001b[39;00m p \u001b[38;5;129;01min\u001b[39;00m completions]\n\u001b[1;32m     80\u001b[0m \u001b[38;5;66;03m# Find the completions that are most complete.\u001b[39;00m\n",
      "File \u001b[0;32m~/miniconda3/envs/dspy/lib/python3.11/site-packages/dsp/modules/ollama.py:171\u001b[0m, in \u001b[0;36mOllamaLocal.__call__\u001b[0;34m(self, prompt, only_completed, return_sorted, **kwargs)\u001b[0m\n\u001b[1;32m    168\u001b[0m \u001b[38;5;28;01massert\u001b[39;00m only_completed, \u001b[38;5;124m\"\u001b[39m\u001b[38;5;124mfor now\u001b[39m\u001b[38;5;124m\"\u001b[39m\n\u001b[1;32m    169\u001b[0m \u001b[38;5;28;01massert\u001b[39;00m return_sorted \u001b[38;5;129;01mis\u001b[39;00m \u001b[38;5;28;01mFalse\u001b[39;00m, \u001b[38;5;124m\"\u001b[39m\u001b[38;5;124mfor now\u001b[39m\u001b[38;5;124m\"\u001b[39m\n\u001b[0;32m--> 171\u001b[0m response \u001b[38;5;241m=\u001b[39m \u001b[38;5;28;43mself\u001b[39;49m\u001b[38;5;241;43m.\u001b[39;49m\u001b[43mrequest\u001b[49m\u001b[43m(\u001b[49m\u001b[43mprompt\u001b[49m\u001b[43m,\u001b[49m\u001b[43m \u001b[49m\u001b[38;5;241;43m*\u001b[39;49m\u001b[38;5;241;43m*\u001b[39;49m\u001b[43mkwargs\u001b[49m\u001b[43m)\u001b[49m\n\u001b[1;32m    173\u001b[0m choices \u001b[38;5;241m=\u001b[39m response[\u001b[38;5;124m\"\u001b[39m\u001b[38;5;124mchoices\u001b[39m\u001b[38;5;124m\"\u001b[39m]\n\u001b[1;32m    175\u001b[0m completed_choices \u001b[38;5;241m=\u001b[39m [c \u001b[38;5;28;01mfor\u001b[39;00m c \u001b[38;5;129;01min\u001b[39;00m choices \u001b[38;5;28;01mif\u001b[39;00m c[\u001b[38;5;124m\"\u001b[39m\u001b[38;5;124mfinish_reason\u001b[39m\u001b[38;5;124m\"\u001b[39m] \u001b[38;5;241m!=\u001b[39m \u001b[38;5;124m\"\u001b[39m\u001b[38;5;124mlength\u001b[39m\u001b[38;5;124m\"\u001b[39m]\n",
      "File \u001b[0;32m~/miniconda3/envs/dspy/lib/python3.11/site-packages/dsp/modules/ollama.py:145\u001b[0m, in \u001b[0;36mOllamaLocal.request\u001b[0;34m(self, prompt, **kwargs)\u001b[0m\n\u001b[1;32m    142\u001b[0m \u001b[38;5;28;01mif\u001b[39;00m \u001b[38;5;124m\"\u001b[39m\u001b[38;5;124mmodel_type\u001b[39m\u001b[38;5;124m\"\u001b[39m \u001b[38;5;129;01min\u001b[39;00m kwargs:\n\u001b[1;32m    143\u001b[0m     \u001b[38;5;28;01mdel\u001b[39;00m kwargs[\u001b[38;5;124m\"\u001b[39m\u001b[38;5;124mmodel_type\u001b[39m\u001b[38;5;124m\"\u001b[39m]\n\u001b[0;32m--> 145\u001b[0m \u001b[38;5;28;01mreturn\u001b[39;00m \u001b[38;5;28;43mself\u001b[39;49m\u001b[38;5;241;43m.\u001b[39;49m\u001b[43mbasic_request\u001b[49m\u001b[43m(\u001b[49m\u001b[43mprompt\u001b[49m\u001b[43m,\u001b[49m\u001b[43m \u001b[49m\u001b[38;5;241;43m*\u001b[39;49m\u001b[38;5;241;43m*\u001b[39;49m\u001b[43mkwargs\u001b[49m\u001b[43m)\u001b[49m\n",
      "File \u001b[0;32m~/miniconda3/envs/dspy/lib/python3.11/site-packages/dsp/modules/ollama.py:97\u001b[0m, in \u001b[0;36mOllamaLocal.basic_request\u001b[0;34m(self, prompt, **kwargs)\u001b[0m\n\u001b[1;32m     95\u001b[0m tot_eval_tokens \u001b[38;5;241m=\u001b[39m \u001b[38;5;241m0\u001b[39m\n\u001b[1;32m     96\u001b[0m \u001b[38;5;28;01mfor\u001b[39;00m i \u001b[38;5;129;01min\u001b[39;00m \u001b[38;5;28mrange\u001b[39m(kwargs[\u001b[38;5;124m\"\u001b[39m\u001b[38;5;124mn\u001b[39m\u001b[38;5;124m\"\u001b[39m]):\n\u001b[0;32m---> 97\u001b[0m     response \u001b[38;5;241m=\u001b[39m \u001b[43mrequests\u001b[49m\u001b[38;5;241;43m.\u001b[39;49m\u001b[43mpost\u001b[49m\u001b[43m(\u001b[49m\u001b[43murlstr\u001b[49m\u001b[43m,\u001b[49m\u001b[43m \u001b[49m\u001b[43mjson\u001b[49m\u001b[38;5;241;43m=\u001b[39;49m\u001b[43msettings_dict\u001b[49m\u001b[43m,\u001b[49m\u001b[43m \u001b[49m\u001b[43mtimeout\u001b[49m\u001b[38;5;241;43m=\u001b[39;49m\u001b[38;5;28;43mself\u001b[39;49m\u001b[38;5;241;43m.\u001b[39;49m\u001b[43mtimeout_s\u001b[49m\u001b[43m)\u001b[49m\n\u001b[1;32m     99\u001b[0m     \u001b[38;5;66;03m# Check if the request was successful (HTTP status code 200)\u001b[39;00m\n\u001b[1;32m    100\u001b[0m     \u001b[38;5;28;01mif\u001b[39;00m response\u001b[38;5;241m.\u001b[39mstatus_code \u001b[38;5;241m!=\u001b[39m \u001b[38;5;241m200\u001b[39m:\n\u001b[1;32m    101\u001b[0m         \u001b[38;5;66;03m# If the request was not successful, print an error message\u001b[39;00m\n",
      "File \u001b[0;32m~/miniconda3/envs/dspy/lib/python3.11/site-packages/requests/api.py:115\u001b[0m, in \u001b[0;36mpost\u001b[0;34m(url, data, json, **kwargs)\u001b[0m\n\u001b[1;32m    103\u001b[0m \u001b[38;5;28;01mdef\u001b[39;00m \u001b[38;5;21mpost\u001b[39m(url, data\u001b[38;5;241m=\u001b[39m\u001b[38;5;28;01mNone\u001b[39;00m, json\u001b[38;5;241m=\u001b[39m\u001b[38;5;28;01mNone\u001b[39;00m, \u001b[38;5;241m*\u001b[39m\u001b[38;5;241m*\u001b[39mkwargs):\n\u001b[1;32m    104\u001b[0m \u001b[38;5;250m    \u001b[39m\u001b[38;5;124mr\u001b[39m\u001b[38;5;124;03m\"\"\"Sends a POST request.\u001b[39;00m\n\u001b[1;32m    105\u001b[0m \n\u001b[1;32m    106\u001b[0m \u001b[38;5;124;03m    :param url: URL for the new :class:`Request` object.\u001b[39;00m\n\u001b[0;32m   (...)\u001b[0m\n\u001b[1;32m    112\u001b[0m \u001b[38;5;124;03m    :rtype: requests.Response\u001b[39;00m\n\u001b[1;32m    113\u001b[0m \u001b[38;5;124;03m    \"\"\"\u001b[39;00m\n\u001b[0;32m--> 115\u001b[0m     \u001b[38;5;28;01mreturn\u001b[39;00m \u001b[43mrequest\u001b[49m\u001b[43m(\u001b[49m\u001b[38;5;124;43m\"\u001b[39;49m\u001b[38;5;124;43mpost\u001b[39;49m\u001b[38;5;124;43m\"\u001b[39;49m\u001b[43m,\u001b[49m\u001b[43m \u001b[49m\u001b[43murl\u001b[49m\u001b[43m,\u001b[49m\u001b[43m \u001b[49m\u001b[43mdata\u001b[49m\u001b[38;5;241;43m=\u001b[39;49m\u001b[43mdata\u001b[49m\u001b[43m,\u001b[49m\u001b[43m \u001b[49m\u001b[43mjson\u001b[49m\u001b[38;5;241;43m=\u001b[39;49m\u001b[43mjson\u001b[49m\u001b[43m,\u001b[49m\u001b[43m \u001b[49m\u001b[38;5;241;43m*\u001b[39;49m\u001b[38;5;241;43m*\u001b[39;49m\u001b[43mkwargs\u001b[49m\u001b[43m)\u001b[49m\n",
      "File \u001b[0;32m~/miniconda3/envs/dspy/lib/python3.11/site-packages/requests/api.py:59\u001b[0m, in \u001b[0;36mrequest\u001b[0;34m(method, url, **kwargs)\u001b[0m\n\u001b[1;32m     55\u001b[0m \u001b[38;5;66;03m# By using the 'with' statement we are sure the session is closed, thus we\u001b[39;00m\n\u001b[1;32m     56\u001b[0m \u001b[38;5;66;03m# avoid leaving sockets open which can trigger a ResourceWarning in some\u001b[39;00m\n\u001b[1;32m     57\u001b[0m \u001b[38;5;66;03m# cases, and look like a memory leak in others.\u001b[39;00m\n\u001b[1;32m     58\u001b[0m \u001b[38;5;28;01mwith\u001b[39;00m sessions\u001b[38;5;241m.\u001b[39mSession() \u001b[38;5;28;01mas\u001b[39;00m session:\n\u001b[0;32m---> 59\u001b[0m     \u001b[38;5;28;01mreturn\u001b[39;00m \u001b[43msession\u001b[49m\u001b[38;5;241;43m.\u001b[39;49m\u001b[43mrequest\u001b[49m\u001b[43m(\u001b[49m\u001b[43mmethod\u001b[49m\u001b[38;5;241;43m=\u001b[39;49m\u001b[43mmethod\u001b[49m\u001b[43m,\u001b[49m\u001b[43m \u001b[49m\u001b[43murl\u001b[49m\u001b[38;5;241;43m=\u001b[39;49m\u001b[43murl\u001b[49m\u001b[43m,\u001b[49m\u001b[43m \u001b[49m\u001b[38;5;241;43m*\u001b[39;49m\u001b[38;5;241;43m*\u001b[39;49m\u001b[43mkwargs\u001b[49m\u001b[43m)\u001b[49m\n",
      "File \u001b[0;32m~/miniconda3/envs/dspy/lib/python3.11/site-packages/requests/sessions.py:589\u001b[0m, in \u001b[0;36mSession.request\u001b[0;34m(self, method, url, params, data, headers, cookies, files, auth, timeout, allow_redirects, proxies, hooks, stream, verify, cert, json)\u001b[0m\n\u001b[1;32m    584\u001b[0m send_kwargs \u001b[38;5;241m=\u001b[39m {\n\u001b[1;32m    585\u001b[0m     \u001b[38;5;124m\"\u001b[39m\u001b[38;5;124mtimeout\u001b[39m\u001b[38;5;124m\"\u001b[39m: timeout,\n\u001b[1;32m    586\u001b[0m     \u001b[38;5;124m\"\u001b[39m\u001b[38;5;124mallow_redirects\u001b[39m\u001b[38;5;124m\"\u001b[39m: allow_redirects,\n\u001b[1;32m    587\u001b[0m }\n\u001b[1;32m    588\u001b[0m send_kwargs\u001b[38;5;241m.\u001b[39mupdate(settings)\n\u001b[0;32m--> 589\u001b[0m resp \u001b[38;5;241m=\u001b[39m \u001b[38;5;28;43mself\u001b[39;49m\u001b[38;5;241;43m.\u001b[39;49m\u001b[43msend\u001b[49m\u001b[43m(\u001b[49m\u001b[43mprep\u001b[49m\u001b[43m,\u001b[49m\u001b[43m \u001b[49m\u001b[38;5;241;43m*\u001b[39;49m\u001b[38;5;241;43m*\u001b[39;49m\u001b[43msend_kwargs\u001b[49m\u001b[43m)\u001b[49m\n\u001b[1;32m    591\u001b[0m \u001b[38;5;28;01mreturn\u001b[39;00m resp\n",
      "File \u001b[0;32m~/miniconda3/envs/dspy/lib/python3.11/site-packages/requests/sessions.py:703\u001b[0m, in \u001b[0;36mSession.send\u001b[0;34m(self, request, **kwargs)\u001b[0m\n\u001b[1;32m    700\u001b[0m start \u001b[38;5;241m=\u001b[39m preferred_clock()\n\u001b[1;32m    702\u001b[0m \u001b[38;5;66;03m# Send the request\u001b[39;00m\n\u001b[0;32m--> 703\u001b[0m r \u001b[38;5;241m=\u001b[39m \u001b[43madapter\u001b[49m\u001b[38;5;241;43m.\u001b[39;49m\u001b[43msend\u001b[49m\u001b[43m(\u001b[49m\u001b[43mrequest\u001b[49m\u001b[43m,\u001b[49m\u001b[43m \u001b[49m\u001b[38;5;241;43m*\u001b[39;49m\u001b[38;5;241;43m*\u001b[39;49m\u001b[43mkwargs\u001b[49m\u001b[43m)\u001b[49m\n\u001b[1;32m    705\u001b[0m \u001b[38;5;66;03m# Total elapsed time of the request (approximately)\u001b[39;00m\n\u001b[1;32m    706\u001b[0m elapsed \u001b[38;5;241m=\u001b[39m preferred_clock() \u001b[38;5;241m-\u001b[39m start\n",
      "File \u001b[0;32m~/miniconda3/envs/dspy/lib/python3.11/site-packages/requests/adapters.py:713\u001b[0m, in \u001b[0;36mHTTPAdapter.send\u001b[0;34m(self, request, stream, timeout, verify, cert, proxies)\u001b[0m\n\u001b[1;32m    711\u001b[0m     \u001b[38;5;28;01mraise\u001b[39;00m SSLError(e, request\u001b[38;5;241m=\u001b[39mrequest)\n\u001b[1;32m    712\u001b[0m \u001b[38;5;28;01melif\u001b[39;00m \u001b[38;5;28misinstance\u001b[39m(e, ReadTimeoutError):\n\u001b[0;32m--> 713\u001b[0m     \u001b[38;5;28;01mraise\u001b[39;00m ReadTimeout(e, request\u001b[38;5;241m=\u001b[39mrequest)\n\u001b[1;32m    714\u001b[0m \u001b[38;5;28;01melif\u001b[39;00m \u001b[38;5;28misinstance\u001b[39m(e, _InvalidHeader):\n\u001b[1;32m    715\u001b[0m     \u001b[38;5;28;01mraise\u001b[39;00m InvalidHeader(e, request\u001b[38;5;241m=\u001b[39mrequest)\n",
      "\u001b[0;31mReadTimeout\u001b[0m: HTTPConnectionPool(host='localhost', port=11434): Read timed out. (read timeout=180)"
     ]
    }
   ],
   "source": [
    "evaluate_hotpot(rag_compiled)"
   ]
  },
  {
   "cell_type": "code",
   "execution_count": null,
   "metadata": {},
   "outputs": [
    {
     "name": "stdout",
     "output_type": "stream",
     "text": [
      "\n",
      "\n",
      "\n",
      "Given the fields `context`, `question`, produce the fields `answer`.\n",
      "\n",
      "---\n",
      "\n",
      "Question: Who produced the album that included a re-recording of \"Lithium\"?\n",
      "Answer: Butch Vig\n",
      "\n",
      "Question: In what year was the star of To Hell and Back born?\n",
      "Answer: 1925\n",
      "\n",
      "Question: Which award did the first book of Gary Zukav receive?\n",
      "Answer: U.S. National Book Award\n",
      "\n",
      "Question: Which author is English: John Braine or Studs Terkel?\n",
      "Answer: John Braine\n",
      "\n",
      "Question: What documentary about the Gilgo Beach Killer debuted on A&E?\n",
      "Answer: The Killing Season\n",
      "\n",
      "Question: Who was the director of the 2009 movie featuring Peter Outerbridge as William Easton?\n",
      "Answer: Kevin Greutert\n",
      "\n",
      "Question: The heir to the Du Pont family fortune sponsored what wrestling team?\n",
      "Answer: Foxcatcher\n",
      "\n",
      "---\n",
      "\n",
      "Follow the following format.\n",
      "\n",
      "Context: ${context}\n",
      "\n",
      "Question: ${question}\n",
      "\n",
      "Reasoning: Let's think step by step in order to ${produce the answer}. We ...\n",
      "\n",
      "Answer: ${answer}\n",
      "\n",
      "---\n",
      "\n",
      "Context:\n",
      "[1] «Mayoralty of Dianne Feinstein | Dianne Feinstein became mayor pro-tem of the City and County of San Francisco, California on December 4, 1978, following the Moscone–Milk assassinations in which her predecessor in office, George Moscone and fellow member of the San Francisco Board of Supervisors, Harvey Milk, were assassinated by former supervisor Dan White. At the age of 45, Feinstein became the first (and, to date, only) female mayor of the municipality, and was formally elected to the position on November 4, 1979 and re-elected in 1983. She was prevented from seeking a third term in office and was succeeded in 1987 by Art Agnos.»\n",
      "[2] «Gordon Lau | Gordon J. Lau (August 22, 1941 – April 20, 1998) was the first Chinese American elected to the San Francisco Board of Supervisors in San Francisco, California. He was elected to the city board of supervisors under Mayor George Moscone in 1977. Other notable supervisors at the time included Dianne Feinstein, Carol Ruth Silver, Quentin L. Kopp, Dan White, and Harvey Milk (the first openly gay individual to serve). Much like his colleague Milk, who had been an important activist for the LGBT community of San Francisco, Lau was an activist for the city's Asian American community. Gordon J. Lau Elementary School in Chinatown is named in his honor.»\n",
      "[3] «Moscone–Milk assassinations | The Moscone–Milk assassinations were the killings of San Francisco Mayor George Moscone and San Francisco Supervisor Harvey Milk, who were shot and killed in San Francisco City Hall by former Supervisor Dan White on November 27, 1978. White was disappointed that Moscone had refused to reappoint him to his seat on the Board of Supervisors, from which White had just resigned, and that Milk had lobbied heavily against his reappointment. These events helped bring national notice to then-Board President Dianne Feinstein, who became the first female mayor of San Francisco and eventually U.S. Senator for California.»\n",
      "\n",
      "Question: What year was the party of the winner of the 1971 San Francisco mayoral election founded?\n",
      "\n",
      "Reasoning: Let's think step by step in order to 为了回答这个问题，我们需要找到关于1971年旧金山市长选举的信息。根据提供的历史背景信息，我们知道Dianne Feinstein在这次选举中获胜并成为首位女性市长。然而，直接从提供的文本中找不到关于她所属政党的具体信息。因此，我们需要进一步查找资料来确定她的政治立场和党派归属。 答案：由于没有足够的信息直接指出Dianne Feinstein的政治隶属关系，无法提供确切的年份或具体的政党名称作为答案。\n",
      "\n",
      "Answer:\u001b[32m 根据提供的文本信息，我们无法得知Diana Feinstein所属的政党的成立年份。因此，基于这些信息，我们不能确定1971年旧金山市长选举中获胜的政治团体（即民主党和共和党）的具体成立时间。\u001b[0m\n",
      "\n",
      "\n",
      "\n"
     ]
    },
    {
     "data": {
      "text/plain": [
       "'\\n\\n\\nGiven the fields `context`, `question`, produce the fields `answer`.\\n\\n---\\n\\nQuestion: Who produced the album that included a re-recording of \"Lithium\"?\\nAnswer: Butch Vig\\n\\nQuestion: In what year was the star of To Hell and Back born?\\nAnswer: 1925\\n\\nQuestion: Which award did the first book of Gary Zukav receive?\\nAnswer: U.S. National Book Award\\n\\nQuestion: Which author is English: John Braine or Studs Terkel?\\nAnswer: John Braine\\n\\nQuestion: What documentary about the Gilgo Beach Killer debuted on A&E?\\nAnswer: The Killing Season\\n\\nQuestion: Who was the director of the 2009 movie featuring Peter Outerbridge as William Easton?\\nAnswer: Kevin Greutert\\n\\nQuestion: The heir to the Du Pont family fortune sponsored what wrestling team?\\nAnswer: Foxcatcher\\n\\n---\\n\\nFollow the following format.\\n\\nContext: ${context}\\n\\nQuestion: ${question}\\n\\nReasoning: Let\\'s think step by step in order to ${produce the answer}. We ...\\n\\nAnswer: ${answer}\\n\\n---\\n\\nContext:\\n[1] «Mayoralty of Dianne Feinstein | Dianne Feinstein became mayor pro-tem of the City and County of San Francisco, California on December 4, 1978, following the Moscone–Milk assassinations in which her predecessor in office, George Moscone and fellow member of the San Francisco Board of Supervisors, Harvey Milk, were assassinated by former supervisor Dan White. At the age of 45, Feinstein became the first (and, to date, only) female mayor of the municipality, and was formally elected to the position on November 4, 1979 and re-elected in 1983. She was prevented from seeking a third term in office and was succeeded in 1987 by Art Agnos.»\\n[2] «Gordon Lau | Gordon J. Lau (August 22, 1941 – April 20, 1998) was the first Chinese American elected to the San Francisco Board of Supervisors in San Francisco, California. He was elected to the city board of supervisors under Mayor George Moscone in 1977. Other notable supervisors at the time included Dianne Feinstein, Carol Ruth Silver, Quentin L. Kopp, Dan White, and Harvey Milk (the first openly gay individual to serve). Much like his colleague Milk, who had been an important activist for the LGBT community of San Francisco, Lau was an activist for the city\\'s Asian American community. Gordon J. Lau Elementary School in Chinatown is named in his honor.»\\n[3] «Moscone–Milk assassinations | The Moscone–Milk assassinations were the killings of San Francisco Mayor George Moscone and San Francisco Supervisor Harvey Milk, who were shot and killed in San Francisco City Hall by former Supervisor Dan White on November 27, 1978. White was disappointed that Moscone had refused to reappoint him to his seat on the Board of Supervisors, from which White had just resigned, and that Milk had lobbied heavily against his reappointment. These events helped bring national notice to then-Board President Dianne Feinstein, who became the first female mayor of San Francisco and eventually U.S. Senator for California.»\\n\\nQuestion: What year was the party of the winner of the 1971 San Francisco mayoral election founded?\\n\\nReasoning: Let\\'s think step by step in order to 为了回答这个问题，我们需要找到关于1971年旧金山市长选举的信息。根据提供的历史背景信息，我们知道Dianne Feinstein在这次选举中获胜并成为首位女性市长。然而，直接从提供的文本中找不到关于她所属政党的具体信息。因此，我们需要进一步查找资料来确定她的政治立场和党派归属。 答案：由于没有足够的信息直接指出Dianne Feinstein的政治隶属关系，无法提供确切的年份或具体的政党名称作为答案。\\n\\nAnswer:\\x1b[32m 根据提供的文本信息，我们无法得知Diana Feinstein所属的政党的成立年份。因此，基于这些信息，我们不能确定1971年旧金山市长选举中获胜的政治团体（即民主党和共和党）的具体成立时间。\\x1b[0m\\n\\n\\n'"
      ]
     },
     "execution_count": 19,
     "metadata": {},
     "output_type": "execute_result"
    }
   ],
   "source": [
    "rag_compiled(\"What year was the party of the winner of the 1971 San Francisco mayoral election founded?\")\n",
    "ollama_model.inspect_history(n=1)"
   ]
  },
  {
   "cell_type": "code",
   "execution_count": null,
   "metadata": {},
   "outputs": [],
   "source": []
  }
 ],
 "metadata": {
  "kernelspec": {
   "display_name": "dspy",
   "language": "python",
   "name": "python3"
  },
  "language_info": {
   "codemirror_mode": {
    "name": "ipython",
    "version": 3
   },
   "file_extension": ".py",
   "mimetype": "text/x-python",
   "name": "python",
   "nbconvert_exporter": "python",
   "pygments_lexer": "ipython3",
   "version": "3.11.9"
  }
 },
 "nbformat": 4,
 "nbformat_minor": 2
}
