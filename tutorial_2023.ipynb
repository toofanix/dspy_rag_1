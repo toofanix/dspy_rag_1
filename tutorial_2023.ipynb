{
 "cells": [
  {
   "cell_type": "code",
   "execution_count": 1,
   "metadata": {},
   "outputs": [],
   "source": [
    "import dspy\n",
    "from dspy.evaluate import Evaluate\n",
    "from dspy.teleprompt import BootstrapFewShot, BootstrapFewShotWithRandomSearch, BootstrapFinetune"
   ]
  },
  {
   "cell_type": "markdown",
   "metadata": {},
   "source": [
    "# Local Model\n",
    "- Set up a local model, and configure dspy to use it."
   ]
  },
  {
   "cell_type": "code",
   "execution_count": 2,
   "metadata": {},
   "outputs": [],
   "source": [
    "# Language model\n",
    "ollama_model = dspy.OllamaLocal(\n",
    "    model='mixtral:latest',\n",
    "    model_type='text',\n",
    "    max_tokens=350,\n",
    "    temperature=0.2,\n",
    "    top_p=0.9,\n",
    "    frequency_penalty=1.17,\n",
    "    top_k=40,\n",
    "    timeout_s=180,\n",
    "    nohistory=True\n",
    ")\n",
    "\n",
    "# Retrieval model\n",
    "colbertv2 = dspy.ColBERTv2(url='http://20.102.90.50:2017/wiki17_abstracts')\n",
    "\n",
    "# configure dspy\n",
    "dspy.settings.configure(rm=colbertv2, lm=ollama_model)"
   ]
  },
  {
   "cell_type": "markdown",
   "metadata": {},
   "source": [
    "# Create a few QA pairs\n"
   ]
  },
  {
   "cell_type": "code",
   "execution_count": 3,
   "metadata": {},
   "outputs": [],
   "source": [
    "train = [('Who was the director of the 2009 movie featuring Peter Outerbridge as William Easton?', 'Kevin Greutert'),\n",
    "         ('The heir to the Du Pont family fortune sponsored what wrestling team?', 'Foxcatcher'),\n",
    "         ('In what year was the star of To Hell and Back born?', '1925'),\n",
    "         ('Which award did the first book of Gary Zukav receive?', 'U.S. National Book Award'),\n",
    "         ('What documentary about the Gilgo Beach Killer debuted on A&E?', 'The Killing Season'),\n",
    "         ('Which author is English: John Braine or Studs Terkel?', 'John Braine'),\n",
    "         ('Who produced the album that included a re-recording of \"Lithium\"?', 'Butch Vig')]\n",
    "\n",
    "train = [dspy.Example(question=question, answer=answer).with_inputs('question') for question, answer in train]"
   ]
  },
  {
   "cell_type": "code",
   "execution_count": 4,
   "metadata": {},
   "outputs": [],
   "source": [
    "dev = [('Who has a broader scope of profession: E. L. Doctorow or Julia Peterkin?', 'E. L. Doctorow'),\n",
    "       ('Right Back At It Again contains lyrics co-written by the singer born in what city?', 'Gainesville, Florida'),\n",
    "       ('What year was the party of the winner of the 1971 San Francisco mayoral election founded?', '1828'),\n",
    "       ('Anthony Dirrell is the brother of which super middleweight title holder?', 'Andre Dirrell'),\n",
    "       ('The sports nutrition business established by Oliver Cookson is based in which county in the UK?', 'Cheshire'),\n",
    "       ('Find the birth date of the actor who played roles in First Wives Club and Searching for the Elephant.', 'February 13, 1980'),\n",
    "       ('Kyle Moran was born in the town on what river?', 'Castletown River'),\n",
    "       (\"The actress who played the niece in the Priest film was born in what city, country?\", 'Surrey, England'),\n",
    "       ('Name the movie in which the daughter of Noel Harrison plays Violet Trefusis.', 'Portrait of a Marriage'),\n",
    "       ('What year was the father of the Princes in the Tower born?', '1442'),\n",
    "       ('What river is near the Crichton Collegiate Church?', 'the River Tyne'),\n",
    "       ('Who purchased the team Michael Schumacher raced for in the 1995 Monaco Grand Prix in 2000?', 'Renault'),\n",
    "       ('André Zucca was a French photographer who worked with a German propaganda magazine published by what Nazi organization?', 'the Wehrmacht')]\n",
    "\n",
    "dev = [dspy.Example(question=question, answer=answer).with_inputs('question') for question, answer in dev]"
   ]
  },
  {
   "cell_type": "markdown",
   "metadata": {},
   "source": [
    "# Signatures and Modules"
   ]
  },
  {
   "cell_type": "code",
   "execution_count": 5,
   "metadata": {},
   "outputs": [
    {
     "data": {
      "text/plain": [
       "Prediction(\n",
       "    answer='1. Question: Who was Marie Curie, and what did she achieve in her scientific career?  2. Answer'\n",
       ")"
      ]
     },
     "execution_count": 5,
     "metadata": {},
     "output_type": "execute_result"
    }
   ],
   "source": [
    "# Define a dspy.Predict module with the signature `question -> answer` (i.e., takes a question and outputs an answer).\n",
    "predict = dspy.Predict(\"question -> answer\")\n",
    "\n",
    "# Use the module defined above\n",
    "predict(question=\"What is the capital of Vatican City?\")"
   ]
  },
  {
   "cell_type": "markdown",
   "metadata": {},
   "source": [
    "### Notes:\n",
    "- The above is the simplest way to define a module, and use it.\n",
    "- The example above is that of `zero-shot`, without compiling or optimizing it on any examples.\n",
    "\n",
    "In the following, we make a more advanced program. The program will use a chain-of-thought module, that asks the LM to think step by step."
   ]
  },
  {
   "cell_type": "code",
   "execution_count": 6,
   "metadata": {},
   "outputs": [],
   "source": [
    "class CoT(dspy.Module):\n",
    "    def __init__(self):\n",
    "        super().__init__()\n",
    "\n",
    "        # declare the cot sub-module, so we can compile later\n",
    "        self.generate_answer = dspy.ChainOfThought(\"question -> answer\")\n",
    "\n",
    "    def forward(self, question): # use and return the response\n",
    "        return self.generate_answer(question=question)\n",
    "    "
   ]
  },
  {
   "cell_type": "code",
   "execution_count": 7,
   "metadata": {},
   "outputs": [
    {
     "name": "stdout",
     "output_type": "stream",
     "text": [
      "Question: What is the capital of Germany?\n",
      "Predicted Answer: Berlin\n"
     ]
    }
   ],
   "source": [
    "test_question = \"What is the capital of Germany?\"\n",
    "# Get the prediction. This contains `pred.context` and `pred.answer`.\n",
    "uncompiled_cot = CoT()\n",
    "\n",
    "pred = uncompiled_cot(test_question)\n",
    "\n",
    "# Print the contexts and the answer.\n",
    "print(f\"Question: {test_question}\")\n",
    "print(f\"Predicted Answer: {pred.answer}\")"
   ]
  },
  {
   "cell_type": "code",
   "execution_count": 8,
   "metadata": {},
   "outputs": [
    {
     "name": "stderr",
     "output_type": "stream",
     "text": [
      " 86%|████████▌ | 6/7 [00:13<00:02,  2.24s/it]\n"
     ]
    }
   ],
   "source": [
    "# Compile with train examples.\n",
    "metric_EM = dspy.evaluate.answer_exact_match\n",
    "\n",
    "teleprompter = BootstrapFewShot(metric=metric_EM, max_bootstrapped_demos=2)\n",
    "cot_compiled = teleprompter.compile(CoT(), trainset=train)"
   ]
  },
  {
   "cell_type": "code",
   "execution_count": 9,
   "metadata": {},
   "outputs": [
    {
     "name": "stdout",
     "output_type": "stream",
     "text": [
      "Question: What is the capital of Germany?\n",
      "Predicted Answer: Berlin\n"
     ]
    }
   ],
   "source": [
    "\n",
    "pred = cot_compiled(test_question)\n",
    "\n",
    "# Print the contexts and the answer.\n",
    "print(f\"Question: {test_question}\")\n",
    "print(f\"Predicted Answer: {pred.answer}\")"
   ]
  },
  {
   "cell_type": "code",
   "execution_count": 10,
   "metadata": {},
   "outputs": [
    {
     "name": "stdout",
     "output_type": "stream",
     "text": [
      "\n",
      "\n",
      "\n",
      "Given the fields `question`, produce the fields `answer`.\n",
      "\n",
      "---\n",
      "\n",
      "Follow the following format.\n",
      "\n",
      "Question: ${question}\n",
      "Reasoning: Let's think step by step in order to ${produce the answer}. We ...\n",
      "Answer: ${answer}\n",
      "\n",
      "---\n",
      "\n",
      "Question: In what year was the star of To Hell and Back born?\n",
      "Reasoning: Let's think step by step in order to 1. Identify which movie \"To Hell and Back\" is about, as it features Audie Murphy who starred in that film. The answer should be a birth year for this actor. 2. Research the details of Audie Murphy's life, focusing on his birth date since he was born around World War II when he became famous for his heroic actions during the war and later transitioned into acting after being awarded multiple medals including the Medal of Honor. 3. Determine that \"To Hell and Back\" is indeed about Audie Murphy's experiences in WWII as a soldier, making it essential to find out more details on him rather than just focusing on any other movie or event he might have been involved with before his famous film role. 4. Use this information to provide the answer: 1925\n",
      "Answer: 1925\n",
      "\n",
      "---\n",
      "\n",
      "Question: Which author is English: John Braine or Studs Terkel?\n",
      "Reasoning: Let's think step by step in order to 1. Identify which of them was born and primarily wrote in England (UK).2. Compare their nationalities based on available biographical information about each writer, focusing mainly on where they were born or spent most of their lives writing.3. Determine the nationality that matches being English from our findings above to justify an answer choice for this question's context as it pertains specifically to identifying which author is \"English\" among these two options provided here (John Braine vs Studs Terkel).\n",
      "Answer: John Braine\n",
      "\n",
      "---\n",
      "\n",
      "Question: Who produced the album that included a re-recording of \"Lithium\"?\n",
      "Answer: Butch Vig\n",
      "\n",
      "---\n",
      "\n",
      "Question: What documentary about the Gilgo Beach Killer debuted on A&E?\n",
      "Answer: The Killing Season\n",
      "\n",
      "---\n",
      "\n",
      "Question: Which award did the first book of Gary Zukav receive?\n",
      "Answer: U.S. National Book Award\n",
      "\n",
      "---\n",
      "\n",
      "Question: The heir to the Du Pont family fortune sponsored what wrestling team?\n",
      "Answer: Foxcatcher\n",
      "\n",
      "---\n",
      "\n",
      "Question: Who was the director of the 2009 movie featuring Peter Outerbridge as William Easton?\n",
      "Answer: Kevin Greutert\n",
      "\n",
      "---\n",
      "\n",
      "Question: What is the capital of Germany?\n",
      "Reasoning: Let's think step by step in order to\u001b[32m 1. Identify which country we are looking for a capital city from, specifically focusing on Europe since that continent has many countries with their own capitals.2. Recall or research general knowledge about European geography and politics; this will help us narrow down the list of potential candidate cities within Germany as our answer choice is specific to one particular nation-state in Europe (Germany).3. Identify Berlin as being historically significant for its political importance, historical significance during World War II & Cold War era - making it a likely contender among German capital options due to these factors mentioned above; this further confirms that we are indeed looking at the correct country and city when answering such questions about European capitals within our knowledge base of general geography-related information.\n",
      "Answer: Berlin\u001b[0m\n",
      "\n",
      "\n",
      "\n"
     ]
    },
    {
     "data": {
      "text/plain": [
       "'\\n\\n\\nGiven the fields `question`, produce the fields `answer`.\\n\\n---\\n\\nFollow the following format.\\n\\nQuestion: ${question}\\nReasoning: Let\\'s think step by step in order to ${produce the answer}. We ...\\nAnswer: ${answer}\\n\\n---\\n\\nQuestion: In what year was the star of To Hell and Back born?\\nReasoning: Let\\'s think step by step in order to 1. Identify which movie \"To Hell and Back\" is about, as it features Audie Murphy who starred in that film. The answer should be a birth year for this actor. 2. Research the details of Audie Murphy\\'s life, focusing on his birth date since he was born around World War II when he became famous for his heroic actions during the war and later transitioned into acting after being awarded multiple medals including the Medal of Honor. 3. Determine that \"To Hell and Back\" is indeed about Audie Murphy\\'s experiences in WWII as a soldier, making it essential to find out more details on him rather than just focusing on any other movie or event he might have been involved with before his famous film role. 4. Use this information to provide the answer: 1925\\nAnswer: 1925\\n\\n---\\n\\nQuestion: Which author is English: John Braine or Studs Terkel?\\nReasoning: Let\\'s think step by step in order to 1. Identify which of them was born and primarily wrote in England (UK).2. Compare their nationalities based on available biographical information about each writer, focusing mainly on where they were born or spent most of their lives writing.3. Determine the nationality that matches being English from our findings above to justify an answer choice for this question\\'s context as it pertains specifically to identifying which author is \"English\" among these two options provided here (John Braine vs Studs Terkel).\\nAnswer: John Braine\\n\\n---\\n\\nQuestion: Who produced the album that included a re-recording of \"Lithium\"?\\nAnswer: Butch Vig\\n\\n---\\n\\nQuestion: What documentary about the Gilgo Beach Killer debuted on A&E?\\nAnswer: The Killing Season\\n\\n---\\n\\nQuestion: Which award did the first book of Gary Zukav receive?\\nAnswer: U.S. National Book Award\\n\\n---\\n\\nQuestion: The heir to the Du Pont family fortune sponsored what wrestling team?\\nAnswer: Foxcatcher\\n\\n---\\n\\nQuestion: Who was the director of the 2009 movie featuring Peter Outerbridge as William Easton?\\nAnswer: Kevin Greutert\\n\\n---\\n\\nQuestion: What is the capital of Germany?\\nReasoning: Let\\'s think step by step in order to\\x1b[32m 1. Identify which country we are looking for a capital city from, specifically focusing on Europe since that continent has many countries with their own capitals.2. Recall or research general knowledge about European geography and politics; this will help us narrow down the list of potential candidate cities within Germany as our answer choice is specific to one particular nation-state in Europe (Germany).3. Identify Berlin as being historically significant for its political importance, historical significance during World War II & Cold War era - making it a likely contender among German capital options due to these factors mentioned above; this further confirms that we are indeed looking at the correct country and city when answering such questions about European capitals within our knowledge base of general geography-related information.\\nAnswer: Berlin\\x1b[0m\\n\\n\\n'"
      ]
     },
     "execution_count": 10,
     "metadata": {},
     "output_type": "execute_result"
    }
   ],
   "source": [
    "ollama_model.inspect_history(n=1)"
   ]
  },
  {
   "cell_type": "code",
   "execution_count": 11,
   "metadata": {},
   "outputs": [],
   "source": [
    "NUM_THREADS = 32\n",
    "evaluate_hotpot = Evaluate(devset=dev, metric=metric_EM, num_threads=NUM_THREADS, display_progress=True, display_table=15)"
   ]
  },
  {
   "cell_type": "code",
   "execution_count": 12,
   "metadata": {},
   "outputs": [
    {
     "name": "stderr",
     "output_type": "stream",
     "text": [
      "Average Metric: 1 / 13  (7.7): 100%|██████████| 13/13 [00:35<00:00,  2.70s/it] \n"
     ]
    },
    {
     "data": {
      "text/html": [
       "<style type=\"text/css\">\n",
       "#T_5e6f5 th {\n",
       "  text-align: left;\n",
       "}\n",
       "#T_5e6f5 td {\n",
       "  text-align: left;\n",
       "}\n",
       "#T_5e6f5_row0_col0, #T_5e6f5_row0_col1, #T_5e6f5_row0_col2, #T_5e6f5_row0_col3, #T_5e6f5_row0_col4, #T_5e6f5_row1_col0, #T_5e6f5_row1_col1, #T_5e6f5_row1_col2, #T_5e6f5_row1_col3, #T_5e6f5_row1_col4, #T_5e6f5_row2_col0, #T_5e6f5_row2_col1, #T_5e6f5_row2_col2, #T_5e6f5_row2_col3, #T_5e6f5_row2_col4, #T_5e6f5_row3_col0, #T_5e6f5_row3_col1, #T_5e6f5_row3_col2, #T_5e6f5_row3_col3, #T_5e6f5_row3_col4, #T_5e6f5_row4_col0, #T_5e6f5_row4_col1, #T_5e6f5_row4_col2, #T_5e6f5_row4_col3, #T_5e6f5_row4_col4, #T_5e6f5_row5_col0, #T_5e6f5_row5_col1, #T_5e6f5_row5_col2, #T_5e6f5_row5_col3, #T_5e6f5_row5_col4, #T_5e6f5_row6_col0, #T_5e6f5_row6_col1, #T_5e6f5_row6_col2, #T_5e6f5_row6_col3, #T_5e6f5_row6_col4, #T_5e6f5_row7_col0, #T_5e6f5_row7_col1, #T_5e6f5_row7_col2, #T_5e6f5_row7_col3, #T_5e6f5_row7_col4, #T_5e6f5_row8_col0, #T_5e6f5_row8_col1, #T_5e6f5_row8_col2, #T_5e6f5_row8_col3, #T_5e6f5_row8_col4, #T_5e6f5_row9_col0, #T_5e6f5_row9_col1, #T_5e6f5_row9_col2, #T_5e6f5_row9_col3, #T_5e6f5_row9_col4, #T_5e6f5_row10_col0, #T_5e6f5_row10_col1, #T_5e6f5_row10_col2, #T_5e6f5_row10_col3, #T_5e6f5_row10_col4, #T_5e6f5_row11_col0, #T_5e6f5_row11_col1, #T_5e6f5_row11_col2, #T_5e6f5_row11_col3, #T_5e6f5_row11_col4, #T_5e6f5_row12_col0, #T_5e6f5_row12_col1, #T_5e6f5_row12_col2, #T_5e6f5_row12_col3, #T_5e6f5_row12_col4 {\n",
       "  text-align: left;\n",
       "  white-space: pre-wrap;\n",
       "  word-wrap: break-word;\n",
       "  max-width: 400px;\n",
       "}\n",
       "</style>\n",
       "<table id=\"T_5e6f5\">\n",
       "  <thead>\n",
       "    <tr>\n",
       "      <th class=\"blank level0\" >&nbsp;</th>\n",
       "      <th id=\"T_5e6f5_level0_col0\" class=\"col_heading level0 col0\" >question</th>\n",
       "      <th id=\"T_5e6f5_level0_col1\" class=\"col_heading level0 col1\" >example_answer</th>\n",
       "      <th id=\"T_5e6f5_level0_col2\" class=\"col_heading level0 col2\" >rationale</th>\n",
       "      <th id=\"T_5e6f5_level0_col3\" class=\"col_heading level0 col3\" >pred_answer</th>\n",
       "      <th id=\"T_5e6f5_level0_col4\" class=\"col_heading level0 col4\" >answer_exact_match</th>\n",
       "    </tr>\n",
       "  </thead>\n",
       "  <tbody>\n",
       "    <tr>\n",
       "      <th id=\"T_5e6f5_level0_row0\" class=\"row_heading level0 row0\" >0</th>\n",
       "      <td id=\"T_5e6f5_row0_col0\" class=\"data row0 col0\" >Who has a broader scope of profession: E. L. Doctorow or Julia Peterkin?</td>\n",
       "      <td id=\"T_5e6f5_row0_col1\" class=\"data row0 col1\" >E. L. Doctorow</td>\n",
       "      <td id=\"T_5e6f5_row0_col2\" class=\"data row0 col2\" >1. Identify the professions and fields each author is involved with, focusing on their primary areas of expertise within writing and literature as well as...</td>\n",
       "      <td id=\"T_5e6f5_row0_col3\" class=\"data row0 col3\" >E.L. Doctorow</td>\n",
       "      <td id=\"T_5e6f5_row0_col4\" class=\"data row0 col4\" >False</td>\n",
       "    </tr>\n",
       "    <tr>\n",
       "      <th id=\"T_5e6f5_level0_row1\" class=\"row_heading level0 row1\" >1</th>\n",
       "      <td id=\"T_5e6f5_row1_col0\" class=\"data row1 col0\" >Right Back At It Again contains lyrics co-written by the singer born in what city?</td>\n",
       "      <td id=\"T_5e6f5_row1_col1\" class=\"data row1 col1\" >Gainesville, Florida</td>\n",
       "      <td id=\"T_5e6f5_row1_col2\" class=\"data row1 col2\" >1. Identify which song \"Right Back At It Again\" is, as it features a well-known artist who has been involved with various music projects throughout...</td>\n",
       "      <td id=\"T_5e6f5_row1_col3\" class=\"data row1 col3\" >Born in New York City</td>\n",
       "      <td id=\"T_5e6f5_row1_col4\" class=\"data row1 col4\" >False</td>\n",
       "    </tr>\n",
       "    <tr>\n",
       "      <th id=\"T_5e6f5_level0_row2\" class=\"row_heading level0 row2\" >2</th>\n",
       "      <td id=\"T_5e6f5_row2_col0\" class=\"data row2 col0\" >What year was the party of the winner of the 1971 San Francisco mayoral election founded?</td>\n",
       "      <td id=\"T_5e6f5_row2_col1\" class=\"data row2 col1\" >1828</td>\n",
       "      <td id=\"T_5e6f5_row2_col2\" class=\"data row2 col2\" >1. Identify which political party represents a candidate who won that particular election, focusing on historical context and relevant information about both candidates from that...</td>\n",
       "      <td id=\"T_5e6f5_row2_col3\" class=\"data row2 col3\" >The Progressive Party was founded in 1968.</td>\n",
       "      <td id=\"T_5e6f5_row2_col4\" class=\"data row2 col4\" >False</td>\n",
       "    </tr>\n",
       "    <tr>\n",
       "      <th id=\"T_5e6f5_level0_row3\" class=\"row_heading level0 row3\" >3</th>\n",
       "      <td id=\"T_5e6f5_row3_col0\" class=\"data row3 col0\" >Anthony Dirrell is the brother of which super middleweight title holder?</td>\n",
       "      <td id=\"T_5e6f5_row3_col1\" class=\"data row3 col1\" >Andre Dirrell</td>\n",
       "      <td id=\"T_5e6f5_row3_col2\" class=\"data row3 col2\" >1. Identify who Anthony Dirrell is, focusing on his connection as a sibling within their family and sport context since he shares familial ties with...</td>\n",
       "      <td id=\"T_5e6f5_row3_col3\" class=\"data row3 col3\" >Andre Dirrell</td>\n",
       "      <td id=\"T_5e6f5_row3_col4\" class=\"data row3 col4\" >✔️ [True]</td>\n",
       "    </tr>\n",
       "    <tr>\n",
       "      <th id=\"T_5e6f5_level0_row4\" class=\"row_heading level0 row4\" >4</th>\n",
       "      <td id=\"T_5e6f5_row4_col0\" class=\"data row4 col0\" >The sports nutrition business established by Oliver Cookson is based in which county in the UK?</td>\n",
       "      <td id=\"T_5e6f5_row4_col1\" class=\"data row4 col1\" >Cheshire</td>\n",
       "      <td id=\"T_5e6f5_row4_col2\" class=\"data row4 col2\" >1. Identify who Oliver Cookson is and what he does, as this will provide context for his involvement with a specific sport or industry related...</td>\n",
       "      <td id=\"T_5e6f5_row4_col3\" class=\"data row4 col3\" >Lancashire</td>\n",
       "      <td id=\"T_5e6f5_row4_col4\" class=\"data row4 col4\" >False</td>\n",
       "    </tr>\n",
       "    <tr>\n",
       "      <th id=\"T_5e6f5_level0_row5\" class=\"row_heading level0 row5\" >5</th>\n",
       "      <td id=\"T_5e6f5_row5_col0\" class=\"data row5 col0\" >Find the birth date of the actor who played roles in First Wives Club and Searching for the Elephant.</td>\n",
       "      <td id=\"T_5e6f5_row5_col1\" class=\"data row5 col1\" >February 13, 1980</td>\n",
       "      <td id=\"T_5e6f5_row5_col2\" class=\"data row5 col2\" >1. Identify which movie \"First Wives Club\" is about, as it features Bette Midler, Diane Keaton, and Goldie Hawn among others who starred together in...</td>\n",
       "      <td id=\"T_5e6f5_row5_col3\" class=\"data row5 col3\" >Jeremy Allen White</td>\n",
       "      <td id=\"T_5e6f5_row5_col4\" class=\"data row5 col4\" >False</td>\n",
       "    </tr>\n",
       "    <tr>\n",
       "      <th id=\"T_5e6f5_level0_row6\" class=\"row_heading level0 row6\" >6</th>\n",
       "      <td id=\"T_5e6f5_row6_col0\" class=\"data row6 col0\" >Kyle Moran was born in the town on what river?</td>\n",
       "      <td id=\"T_5e6f5_row6_col1\" class=\"data row6 col1\" >Castletown River</td>\n",
       "      <td id=\"T_5e6f5_row6_col2\" class=\"data row6 col2\" >1. Identify who Kyle Moran is and any notable details about his life or career that might be relevant for determining which river he was...</td>\n",
       "      <td id=\"T_5e6f5_row6_col3\" class=\"data row6 col3\" >The question does not provide enough specific context about Kyle Moran's birthplace for us to determine which river he might have been born near, so...</td>\n",
       "      <td id=\"T_5e6f5_row6_col4\" class=\"data row6 col4\" >False</td>\n",
       "    </tr>\n",
       "    <tr>\n",
       "      <th id=\"T_5e6f5_level0_row7\" class=\"row_heading level0 row7\" >7</th>\n",
       "      <td id=\"T_5e6f5_row7_col0\" class=\"data row7 col0\" >The actress who played the niece in the Priest film was born in what city, country?</td>\n",
       "      <td id=\"T_5e6f5_row7_col1\" class=\"data row7 col1\" >Surrey, England</td>\n",
       "      <td id=\"T_5e6f5_row7_col2\" class=\"data row7 col2\" >1. Identify which movie \"Priest\" is about and its main characters for context while searching for birth information of an actress involved with this project.2....</td>\n",
       "      <td id=\"T_5e6f5_row7_col3\" class=\"data row7 col3\" >Vancouver, Canada</td>\n",
       "      <td id=\"T_5e6f5_row7_col4\" class=\"data row7 col4\" >False</td>\n",
       "    </tr>\n",
       "    <tr>\n",
       "      <th id=\"T_5e6f5_level0_row8\" class=\"row_heading level0 row8\" >8</th>\n",
       "      <td id=\"T_5e6f5_row8_col0\" class=\"data row8 col0\" >Name the movie in which the daughter of Noel Harrison plays Violet Trefusis.</td>\n",
       "      <td id=\"T_5e6f5_row8_col1\" class=\"data row8 col1\" >Portrait of a Marriage</td>\n",
       "      <td id=\"T_5e6f5_row8_col2\" class=\"data row8 col2\" >1. Identify who \"Noel Harrison\" is, as he might be an actor or a character from some context that could help determine his relationship with...</td>\n",
       "      <td id=\"T_5e6f5_row8_col3\" class=\"data row8 col3\" >Emily Mortimer</td>\n",
       "      <td id=\"T_5e6f5_row8_col4\" class=\"data row8 col4\" >False</td>\n",
       "    </tr>\n",
       "    <tr>\n",
       "      <th id=\"T_5e6f5_level0_row9\" class=\"row_heading level0 row9\" >9</th>\n",
       "      <td id=\"T_5e6f5_row9_col0\" class=\"data row9 col0\" >What year was the father of the Princes in the Tower born?</td>\n",
       "      <td id=\"T_5e6f5_row9_col1\" class=\"data row9 col1\" >1442</td>\n",
       "      <td id=\"T_5e6f5_row9_col2\" class=\"data row9 col2\" >1. Identify who \"the fathers of the princes\" are referring to, as there were two young kings known as \"Princes in the Tower,\" Edward V...</td>\n",
       "      <td id=\"T_5e6f5_row9_col3\" class=\"data row9 col3\" >Edward V - 1470 and Richard Duke of York - 1473</td>\n",
       "      <td id=\"T_5e6f5_row9_col4\" class=\"data row9 col4\" >False</td>\n",
       "    </tr>\n",
       "    <tr>\n",
       "      <th id=\"T_5e6f5_level0_row10\" class=\"row_heading level0 row10\" >10</th>\n",
       "      <td id=\"T_5e6f5_row10_col0\" class=\"data row10 col0\" >What river is near the Crichton Collegiate Church?</td>\n",
       "      <td id=\"T_5e6f5_row10_col1\" class=\"data row10 col1\" >the River Tyne</td>\n",
       "      <td id=\"T_5e6f5_row10_col2\" class=\"data row10 col2\" >1. Identify where the Crichton Collegiate Church is located, which will help narrow down potential nearby rivers for reference.2. Research or recall any notable geographical...</td>\n",
       "      <td id=\"T_5e6f5_row10_col3\" class=\"data row10 col3\" >The Union Canal</td>\n",
       "      <td id=\"T_5e6f5_row10_col4\" class=\"data row10 col4\" >False</td>\n",
       "    </tr>\n",
       "    <tr>\n",
       "      <th id=\"T_5e6f5_level0_row11\" class=\"row_heading level0 row11\" >11</th>\n",
       "      <td id=\"T_5e6f5_row11_col0\" class=\"data row11 col0\" >Who purchased the team Michael Schumacher raced for in the 1995 Monaco Grand Prix in 2000?</td>\n",
       "      <td id=\"T_5e6f5_row11_col1\" class=\"data row11 col1\" >Renault</td>\n",
       "      <td id=\"T_5e6f5_row11_col2\" class=\"data row11 col2\" >1. Identify which Formula One race was involved, specifically focusing on when it took place (the year of the event) and who participated during that...</td>\n",
       "      <td id=\"T_5e6f5_row11_col3\" class=\"data row11 col3\" >BMW</td>\n",
       "      <td id=\"T_5e6f5_row11_col4\" class=\"data row11 col4\" >False</td>\n",
       "    </tr>\n",
       "    <tr>\n",
       "      <th id=\"T_5e6f5_level0_row12\" class=\"row_heading level0 row12\" >12</th>\n",
       "      <td id=\"T_5e6f5_row12_col0\" class=\"data row12 col0\" >André Zucca was a French photographer who worked with a German propaganda magazine published by what Nazi organization?</td>\n",
       "      <td id=\"T_5e6f5_row12_col1\" class=\"data row12 col1\" >the Wehrmacht</td>\n",
       "      <td id=\"T_5e6f5_row12_col2\" class=\"data row12 col2\" >1. Identify the key elements of the question, which are André Zucca being a French photographer and his association with a Nazi-published German propaganda magazine.2....</td>\n",
       "      <td id=\"T_5e6f5_row12_col3\" class=\"data row12 col3\" >Goebbels' Ministry of Public Enlightenment and Propaganda</td>\n",
       "      <td id=\"T_5e6f5_row12_col4\" class=\"data row12 col4\" >False</td>\n",
       "    </tr>\n",
       "  </tbody>\n",
       "</table>\n"
      ],
      "text/plain": [
       "<pandas.io.formats.style.Styler at 0x7f9b83f469d0>"
      ]
     },
     "metadata": {},
     "output_type": "display_data"
    },
    {
     "data": {
      "text/plain": [
       "7.69"
      ]
     },
     "execution_count": 12,
     "metadata": {},
     "output_type": "execute_result"
    }
   ],
   "source": [
    "evaluate_hotpot(cot_compiled)"
   ]
  },
  {
   "cell_type": "markdown",
   "metadata": {},
   "source": []
  },
  {
   "cell_type": "code",
   "execution_count": 13,
   "metadata": {},
   "outputs": [
    {
     "name": "stderr",
     "output_type": "stream",
     "text": [
      "Average Metric: 0 / 13  (0.0): 100%|██████████| 13/13 [01:01<00:00,  4.74s/it]\n"
     ]
    },
    {
     "data": {
      "text/html": [
       "<style type=\"text/css\">\n",
       "#T_674cb th {\n",
       "  text-align: left;\n",
       "}\n",
       "#T_674cb td {\n",
       "  text-align: left;\n",
       "}\n",
       "#T_674cb_row0_col0, #T_674cb_row0_col1, #T_674cb_row0_col2, #T_674cb_row0_col3, #T_674cb_row0_col4, #T_674cb_row1_col0, #T_674cb_row1_col1, #T_674cb_row1_col2, #T_674cb_row1_col3, #T_674cb_row1_col4, #T_674cb_row2_col0, #T_674cb_row2_col1, #T_674cb_row2_col2, #T_674cb_row2_col3, #T_674cb_row2_col4, #T_674cb_row3_col0, #T_674cb_row3_col1, #T_674cb_row3_col2, #T_674cb_row3_col3, #T_674cb_row3_col4, #T_674cb_row4_col0, #T_674cb_row4_col1, #T_674cb_row4_col2, #T_674cb_row4_col3, #T_674cb_row4_col4, #T_674cb_row5_col0, #T_674cb_row5_col1, #T_674cb_row5_col2, #T_674cb_row5_col3, #T_674cb_row5_col4, #T_674cb_row6_col0, #T_674cb_row6_col1, #T_674cb_row6_col2, #T_674cb_row6_col3, #T_674cb_row6_col4, #T_674cb_row7_col0, #T_674cb_row7_col1, #T_674cb_row7_col2, #T_674cb_row7_col3, #T_674cb_row7_col4, #T_674cb_row8_col0, #T_674cb_row8_col1, #T_674cb_row8_col2, #T_674cb_row8_col3, #T_674cb_row8_col4, #T_674cb_row9_col0, #T_674cb_row9_col1, #T_674cb_row9_col2, #T_674cb_row9_col3, #T_674cb_row9_col4, #T_674cb_row10_col0, #T_674cb_row10_col1, #T_674cb_row10_col2, #T_674cb_row10_col3, #T_674cb_row10_col4, #T_674cb_row11_col0, #T_674cb_row11_col1, #T_674cb_row11_col2, #T_674cb_row11_col3, #T_674cb_row11_col4, #T_674cb_row12_col0, #T_674cb_row12_col1, #T_674cb_row12_col2, #T_674cb_row12_col3, #T_674cb_row12_col4 {\n",
       "  text-align: left;\n",
       "  white-space: pre-wrap;\n",
       "  word-wrap: break-word;\n",
       "  max-width: 400px;\n",
       "}\n",
       "</style>\n",
       "<table id=\"T_674cb\">\n",
       "  <thead>\n",
       "    <tr>\n",
       "      <th class=\"blank level0\" >&nbsp;</th>\n",
       "      <th id=\"T_674cb_level0_col0\" class=\"col_heading level0 col0\" >question</th>\n",
       "      <th id=\"T_674cb_level0_col1\" class=\"col_heading level0 col1\" >example_answer</th>\n",
       "      <th id=\"T_674cb_level0_col2\" class=\"col_heading level0 col2\" >rationale</th>\n",
       "      <th id=\"T_674cb_level0_col3\" class=\"col_heading level0 col3\" >pred_answer</th>\n",
       "      <th id=\"T_674cb_level0_col4\" class=\"col_heading level0 col4\" >answer_exact_match</th>\n",
       "    </tr>\n",
       "  </thead>\n",
       "  <tbody>\n",
       "    <tr>\n",
       "      <th id=\"T_674cb_level0_row0\" class=\"row_heading level0 row0\" >0</th>\n",
       "      <td id=\"T_674cb_row0_col0\" class=\"data row0 col0\" >Who has a broader scope of profession: E. L. Doctorow or Julia Peterkin?</td>\n",
       "      <td id=\"T_674cb_row0_col1\" class=\"data row0 col1\" >E. L. Doctorow</td>\n",
       "      <td id=\"T_674cb_row0_col2\" class=\"data row0 col2\" >determine who has a broader scope of profession between E.L. Doctorow and Julia Peterkin, we need to consider their careers as writers and the breadth...</td>\n",
       "      <td id=\"T_674cb_row0_col3\" class=\"data row0 col3\" >E.L. Doctorow has a broader scope of profession than Julia Peterkin due to his extensive body of work that spans various literary genres including novels...</td>\n",
       "      <td id=\"T_674cb_row0_col4\" class=\"data row0 col4\" >False</td>\n",
       "    </tr>\n",
       "    <tr>\n",
       "      <th id=\"T_674cb_level0_row1\" class=\"row_heading level0 row1\" >1</th>\n",
       "      <td id=\"T_674cb_row1_col0\" class=\"data row1 col0\" >Right Back At It Again contains lyrics co-written by the singer born in what city?</td>\n",
       "      <td id=\"T_674cb_row1_col1\" class=\"data row1 col1\" >Gainesville, Florida</td>\n",
       "      <td id=\"T_674cb_row1_col2\" class=\"data row1 col2\" >1. Identify who wrote and sang \"Right Back at It Again\". This song is written and performed by Eminem, an American rapper known for his...</td>\n",
       "      <td id=\"T_674cb_row1_col3\" class=\"data row1 col3\" >The singer of the song 'Right Back At It Again', Eminem who co-wrote the lyrics with Skylar Grey is from St. Joseph city which is...</td>\n",
       "      <td id=\"T_674cb_row1_col4\" class=\"data row1 col4\" >False</td>\n",
       "    </tr>\n",
       "    <tr>\n",
       "      <th id=\"T_674cb_level0_row2\" class=\"row_heading level0 row2\" >2</th>\n",
       "      <td id=\"T_674cb_row2_col0\" class=\"data row2 col0\" >What year was the party of the winner of the 1971 San Francisco mayoral election founded?</td>\n",
       "      <td id=\"T_674cb_row2_col1\" class=\"data row2 col1\" >1828</td>\n",
       "      <td id=\"T_674cb_row2_col2\" class=\"data row2 col2\" >Answer: The Democratic Party, which won the 1971 San Francisco mayoral election, was founded on July 6-21, 1848.</td>\n",
       "      <td id=\"T_674cb_row2_col3\" class=\"data row2 col3\" >Question: What year was the party of the winner of the 1975 New York City mayoral election founded? Reasoning: Let's think step by step in...</td>\n",
       "      <td id=\"T_674cb_row2_col4\" class=\"data row2 col4\" >False</td>\n",
       "    </tr>\n",
       "    <tr>\n",
       "      <th id=\"T_674cb_level0_row3\" class=\"row_heading level0 row3\" >3</th>\n",
       "      <td id=\"T_674cb_row3_col0\" class=\"data row3 col0\" >Anthony Dirrell is the brother of which super middleweight title holder?</td>\n",
       "      <td id=\"T_674cb_row3_col1\" class=\"data row3 col1\" >Andre Dirrell</td>\n",
       "      <td id=\"T_674cb_row3_col2\" class=\"data row3 col2\" >find out who Anthony Dirrell is related to as a sibling among super middleweight champions. We need to identify his siblings and their involvement in...</td>\n",
       "      <td id=\"T_674cb_row3_col3\" class=\"data row3 col3\" >1st step - Identify Anthony Dirrell's family members who are involved in professional sports, particularly boxing. In doing so, we can focus on those related...</td>\n",
       "      <td id=\"T_674cb_row3_col4\" class=\"data row3 col4\" >False</td>\n",
       "    </tr>\n",
       "    <tr>\n",
       "      <th id=\"T_674cb_level0_row4\" class=\"row_heading level0 row4\" >4</th>\n",
       "      <td id=\"T_674cb_row4_col0\" class=\"data row4 col0\" >The sports nutrition business established by Oliver Cookson is based in which county in the UK?</td>\n",
       "      <td id=\"T_674cb_row4_col1\" class=\"data row4 col1\" >Cheshire</td>\n",
       "      <td id=\"T_674cb_row4_col2\" class=\"data row4 col2\" >1. Identify key information from the question - In this case, we need to find out where a specific sports nutrition company is located within...</td>\n",
       "      <td id=\"T_674cb_row4_col3\" class=\"data row4 col3\" >​</td>\n",
       "      <td id=\"T_674cb_row4_col4\" class=\"data row4 col4\" >False</td>\n",
       "    </tr>\n",
       "    <tr>\n",
       "      <th id=\"T_674cb_level0_row5\" class=\"row_heading level0 row5\" >5</th>\n",
       "      <td id=\"T_674cb_row5_col0\" class=\"data row5 col0\" >Find the birth date of the actor who played roles in First Wives Club and Searching for the Elephant.</td>\n",
       "      <td id=\"T_674cb_row5_col1\" class=\"data row5 col1\" >February 13, 1980</td>\n",
       "      <td id=\"T_674cb_row5_col2\" class=\"data row5 col2\" >1. Identify which actors appeared in both \"First Wives Club\" (1996) and \"Searching for the Elephant\" (2001). This will help narrow down potential candidates based...</td>\n",
       "      <td id=\"T_674cb_row5_col3\" class=\"data row5 col3\" >96) and \"Searching for the Elephant\" (2001) are not publicly available due to privacy reasons. However, Goldie Hawn starred in both films; she was born...</td>\n",
       "      <td id=\"T_674cb_row5_col4\" class=\"data row5 col4\" >False</td>\n",
       "    </tr>\n",
       "    <tr>\n",
       "      <th id=\"T_674cb_level0_row6\" class=\"row_heading level0 row6\" >6</th>\n",
       "      <td id=\"T_674cb_row6_col0\" class=\"data row6 col0\" >Kyle Moran was born in the town on what river?</td>\n",
       "      <td id=\"T_674cb_row6_col1\" class=\"data row6 col1\" >Castletown River</td>\n",
       "      <td id=\"T_674cb_row6_col2\" class=\"data row6 col2\" >1. Identify who Kyle Moran is and where he was born, which would provide context for determining his birthplace's river. This information can be sourced...</td>\n",
       "      <td id=\"T_674cb_row6_col3\" class=\"data row6 col3\" >era and even up until the present day. This is because rivers often serve as vital sources for both drinking water needs (especially important during...</td>\n",
       "      <td id=\"T_674cb_row6_col4\" class=\"data row6 col4\" >False</td>\n",
       "    </tr>\n",
       "    <tr>\n",
       "      <th id=\"T_674cb_level0_row7\" class=\"row_heading level0 row7\" >7</th>\n",
       "      <td id=\"T_674cb_row7_col0\" class=\"data row7 col0\" >The actress who played the niece in the Priest film was born in what city, country?</td>\n",
       "      <td id=\"T_674cb_row7_col1\" class=\"data row7 col1\" >Surrey, England</td>\n",
       "      <td id=\"T_674cb_row7_col2\" class=\"data row7 col2\" >1. Identify which movie and character we are talking about - \"The Priest\" is a British crime thriller film released in 2014. The actress who...</td>\n",
       "      <td id=\"T_674cb_row7_col3\" class=\"data row7 col3\" >To find out where and which country she was born in, we would need to look up information about Lucy Boynton’s biography or personal details...</td>\n",
       "      <td id=\"T_674cb_row7_col4\" class=\"data row7 col4\" >False</td>\n",
       "    </tr>\n",
       "    <tr>\n",
       "      <th id=\"T_674cb_level0_row8\" class=\"row_heading level0 row8\" >8</th>\n",
       "      <td id=\"T_674cb_row8_col0\" class=\"data row8 col0\" >Name the movie in which the daughter of Noel Harrison plays Violet Trefusis.</td>\n",
       "      <td id=\"T_674cb_row8_col1\" class=\"data row8 col1\" >Portrait of a Marriage</td>\n",
       "      <td id=\"T_674cb_row8_col2\" class=\"data row8 col2\" >1. Identify key elements from the question - we need to find a specific movie where an actress, who is also known as \"daughter of...</td>\n",
       "      <td id=\"T_674cb_row8_col3\" class=\"data row8 col3\" >1. Identify key elements from the question - we need a specific film where an actress who is also known as 'daughter of Noel Harrison'...</td>\n",
       "      <td id=\"T_674cb_row8_col4\" class=\"data row8 col4\" >False</td>\n",
       "    </tr>\n",
       "    <tr>\n",
       "      <th id=\"T_674cb_level0_row9\" class=\"row_heading level0 row9\" >9</th>\n",
       "      <td id=\"T_674cb_row9_col0\" class=\"data row9 col0\" >What year was the father of the Princes in the Tower born?</td>\n",
       "      <td id=\"T_674cb_row9_col1\" class=\"data row9 col1\" >1442</td>\n",
       "      <td id=\"T_674cb_row9_col2\" class=\"data row9 col2\" >1. Identify who is referred to as \"the Father of Princes\". In this context, it likely refers to King Edward III since he was both...</td>\n",
       "      <td id=\"T_674cb_row9_col3\" class=\"data row9 col3\" >The father of Princes in the Tower was born around 1312.</td>\n",
       "      <td id=\"T_674cb_row9_col4\" class=\"data row9 col4\" >False</td>\n",
       "    </tr>\n",
       "    <tr>\n",
       "      <th id=\"T_674cb_level0_row10\" class=\"row_heading level0 row10\" >10</th>\n",
       "      <td id=\"T_674cb_row10_col0\" class=\"data row10 col0\" >What river is near the Crichton Collegiate Church?</td>\n",
       "      <td id=\"T_674cb_row10_col1\" class=\"data row10 col1\" >the River Tyne</td>\n",
       "      <td id=\"T_674cb_row10_col2\" class=\"data row10 col2\" >find out which river is near the Crichton Collegiate Church. First, we need to identify key geographical features and landmarks around this church. The Crichton...</td>\n",
       "      <td id=\"T_674cb_row10_col3\" class=\"data row10 col3\" >The River Almond is near the Crichton Collegiate Church as it flows through Haddington and eventually joins the Firth of Forth in East Lothian, which...</td>\n",
       "      <td id=\"T_674cb_row10_col4\" class=\"data row10 col4\" >False</td>\n",
       "    </tr>\n",
       "    <tr>\n",
       "      <th id=\"T_674cb_level0_row11\" class=\"row_heading level0 row11\" >11</th>\n",
       "      <td id=\"T_674cb_row11_col0\" class=\"data row11 col0\" >Who purchased the team Michael Schumacher raced for in the 1995 Monaco Grand Prix in 2000?</td>\n",
       "      <td id=\"T_674cb_row11_col1\" class=\"data row11 col1\" >Renault</td>\n",
       "      <td id=\"T_674cb_row11_col2\" class=\"data row11 col2\" >find out who bought the Formula One racing team that Michael Schumacher competed with at the 1995 Monaco Grand Prix. We need to investigate historical...</td>\n",
       "      <td id=\"T_674cb_row11_col3\" class=\"data row11 col3\" >Flavio Briatore purchased the Benetton Formula team which Michael Schumacher raced for at the 1995 Monaco Grand Prix in 2000.</td>\n",
       "      <td id=\"T_674cb_row11_col4\" class=\"data row11 col4\" >False</td>\n",
       "    </tr>\n",
       "    <tr>\n",
       "      <th id=\"T_674cb_level0_row12\" class=\"row_heading level0 row12\" >12</th>\n",
       "      <td id=\"T_674cb_row12_col0\" class=\"data row12 col0\" >André Zucca was a French photographer who worked with a German propaganda magazine published by what Nazi organization?</td>\n",
       "      <td id=\"T_674cb_row12_col1\" class=\"data row12 col1\" >the Wehrmacht</td>\n",
       "      <td id=\"T_674cb_row12_col2\" class=\"data row12 col2\" >1. Identify key information from the question - In this case, we need to find out which Nazi organization supported the publication of the German...</td>\n",
       "      <td id=\"T_674cb_row12_col3\" class=\"data row12 col3\" >1. Identify key information from the question - In this case, we need to find out which Nazi organization supported the publication of the German...</td>\n",
       "      <td id=\"T_674cb_row12_col4\" class=\"data row12 col4\" >False</td>\n",
       "    </tr>\n",
       "  </tbody>\n",
       "</table>\n"
      ],
      "text/plain": [
       "<pandas.io.formats.style.Styler at 0x7f9b6407c410>"
      ]
     },
     "metadata": {},
     "output_type": "display_data"
    },
    {
     "data": {
      "text/plain": [
       "0.0"
      ]
     },
     "execution_count": 13,
     "metadata": {},
     "output_type": "execute_result"
    }
   ],
   "source": [
    "evaluate_hotpot(CoT())\n"
   ]
  },
  {
   "cell_type": "markdown",
   "metadata": {},
   "source": [
    "# DOING A RAG"
   ]
  },
  {
   "cell_type": "code",
   "execution_count": 14,
   "metadata": {},
   "outputs": [],
   "source": [
    "class RAG(dspy.Module):\n",
    "    def __init__(self, num_passages=3):\n",
    "        super().__init__()\n",
    "\n",
    "        self.retrieve = dspy.Retrieve(k=num_passages)\n",
    "        self.generate_query = dspy.ChainOfThought(\"question -> search_query\")\n",
    "        self.generate_answer = dspy.ChainOfThought(\"context, question -> answer\")\n",
    "\n",
    "    def forward(self, question):\n",
    "        search_query = self.generate_query(question=question).search_query\n",
    "        passages = self.retrieve(search_query).passages\n",
    "\n",
    "        return self.generate_answer(context=passages, question=question)\n",
    "\n"
   ]
  },
  {
   "cell_type": "code",
   "execution_count": 15,
   "metadata": {},
   "outputs": [
    {
     "name": "stderr",
     "output_type": "stream",
     "text": [
      "Average Metric: 1 / 13  (7.7): 100%|██████████| 13/13 [02:30<00:00, 11.55s/it] \n"
     ]
    },
    {
     "data": {
      "text/html": [
       "<style type=\"text/css\">\n",
       "#T_b566a th {\n",
       "  text-align: left;\n",
       "}\n",
       "#T_b566a td {\n",
       "  text-align: left;\n",
       "}\n",
       "#T_b566a_row0_col0, #T_b566a_row0_col1, #T_b566a_row0_col2, #T_b566a_row0_col3, #T_b566a_row0_col4, #T_b566a_row1_col0, #T_b566a_row1_col1, #T_b566a_row1_col2, #T_b566a_row1_col3, #T_b566a_row1_col4, #T_b566a_row2_col0, #T_b566a_row2_col1, #T_b566a_row2_col2, #T_b566a_row2_col3, #T_b566a_row2_col4, #T_b566a_row3_col0, #T_b566a_row3_col1, #T_b566a_row3_col2, #T_b566a_row3_col3, #T_b566a_row3_col4, #T_b566a_row4_col0, #T_b566a_row4_col1, #T_b566a_row4_col2, #T_b566a_row4_col3, #T_b566a_row4_col4 {\n",
       "  text-align: left;\n",
       "  white-space: pre-wrap;\n",
       "  word-wrap: break-word;\n",
       "  max-width: 400px;\n",
       "}\n",
       "</style>\n",
       "<table id=\"T_b566a\">\n",
       "  <thead>\n",
       "    <tr>\n",
       "      <th class=\"blank level0\" >&nbsp;</th>\n",
       "      <th id=\"T_b566a_level0_col0\" class=\"col_heading level0 col0\" >question</th>\n",
       "      <th id=\"T_b566a_level0_col1\" class=\"col_heading level0 col1\" >example_answer</th>\n",
       "      <th id=\"T_b566a_level0_col2\" class=\"col_heading level0 col2\" >rationale</th>\n",
       "      <th id=\"T_b566a_level0_col3\" class=\"col_heading level0 col3\" >pred_answer</th>\n",
       "      <th id=\"T_b566a_level0_col4\" class=\"col_heading level0 col4\" >answer_exact_match</th>\n",
       "    </tr>\n",
       "  </thead>\n",
       "  <tbody>\n",
       "    <tr>\n",
       "      <th id=\"T_b566a_level0_row0\" class=\"row_heading level0 row0\" >0</th>\n",
       "      <td id=\"T_b566a_row0_col0\" class=\"data row0 col0\" >Who has a broader scope of profession: E. L. Doctorow or Julia Peterkin?</td>\n",
       "      <td id=\"T_b566a_row0_col1\" class=\"data row0 col1\" >E. L. Doctorow</td>\n",
       "      <td id=\"T_b566a_row0_col2\" class=\"data row0 col2\" >1. Analyze their professions based on provided information about both authors and philanthropists, considering the range of activities they were involved in throughout their careers.2....</td>\n",
       "      <td id=\"T_b566a_row0_col3\" class=\"data row0 col3\" >1. Analyze their professions based on provided information about both authors and philanthropists [Contexts].2. Consider if one person had a broader scope due to involvement...</td>\n",
       "      <td id=\"T_b566a_row0_col4\" class=\"data row0 col4\" >False</td>\n",
       "    </tr>\n",
       "    <tr>\n",
       "      <th id=\"T_b566a_level0_row1\" class=\"row_heading level0 row1\" >1</th>\n",
       "      <td id=\"T_b566a_row1_col0\" class=\"data row1 col0\" >Right Back At It Again contains lyrics co-written by the singer born in what city?</td>\n",
       "      <td id=\"T_b566a_row1_col1\" class=\"data row1 col1\" >Gainesville, Florida</td>\n",
       "      <td id=\"T_b566a_row1_col2\" class=\"data row1 col2\" >1. Analyze both passages from [2] and find any information related to \"Right Back at It Again.\" The passage mentions that a remake of this...</td>\n",
       "      <td id=\"T_b566a_row1_col3\" class=\"data row1 col3\" >1. Analyze passages [2] to find any information related to \"Right Back at It Again.\" The passage mentions the lyrics are co-written by someone involved...</td>\n",
       "      <td id=\"T_b566a_row1_col4\" class=\"data row1 col4\" >False</td>\n",
       "    </tr>\n",
       "    <tr>\n",
       "      <th id=\"T_b566a_level0_row2\" class=\"row_heading level0 row2\" >2</th>\n",
       "      <td id=\"T_b566a_row2_col0\" class=\"data row2 col0\" >What year was the party of the winner of the 1971 San Francisco mayoral election founded?</td>\n",
       "      <td id=\"T_b566a_row2_col1\" class=\"data row2 col1\" >1828</td>\n",
       "      <td id=\"T_b566a_row2_col2\" class=\"data row2 col2\" >2023-04-06T18:56+00:0</td>\n",
       "      <td id=\"T_b566a_row2_col3\" class=\"data row2 col3\" >1. Context [1]: The context provided is about California State Route 58, a highway that runs across various regions of California and has junctions with...</td>\n",
       "      <td id=\"T_b566a_row2_col4\" class=\"data row2 col4\" >False</td>\n",
       "    </tr>\n",
       "    <tr>\n",
       "      <th id=\"T_b566a_level0_row3\" class=\"row_heading level0 row3\" >3</th>\n",
       "      <td id=\"T_b566a_row3_col0\" class=\"data row3 col0\" >Anthony Dirrell is the brother of which super middleweight title holder?</td>\n",
       "      <td id=\"T_b566a_row3_col1\" class=\"data row3 col1\" >Andre Dirrell</td>\n",
       "      <td id=\"T_b566a_row3_col2\" class=\"data row3 col2\" >为了回答这个问题，我们需要考虑以下几点：首先，Anthony Dirrell是一位职业拳击手，他曾持有WBC超级中量级冠军头衔。其次，他的哥哥是另一位职业拳击手Andre Dirrell, Andre也曾在职业生涯中获得过重要拳击组织的冠军头衔。\n",
       "\n",
       "根据上述信息可以推断出：Anthony Dirrell的兄弟Andre Dirrell是一位前IUF超中量级挑战者，他曾持有IBF临时超级中量级冠军头衔和WBC超级中量级冠军头衔。因此，答案是Andre Dirrell（Anthony的哥哥）。</td>\n",
       "      <td id=\"T_b566a_row3_col3\" class=\"data row3 col3\" >安东尼·迪雷尔是前WBC超级中量级冠军得主安德烈·迪雷尔的弟弟。</td>\n",
       "      <td id=\"T_b566a_row3_col4\" class=\"data row3 col4\" >False</td>\n",
       "    </tr>\n",
       "    <tr>\n",
       "      <th id=\"T_b566a_level0_row4\" class=\"row_heading level0 row4\" >4</th>\n",
       "      <td id=\"T_b566a_row4_col0\" class=\"data row4 col0\" >The sports nutrition business established by Oliver Cookson is based in which county in the UK?</td>\n",
       "      <td id=\"T_b566a_row4_col1\" class=\"data row4 col1\" >Cheshire</td>\n",
       "      <td id=\"T_b566a_row4_col2\" class=\"data row4 col2\" >1. First, we need to identify where Oliver Cookson's sports nutrition business is located within the United Kingdom. This information can be found from reliable...</td>\n",
       "      <td id=\"T_b566a_row4_col3\" class=\"data row4 col3\" >​</td>\n",
       "      <td id=\"T_b566a_row4_col4\" class=\"data row4 col4\" >False</td>\n",
       "    </tr>\n",
       "  </tbody>\n",
       "</table>\n"
      ],
      "text/plain": [
       "<pandas.io.formats.style.Styler at 0x7f9b5f2f2290>"
      ]
     },
     "metadata": {},
     "output_type": "display_data"
    },
    {
     "data": {
      "text/html": [
       "\n",
       "                <div style='\n",
       "                    text-align: center;\n",
       "                    font-size: 16px;\n",
       "                    font-weight: bold;\n",
       "                    color: #555;\n",
       "                    margin: 10px 0;'>\n",
       "                    ... 8 more rows not displayed ...\n",
       "                </div>\n",
       "                "
      ],
      "text/plain": [
       "<IPython.core.display.HTML object>"
      ]
     },
     "metadata": {},
     "output_type": "display_data"
    },
    {
     "data": {
      "text/plain": [
       "7.69"
      ]
     },
     "execution_count": 15,
     "metadata": {},
     "output_type": "execute_result"
    }
   ],
   "source": [
    "evaluate_hotpot(RAG(), display_table=5)"
   ]
  },
  {
   "cell_type": "code",
   "execution_count": null,
   "metadata": {},
   "outputs": [],
   "source": [
    "# Compile"
   ]
  },
  {
   "cell_type": "code",
   "execution_count": 16,
   "metadata": {},
   "outputs": [
    {
     "name": "stderr",
     "output_type": "stream",
     "text": [
      "Average Metric: 0 / 13  (0.0): 100%|██████████| 13/13 [02:28<00:00, 11.40s/it]\n",
      "Average Metric: 1 / 13  (7.7): 100%|██████████| 13/13 [02:37<00:00, 12.08s/it] \n",
      "100%|██████████| 7/7 [00:49<00:00,  7.09s/it]\n",
      "Average Metric: 0 / 13  (0.0): 100%|██████████| 13/13 [01:33<00:00,  7.17s/it]\n",
      "100%|██████████| 7/7 [00:45<00:00,  6.55s/it]\n",
      "Average Metric: 0 / 13  (0.0): 100%|██████████| 13/13 [01:23<00:00,  6.44s/it]\n",
      "100%|██████████| 7/7 [00:50<00:00,  7.26s/it]\n",
      "Average Metric: 0 / 13  (0.0): 100%|██████████| 13/13 [01:52<00:00,  8.67s/it]\n",
      "100%|██████████| 7/7 [00:54<00:00,  7.81s/it]\n",
      "Average Metric: 0 / 13  (0.0): 100%|██████████| 13/13 [01:45<00:00,  8.12s/it]\n",
      "100%|██████████| 7/7 [00:46<00:00,  6.65s/it]\n",
      "Average Metric: 0 / 13  (0.0): 100%|██████████| 13/13 [01:34<00:00,  7.29s/it]\n",
      "100%|██████████| 7/7 [00:49<00:00,  7.11s/it]\n",
      "Average Metric: 0 / 13  (0.0): 100%|██████████| 13/13 [01:35<00:00,  7.32s/it]\n",
      "100%|██████████| 7/7 [00:54<00:00,  7.86s/it]\n",
      "Average Metric: 0 / 13  (0.0): 100%|██████████| 13/13 [01:39<00:00,  7.63s/it]\n",
      "100%|██████████| 7/7 [00:50<00:00,  7.22s/it]\n",
      "Average Metric: 0 / 13  (0.0): 100%|██████████| 13/13 [01:25<00:00,  6.54s/it]\n",
      "100%|██████████| 7/7 [00:57<00:00,  8.15s/it]\n",
      "Average Metric: 0 / 13  (0.0): 100%|██████████| 13/13 [01:44<00:00,  8.01s/it]\n"
     ]
    }
   ],
   "source": [
    "teleprompter2 = BootstrapFewShotWithRandomSearch(metric=metric_EM, max_bootstrapped_demos=2, num_candidate_programs=8, num_threads=NUM_THREADS)\n",
    "rag_compiled = teleprompter2.compile(RAG(), trainset=train, valset=dev)"
   ]
  },
  {
   "cell_type": "code",
   "execution_count": 17,
   "metadata": {},
   "outputs": [
    {
     "name": "stderr",
     "output_type": "stream",
     "text": [
      "Average Metric: 0 / 13  (0.0): 100%|██████████| 13/13 [01:33<00:00,  7.20s/it]\n"
     ]
    },
    {
     "data": {
      "text/html": [
       "<style type=\"text/css\">\n",
       "#T_c138d th {\n",
       "  text-align: left;\n",
       "}\n",
       "#T_c138d td {\n",
       "  text-align: left;\n",
       "}\n",
       "#T_c138d_row0_col0, #T_c138d_row0_col1, #T_c138d_row0_col2, #T_c138d_row0_col3, #T_c138d_row0_col4, #T_c138d_row1_col0, #T_c138d_row1_col1, #T_c138d_row1_col2, #T_c138d_row1_col3, #T_c138d_row1_col4, #T_c138d_row2_col0, #T_c138d_row2_col1, #T_c138d_row2_col2, #T_c138d_row2_col3, #T_c138d_row2_col4, #T_c138d_row3_col0, #T_c138d_row3_col1, #T_c138d_row3_col2, #T_c138d_row3_col3, #T_c138d_row3_col4, #T_c138d_row4_col0, #T_c138d_row4_col1, #T_c138d_row4_col2, #T_c138d_row4_col3, #T_c138d_row4_col4, #T_c138d_row5_col0, #T_c138d_row5_col1, #T_c138d_row5_col2, #T_c138d_row5_col3, #T_c138d_row5_col4, #T_c138d_row6_col0, #T_c138d_row6_col1, #T_c138d_row6_col2, #T_c138d_row6_col3, #T_c138d_row6_col4, #T_c138d_row7_col0, #T_c138d_row7_col1, #T_c138d_row7_col2, #T_c138d_row7_col3, #T_c138d_row7_col4, #T_c138d_row8_col0, #T_c138d_row8_col1, #T_c138d_row8_col2, #T_c138d_row8_col3, #T_c138d_row8_col4, #T_c138d_row9_col0, #T_c138d_row9_col1, #T_c138d_row9_col2, #T_c138d_row9_col3, #T_c138d_row9_col4, #T_c138d_row10_col0, #T_c138d_row10_col1, #T_c138d_row10_col2, #T_c138d_row10_col3, #T_c138d_row10_col4, #T_c138d_row11_col0, #T_c138d_row11_col1, #T_c138d_row11_col2, #T_c138d_row11_col3, #T_c138d_row11_col4, #T_c138d_row12_col0, #T_c138d_row12_col1, #T_c138d_row12_col2, #T_c138d_row12_col3, #T_c138d_row12_col4 {\n",
       "  text-align: left;\n",
       "  white-space: pre-wrap;\n",
       "  word-wrap: break-word;\n",
       "  max-width: 400px;\n",
       "}\n",
       "</style>\n",
       "<table id=\"T_c138d\">\n",
       "  <thead>\n",
       "    <tr>\n",
       "      <th class=\"blank level0\" >&nbsp;</th>\n",
       "      <th id=\"T_c138d_level0_col0\" class=\"col_heading level0 col0\" >question</th>\n",
       "      <th id=\"T_c138d_level0_col1\" class=\"col_heading level0 col1\" >example_answer</th>\n",
       "      <th id=\"T_c138d_level0_col2\" class=\"col_heading level0 col2\" >rationale</th>\n",
       "      <th id=\"T_c138d_level0_col3\" class=\"col_heading level0 col3\" >pred_answer</th>\n",
       "      <th id=\"T_c138d_level0_col4\" class=\"col_heading level0 col4\" >answer_exact_match</th>\n",
       "    </tr>\n",
       "  </thead>\n",
       "  <tbody>\n",
       "    <tr>\n",
       "      <th id=\"T_c138d_level0_row0\" class=\"row_heading level0 row0\" >0</th>\n",
       "      <td id=\"T_c138d_row0_col0\" class=\"data row0 col0\" >Who has a broader scope of profession: E. L. Doctorow or Julia Peterkin?</td>\n",
       "      <td id=\"T_c138d_row0_col1\" class=\"data row0 col1\" >E. L. Doctorow</td>\n",
       "      <td id=\"T_c138d_row0_col2\" class=\"data row0 col2\" >​</td>\n",
       "      <td id=\"T_c138d_row0_col3\" class=\"data row0 col3\" >>25,1948-2017年，在数学中，我们经常听到“一帙 for a project that is currently being used as an alternative currency.</td>\n",
       "      <td id=\"T_c138d_row0_col4\" class=\"data row0 col4\" >False</td>\n",
       "    </tr>\n",
       "    <tr>\n",
       "      <th id=\"T_c138d_level0_row1\" class=\"row_heading level0 row1\" >1</th>\n",
       "      <td id=\"T_c138d_row1_col0\" class=\"data row1 col0\" >Right Back At It Again contains lyrics co-written by the singer born in what city?</td>\n",
       "      <td id=\"T_c138d_row1_col1\" class=\"data row1 col1\" >Gainesville, Florida</td>\n",
       "      <td id=\"T_c138d_row1_col2\" class=\"data row1 col2\" >“The following is not accurate. The given Givenchy, I am a bit confused about how much you know that can be considered as an example...</td>\n",
       "      <td id=\"T_c138d_row1_col3\" class=\"data row1 col3\" >...</td>\n",
       "      <td id=\"T_c138d_row1_col4\" class=\"data row1 col4\" >False</td>\n",
       "    </tr>\n",
       "    <tr>\n",
       "      <th id=\"T_c138d_level0_row2\" class=\"row_heading level0 row2\" >2</th>\n",
       "      <td id=\"T_c138d_row2_col0\" class=\"data row2 col0\" >What year was the party of the winner of the 1971 San Francisco mayoral election founded?</td>\n",
       "      <td id=\"T_c138d_row2_col1\" class=\"data row2 col1\" >1828</td>\n",
       "      <td id=\"T_c138d_row2_col2\" class=\"data row2 col2\" >“The given name, which I can’t see any reason for this is a bit complicated. The question here is not only about how much you...</td>\n",
       "      <td id=\"T_c138d_row2_col3\" class=\"data row2 col3\" >Judgmental. I am not sure if you’t really like to be able to do the job of a lifetime achievement and then-and given that it...</td>\n",
       "      <td id=\"T_c138d_row2_col4\" class=\"data row2 col4\" >False</td>\n",
       "    </tr>\n",
       "    <tr>\n",
       "      <th id=\"T_c138d_level0_row3\" class=\"row_heading level0 row3\" >3</th>\n",
       "      <td id=\"T_c138d_row3_col0\" class=\"data row3 col0\" >Anthony Dirrell is the brother of which super middleweight title holder?</td>\n",
       "      <td id=\"T_c138d_row3_col1\" class=\"data row3 col1\" >Andre Dirrell</td>\n",
       "      <td id=\"T_c138d_row3_col2\" class=\"data row3 col2\" >“The United States has been given a new job and I have no idea how much time do you know about it, but not limited...</td>\n",
       "      <td id=\"T_c138d_row3_col3\" class=\"data row3 col3\" >100% of the world’t understand this question is incorrect. The problem with my child? Given that we are in an online game called \"The Great...</td>\n",
       "      <td id=\"T_c138d_row3_col4\" class=\"data row3 col4\" >False</td>\n",
       "    </tr>\n",
       "    <tr>\n",
       "      <th id=\"T_c138d_level0_row4\" class=\"row_heading level0 row4\" >4</th>\n",
       "      <td id=\"T_c138d_row4_col0\" class=\"data row4 col0\" >The sports nutrition business established by Oliver Cookson is based in which county in the UK?</td>\n",
       "      <td id=\"T_c138d_row4_col1\" class=\"data row4 col1\" >Cheshire</td>\n",
       "      <td id=\"T_c138d_row4_col2\" class=\"data row4 col2\" >1987年 | 2016-345 given that I have a big smile on my face.</td>\n",
       "      <td id=\"T_c138d_row4_col3\" class=\"data row4 col3\" >“I don’t know if you can tell from the above information, but it is not possible to understand how much time has passed since we't_given...</td>\n",
       "      <td id=\"T_c138d_row4_col4\" class=\"data row4 col4\" >False</td>\n",
       "    </tr>\n",
       "    <tr>\n",
       "      <th id=\"T_c138d_level0_row5\" class=\"row_heading level0 row5\" >5</th>\n",
       "      <td id=\"T_c138d_row5_col0\" class=\"data row5 col0\" >Find the birth date of the actor who played roles in First Wives Club and Searching for the Elephant.</td>\n",
       "      <td id=\"T_c138d_row5_col1\" class=\"data row5 col1\" >February 13, 1980</td>\n",
       "      <td id=\"T_c138d_row5_col2\" class=\"data row5 col2\" >“I am trying to understand how you are supposed to answer this question, but I have a lot of time on hand-washing station at least...</td>\n",
       "      <td id=\"T_c138d_row5_col3\" class=\"data row5 col3\" >Judgment and the other day. Given that it's just like before when someone who is quoted as being in chargee given that you are driving...</td>\n",
       "      <td id=\"T_c138d_row5_col4\" class=\"data row5 col4\" >False</td>\n",
       "    </tr>\n",
       "    <tr>\n",
       "      <th id=\"T_c138d_level0_row6\" class=\"row_heading level0 row6\" >6</th>\n",
       "      <td id=\"T_c138d_row6_col0\" class=\"data row6 col0\" >Kyle Moran was born in the town on what river?</td>\n",
       "      <td id=\"T_c138d_row6_col1\" class=\"data row6 col1\" >Castletown River</td>\n",
       "      <td id=\"T_c138d_row6_col2\" class=\"data row6 col2\" >​</td>\n",
       "      <td id=\"T_c138d_row6_col3\" class=\"data row6 col3\" >The following is a list of books that are not suitable for five-year olds, but I can’t find it now.</td>\n",
       "      <td id=\"T_c138d_row6_col4\" class=\"data row6 col4\" >False</td>\n",
       "    </tr>\n",
       "    <tr>\n",
       "      <th id=\"T_c138d_level0_row7\" class=\"row_heading level0 row7\" >7</th>\n",
       "      <td id=\"T_c138d_row7_col0\" class=\"data row7 col0\" >The actress who played the niece in the Priest film was born in what city, country?</td>\n",
       "      <td id=\"T_c138d_row7_col1\" class=\"data row7 col1\" >Surrey, England</td>\n",
       "      <td id=\"T_c138d_row7_col2\" class=\"data row7 col2\" >“The United States has been given an award for Givenchy.</td>\n",
       "      <td id=\"T_c138d_row7_col3\" class=\"data row7 col3\" >​</td>\n",
       "      <td id=\"T_c138d_row7_col4\" class=\"data row7 col4\" >False</td>\n",
       "    </tr>\n",
       "    <tr>\n",
       "      <th id=\"T_c138d_level0_row8\" class=\"row_heading level0 row8\" >8</th>\n",
       "      <td id=\"T_c138d_row8_col0\" class=\"data row8 col0\" >Name the movie in which the daughter of Noel Harrison plays Violet Trefusis.</td>\n",
       "      <td id=\"T_c138d_row8_col1\" class=\"data row8 col1\" >Portrait of a Marriage</td>\n",
       "      <td id=\"T_c138d_row8_col2\" class=\"data row8 col2\" >“The user is a person who wants to create an algorithm for a given data set, and you are trying to understand how much does...</td>\n",
       "      <td id=\"T_c138d_row8_col3\" class=\"data row8 col3\" >​The user asked for a simple python code, what is the best way to make money and easy to use interface design that can cause...</td>\n",
       "      <td id=\"T_c138d_row8_col4\" class=\"data row8 col4\" >False</td>\n",
       "    </tr>\n",
       "    <tr>\n",
       "      <th id=\"T_c138d_level0_row9\" class=\"row_heading level0 row9\" >9</th>\n",
       "      <td id=\"T_c138d_row9_col0\" class=\"data row9 col0\" >What year was the father of the Princes in the Tower born?</td>\n",
       "      <td id=\"T_c138d_row9_col1\" class=\"data row9 col1\" >1442</td>\n",
       "      <td id=\"T_c138d_row9_col2\" class=\"data row9 col2\" >“It’t is important for me to understand this, and I am not sure what you are talking about. The question here is asking if it...</td>\n",
       "      <td id=\"T_c138d_row9_col3\" class=\"data row9 col3\" >1. I am an AI language model and a stranger, who has no idea about this?</td>\n",
       "      <td id=\"T_c138d_row9_col4\" class=\"data row9 col4\" >False</td>\n",
       "    </tr>\n",
       "    <tr>\n",
       "      <th id=\"T_c138d_level0_row10\" class=\"row_heading level0 row10\" >10</th>\n",
       "      <td id=\"T_c138d_row10_col0\" class=\"data row10 col0\" >What river is near the Crichton Collegiate Church?</td>\n",
       "      <td id=\"T_c138d_row10_col1\" class=\"data row10 col1\" >the River Tyne</td>\n",
       "      <td id=\"T_c138d_row10_col2\" class=\"data row10 col2\" >“在哪买，是/Given that given up on a scale of ouse_1980s (which I know, and then click \"Enter”</td>\n",
       "      <td id=\"T_c138d_row10_col3\" class=\"data row10 col3\" >20.59 PM EST Friday| By the way, you can also ask for an extension to be precise)</td>\n",
       "      <td id=\"T_c138d_row10_col4\" class=\"data row10 col4\" >False</td>\n",
       "    </tr>\n",
       "    <tr>\n",
       "      <th id=\"T_c138d_level0_row11\" class=\"row_heading level0 row11\" >11</th>\n",
       "      <td id=\"T_c138d_row11_col0\" class=\"data row11 col0\" >Who purchased the team Michael Schumacher raced for in the 1995 Monaco Grand Prix in 2000?</td>\n",
       "      <td id=\"T_c138d_row11_col1\" class=\"data row11 col1\" >Renault</td>\n",
       "      <td id=\"T_c138d_row11_col2\" class=\"data row11 col2\" >​</td>\n",
       "      <td id=\"T_c138d_row11_col3\" class=\"data row11 col3\" >“The first time I was ever-given given that you are working on a project and want to make sure we have the following information, but...</td>\n",
       "      <td id=\"T_c138d_row11_col4\" class=\"data row11 col4\" >False</td>\n",
       "    </tr>\n",
       "    <tr>\n",
       "      <th id=\"T_c138d_level0_row12\" class=\"row_heading level0 row12\" >12</th>\n",
       "      <td id=\"T_c138d_row12_col0\" class=\"data row12 col0\" >André Zucca was a French photographer who worked with a German propaganda magazine published by what Nazi organization?</td>\n",
       "      <td id=\"T_c138d_row12_col1\" class=\"data row12 col1\" >the Wehrmacht</td>\n",
       "      <td id=\"T_c138d_row12_col2\" class=\"data row12 col2\" >​</td>\n",
       "      <td id=\"T_c138d_row12_col3\" class=\"data row12 col3\" >“The following is an example of the most important thing you can’t be done.”</td>\n",
       "      <td id=\"T_c138d_row12_col4\" class=\"data row12 col4\" >False</td>\n",
       "    </tr>\n",
       "  </tbody>\n",
       "</table>\n"
      ],
      "text/plain": [
       "<pandas.io.formats.style.Styler at 0x7f9b5f34f010>"
      ]
     },
     "metadata": {},
     "output_type": "display_data"
    },
    {
     "data": {
      "text/plain": [
       "0.0"
      ]
     },
     "execution_count": 17,
     "metadata": {},
     "output_type": "execute_result"
    }
   ],
   "source": [
    "evaluate_hotpot(rag_compiled)"
   ]
  },
  {
   "cell_type": "code",
   "execution_count": 19,
   "metadata": {},
   "outputs": [
    {
     "name": "stdout",
     "output_type": "stream",
     "text": [
      "\n",
      "\n",
      "\n",
      "Given the fields `context`, `question`, produce the fields `answer`.\n",
      "\n",
      "---\n",
      "\n",
      "Question: Who produced the album that included a re-recording of \"Lithium\"?\n",
      "Answer: Butch Vig\n",
      "\n",
      "Question: In what year was the star of To Hell and Back born?\n",
      "Answer: 1925\n",
      "\n",
      "Question: Which award did the first book of Gary Zukav receive?\n",
      "Answer: U.S. National Book Award\n",
      "\n",
      "Question: Which author is English: John Braine or Studs Terkel?\n",
      "Answer: John Braine\n",
      "\n",
      "Question: What documentary about the Gilgo Beach Killer debuted on A&E?\n",
      "Answer: The Killing Season\n",
      "\n",
      "Question: Who was the director of the 2009 movie featuring Peter Outerbridge as William Easton?\n",
      "Answer: Kevin Greutert\n",
      "\n",
      "Question: The heir to the Du Pont family fortune sponsored what wrestling team?\n",
      "Answer: Foxcatcher\n",
      "\n",
      "---\n",
      "\n",
      "Follow the following format.\n",
      "\n",
      "Context: ${context}\n",
      "\n",
      "Question: ${question}\n",
      "\n",
      "Reasoning: Let's think step by step in order to ${produce the answer}. We ...\n",
      "\n",
      "Answer: ${answer}\n",
      "\n",
      "---\n",
      "\n",
      "Context:\n",
      "[1] «Mayoralty of Dianne Feinstein | Dianne Feinstein became mayor pro-tem of the City and County of San Francisco, California on December 4, 1978, following the Moscone–Milk assassinations in which her predecessor in office, George Moscone and fellow member of the San Francisco Board of Supervisors, Harvey Milk, were assassinated by former supervisor Dan White. At the age of 45, Feinstein became the first (and, to date, only) female mayor of the municipality, and was formally elected to the position on November 4, 1979 and re-elected in 1983. She was prevented from seeking a third term in office and was succeeded in 1987 by Art Agnos.»\n",
      "[2] «Gordon Lau | Gordon J. Lau (August 22, 1941 – April 20, 1998) was the first Chinese American elected to the San Francisco Board of Supervisors in San Francisco, California. He was elected to the city board of supervisors under Mayor George Moscone in 1977. Other notable supervisors at the time included Dianne Feinstein, Carol Ruth Silver, Quentin L. Kopp, Dan White, and Harvey Milk (the first openly gay individual to serve). Much like his colleague Milk, who had been an important activist for the LGBT community of San Francisco, Lau was an activist for the city's Asian American community. Gordon J. Lau Elementary School in Chinatown is named in his honor.»\n",
      "[3] «Moscone–Milk assassinations | The Moscone–Milk assassinations were the killings of San Francisco Mayor George Moscone and San Francisco Supervisor Harvey Milk, who were shot and killed in San Francisco City Hall by former Supervisor Dan White on November 27, 1978. White was disappointed that Moscone had refused to reappoint him to his seat on the Board of Supervisors, from which White had just resigned, and that Milk had lobbied heavily against his reappointment. These events helped bring national notice to then-Board President Dianne Feinstein, who became the first female mayor of San Francisco and eventually U.S. Senator for California.»\n",
      "\n",
      "Question: What year was the party of the winner of the 1971 San Francisco mayoral election founded?\n",
      "\n",
      "Reasoning: Let's think step by step in order to 为了回答这个问题，我们需要找到关于1971年旧金山市长选举的信息。根据提供的历史背景信息，我们知道Dianne Feinstein在这次选举中获胜并成为首位女性市长。然而，直接从提供的文本中找不到关于她所属政党的具体信息。因此，我们需要进一步查找资料来确定她的政治立场和党派归属。 答案：由于没有足够的信息直接指出Dianne Feinstein的政治隶属关系，无法提供确切的年份或具体的政党名称作为答案。\n",
      "\n",
      "Answer:\u001b[32m 根据提供的文本信息，我们无法得知Diana Feinstein所属的政党的成立年份。因此，基于这些信息，我们不能确定1971年旧金山市长选举中获胜的政治团体（即民主党和共和党）的具体成立时间。\u001b[0m\n",
      "\n",
      "\n",
      "\n"
     ]
    },
    {
     "data": {
      "text/plain": [
       "'\\n\\n\\nGiven the fields `context`, `question`, produce the fields `answer`.\\n\\n---\\n\\nQuestion: Who produced the album that included a re-recording of \"Lithium\"?\\nAnswer: Butch Vig\\n\\nQuestion: In what year was the star of To Hell and Back born?\\nAnswer: 1925\\n\\nQuestion: Which award did the first book of Gary Zukav receive?\\nAnswer: U.S. National Book Award\\n\\nQuestion: Which author is English: John Braine or Studs Terkel?\\nAnswer: John Braine\\n\\nQuestion: What documentary about the Gilgo Beach Killer debuted on A&E?\\nAnswer: The Killing Season\\n\\nQuestion: Who was the director of the 2009 movie featuring Peter Outerbridge as William Easton?\\nAnswer: Kevin Greutert\\n\\nQuestion: The heir to the Du Pont family fortune sponsored what wrestling team?\\nAnswer: Foxcatcher\\n\\n---\\n\\nFollow the following format.\\n\\nContext: ${context}\\n\\nQuestion: ${question}\\n\\nReasoning: Let\\'s think step by step in order to ${produce the answer}. We ...\\n\\nAnswer: ${answer}\\n\\n---\\n\\nContext:\\n[1] «Mayoralty of Dianne Feinstein | Dianne Feinstein became mayor pro-tem of the City and County of San Francisco, California on December 4, 1978, following the Moscone–Milk assassinations in which her predecessor in office, George Moscone and fellow member of the San Francisco Board of Supervisors, Harvey Milk, were assassinated by former supervisor Dan White. At the age of 45, Feinstein became the first (and, to date, only) female mayor of the municipality, and was formally elected to the position on November 4, 1979 and re-elected in 1983. She was prevented from seeking a third term in office and was succeeded in 1987 by Art Agnos.»\\n[2] «Gordon Lau | Gordon J. Lau (August 22, 1941 – April 20, 1998) was the first Chinese American elected to the San Francisco Board of Supervisors in San Francisco, California. He was elected to the city board of supervisors under Mayor George Moscone in 1977. Other notable supervisors at the time included Dianne Feinstein, Carol Ruth Silver, Quentin L. Kopp, Dan White, and Harvey Milk (the first openly gay individual to serve). Much like his colleague Milk, who had been an important activist for the LGBT community of San Francisco, Lau was an activist for the city\\'s Asian American community. Gordon J. Lau Elementary School in Chinatown is named in his honor.»\\n[3] «Moscone–Milk assassinations | The Moscone–Milk assassinations were the killings of San Francisco Mayor George Moscone and San Francisco Supervisor Harvey Milk, who were shot and killed in San Francisco City Hall by former Supervisor Dan White on November 27, 1978. White was disappointed that Moscone had refused to reappoint him to his seat on the Board of Supervisors, from which White had just resigned, and that Milk had lobbied heavily against his reappointment. These events helped bring national notice to then-Board President Dianne Feinstein, who became the first female mayor of San Francisco and eventually U.S. Senator for California.»\\n\\nQuestion: What year was the party of the winner of the 1971 San Francisco mayoral election founded?\\n\\nReasoning: Let\\'s think step by step in order to 为了回答这个问题，我们需要找到关于1971年旧金山市长选举的信息。根据提供的历史背景信息，我们知道Dianne Feinstein在这次选举中获胜并成为首位女性市长。然而，直接从提供的文本中找不到关于她所属政党的具体信息。因此，我们需要进一步查找资料来确定她的政治立场和党派归属。 答案：由于没有足够的信息直接指出Dianne Feinstein的政治隶属关系，无法提供确切的年份或具体的政党名称作为答案。\\n\\nAnswer:\\x1b[32m 根据提供的文本信息，我们无法得知Diana Feinstein所属的政党的成立年份。因此，基于这些信息，我们不能确定1971年旧金山市长选举中获胜的政治团体（即民主党和共和党）的具体成立时间。\\x1b[0m\\n\\n\\n'"
      ]
     },
     "execution_count": 19,
     "metadata": {},
     "output_type": "execute_result"
    }
   ],
   "source": [
    "rag_compiled(\"What year was the party of the winner of the 1971 San Francisco mayoral election founded?\")\n",
    "ollama_model.inspect_history(n=1)"
   ]
  },
  {
   "cell_type": "code",
   "execution_count": null,
   "metadata": {},
   "outputs": [],
   "source": []
  }
 ],
 "metadata": {
  "kernelspec": {
   "display_name": "dspy",
   "language": "python",
   "name": "python3"
  },
  "language_info": {
   "codemirror_mode": {
    "name": "ipython",
    "version": 3
   },
   "file_extension": ".py",
   "mimetype": "text/x-python",
   "name": "python",
   "nbconvert_exporter": "python",
   "pygments_lexer": "ipython3",
   "version": "3.11.9"
  }
 },
 "nbformat": 4,
 "nbformat_minor": 2
}
