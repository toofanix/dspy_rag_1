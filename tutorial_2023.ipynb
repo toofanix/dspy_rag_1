{
 "cells": [
  {
   "cell_type": "code",
   "execution_count": 1,
   "metadata": {},
   "outputs": [],
   "source": [
    "import dspy\n",
    "from dspy.evaluate import Evaluate\n",
    "from dspy.teleprompt import BootstrapFewShot, BootstrapFewShotWithRandomSearch, BootstrapFinetune"
   ]
  },
  {
   "cell_type": "markdown",
   "metadata": {},
   "source": [
    "# Local Model\n",
    "- Set up a local model, and configure dspy to use it."
   ]
  },
  {
   "cell_type": "code",
   "execution_count": 2,
   "metadata": {},
   "outputs": [],
   "source": [
    "# Language model\n",
    "ollama_model = dspy.OllamaLocal(\n",
    "    model='capymistral',\n",
    "    model_type='text',\n",
    "    max_tokens=350,\n",
    "    temperature=0.001,\n",
    "    # top_p=0.9,\n",
    "    # frequency_penalty=1.17,\n",
    "    # top_k=40,\n",
    "    timeout_s=180,\n",
    ")\n",
    "\n",
    "# Retrieval model\n",
    "colbertv2 = dspy.ColBERTv2(url='http://20.102.90.50:2017/wiki17_abstracts')\n",
    "\n",
    "# configure dspy\n",
    "dspy.settings.configure(rm=colbertv2, lm=ollama_model)"
   ]
  },
  {
   "cell_type": "markdown",
   "metadata": {},
   "source": [
    "# Create a few QA pairs\n"
   ]
  },
  {
   "cell_type": "code",
   "execution_count": 3,
   "metadata": {},
   "outputs": [],
   "source": [
    "train = [('Who was the director of the 2009 movie featuring Peter Outerbridge as William Easton?', 'Kevin Greutert'),\n",
    "         ('The heir to the Du Pont family fortune sponsored what wrestling team?', 'Foxcatcher'),\n",
    "         ('In what year was the star of To Hell and Back born?', '1925'),\n",
    "         ('Which award did the first book of Gary Zukav receive?', 'U.S. National Book Award'),\n",
    "         ('What documentary about the Gilgo Beach Killer debuted on A&E?', 'The Killing Season'),\n",
    "         ('Which author is English: John Braine or Studs Terkel?', 'John Braine'),\n",
    "         ('Who produced the album that included a re-recording of \"Lithium\"?', 'Butch Vig')]\n",
    "\n",
    "train = [dspy.Example(question=question, answer=answer).with_inputs('question') for question, answer in train]"
   ]
  },
  {
   "cell_type": "code",
   "execution_count": 4,
   "metadata": {},
   "outputs": [],
   "source": [
    "dev = [('Who has a broader scope of profession: E. L. Doctorow or Julia Peterkin?', 'E. L. Doctorow'),\n",
    "       ('Right Back At It Again contains lyrics co-written by the singer born in what city?', 'Gainesville, Florida'),\n",
    "       ('What year was the party of the winner of the 1971 San Francisco mayoral election founded?', '1828'),\n",
    "       ('Anthony Dirrell is the brother of which super middleweight title holder?', 'Andre Dirrell'),\n",
    "       ('The sports nutrition business established by Oliver Cookson is based in which county in the UK?', 'Cheshire'),\n",
    "       ('Find the birth date of the actor who played roles in First Wives Club and Searching for the Elephant.', 'February 13, 1980'),\n",
    "       ('Kyle Moran was born in the town on what river?', 'Castletown River'),\n",
    "       (\"The actress who played the niece in the Priest film was born in what city, country?\", 'Surrey, England'),\n",
    "       ('Name the movie in which the daughter of Noel Harrison plays Violet Trefusis.', 'Portrait of a Marriage'),\n",
    "       ('What year was the father of the Princes in the Tower born?', '1442'),\n",
    "       ('What river is near the Crichton Collegiate Church?', 'the River Tyne'),\n",
    "       ('Who purchased the team Michael Schumacher raced for in the 1995 Monaco Grand Prix in 2000?', 'Renault'),\n",
    "       ('André Zucca was a French photographer who worked with a German propaganda magazine published by what Nazi organization?', 'the Wehrmacht')]\n",
    "\n",
    "dev = [dspy.Example(question=question, answer=answer).with_inputs('question') for question, answer in dev]"
   ]
  },
  {
   "cell_type": "markdown",
   "metadata": {},
   "source": [
    "# Signatures and Modules"
   ]
  },
  {
   "cell_type": "code",
   "execution_count": 5,
   "metadata": {},
   "outputs": [
    {
     "data": {
      "text/plain": [
       "Prediction(\n",
       "    answer='The capital city of the United Kingdom (UK) is London.'\n",
       ")"
      ]
     },
     "execution_count": 5,
     "metadata": {},
     "output_type": "execute_result"
    }
   ],
   "source": [
    "# Define a dspy.Predict module with the signature `question -> answer` (i.e., takes a question and outputs an answer).\n",
    "predict = dspy.Predict(\"question -> answer\")\n",
    "\n",
    "# Use the module defined above\n",
    "predict(question='What is the capital city of UK?')"
   ]
  },
  {
   "cell_type": "markdown",
   "metadata": {},
   "source": [
    "### Notes:\n",
    "- The above is the simplest way to define a module, and use it.\n",
    "- The example above is that of `zero-shot`, without compiling or optimizing it on any examples.\n",
    "\n",
    "In the following, we make a more advanced program. The program will use a chain-of-thought module, that asks the LM to think step by step."
   ]
  },
  {
   "cell_type": "code",
   "execution_count": 6,
   "metadata": {},
   "outputs": [],
   "source": [
    "class CoT(dspy.Module):\n",
    "    def __init__(self):\n",
    "        super().__init__()\n",
    "\n",
    "        # declare the cot sub-module, so we can compile later\n",
    "        self.generate_answer = dspy.ChainOfThought(\"question -> answer\")\n",
    "\n",
    "    def forward(self, question): # use and return the response\n",
    "        return self.generate_answer(question=question)\n",
    "    "
   ]
  },
  {
   "cell_type": "code",
   "execution_count": 7,
   "metadata": {},
   "outputs": [
    {
     "name": "stdout",
     "output_type": "stream",
     "text": [
      "Question: What is the capital of Germany?\n",
      "Predicted Answer: Berlin\n"
     ]
    }
   ],
   "source": [
    "test_question = \"What is the capital of Germany?\"\n",
    "# Get the prediction. This contains `pred.context` and `pred.answer`.\n",
    "uncompiled_cot = CoT()\n",
    "\n",
    "pred = uncompiled_cot(test_question)\n",
    "\n",
    "# Print the contexts and the answer.\n",
    "print(f\"Question: {test_question}\")\n",
    "print(f\"Predicted Answer: {pred.answer}\")"
   ]
  },
  {
   "cell_type": "code",
   "execution_count": 8,
   "metadata": {},
   "outputs": [
    {
     "name": "stderr",
     "output_type": "stream",
     "text": [
      "100%|██████████| 7/7 [00:28<00:00,  4.05s/it]\n"
     ]
    }
   ],
   "source": [
    "# Compile with train examples.\n",
    "metric_EM = dspy.evaluate.answer_exact_match\n",
    "\n",
    "teleprompter = BootstrapFewShot(metric=metric_EM, max_bootstrapped_demos=2)\n",
    "cot_compiled = teleprompter.compile(CoT(), trainset=train)"
   ]
  },
  {
   "cell_type": "code",
   "execution_count": 9,
   "metadata": {},
   "outputs": [
    {
     "name": "stdout",
     "output_type": "stream",
     "text": [
      "Question: What is the capital of Germany?\n",
      "Predicted Answer: Question: What is the capital of Germany?\n",
      "Reasoning: Let's think step by step in order to find out the capital of Germany. First, we need to identify the country in question. In this case, it's Germany. Next, we must determine the capital city of that country. The capital city of Germany is Berlin.\n",
      "Answer: Berlin\n"
     ]
    }
   ],
   "source": [
    "\n",
    "pred = cot_compiled(test_question)\n",
    "\n",
    "# Print the contexts and the answer.\n",
    "print(f\"Question: {test_question}\")\n",
    "print(f\"Predicted Answer: {pred.answer}\")"
   ]
  },
  {
   "cell_type": "code",
   "execution_count": 10,
   "metadata": {},
   "outputs": [
    {
     "name": "stdout",
     "output_type": "stream",
     "text": [
      "\n",
      "\n",
      "\n",
      "Given the fields `question`, produce the fields `answer`.\n",
      "\n",
      "---\n",
      "\n",
      "Question: Which author is English: John Braine or Studs Terkel?\n",
      "Answer: John Braine\n",
      "\n",
      "Question: What documentary about the Gilgo Beach Killer debuted on A&E?\n",
      "Answer: The Killing Season\n",
      "\n",
      "Question: Which award did the first book of Gary Zukav receive?\n",
      "Answer: U.S. National Book Award\n",
      "\n",
      "Question: The heir to the Du Pont family fortune sponsored what wrestling team?\n",
      "Answer: Foxcatcher\n",
      "\n",
      "Question: Who was the director of the 2009 movie featuring Peter Outerbridge as William Easton?\n",
      "Answer: Kevin Greutert\n",
      "\n",
      "---\n",
      "\n",
      "Follow the following format.\n",
      "\n",
      "Question: ${question}\n",
      "Reasoning: Let's think step by step in order to ${produce the answer}. We ...\n",
      "Answer: ${answer}\n",
      "\n",
      "---\n",
      "\n",
      "Question: In what year was the star of To Hell and Back born?\n",
      "Reasoning: Let's think step by step in order to find out the birth year of the star of To Hell and Back. First, we need to identify the star of this movie. \"To Hell and Back\" is a 1955 biographical war film starring Audie Murphy, an American soldier and actor. Now that we know the main actor, we can find his birth date. Audie Murphy was born on June 20, 1925.\n",
      "Answer: 1925\n",
      "\n",
      "---\n",
      "\n",
      "Question: Who produced the album that included a re-recording of \"Lithium\"?\n",
      "Reasoning: Let's think step by step in order to find out who produced the album with a re-recording of \"Lithium\". First, we need to identify the album that includes this song. \"Lithium\" is a song by Nirvana, and it was re-recorded for their album titled \"Nirvana\". The producer of this album, which is also a compilation album featuring various artists covering Nirvana songs, is Butch Vig.\n",
      "Answer: Butch Vig\n",
      "\n",
      "---\n",
      "\n",
      "Question: What is the capital of Germany?\n",
      "Reasoning: Let's think step by step in order to Answer: Berlin First, we need to identify the country in question. In this case, it's Germany. Next, we must determine the capital city of that country. The capital city of Germany is Berlin.\n",
      "Answer:\u001b[32m Question: What is the capital of Germany?\n",
      "Reasoning: Let's think step by step in order to find out the capital of Germany. First, we need to identify the country in question. In this case, it's Germany. Next, we must determine the capital city of that country. The capital city of Germany is Berlin.\n",
      "Answer: Berlin\u001b[0m\n",
      "\n",
      "\n",
      "\n"
     ]
    },
    {
     "data": {
      "text/plain": [
       "'\\n\\n\\nGiven the fields `question`, produce the fields `answer`.\\n\\n---\\n\\nQuestion: Which author is English: John Braine or Studs Terkel?\\nAnswer: John Braine\\n\\nQuestion: What documentary about the Gilgo Beach Killer debuted on A&E?\\nAnswer: The Killing Season\\n\\nQuestion: Which award did the first book of Gary Zukav receive?\\nAnswer: U.S. National Book Award\\n\\nQuestion: The heir to the Du Pont family fortune sponsored what wrestling team?\\nAnswer: Foxcatcher\\n\\nQuestion: Who was the director of the 2009 movie featuring Peter Outerbridge as William Easton?\\nAnswer: Kevin Greutert\\n\\n---\\n\\nFollow the following format.\\n\\nQuestion: ${question}\\nReasoning: Let\\'s think step by step in order to ${produce the answer}. We ...\\nAnswer: ${answer}\\n\\n---\\n\\nQuestion: In what year was the star of To Hell and Back born?\\nReasoning: Let\\'s think step by step in order to find out the birth year of the star of To Hell and Back. First, we need to identify the star of this movie. \"To Hell and Back\" is a 1955 biographical war film starring Audie Murphy, an American soldier and actor. Now that we know the main actor, we can find his birth date. Audie Murphy was born on June 20, 1925.\\nAnswer: 1925\\n\\n---\\n\\nQuestion: Who produced the album that included a re-recording of \"Lithium\"?\\nReasoning: Let\\'s think step by step in order to find out who produced the album with a re-recording of \"Lithium\". First, we need to identify the album that includes this song. \"Lithium\" is a song by Nirvana, and it was re-recorded for their album titled \"Nirvana\". The producer of this album, which is also a compilation album featuring various artists covering Nirvana songs, is Butch Vig.\\nAnswer: Butch Vig\\n\\n---\\n\\nQuestion: What is the capital of Germany?\\nReasoning: Let\\'s think step by step in order to Answer: Berlin First, we need to identify the country in question. In this case, it\\'s Germany. Next, we must determine the capital city of that country. The capital city of Germany is Berlin.\\nAnswer:\\x1b[32m Question: What is the capital of Germany?\\nReasoning: Let\\'s think step by step in order to find out the capital of Germany. First, we need to identify the country in question. In this case, it\\'s Germany. Next, we must determine the capital city of that country. The capital city of Germany is Berlin.\\nAnswer: Berlin\\x1b[0m\\n\\n\\n'"
      ]
     },
     "execution_count": 10,
     "metadata": {},
     "output_type": "execute_result"
    }
   ],
   "source": [
    "ollama_model.inspect_history(n=1)"
   ]
  },
  {
   "cell_type": "code",
   "execution_count": 11,
   "metadata": {},
   "outputs": [],
   "source": [
    "NUM_THREADS = 32\n",
    "evaluate_hotpot = Evaluate(devset=dev, metric=metric_EM, num_threads=NUM_THREADS, display_progress=True, display_table=15)"
   ]
  },
  {
   "cell_type": "code",
   "execution_count": 12,
   "metadata": {},
   "outputs": [
    {
     "name": "stderr",
     "output_type": "stream",
     "text": [
      "  0%|          | 0/13 [00:00<?, ?it/s]"
     ]
    },
    {
     "name": "stderr",
     "output_type": "stream",
     "text": [
      "Average Metric: 6 / 13  (46.2): 100%|██████████| 13/13 [00:32<00:00,  2.46s/it]\n"
     ]
    },
    {
     "data": {
      "text/html": [
       "<style type=\"text/css\">\n",
       "#T_7a64c th {\n",
       "  text-align: left;\n",
       "}\n",
       "#T_7a64c td {\n",
       "  text-align: left;\n",
       "}\n",
       "#T_7a64c_row0_col0, #T_7a64c_row0_col1, #T_7a64c_row0_col2, #T_7a64c_row0_col3, #T_7a64c_row0_col4, #T_7a64c_row1_col0, #T_7a64c_row1_col1, #T_7a64c_row1_col2, #T_7a64c_row1_col3, #T_7a64c_row1_col4, #T_7a64c_row2_col0, #T_7a64c_row2_col1, #T_7a64c_row2_col2, #T_7a64c_row2_col3, #T_7a64c_row2_col4, #T_7a64c_row3_col0, #T_7a64c_row3_col1, #T_7a64c_row3_col2, #T_7a64c_row3_col3, #T_7a64c_row3_col4, #T_7a64c_row4_col0, #T_7a64c_row4_col1, #T_7a64c_row4_col2, #T_7a64c_row4_col3, #T_7a64c_row4_col4, #T_7a64c_row5_col0, #T_7a64c_row5_col1, #T_7a64c_row5_col2, #T_7a64c_row5_col3, #T_7a64c_row5_col4, #T_7a64c_row6_col0, #T_7a64c_row6_col1, #T_7a64c_row6_col2, #T_7a64c_row6_col3, #T_7a64c_row6_col4, #T_7a64c_row7_col0, #T_7a64c_row7_col1, #T_7a64c_row7_col2, #T_7a64c_row7_col3, #T_7a64c_row7_col4, #T_7a64c_row8_col0, #T_7a64c_row8_col1, #T_7a64c_row8_col2, #T_7a64c_row8_col3, #T_7a64c_row8_col4, #T_7a64c_row9_col0, #T_7a64c_row9_col1, #T_7a64c_row9_col2, #T_7a64c_row9_col3, #T_7a64c_row9_col4, #T_7a64c_row10_col0, #T_7a64c_row10_col1, #T_7a64c_row10_col2, #T_7a64c_row10_col3, #T_7a64c_row10_col4, #T_7a64c_row11_col0, #T_7a64c_row11_col1, #T_7a64c_row11_col2, #T_7a64c_row11_col3, #T_7a64c_row11_col4, #T_7a64c_row12_col0, #T_7a64c_row12_col1, #T_7a64c_row12_col2, #T_7a64c_row12_col3, #T_7a64c_row12_col4 {\n",
       "  text-align: left;\n",
       "  white-space: pre-wrap;\n",
       "  word-wrap: break-word;\n",
       "  max-width: 400px;\n",
       "}\n",
       "</style>\n",
       "<table id=\"T_7a64c\">\n",
       "  <thead>\n",
       "    <tr>\n",
       "      <th class=\"blank level0\" >&nbsp;</th>\n",
       "      <th id=\"T_7a64c_level0_col0\" class=\"col_heading level0 col0\" >question</th>\n",
       "      <th id=\"T_7a64c_level0_col1\" class=\"col_heading level0 col1\" >example_answer</th>\n",
       "      <th id=\"T_7a64c_level0_col2\" class=\"col_heading level0 col2\" >rationale</th>\n",
       "      <th id=\"T_7a64c_level0_col3\" class=\"col_heading level0 col3\" >pred_answer</th>\n",
       "      <th id=\"T_7a64c_level0_col4\" class=\"col_heading level0 col4\" >answer_exact_match</th>\n",
       "    </tr>\n",
       "  </thead>\n",
       "  <tbody>\n",
       "    <tr>\n",
       "      <th id=\"T_7a64c_level0_row0\" class=\"row_heading level0 row0\" >0</th>\n",
       "      <td id=\"T_7a64c_row0_col0\" class=\"data row0 col0\" >Who has a broader scope of profession: E. L. Doctorow or Julia Peterkin?</td>\n",
       "      <td id=\"T_7a64c_row0_col1\" class=\"data row0 col1\" >E. L. Doctorow</td>\n",
       "      <td id=\"T_7a64c_row0_col2\" class=\"data row0 col2\" >compare the professions of E. L. Doctorow and Julia Peterkin. E. L. Doctorow was an American novelist, journalist, and screenwriter. He wrote several novels, including...</td>\n",
       "      <td id=\"T_7a64c_row0_col3\" class=\"data row0 col3\" >E. L. Doctorow</td>\n",
       "      <td id=\"T_7a64c_row0_col4\" class=\"data row0 col4\" >✔️ [True]</td>\n",
       "    </tr>\n",
       "    <tr>\n",
       "      <th id=\"T_7a64c_level0_row1\" class=\"row_heading level0 row1\" >1</th>\n",
       "      <td id=\"T_7a64c_row1_col0\" class=\"data row1 col0\" >Right Back At It Again contains lyrics co-written by the singer born in what city?</td>\n",
       "      <td id=\"T_7a64c_row1_col1\" class=\"data row1 col1\" >Gainesville, Florida</td>\n",
       "      <td id=\"T_7a64c_row1_col2\" class=\"data row1 col2\" >find out the city where the singer was born who co-wrote the lyrics for \"Right Back At It Again\". First, we need to identify the...</td>\n",
       "      <td id=\"T_7a64c_row1_col3\" class=\"data row1 col3\" >Timmins, Ontario, Canada</td>\n",
       "      <td id=\"T_7a64c_row1_col4\" class=\"data row1 col4\" >False</td>\n",
       "    </tr>\n",
       "    <tr>\n",
       "      <th id=\"T_7a64c_level0_row2\" class=\"row_heading level0 row2\" >2</th>\n",
       "      <td id=\"T_7a64c_row2_col0\" class=\"data row2 col0\" >What year was the party of the winner of the 1971 San Francisco mayoral election founded?</td>\n",
       "      <td id=\"T_7a64c_row2_col1\" class=\"data row2 col1\" >1828</td>\n",
       "      <td id=\"T_7a64c_row2_col2\" class=\"data row2 col2\" >find out the founding year of the political party that won the 1971 San Francisco mayoral election. First, we need to identify the winner of...</td>\n",
       "      <td id=\"T_7a64c_row2_col3\" class=\"data row2 col3\" >1828</td>\n",
       "      <td id=\"T_7a64c_row2_col4\" class=\"data row2 col4\" >✔️ [True]</td>\n",
       "    </tr>\n",
       "    <tr>\n",
       "      <th id=\"T_7a64c_level0_row3\" class=\"row_heading level0 row3\" >3</th>\n",
       "      <td id=\"T_7a64c_row3_col0\" class=\"data row3 col0\" >Anthony Dirrell is the brother of which super middleweight title holder?</td>\n",
       "      <td id=\"T_7a64c_row3_col1\" class=\"data row3 col1\" >Andre Dirrell</td>\n",
       "      <td id=\"T_7a64c_row3_col2\" class=\"data row3 col2\" >find out the name of Anthony Dirrell's sibling who is a super middleweight title holder. First, we need to identify Anthony Dirrell, an American professional...</td>\n",
       "      <td id=\"T_7a64c_row3_col3\" class=\"data row3 col3\" >Andre Dirrell</td>\n",
       "      <td id=\"T_7a64c_row3_col4\" class=\"data row3 col4\" >✔️ [True]</td>\n",
       "    </tr>\n",
       "    <tr>\n",
       "      <th id=\"T_7a64c_level0_row4\" class=\"row_heading level0 row4\" >4</th>\n",
       "      <td id=\"T_7a64c_row4_col0\" class=\"data row4 col0\" >The sports nutrition business established by Oliver Cookson is based in which county in the UK?</td>\n",
       "      <td id=\"T_7a64c_row4_col1\" class=\"data row4 col1\" >Cheshire</td>\n",
       "      <td id=\"T_7a64c_row4_col2\" class=\"data row4 col2\" >find out the county where the sports nutrition business established by Oliver Cookson is based. First, we need to identify the name of the company...</td>\n",
       "      <td id=\"T_7a64c_row4_col3\" class=\"data row4 col3\" >Cheshire</td>\n",
       "      <td id=\"T_7a64c_row4_col4\" class=\"data row4 col4\" >✔️ [True]</td>\n",
       "    </tr>\n",
       "    <tr>\n",
       "      <th id=\"T_7a64c_level0_row5\" class=\"row_heading level0 row5\" >5</th>\n",
       "      <td id=\"T_7a64c_row5_col0\" class=\"data row5 col0\" >Find the birth date of the actor who played roles in First Wives Club and Searching for the Elephant.</td>\n",
       "      <td id=\"T_7a64c_row5_col1\" class=\"data row5 col1\" >February 13, 1980</td>\n",
       "      <td id=\"T_7a64c_row5_col2\" class=\"data row5 col2\" >find out the birth date of the actor who played roles in \"First Wives Club\" and \"Searching for the Elephant\". First, we need to identify...</td>\n",
       "      <td id=\"T_7a64c_row5_col3\" class=\"data row5 col3\" >1947-10-17</td>\n",
       "      <td id=\"T_7a64c_row5_col4\" class=\"data row5 col4\" >False</td>\n",
       "    </tr>\n",
       "    <tr>\n",
       "      <th id=\"T_7a64c_level0_row6\" class=\"row_heading level0 row6\" >6</th>\n",
       "      <td id=\"T_7a64c_row6_col0\" class=\"data row6 col0\" >Kyle Moran was born in the town on what river?</td>\n",
       "      <td id=\"T_7a64c_row6_col1\" class=\"data row6 col1\" >Castletown River</td>\n",
       "      <td id=\"T_7a64c_row6_col2\" class=\"data row6 col2\" >find out the name of the river that flows through the town where Kyle Moran was born. First, we need to identify the town where...</td>\n",
       "      <td id=\"T_7a64c_row6_col3\" class=\"data row6 col3\" >1. Hudson River\n",
       "2. East River</td>\n",
       "      <td id=\"T_7a64c_row6_col4\" class=\"data row6 col4\" >False</td>\n",
       "    </tr>\n",
       "    <tr>\n",
       "      <th id=\"T_7a64c_level0_row7\" class=\"row_heading level0 row7\" >7</th>\n",
       "      <td id=\"T_7a64c_row7_col0\" class=\"data row7 col0\" >The actress who played the niece in the Priest film was born in what city, country?</td>\n",
       "      <td id=\"T_7a64c_row7_col1\" class=\"data row7 col1\" >Surrey, England</td>\n",
       "      <td id=\"T_7a64c_row7_col2\" class=\"data row7 col2\" >find out the birthplace of the actress who played the niece in the \"Priest\" film. First, we need to identify the actress and the character...</td>\n",
       "      <td id=\"T_7a64c_row7_col3\" class=\"data row7 col3\" >Guildford, Surrey, England</td>\n",
       "      <td id=\"T_7a64c_row7_col4\" class=\"data row7 col4\" >False</td>\n",
       "    </tr>\n",
       "    <tr>\n",
       "      <th id=\"T_7a64c_level0_row8\" class=\"row_heading level0 row8\" >8</th>\n",
       "      <td id=\"T_7a64c_row8_col0\" class=\"data row8 col0\" >Name the movie in which the daughter of Noel Harrison plays Violet Trefusis.</td>\n",
       "      <td id=\"T_7a64c_row8_col1\" class=\"data row8 col1\" >Portrait of a Marriage</td>\n",
       "      <td id=\"T_7a64c_row8_col2\" class=\"data row8 col2\" >find out the name of the movie where the daughter of Noel Harrison plays Violet Trefusis. First, we need to identify the daughter of Noel...</td>\n",
       "      <td id=\"T_7a64c_row8_col3\" class=\"data row8 col3\" >Dance with a Stranger</td>\n",
       "      <td id=\"T_7a64c_row8_col4\" class=\"data row8 col4\" >False</td>\n",
       "    </tr>\n",
       "    <tr>\n",
       "      <th id=\"T_7a64c_level0_row9\" class=\"row_heading level0 row9\" >9</th>\n",
       "      <td id=\"T_7a64c_row9_col0\" class=\"data row9 col0\" >What year was the father of the Princes in the Tower born?</td>\n",
       "      <td id=\"T_7a64c_row9_col1\" class=\"data row9 col1\" >1442</td>\n",
       "      <td id=\"T_7a64c_row9_col2\" class=\"data row9 col2\" >find out the birth year of the father of the Princes in the Tower. The Princes in the Tower were Edward V and Richard of...</td>\n",
       "      <td id=\"T_7a64c_row9_col3\" class=\"data row9 col3\" >1442</td>\n",
       "      <td id=\"T_7a64c_row9_col4\" class=\"data row9 col4\" >✔️ [True]</td>\n",
       "    </tr>\n",
       "    <tr>\n",
       "      <th id=\"T_7a64c_level0_row10\" class=\"row_heading level0 row10\" >10</th>\n",
       "      <td id=\"T_7a64c_row10_col0\" class=\"data row10 col0\" >What river is near the Crichton Collegiate Church?</td>\n",
       "      <td id=\"T_7a64c_row10_col1\" class=\"data row10 col1\" >the River Tyne</td>\n",
       "      <td id=\"T_7a64c_row10_col2\" class=\"data row10 col2\" >find out which river is near the Crichton Collegiate Church. First, we need to identify the location of the Crichton Collegiate Church. The Crichton Collegiate...</td>\n",
       "      <td id=\"T_7a64c_row10_col3\" class=\"data row10 col3\" >River Tyne</td>\n",
       "      <td id=\"T_7a64c_row10_col4\" class=\"data row10 col4\" >✔️ [True]</td>\n",
       "    </tr>\n",
       "    <tr>\n",
       "      <th id=\"T_7a64c_level0_row11\" class=\"row_heading level0 row11\" >11</th>\n",
       "      <td id=\"T_7a64c_row11_col0\" class=\"data row11 col0\" >Who purchased the team Michael Schumacher raced for in the 1995 Monaco Grand Prix in 2000?</td>\n",
       "      <td id=\"T_7a64c_row11_col1\" class=\"data row11 col1\" >Renault</td>\n",
       "      <td id=\"T_7a64c_row11_col2\" class=\"data row11 col2\" >find out who purchased the team Michael Schumacher raced for in the 1995 Monaco Grand Prix in 2000. First, we need to identify the team...</td>\n",
       "      <td id=\"T_7a64c_row11_col3\" class=\"data row11 col3\" >Renault F1 Team</td>\n",
       "      <td id=\"T_7a64c_row11_col4\" class=\"data row11 col4\" >False</td>\n",
       "    </tr>\n",
       "    <tr>\n",
       "      <th id=\"T_7a64c_level0_row12\" class=\"row_heading level0 row12\" >12</th>\n",
       "      <td id=\"T_7a64c_row12_col0\" class=\"data row12 col0\" >André Zucca was a French photographer who worked with a German propaganda magazine published by what Nazi organization?</td>\n",
       "      <td id=\"T_7a64c_row12_col1\" class=\"data row12 col1\" >the Wehrmacht</td>\n",
       "      <td id=\"T_7a64c_row12_col2\" class=\"data row12 col2\" >identify the Nazi organization that published the German propaganda magazine André Zucca worked with. First, we need to know the name of the German propaganda...</td>\n",
       "      <td id=\"T_7a64c_row12_col3\" class=\"data row12 col3\" >SS</td>\n",
       "      <td id=\"T_7a64c_row12_col4\" class=\"data row12 col4\" >False</td>\n",
       "    </tr>\n",
       "  </tbody>\n",
       "</table>\n"
      ],
      "text/plain": [
       "<pandas.io.formats.style.Styler at 0x7f70ab7277d0>"
      ]
     },
     "metadata": {},
     "output_type": "display_data"
    },
    {
     "data": {
      "text/plain": [
       "46.15"
      ]
     },
     "execution_count": 12,
     "metadata": {},
     "output_type": "execute_result"
    }
   ],
   "source": [
    "evaluate_hotpot(cot_compiled)"
   ]
  },
  {
   "cell_type": "markdown",
   "metadata": {},
   "source": []
  },
  {
   "cell_type": "code",
   "execution_count": 13,
   "metadata": {},
   "outputs": [
    {
     "name": "stderr",
     "output_type": "stream",
     "text": [
      "  0%|          | 0/13 [00:00<?, ?it/s]"
     ]
    },
    {
     "name": "stderr",
     "output_type": "stream",
     "text": [
      "Average Metric: 1 / 13  (7.7): 100%|██████████| 13/13 [00:50<00:00,  3.91s/it] \n"
     ]
    },
    {
     "data": {
      "text/html": [
       "<style type=\"text/css\">\n",
       "#T_8aca1 th {\n",
       "  text-align: left;\n",
       "}\n",
       "#T_8aca1 td {\n",
       "  text-align: left;\n",
       "}\n",
       "#T_8aca1_row0_col0, #T_8aca1_row0_col1, #T_8aca1_row0_col2, #T_8aca1_row0_col3, #T_8aca1_row0_col4, #T_8aca1_row1_col0, #T_8aca1_row1_col1, #T_8aca1_row1_col2, #T_8aca1_row1_col3, #T_8aca1_row1_col4, #T_8aca1_row2_col0, #T_8aca1_row2_col1, #T_8aca1_row2_col2, #T_8aca1_row2_col3, #T_8aca1_row2_col4, #T_8aca1_row3_col0, #T_8aca1_row3_col1, #T_8aca1_row3_col2, #T_8aca1_row3_col3, #T_8aca1_row3_col4, #T_8aca1_row4_col0, #T_8aca1_row4_col1, #T_8aca1_row4_col2, #T_8aca1_row4_col3, #T_8aca1_row4_col4, #T_8aca1_row5_col0, #T_8aca1_row5_col1, #T_8aca1_row5_col2, #T_8aca1_row5_col3, #T_8aca1_row5_col4, #T_8aca1_row6_col0, #T_8aca1_row6_col1, #T_8aca1_row6_col2, #T_8aca1_row6_col3, #T_8aca1_row6_col4, #T_8aca1_row7_col0, #T_8aca1_row7_col1, #T_8aca1_row7_col2, #T_8aca1_row7_col3, #T_8aca1_row7_col4, #T_8aca1_row8_col0, #T_8aca1_row8_col1, #T_8aca1_row8_col2, #T_8aca1_row8_col3, #T_8aca1_row8_col4, #T_8aca1_row9_col0, #T_8aca1_row9_col1, #T_8aca1_row9_col2, #T_8aca1_row9_col3, #T_8aca1_row9_col4, #T_8aca1_row10_col0, #T_8aca1_row10_col1, #T_8aca1_row10_col2, #T_8aca1_row10_col3, #T_8aca1_row10_col4, #T_8aca1_row11_col0, #T_8aca1_row11_col1, #T_8aca1_row11_col2, #T_8aca1_row11_col3, #T_8aca1_row11_col4, #T_8aca1_row12_col0, #T_8aca1_row12_col1, #T_8aca1_row12_col2, #T_8aca1_row12_col3, #T_8aca1_row12_col4 {\n",
       "  text-align: left;\n",
       "  white-space: pre-wrap;\n",
       "  word-wrap: break-word;\n",
       "  max-width: 400px;\n",
       "}\n",
       "</style>\n",
       "<table id=\"T_8aca1\">\n",
       "  <thead>\n",
       "    <tr>\n",
       "      <th class=\"blank level0\" >&nbsp;</th>\n",
       "      <th id=\"T_8aca1_level0_col0\" class=\"col_heading level0 col0\" >question</th>\n",
       "      <th id=\"T_8aca1_level0_col1\" class=\"col_heading level0 col1\" >example_answer</th>\n",
       "      <th id=\"T_8aca1_level0_col2\" class=\"col_heading level0 col2\" >rationale</th>\n",
       "      <th id=\"T_8aca1_level0_col3\" class=\"col_heading level0 col3\" >pred_answer</th>\n",
       "      <th id=\"T_8aca1_level0_col4\" class=\"col_heading level0 col4\" >answer_exact_match</th>\n",
       "    </tr>\n",
       "  </thead>\n",
       "  <tbody>\n",
       "    <tr>\n",
       "      <th id=\"T_8aca1_level0_row0\" class=\"row_heading level0 row0\" >0</th>\n",
       "      <td id=\"T_8aca1_row0_col0\" class=\"data row0 col0\" >Who has a broader scope of profession: E. L. Doctorow or Julia Peterkin?</td>\n",
       "      <td id=\"T_8aca1_row0_col1\" class=\"data row0 col1\" >E. L. Doctorow</td>\n",
       "      <td id=\"T_8aca1_row0_col2\" class=\"data row0 col2\" >determine who has a broader scope of profession between E. L. Doctorow and Julia Peterkin. First, we need to understand the professions of both authors....</td>\n",
       "      <td id=\"T_8aca1_row0_col3\" class=\"data row0 col3\" >E. L. Doctorow has a broader scope of profession than Julia Peterkin.</td>\n",
       "      <td id=\"T_8aca1_row0_col4\" class=\"data row0 col4\" >False</td>\n",
       "    </tr>\n",
       "    <tr>\n",
       "      <th id=\"T_8aca1_level0_row1\" class=\"row_heading level0 row1\" >1</th>\n",
       "      <td id=\"T_8aca1_row1_col0\" class=\"data row1 col0\" >Right Back At It Again contains lyrics co-written by the singer born in what city?</td>\n",
       "      <td id=\"T_8aca1_row1_col1\" class=\"data row1 col1\" >Gainesville, Florida</td>\n",
       "      <td id=\"T_8aca1_row1_col2\" class=\"data row1 col2\" >determine the city where the singer was born who co-wrote the lyrics for \"Right Back At It Again.\" First, we need to identify the artist...</td>\n",
       "      <td id=\"T_8aca1_row1_col3\" class=\"data row1 col3\" >Santa Monica, California</td>\n",
       "      <td id=\"T_8aca1_row1_col4\" class=\"data row1 col4\" >False</td>\n",
       "    </tr>\n",
       "    <tr>\n",
       "      <th id=\"T_8aca1_level0_row2\" class=\"row_heading level0 row2\" >2</th>\n",
       "      <td id=\"T_8aca1_row2_col0\" class=\"data row2 col0\" >What year was the party of the winner of the 1971 San Francisco mayoral election founded?</td>\n",
       "      <td id=\"T_8aca1_row2_col1\" class=\"data row2 col1\" >1828</td>\n",
       "      <td id=\"T_8aca1_row2_col2\" class=\"data row2 col2\" >determine the founding year of the political party that won the 1971 San Francisco mayoral election. First, we need to identify the winning candidate from...</td>\n",
       "      <td id=\"T_8aca1_row2_col3\" class=\"data row2 col3\" >The Democratic Party, which was the winning party of the 1971 San Francisco mayoral election with Joseph L. Alioto as the winner, was founded in...</td>\n",
       "      <td id=\"T_8aca1_row2_col4\" class=\"data row2 col4\" >False</td>\n",
       "    </tr>\n",
       "    <tr>\n",
       "      <th id=\"T_8aca1_level0_row3\" class=\"row_heading level0 row3\" >3</th>\n",
       "      <td id=\"T_8aca1_row3_col0\" class=\"data row3 col0\" >Anthony Dirrell is the brother of which super middleweight title holder?</td>\n",
       "      <td id=\"T_8aca1_row3_col1\" class=\"data row3 col1\" >Andre Dirrell</td>\n",
       "      <td id=\"T_8aca1_row3_col2\" class=\"data row3 col2\" >determine who Anthony Dirrell's brother is that holds a super middleweight title. First, we need to identify Anthony Dirrell as a professional boxer himself. He...</td>\n",
       "      <td id=\"T_8aca1_row3_col3\" class=\"data row3 col3\" >Andre Dirrell</td>\n",
       "      <td id=\"T_8aca1_row3_col4\" class=\"data row3 col4\" >✔️ [True]</td>\n",
       "    </tr>\n",
       "    <tr>\n",
       "      <th id=\"T_8aca1_level0_row4\" class=\"row_heading level0 row4\" >4</th>\n",
       "      <td id=\"T_8aca1_row4_col0\" class=\"data row4 col0\" >The sports nutrition business established by Oliver Cookson is based in which county in the UK?</td>\n",
       "      <td id=\"T_8aca1_row4_col1\" class=\"data row4 col1\" >Cheshire</td>\n",
       "      <td id=\"T_8aca1_row4_col2\" class=\"data row4 col2\" >determine the location of Oliver Cookson's sports nutrition business. First, we need to identify the name of the company. Oliver Cookson's sports nutrition business is...</td>\n",
       "      <td id=\"T_8aca1_row4_col3\" class=\"data row4 col3\" >Cheshire in the UK</td>\n",
       "      <td id=\"T_8aca1_row4_col4\" class=\"data row4 col4\" >False</td>\n",
       "    </tr>\n",
       "    <tr>\n",
       "      <th id=\"T_8aca1_level0_row5\" class=\"row_heading level0 row5\" >5</th>\n",
       "      <td id=\"T_8aca1_row5_col0\" class=\"data row5 col0\" >Find the birth date of the actor who played roles in First Wives Club and Searching for the Elephant.</td>\n",
       "      <td id=\"T_8aca1_row5_col1\" class=\"data row5 col1\" >February 13, 1980</td>\n",
       "      <td id=\"T_8aca1_row5_col2\" class=\"data row5 col2\" >Question: Find the birth date of the actor who played roles in First Wives Club and Searching for the Elephant. Reasoning: Let's think step by...</td>\n",
       "      <td id=\"T_8aca1_row5_col3\" class=\"data row5 col3\" >The birth date of the actor who played roles in First Wives Club and Searching (presumably intended to be \"Searching\") is January 5, 1946.</td>\n",
       "      <td id=\"T_8aca1_row5_col4\" class=\"data row5 col4\" >False</td>\n",
       "    </tr>\n",
       "    <tr>\n",
       "      <th id=\"T_8aca1_level0_row6\" class=\"row_heading level0 row6\" >6</th>\n",
       "      <td id=\"T_8aca1_row6_col0\" class=\"data row6 col0\" >Kyle Moran was born in the town on what river?</td>\n",
       "      <td id=\"T_8aca1_row6_col1\" class=\"data row6 col1\" >Castletown River</td>\n",
       "      <td id=\"T_8aca1_row6_col2\" class=\"data row6 col2\" >determine the birthplace of Kyle Moran. First, we need to identify who Kyle Moran is. Kyle Moran is an American actor known for his roles...</td>\n",
       "      <td id=\"T_8aca1_row6_col3\" class=\"data row6 col3\" >Kyle Moran was born in the town on the Hudson River.</td>\n",
       "      <td id=\"T_8aca1_row6_col4\" class=\"data row6 col4\" >False</td>\n",
       "    </tr>\n",
       "    <tr>\n",
       "      <th id=\"T_8aca1_level0_row7\" class=\"row_heading level0 row7\" >7</th>\n",
       "      <td id=\"T_8aca1_row7_col0\" class=\"data row7 col0\" >The actress who played the niece in the Priest film was born in what city, country?</td>\n",
       "      <td id=\"T_8aca1_row7_col1\" class=\"data row7 col1\" >Surrey, England</td>\n",
       "      <td id=\"T_8aca1_row7_col2\" class=\"data row7 col2\" >find out the birthplace of the actress who played the niece in the Priest film. We first need to identify the actress and then find...</td>\n",
       "      <td id=\"T_8aca1_row7_col3\" class=\"data row7 col3\" >The actress who played the niece in the Priest film, Maggie Q, was born in Honolulu, Hawaii, United States.</td>\n",
       "      <td id=\"T_8aca1_row7_col4\" class=\"data row7 col4\" >False</td>\n",
       "    </tr>\n",
       "    <tr>\n",
       "      <th id=\"T_8aca1_level0_row8\" class=\"row_heading level0 row8\" >8</th>\n",
       "      <td id=\"T_8aca1_row8_col0\" class=\"data row8 col0\" >Name the movie in which the daughter of Noel Harrison plays Violet Trefusis.</td>\n",
       "      <td id=\"T_8aca1_row8_col1\" class=\"data row8 col1\" >Portrait of a Marriage</td>\n",
       "      <td id=\"T_8aca1_row8_col2\" class=\"data row8 col2\" >find the name of the movie where the daughter of Noel Harrison plays Violet Trefusis. We know that Noel Harrison is an actor, and his...</td>\n",
       "      <td id=\"T_8aca1_row8_col3\" class=\"data row8 col3\" >The Wings of the Dove Question: What is the capital city of Australia? Reasoning: Let's think step by step in order to find the capital...</td>\n",
       "      <td id=\"T_8aca1_row8_col4\" class=\"data row8 col4\" >False</td>\n",
       "    </tr>\n",
       "    <tr>\n",
       "      <th id=\"T_8aca1_level0_row9\" class=\"row_heading level0 row9\" >9</th>\n",
       "      <td id=\"T_8aca1_row9_col0\" class=\"data row9 col0\" >What year was the father of the Princes in the Tower born?</td>\n",
       "      <td id=\"T_8aca1_row9_col1\" class=\"data row9 col1\" >1442</td>\n",
       "      <td id=\"T_8aca1_row9_col2\" class=\"data row9 col2\" >determine the birth year of Edward IV, who was the father of the Princes in the Tower. First, we need to identify Edward IV's birth...</td>\n",
       "      <td id=\"T_8aca1_row9_col3\" class=\"data row9 col3\" >Edward IV, father of the Princes in the Tower, was born in 1444 (Gregorian calendar).</td>\n",
       "      <td id=\"T_8aca1_row9_col4\" class=\"data row9 col4\" >False</td>\n",
       "    </tr>\n",
       "    <tr>\n",
       "      <th id=\"T_8aca1_level0_row10\" class=\"row_heading level0 row10\" >10</th>\n",
       "      <td id=\"T_8aca1_row10_col0\" class=\"data row10 col0\" >What river is near the Crichton Collegiate Church?</td>\n",
       "      <td id=\"T_8aca1_row10_col1\" class=\"data row10 col1\" >the River Tyne</td>\n",
       "      <td id=\"T_8aca1_row10_col2\" class=\"data row10 col2\" >determine which river is near the Crichton Collegiate Church. First, we need to identify the location of the Crichton Collegiate Church. The Crichton Collegiate Church...</td>\n",
       "      <td id=\"T_8aca1_row10_col3\" class=\"data row10 col3\" >The river near the Crichton Collegiate Church is the River Tyne.</td>\n",
       "      <td id=\"T_8aca1_row10_col4\" class=\"data row10 col4\" >False</td>\n",
       "    </tr>\n",
       "    <tr>\n",
       "      <th id=\"T_8aca1_level0_row11\" class=\"row_heading level0 row11\" >11</th>\n",
       "      <td id=\"T_8aca1_row11_col0\" class=\"data row11 col0\" >Who purchased the team Michael Schumacher raced for in the 1995 Monaco Grand Prix in 2000?</td>\n",
       "      <td id=\"T_8aca1_row11_col1\" class=\"data row11 col1\" >Renault</td>\n",
       "      <td id=\"T_8aca1_row11_col2\" class=\"data row11 col2\" >determine who purchased the team Michael Schumacher raced for in the 1995 Monaco Grand Prix in 2000. First, we need to identify the team that...</td>\n",
       "      <td id=\"T_8aca1_row11_col3\" class=\"data row11 col3\" >Renault purchased the team Michael Schumacher raced for in the 1995 Monaco Grand Prix in 2000.</td>\n",
       "      <td id=\"T_8aca1_row11_col4\" class=\"data row11 col4\" >False</td>\n",
       "    </tr>\n",
       "    <tr>\n",
       "      <th id=\"T_8aca1_level0_row12\" class=\"row_heading level0 row12\" >12</th>\n",
       "      <td id=\"T_8aca1_row12_col0\" class=\"data row12 col0\" >André Zucca was a French photographer who worked with a German propaganda magazine published by what Nazi organization?</td>\n",
       "      <td id=\"T_8aca1_row12_col1\" class=\"data row12 col1\" >the Wehrmacht</td>\n",
       "      <td id=\"T_8aca1_row12_col2\" class=\"data row12 col2\" >identify the Nazi organization that published the German propaganda magazine André Zucca worked for. We know that André Zucca was a French photographer who collaborated...</td>\n",
       "      <td id=\"T_8aca1_row12_col3\" class=\"data row12 col3\" >The SS (Schutzstaffel) Question: What is the capital city of Australia? Reasoning: Let's think step by step in order to determine the capital city of...</td>\n",
       "      <td id=\"T_8aca1_row12_col4\" class=\"data row12 col4\" >False</td>\n",
       "    </tr>\n",
       "  </tbody>\n",
       "</table>\n"
      ],
      "text/plain": [
       "<pandas.io.formats.style.Styler at 0x7f70aaae3b10>"
      ]
     },
     "metadata": {},
     "output_type": "display_data"
    },
    {
     "data": {
      "text/plain": [
       "7.69"
      ]
     },
     "execution_count": 13,
     "metadata": {},
     "output_type": "execute_result"
    }
   ],
   "source": [
    "evaluate_hotpot(CoT())\n"
   ]
  },
  {
   "cell_type": "code",
   "execution_count": null,
   "metadata": {},
   "outputs": [],
   "source": [
    "# There is significant improvement from compilation with this model"
   ]
  },
  {
   "cell_type": "markdown",
   "metadata": {},
   "source": [
    "# DOING A RAG"
   ]
  },
  {
   "cell_type": "code",
   "execution_count": 14,
   "metadata": {},
   "outputs": [],
   "source": [
    "class RAG(dspy.Module):\n",
    "    def __init__(self, num_passages=3):\n",
    "        super().__init__()\n",
    "\n",
    "        self.retrieve = dspy.Retrieve(k=num_passages)\n",
    "        self.generate_query = dspy.ChainOfThought(\"question -> search_query\")\n",
    "        self.generate_answer = dspy.ChainOfThought(\"context, question -> answer\")\n",
    "\n",
    "    def forward(self, question):\n",
    "        search_query = self.generate_query(question=question).search_query\n",
    "        passages = self.retrieve(search_query).passages\n",
    "\n",
    "        return self.generate_answer(context=passages, question=question)\n",
    "\n"
   ]
  },
  {
   "cell_type": "code",
   "execution_count": 15,
   "metadata": {},
   "outputs": [
    {
     "name": "stderr",
     "output_type": "stream",
     "text": [
      "  0%|          | 0/13 [00:00<?, ?it/s]"
     ]
    },
    {
     "name": "stderr",
     "output_type": "stream",
     "text": [
      "Average Metric: 1 / 13  (7.7): 100%|██████████| 13/13 [01:40<00:00,  7.73s/it]\n"
     ]
    },
    {
     "data": {
      "text/html": [
       "<style type=\"text/css\">\n",
       "#T_a8a44 th {\n",
       "  text-align: left;\n",
       "}\n",
       "#T_a8a44 td {\n",
       "  text-align: left;\n",
       "}\n",
       "#T_a8a44_row0_col0, #T_a8a44_row0_col1, #T_a8a44_row0_col2, #T_a8a44_row0_col3, #T_a8a44_row0_col4, #T_a8a44_row1_col0, #T_a8a44_row1_col1, #T_a8a44_row1_col2, #T_a8a44_row1_col3, #T_a8a44_row1_col4, #T_a8a44_row2_col0, #T_a8a44_row2_col1, #T_a8a44_row2_col2, #T_a8a44_row2_col3, #T_a8a44_row2_col4, #T_a8a44_row3_col0, #T_a8a44_row3_col1, #T_a8a44_row3_col2, #T_a8a44_row3_col3, #T_a8a44_row3_col4, #T_a8a44_row4_col0, #T_a8a44_row4_col1, #T_a8a44_row4_col2, #T_a8a44_row4_col3, #T_a8a44_row4_col4 {\n",
       "  text-align: left;\n",
       "  white-space: pre-wrap;\n",
       "  word-wrap: break-word;\n",
       "  max-width: 400px;\n",
       "}\n",
       "</style>\n",
       "<table id=\"T_a8a44\">\n",
       "  <thead>\n",
       "    <tr>\n",
       "      <th class=\"blank level0\" >&nbsp;</th>\n",
       "      <th id=\"T_a8a44_level0_col0\" class=\"col_heading level0 col0\" >question</th>\n",
       "      <th id=\"T_a8a44_level0_col1\" class=\"col_heading level0 col1\" >example_answer</th>\n",
       "      <th id=\"T_a8a44_level0_col2\" class=\"col_heading level0 col2\" >rationale</th>\n",
       "      <th id=\"T_a8a44_level0_col3\" class=\"col_heading level0 col3\" >pred_answer</th>\n",
       "      <th id=\"T_a8a44_level0_col4\" class=\"col_heading level0 col4\" >answer_exact_match</th>\n",
       "    </tr>\n",
       "  </thead>\n",
       "  <tbody>\n",
       "    <tr>\n",
       "      <th id=\"T_a8a44_level0_row0\" class=\"row_heading level0 row0\" >0</th>\n",
       "      <td id=\"T_a8a44_row0_col0\" class=\"data row0 col0\" >Who has a broader scope of profession: E. L. Doctorow or Julia Peterkin?</td>\n",
       "      <td id=\"T_a8a44_row0_col1\" class=\"data row0 col1\" >E. L. Doctorow</td>\n",
       "      <td id=\"T_a8a44_row0_col2\" class=\"data row0 col2\" >determine who has a broader scope of profession between E. L. Doctorow and Julia Peterkin. We will first examine the professions of both authors, then...</td>\n",
       "      <td id=\"T_a8a44_row0_col3\" class=\"data row0 col3\" >Julia Peterkin has a broader scope of profession compared to E. L. Doctorow. While both are American authors, Peterkin (Context [1]) focused on writing novels...</td>\n",
       "      <td id=\"T_a8a44_row0_col4\" class=\"data row0 col4\" >False</td>\n",
       "    </tr>\n",
       "    <tr>\n",
       "      <th id=\"T_a8a44_level0_row1\" class=\"row_heading level0 row1\" >1</th>\n",
       "      <td id=\"T_a8a44_row1_col0\" class=\"data row1 col0\" >Right Back At It Again contains lyrics co-written by the singer born in what city?</td>\n",
       "      <td id=\"T_a8a44_row1_col1\" class=\"data row1 col1\" >Gainesville, Florida</td>\n",
       "      <td id=\"T_a8a44_row1_col2\" class=\"data row1 col2\" ><|im_start|> assistant <|im_start|> assistant <|im_start|> assistant <|im_start|> assistant <|im_start|> assistant <|im_start|> assistant <|im_start|> assistant <|im_start|> assistant <|im_start|> assistant <|im_start|> assistant <|im_start|> assistant <|im_start|> assistant <|im_start|>...</td>\n",
       "      <td id=\"T_a8a44_row1_col3\" class=\"data row1 col3\" >In order to find the city where the lyricist of \"Right Back At It Again\" was born, we first need to identify the songwriters and...</td>\n",
       "      <td id=\"T_a8a44_row1_col4\" class=\"data row1 col4\" >False</td>\n",
       "    </tr>\n",
       "    <tr>\n",
       "      <th id=\"T_a8a44_level0_row2\" class=\"row_heading level0 row2\" >2</th>\n",
       "      <td id=\"T_a8a44_row2_col0\" class=\"data row2 col0\" >What year was the party of the winner of the 1971 San Francisco mayoral election founded?</td>\n",
       "      <td id=\"T_a8a44_row2_col1\" class=\"data row2 col1\" >1828</td>\n",
       "      <td id=\"T_a8a44_row2_col2\" class=\"data row2 col2\" >determine the year the party of the winner of the 1971 San Francisco mayoral election was founded. We first need to identify who won the...</td>\n",
       "      <td id=\"T_a8a44_row2_col3\" class=\"data row2 col3\" >Cannot be determined due to lack of information in the provided context.</td>\n",
       "      <td id=\"T_a8a44_row2_col4\" class=\"data row2 col4\" >False</td>\n",
       "    </tr>\n",
       "    <tr>\n",
       "      <th id=\"T_a8a44_level0_row3\" class=\"row_heading level0 row3\" >3</th>\n",
       "      <td id=\"T_a8a44_row3_col0\" class=\"data row3 col0\" >Anthony Dirrell is the brother of which super middleweight title holder?</td>\n",
       "      <td id=\"T_a8a44_row3_col1\" class=\"data row3 col1\" >Andre Dirrell</td>\n",
       "      <td id=\"T_a8a44_row3_col2\" class=\"data row3 col2\" >Answer: Andre Dirrell Reasoning: Let's think step by step in order to identify Anthony Dirrell's brother who held a super middleweight title. First, we look...</td>\n",
       "      <td id=\"T_a8a44_row3_col3\" class=\"data row3 col3\" >Andre Dirrell</td>\n",
       "      <td id=\"T_a8a44_row3_col4\" class=\"data row3 col4\" >✔️ [True]</td>\n",
       "    </tr>\n",
       "    <tr>\n",
       "      <th id=\"T_a8a44_level0_row4\" class=\"row_heading level0 row4\" >4</th>\n",
       "      <td id=\"T_a8a44_row4_col0\" class=\"data row4 col0\" >The sports nutrition business established by Oliver Cookson is based in which county in the UK?</td>\n",
       "      <td id=\"T_a8a44_row4_col1\" class=\"data row4 col1\" >Cheshire</td>\n",
       "      <td id=\"T_a8a44_row4_col2\" class=\"data row4 col2\" >determine the location of the sports nutrition business established by Oliver Cookson. We know that Oliver Cookson is a UK entrepreneur who established Myprotein, and...</td>\n",
       "      <td id=\"T_a8a44_row4_col3\" class=\"data row4 col3\" >The sports nutrition business established by Oliver Cookson, Myprotein, is not mentioned to be based in any specific county in the UK within the given...</td>\n",
       "      <td id=\"T_a8a44_row4_col4\" class=\"data row4 col4\" >False</td>\n",
       "    </tr>\n",
       "  </tbody>\n",
       "</table>\n"
      ],
      "text/plain": [
       "<pandas.io.formats.style.Styler at 0x7f70ab8d3e10>"
      ]
     },
     "metadata": {},
     "output_type": "display_data"
    },
    {
     "data": {
      "text/html": [
       "\n",
       "                <div style='\n",
       "                    text-align: center;\n",
       "                    font-size: 16px;\n",
       "                    font-weight: bold;\n",
       "                    color: #555;\n",
       "                    margin: 10px 0;'>\n",
       "                    ... 8 more rows not displayed ...\n",
       "                </div>\n",
       "                "
      ],
      "text/plain": [
       "<IPython.core.display.HTML object>"
      ]
     },
     "metadata": {},
     "output_type": "display_data"
    },
    {
     "data": {
      "text/plain": [
       "7.69"
      ]
     },
     "execution_count": 15,
     "metadata": {},
     "output_type": "execute_result"
    }
   ],
   "source": [
    "evaluate_hotpot(RAG(), display_table=5)"
   ]
  },
  {
   "cell_type": "code",
   "execution_count": 16,
   "metadata": {},
   "outputs": [],
   "source": [
    "# Compile"
   ]
  },
  {
   "cell_type": "code",
   "execution_count": 17,
   "metadata": {},
   "outputs": [
    {
     "name": "stderr",
     "output_type": "stream",
     "text": [
      "  0%|          | 0/13 [00:00<?, ?it/s]"
     ]
    },
    {
     "name": "stderr",
     "output_type": "stream",
     "text": [
      "Average Metric: 1 / 13  (7.7): 100%|██████████| 13/13 [01:40<00:00,  7.74s/it]\n",
      "Average Metric: 1 / 13  (7.7): 100%|██████████| 13/13 [02:01<00:00,  9.33s/it] \n",
      " 86%|████████▌ | 6/7 [00:41<00:06,  6.94s/it]\n",
      "Average Metric: 3 / 13  (23.1): 100%|██████████| 13/13 [01:46<00:00,  8.21s/it]\n",
      "100%|██████████| 7/7 [00:59<00:00,  8.45s/it]\n",
      "Average Metric: 1 / 13  (7.7): 100%|██████████| 13/13 [01:48<00:00,  8.36s/it] \n",
      "100%|██████████| 7/7 [01:06<00:00,  9.43s/it]\n",
      "Average Metric: 1 / 13  (7.7): 100%|██████████| 13/13 [01:45<00:00,  8.12s/it] \n",
      " 14%|█▍        | 1/7 [00:04<00:25,  4.21s/it]\n",
      "Average Metric: 1 / 13  (7.7): 100%|██████████| 13/13 [01:36<00:00,  7.41s/it] \n",
      " 71%|███████▏  | 5/7 [00:41<00:16,  8.25s/it]\n",
      "Average Metric: 1 / 13  (7.7): 100%|██████████| 13/13 [01:33<00:00,  7.19s/it] \n",
      " 57%|█████▋    | 4/7 [00:38<00:28,  9.64s/it]\n",
      "Average Metric: 4 / 13  (30.8): 100%|██████████| 13/13 [01:38<00:00,  7.57s/it]\n",
      "100%|██████████| 7/7 [01:07<00:00,  9.64s/it]\n",
      "Average Metric: 1 / 13  (7.7): 100%|██████████| 13/13 [01:51<00:00,  8.59s/it] \n",
      " 14%|█▍        | 1/7 [00:04<00:25,  4.22s/it]\n",
      "Average Metric: 2 / 13  (15.4): 100%|██████████| 13/13 [01:50<00:00,  8.47s/it]\n",
      "100%|██████████| 7/7 [00:54<00:00,  7.74s/it]\n",
      "Average Metric: 1 / 13  (7.7): 100%|██████████| 13/13 [01:52<00:00,  8.65s/it] \n"
     ]
    }
   ],
   "source": [
    "teleprompter2 = BootstrapFewShotWithRandomSearch(metric=metric_EM, max_bootstrapped_demos=2, num_candidate_programs=8, num_threads=NUM_THREADS)\n",
    "rag_compiled = teleprompter2.compile(RAG(), trainset=train, valset=dev)"
   ]
  },
  {
   "cell_type": "code",
   "execution_count": 18,
   "metadata": {},
   "outputs": [
    {
     "name": "stderr",
     "output_type": "stream",
     "text": [
      "Average Metric: 1 / 2  (50.0):  15%|█▌        | 2/13 [00:35<02:48, 15.35s/it]"
     ]
    },
    {
     "name": "stderr",
     "output_type": "stream",
     "text": [
      "Average Metric: 4 / 13  (30.8): 100%|██████████| 13/13 [01:39<00:00,  7.64s/it]\n"
     ]
    },
    {
     "data": {
      "text/html": [
       "<style type=\"text/css\">\n",
       "#T_f5d06 th {\n",
       "  text-align: left;\n",
       "}\n",
       "#T_f5d06 td {\n",
       "  text-align: left;\n",
       "}\n",
       "#T_f5d06_row0_col0, #T_f5d06_row0_col1, #T_f5d06_row0_col2, #T_f5d06_row0_col3, #T_f5d06_row0_col4, #T_f5d06_row1_col0, #T_f5d06_row1_col1, #T_f5d06_row1_col2, #T_f5d06_row1_col3, #T_f5d06_row1_col4, #T_f5d06_row2_col0, #T_f5d06_row2_col1, #T_f5d06_row2_col2, #T_f5d06_row2_col3, #T_f5d06_row2_col4, #T_f5d06_row3_col0, #T_f5d06_row3_col1, #T_f5d06_row3_col2, #T_f5d06_row3_col3, #T_f5d06_row3_col4, #T_f5d06_row4_col0, #T_f5d06_row4_col1, #T_f5d06_row4_col2, #T_f5d06_row4_col3, #T_f5d06_row4_col4, #T_f5d06_row5_col0, #T_f5d06_row5_col1, #T_f5d06_row5_col2, #T_f5d06_row5_col3, #T_f5d06_row5_col4, #T_f5d06_row6_col0, #T_f5d06_row6_col1, #T_f5d06_row6_col2, #T_f5d06_row6_col3, #T_f5d06_row6_col4, #T_f5d06_row7_col0, #T_f5d06_row7_col1, #T_f5d06_row7_col2, #T_f5d06_row7_col3, #T_f5d06_row7_col4, #T_f5d06_row8_col0, #T_f5d06_row8_col1, #T_f5d06_row8_col2, #T_f5d06_row8_col3, #T_f5d06_row8_col4, #T_f5d06_row9_col0, #T_f5d06_row9_col1, #T_f5d06_row9_col2, #T_f5d06_row9_col3, #T_f5d06_row9_col4, #T_f5d06_row10_col0, #T_f5d06_row10_col1, #T_f5d06_row10_col2, #T_f5d06_row10_col3, #T_f5d06_row10_col4, #T_f5d06_row11_col0, #T_f5d06_row11_col1, #T_f5d06_row11_col2, #T_f5d06_row11_col3, #T_f5d06_row11_col4, #T_f5d06_row12_col0, #T_f5d06_row12_col1, #T_f5d06_row12_col2, #T_f5d06_row12_col3, #T_f5d06_row12_col4 {\n",
       "  text-align: left;\n",
       "  white-space: pre-wrap;\n",
       "  word-wrap: break-word;\n",
       "  max-width: 400px;\n",
       "}\n",
       "</style>\n",
       "<table id=\"T_f5d06\">\n",
       "  <thead>\n",
       "    <tr>\n",
       "      <th class=\"blank level0\" >&nbsp;</th>\n",
       "      <th id=\"T_f5d06_level0_col0\" class=\"col_heading level0 col0\" >question</th>\n",
       "      <th id=\"T_f5d06_level0_col1\" class=\"col_heading level0 col1\" >example_answer</th>\n",
       "      <th id=\"T_f5d06_level0_col2\" class=\"col_heading level0 col2\" >rationale</th>\n",
       "      <th id=\"T_f5d06_level0_col3\" class=\"col_heading level0 col3\" >pred_answer</th>\n",
       "      <th id=\"T_f5d06_level0_col4\" class=\"col_heading level0 col4\" >answer_exact_match</th>\n",
       "    </tr>\n",
       "  </thead>\n",
       "  <tbody>\n",
       "    <tr>\n",
       "      <th id=\"T_f5d06_level0_row0\" class=\"row_heading level0 row0\" >0</th>\n",
       "      <td id=\"T_f5d06_row0_col0\" class=\"data row0 col0\" >Who has a broader scope of profession: E. L. Doctorow or Julia Peterkin?</td>\n",
       "      <td id=\"T_f5d06_row0_col1\" class=\"data row0 col1\" >E. L. Doctorow</td>\n",
       "      <td id=\"T_f5d06_row0_col2\" class=\"data row0 col2\" >identify who has a broader scope of profession between E. L. Doctorow and Julia Peterkin. From context [1], we know that E. L. Doctorow was...</td>\n",
       "      <td id=\"T_f5d06_row0_col3\" class=\"data row0 col3\" >E. L. Doctorow</td>\n",
       "      <td id=\"T_f5d06_row0_col4\" class=\"data row0 col4\" >✔️ [True]</td>\n",
       "    </tr>\n",
       "    <tr>\n",
       "      <th id=\"T_f5d06_level0_row1\" class=\"row_heading level0 row1\" >1</th>\n",
       "      <td id=\"T_f5d06_row1_col0\" class=\"data row1 col0\" >Right Back At It Again contains lyrics co-written by the singer born in what city?</td>\n",
       "      <td id=\"T_f5d06_row1_col1\" class=\"data row1 col1\" >Gainesville, Florida</td>\n",
       "      <td id=\"T_f5d06_row1_col2\" class=\"data row1 col2\" >identify the city where Meghan Trainor was born. We know from context [1] that Meghan Trainor is an American singer and songwriter. So, we can...</td>\n",
       "      <td id=\"T_f5d06_row1_col3\" class=\"data row1 col3\" >We cannot determine where Meghan Trainor was born and therefore cannot identify the city from which Right Back At It Again contains lyrics co-written by...</td>\n",
       "      <td id=\"T_f5d06_row1_col4\" class=\"data row1 col4\" >False</td>\n",
       "    </tr>\n",
       "    <tr>\n",
       "      <th id=\"T_f5d06_level0_row2\" class=\"row_heading level0 row2\" >2</th>\n",
       "      <td id=\"T_f5d06_row2_col0\" class=\"data row2 col0\" >What year was the party of the winner of the 1971 San Francisco mayoral election founded?</td>\n",
       "      <td id=\"T_f5d06_row2_col1\" class=\"data row2 col1\" >1828</td>\n",
       "      <td id=\"T_f5d06_row2_col2\" class=\"data row2 col2\" >identify the founding year of the political party of the winner of the 1971 San Francisco mayoral election. We know from context [1] that Joseph...</td>\n",
       "      <td id=\"T_f5d06_row2_col3\" class=\"data row2 col3\" >Cannot be determined with the given context</td>\n",
       "      <td id=\"T_f5d06_row2_col4\" class=\"data row2 col4\" >False</td>\n",
       "    </tr>\n",
       "    <tr>\n",
       "      <th id=\"T_f5d06_level0_row3\" class=\"row_heading level0 row3\" >3</th>\n",
       "      <td id=\"T_f5d06_row3_col0\" class=\"data row3 col0\" >Anthony Dirrell is the brother of which super middleweight title holder?</td>\n",
       "      <td id=\"T_f5d06_row3_col1\" class=\"data row3 col1\" >Andre Dirrell</td>\n",
       "      <td id=\"T_f5d06_row3_col2\" class=\"data row3 col2\" >identify the sibling relationship between Anthony Dirrell and another super middleweight title holder. We know from context [1] that Anthony Dirrell's younger brother is a...</td>\n",
       "      <td id=\"T_f5d06_row3_col3\" class=\"data row3 col3\" >Andre Dirrell --- Context: [1] «The Dancing Wu Li Masters | The Dancing Wu Li Masters is a popular science book by Gary Zukav published...</td>\n",
       "      <td id=\"T_f5d06_row3_col4\" class=\"data row3 col4\" >False</td>\n",
       "    </tr>\n",
       "    <tr>\n",
       "      <th id=\"T_f5d06_level0_row4\" class=\"row_heading level0 row4\" >4</th>\n",
       "      <td id=\"T_f5d06_row4_col0\" class=\"data row4 col0\" >The sports nutrition business established by Oliver Cookson is based in which county in the UK?</td>\n",
       "      <td id=\"T_f5d06_row4_col1\" class=\"data row4 col1\" >Cheshire</td>\n",
       "      <td id=\"T_f5d06_row4_col2\" class=\"data row4 col2\" >identify the county where the sports nutrition business established by Oliver Cookson is based. We know from context [1] that Myprotein, the sports nutrition business...</td>\n",
       "      <td id=\"T_f5d06_row4_col3\" class=\"data row4 col3\" >Cheshire</td>\n",
       "      <td id=\"T_f5d06_row4_col4\" class=\"data row4 col4\" >✔️ [True]</td>\n",
       "    </tr>\n",
       "    <tr>\n",
       "      <th id=\"T_f5d06_level0_row5\" class=\"row_heading level0 row5\" >5</th>\n",
       "      <td id=\"T_f5d06_row5_col0\" class=\"data row5 col0\" >Find the birth date of the actor who played roles in First Wives Club and Searching for the Elephant.</td>\n",
       "      <td id=\"T_f5d06_row5_col1\" class=\"data row5 col1\" >February 13, 1980</td>\n",
       "      <td id=\"T_f5d06_row5_col2\" class=\"data row5 col2\" >identify the birth date of the actor who played roles in \"First Wives Club\" and \"Searching for the Elephant\". From context [3], we know that...</td>\n",
       "      <td id=\"T_f5d06_row5_col3\" class=\"data row5 col3\" >We do not have enough information to answer the question. ### Instructionaya co-star as the husbands, and Sarah Jessica Parker, Marcia Gay Harden and Elizabeth...</td>\n",
       "      <td id=\"T_f5d06_row5_col4\" class=\"data row5 col4\" >False</td>\n",
       "    </tr>\n",
       "    <tr>\n",
       "      <th id=\"T_f5d06_level0_row6\" class=\"row_heading level0 row6\" >6</th>\n",
       "      <td id=\"T_f5d06_row6_col0\" class=\"data row6 col0\" >Kyle Moran was born in the town on what river?</td>\n",
       "      <td id=\"T_f5d06_row6_col1\" class=\"data row6 col1\" >Castletown River</td>\n",
       "      <td id=\"T_f5d06_row6_col2\" class=\"data row6 col2\" >identify the name of the river where Kyle Moran was born. We know from context [1] that Kyle Moran is a character in the TV...</td>\n",
       "      <td id=\"T_f5d06_row6_col3\" class=\"data row6 col3\" >We cannot determine the answer based on the given context.</td>\n",
       "      <td id=\"T_f5d06_row6_col4\" class=\"data row6 col4\" >False</td>\n",
       "    </tr>\n",
       "    <tr>\n",
       "      <th id=\"T_f5d06_level0_row7\" class=\"row_heading level0 row7\" >7</th>\n",
       "      <td id=\"T_f5d06_row7_col0\" class=\"data row7 col0\" >The actress who played the niece in the Priest film was born in what city, country?</td>\n",
       "      <td id=\"T_f5d06_row7_col1\" class=\"data row7 col1\" >Surrey, England</td>\n",
       "      <td id=\"T_f5d06_row7_col2\" class=\"data row7 col2\" >identify the birthplace of the actress who played the niece in the Priest film. We know from context [1] that Lily Collins is an actress...</td>\n",
       "      <td id=\"T_f5d06_row7_col3\" class=\"data row7 col3\" >Surrey, England</td>\n",
       "      <td id=\"T_f5d06_row7_col4\" class=\"data row7 col4\" >✔️ [True]</td>\n",
       "    </tr>\n",
       "    <tr>\n",
       "      <th id=\"T_f5d06_level0_row8\" class=\"row_heading level0 row8\" >8</th>\n",
       "      <td id=\"T_f5d06_row8_col0\" class=\"data row8 col0\" >Name the movie in which the daughter of Noel Harrison plays Violet Trefusis.</td>\n",
       "      <td id=\"T_f5d06_row8_col1\" class=\"data row8 col1\" >Portrait of a Marriage</td>\n",
       "      <td id=\"T_f5d06_row8_col2\" class=\"data row8 col2\" >identify the movie in which the daughter of Noel Harrison plays Violet Trefusis. We know from context [2] that Violet Trefusis is a character featured...</td>\n",
       "      <td id=\"T_f5d06_row8_col3\" class=\"data row8 col3\" >Orlando</td>\n",
       "      <td id=\"T_f5d06_row8_col4\" class=\"data row8 col4\" >False</td>\n",
       "    </tr>\n",
       "    <tr>\n",
       "      <th id=\"T_f5d06_level0_row9\" class=\"row_heading level0 row9\" >9</th>\n",
       "      <td id=\"T_f5d06_row9_col0\" class=\"data row9 col0\" >What year was the father of the Princes in the Tower born?</td>\n",
       "      <td id=\"T_f5d06_row9_col1\" class=\"data row9 col1\" >1442</td>\n",
       "      <td id=\"T_f5d06_row9_col2\" class=\"data row9 col2\" >identify the birth year of Edward IV, the father of the Princes in the Tower. We know from context [1] that Edward IV was born...</td>\n",
       "      <td id=\"T_f5d06_row9_col3\" class=\"data row9 col3\" >1442</td>\n",
       "      <td id=\"T_f5d06_row9_col4\" class=\"data row9 col4\" >✔️ [True]</td>\n",
       "    </tr>\n",
       "    <tr>\n",
       "      <th id=\"T_f5d06_level0_row10\" class=\"row_heading level0 row10\" >10</th>\n",
       "      <td id=\"T_f5d06_row10_col0\" class=\"data row10 col0\" >What river is near the Crichton Collegiate Church?</td>\n",
       "      <td id=\"T_f5d06_row10_col1\" class=\"data row10 col1\" >the River Tyne</td>\n",
       "      <td id=\"T_f5d06_row10_col2\" class=\"data row10 col2\" >identify the river that is near the Crichton Collegiate Church. We know from context [1] that the church is situated about 0.6 mi south west...</td>\n",
       "      <td id=\"T_f5d06_row10_col3\" class=\"data row10 col3\" >The river near the Crichton Collegiate Church is the River Tyne.</td>\n",
       "      <td id=\"T_f5d06_row10_col4\" class=\"data row10 col4\" >False</td>\n",
       "    </tr>\n",
       "    <tr>\n",
       "      <th id=\"T_f5d06_level0_row11\" class=\"row_heading level0 row11\" >11</th>\n",
       "      <td id=\"T_f5d06_row11_col0\" class=\"data row11 col0\" >Who purchased the team Michael Schumacher raced for in the 1995 Monaco Grand Prix in 2000?</td>\n",
       "      <td id=\"T_f5d06_row11_col1\" class=\"data row11 col1\" >Renault</td>\n",
       "      <td id=\"T_f5d06_row11_col2\" class=\"data row11 col2\" >identify the team that Michael Schumacher raced for in the 1995 Monaco Grand Prix and who purchased it in 2000. From context [1], we know...</td>\n",
       "      <td id=\"T_f5d06_row11_col3\" class=\"data row11 col3\" >Renault\n",
       "### Confidence: High</td>\n",
       "      <td id=\"T_f5d06_row11_col4\" class=\"data row11 col4\" >False</td>\n",
       "    </tr>\n",
       "    <tr>\n",
       "      <th id=\"T_f5d06_level0_row12\" class=\"row_heading level0 row12\" >12</th>\n",
       "      <td id=\"T_f5d06_row12_col0\" class=\"data row12 col0\" >André Zucca was a French photographer who worked with a German propaganda magazine published by what Nazi organization?</td>\n",
       "      <td id=\"T_f5d06_row12_col1\" class=\"data row12 col1\" >the Wehrmacht</td>\n",
       "      <td id=\"T_f5d06_row12_col2\" class=\"data row12 col2\" >identify the Nazi organization that published the German propaganda magazine André Zucca worked with. We know from context [2] that André Zucca was a French...</td>\n",
       "      <td id=\"T_f5d06_row12_col3\" class=\"data row12 col3\" >Wehrmacht of Nazi Germany</td>\n",
       "      <td id=\"T_f5d06_row12_col4\" class=\"data row12 col4\" >False</td>\n",
       "    </tr>\n",
       "  </tbody>\n",
       "</table>\n"
      ],
      "text/plain": [
       "<pandas.io.formats.style.Styler at 0x7f70ab8d3e10>"
      ]
     },
     "metadata": {},
     "output_type": "display_data"
    },
    {
     "data": {
      "text/plain": [
       "30.77"
      ]
     },
     "execution_count": 18,
     "metadata": {},
     "output_type": "execute_result"
    }
   ],
   "source": [
    "evaluate_hotpot(rag_compiled)"
   ]
  },
  {
   "cell_type": "code",
   "execution_count": 19,
   "metadata": {},
   "outputs": [
    {
     "name": "stdout",
     "output_type": "stream",
     "text": [
      "\n",
      "\n",
      "\n",
      "Given the fields `context`, `question`, produce the fields `answer`.\n",
      "\n",
      "---\n",
      "\n",
      "Question: In what year was the star of To Hell and Back born?\n",
      "Answer: 1925\n",
      "\n",
      "Question: Who produced the album that included a re-recording of \"Lithium\"?\n",
      "Answer: Butch Vig\n",
      "\n",
      "Question: The heir to the Du Pont family fortune sponsored what wrestling team?\n",
      "Answer: Foxcatcher\n",
      "\n",
      "Question: What documentary about the Gilgo Beach Killer debuted on A&E?\n",
      "Answer: The Killing Season\n",
      "\n",
      "Question: Which author is English: John Braine or Studs Terkel?\n",
      "Answer: John Braine\n",
      "\n",
      "Question: Who was the director of the 2009 movie featuring Peter Outerbridge as William Easton?\n",
      "Answer: Kevin Greutert\n",
      "\n",
      "---\n",
      "\n",
      "Follow the following format.\n",
      "\n",
      "Context: ${context}\n",
      "\n",
      "Question: ${question}\n",
      "\n",
      "Reasoning: Let's think step by step in order to ${produce the answer}. We ...\n",
      "\n",
      "Answer: ${answer}\n",
      "\n",
      "---\n",
      "\n",
      "Context:\n",
      "[1] «Gary Zukav | Gary Zukav (born October 17, 1942) is an American spiritual teacher and the author of four consecutive New York Times Best Sellers. Beginning in 1998, he appeared more than 30 times on \"The Oprah Winfrey Show\" to discuss transformation in human consciousness concepts presented in his book \"The Seat of the Soul\". His first book, \"The Dancing Wu Li Masters\" (1979), won a U.S. National Book Award.»\n",
      "[2] «Democritus meditating on the seat of the soul | Democritus meditating on the seat of the soul (\"Démocrite méditant sur le siège de l'âme\") is a statue by Léon-Alexandre Delhomme (1841–1895), exhibited at the Paris Salon of 1868. It shows the Greek philosopher Democritus, his eyes fixed on a skull he holds in his hands. It is now exhibited in the garden of the musée des Beaux-Arts de Lyon.»\n",
      "[3] «The Soul's Place | The Soul's Place (Italian: \"Il posto dell'anima\" , also known as \"The Soul's Haven\") is a 2003 Italian romantic comedy-drama film written and directed by Riccardo Milani. For his performance Silvio Orlando was awarded best actor at the Montreal Film Festival, while Milani won the Premio Flaiano for best director.»\n",
      "\n",
      "Question: Which award did the first book of Gary Zukav receive?\n",
      "\n",
      "Reasoning: Let's think step by step in order to identify the award that Gary Zukav's first book received. We know from context [1] that his first book, \"The Dancing Wu Li Masters\" (1979), won a U.S. National Book Award. So, the answer is that his first book received a U.S. National Book Award.\n",
      "\n",
      "Answer: U.S. National Book Award\n",
      "\n",
      "---\n",
      "\n",
      "Context:\n",
      "[1] «San Francisco mayoral election, 2003 | The 2003 San Francisco mayoral election occurred on November 4, 2003. The incumbent, Willie Brown, was termed out of office and could not seek a third term. The general election included three top candidates including then Supervisor Gavin Newsom and then President of the Board of Supervisors, Matt Gonzalez and former Supervisor Angela Alioto. No candidate received the required majority so the race went into a run-off of the two top candidates, which were Gavin Newsom and Matt Gonzalez. The run-off occurred on December 9, 2003 where Gavin Newsom was elected mayor of San Francisco.»\n",
      "[2] «San Francisco mayoral election, 1995 | The 1995 San Francisco mayoral election was held on November 7, 1995, with a runoff election held on December 12, 1995. Former Speaker of the California State Assembly Willie Brown defeated incumbent mayor Frank Jordan in a runoff election to become the 41st Mayor of San Francisco.»\n",
      "[3] «San Francisco mayoral election, 2007 | The 2007 San Francisco mayoral election occurred on November 6, 2007. Voters elected a Mayor of San Francisco and several local officials. Incumbent Mayor Gavin Newsom was re-elected by a good margin. There were 12 candidates on the ballot as well as 6 write-ins.»\n",
      "\n",
      "Question: When did the 2003 San Francisco mayoral election take place?\n",
      "\n",
      "Reasoning: Let's think step by step in order to identify when the 2003 San Francisco mayoral election took place. We know from context [1] that the 2003 San Francisco mayoral election occurred on November 4, 2003. So, the answer is that the 2003 San Francisco mayoral election took place on November 4, 2003.\n",
      "\n",
      "Answer:\u001b[32m November 4, 2003\u001b[0m\n",
      "\n",
      "\n",
      "\n"
     ]
    },
    {
     "data": {
      "text/plain": [
       "'\\n\\n\\nGiven the fields `context`, `question`, produce the fields `answer`.\\n\\n---\\n\\nQuestion: In what year was the star of To Hell and Back born?\\nAnswer: 1925\\n\\nQuestion: Who produced the album that included a re-recording of \"Lithium\"?\\nAnswer: Butch Vig\\n\\nQuestion: The heir to the Du Pont family fortune sponsored what wrestling team?\\nAnswer: Foxcatcher\\n\\nQuestion: What documentary about the Gilgo Beach Killer debuted on A&E?\\nAnswer: The Killing Season\\n\\nQuestion: Which author is English: John Braine or Studs Terkel?\\nAnswer: John Braine\\n\\nQuestion: Who was the director of the 2009 movie featuring Peter Outerbridge as William Easton?\\nAnswer: Kevin Greutert\\n\\n---\\n\\nFollow the following format.\\n\\nContext: ${context}\\n\\nQuestion: ${question}\\n\\nReasoning: Let\\'s think step by step in order to ${produce the answer}. We ...\\n\\nAnswer: ${answer}\\n\\n---\\n\\nContext:\\n[1] «Gary Zukav | Gary Zukav (born October 17, 1942) is an American spiritual teacher and the author of four consecutive New York Times Best Sellers. Beginning in 1998, he appeared more than 30 times on \"The Oprah Winfrey Show\" to discuss transformation in human consciousness concepts presented in his book \"The Seat of the Soul\". His first book, \"The Dancing Wu Li Masters\" (1979), won a U.S. National Book Award.»\\n[2] «Democritus meditating on the seat of the soul | Democritus meditating on the seat of the soul (\"Démocrite méditant sur le siège de l\\'âme\") is a statue by Léon-Alexandre Delhomme (1841–1895), exhibited at the Paris Salon of 1868. It shows the Greek philosopher Democritus, his eyes fixed on a skull he holds in his hands. It is now exhibited in the garden of the musée des Beaux-Arts de Lyon.»\\n[3] «The Soul\\'s Place | The Soul\\'s Place (Italian: \"Il posto dell\\'anima\" , also known as \"The Soul\\'s Haven\") is a 2003 Italian romantic comedy-drama film written and directed by Riccardo Milani. For his performance Silvio Orlando was awarded best actor at the Montreal Film Festival, while Milani won the Premio Flaiano for best director.»\\n\\nQuestion: Which award did the first book of Gary Zukav receive?\\n\\nReasoning: Let\\'s think step by step in order to identify the award that Gary Zukav\\'s first book received. We know from context [1] that his first book, \"The Dancing Wu Li Masters\" (1979), won a U.S. National Book Award. So, the answer is that his first book received a U.S. National Book Award.\\n\\nAnswer: U.S. National Book Award\\n\\n---\\n\\nContext:\\n[1] «San Francisco mayoral election, 2003 | The 2003 San Francisco mayoral election occurred on November 4, 2003. The incumbent, Willie Brown, was termed out of office and could not seek a third term. The general election included three top candidates including then Supervisor Gavin Newsom and then President of the Board of Supervisors, Matt Gonzalez and former Supervisor Angela Alioto. No candidate received the required majority so the race went into a run-off of the two top candidates, which were Gavin Newsom and Matt Gonzalez. The run-off occurred on December 9, 2003 where Gavin Newsom was elected mayor of San Francisco.»\\n[2] «San Francisco mayoral election, 1995 | The 1995 San Francisco mayoral election was held on November 7, 1995, with a runoff election held on December 12, 1995. Former Speaker of the California State Assembly Willie Brown defeated incumbent mayor Frank Jordan in a runoff election to become the 41st Mayor of San Francisco.»\\n[3] «San Francisco mayoral election, 2007 | The 2007 San Francisco mayoral election occurred on November 6, 2007. Voters elected a Mayor of San Francisco and several local officials. Incumbent Mayor Gavin Newsom was re-elected by a good margin. There were 12 candidates on the ballot as well as 6 write-ins.»\\n\\nQuestion: When did the 2003 San Francisco mayoral election take place?\\n\\nReasoning: Let\\'s think step by step in order to identify when the 2003 San Francisco mayoral election took place. We know from context [1] that the 2003 San Francisco mayoral election occurred on November 4, 2003. So, the answer is that the 2003 San Francisco mayoral election took place on November 4, 2003.\\n\\nAnswer:\\x1b[32m November 4, 2003\\x1b[0m\\n\\n\\n'"
      ]
     },
     "execution_count": 19,
     "metadata": {},
     "output_type": "execute_result"
    }
   ],
   "source": [
    "# rag_compiled(\"What year was the party of the winner of the 1971 San Francisco mayoral election founded?\")\n",
    "rag_compiled(\"When did the 2003 San Francisco mayoral election take place?\")\n",
    "ollama_model.inspect_history(n=1)"
   ]
  },
  {
   "cell_type": "code",
   "execution_count": null,
   "metadata": {},
   "outputs": [],
   "source": []
  }
 ],
 "metadata": {
  "kernelspec": {
   "display_name": "dspy",
   "language": "python",
   "name": "python3"
  },
  "language_info": {
   "codemirror_mode": {
    "name": "ipython",
    "version": 3
   },
   "file_extension": ".py",
   "mimetype": "text/x-python",
   "name": "python",
   "nbconvert_exporter": "python",
   "pygments_lexer": "ipython3",
   "version": "3.11.9"
  }
 },
 "nbformat": 4,
 "nbformat_minor": 2
}
