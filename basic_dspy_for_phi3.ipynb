{
 "cells": [
  {
   "cell_type": "code",
   "execution_count": 1,
   "metadata": {},
   "outputs": [],
   "source": [
    "import dspy"
   ]
  },
  {
   "cell_type": "code",
   "execution_count": 2,
   "metadata": {},
   "outputs": [
    {
     "name": "stderr",
     "output_type": "stream",
     "text": [
      "/home/ec2-user/miniconda3/envs/dspy/lib/python3.11/site-packages/datasets/table.py:1421: FutureWarning: promote has been superseded by promote_options='default'.\n",
      "  table = cls._concat_blocks(blocks, axis=0)\n"
     ]
    },
    {
     "data": {
      "text/plain": [
       "(20, 50)"
      ]
     },
     "execution_count": 2,
     "metadata": {},
     "output_type": "execute_result"
    }
   ],
   "source": [
    "from dspy.datasets import HotPotQA\n",
    "\n",
    "# Load the dataset.\n",
    "dataset = HotPotQA(train_seed=1, train_size=20, eval_seed=2023, dev_size=50, test_size=0)\n",
    "\n",
    "# Tell DSPy that the 'question' field is the input. Any other fields are labels and/or metadata.\n",
    "trainset = [x.with_inputs('question') for x in dataset.train]\n",
    "devset = [x.with_inputs('question') for x in dataset.dev]\n",
    "\n",
    "len(trainset), len(devset)"
   ]
  },
  {
   "cell_type": "code",
   "execution_count": 3,
   "metadata": {},
   "outputs": [
    {
     "data": {
      "text/plain": [
       "[('question',\n",
       "  'At My Window was released by which American singer-songwriter?'),\n",
       " ('answer', 'John Townes Van Zandt')]"
      ]
     },
     "execution_count": 3,
     "metadata": {},
     "output_type": "execute_result"
    }
   ],
   "source": [
    "dataset.train[0].items()"
   ]
  },
  {
   "cell_type": "markdown",
   "metadata": {},
   "source": [
    "# Use Ollama\n",
    "- Use the `Ollamalocal` in the dspy to interact with ollama model."
   ]
  },
  {
   "cell_type": "code",
   "execution_count": 4,
   "metadata": {},
   "outputs": [],
   "source": [
    "ollama_model = dspy.OllamaLocal(\n",
    "    model='phi3',\n",
    "    model_type='text',\n",
    "    max_tokens=350,\n",
    "    temperature=0.7,\n",
    "    top_p=0.9,\n",
    "    frequency_penalty=1.17,\n",
    "    top_k=40,\n",
    "    timeout_s=180\n",
    ")"
   ]
  },
  {
   "cell_type": "code",
   "execution_count": 5,
   "metadata": {},
   "outputs": [
    {
     "data": {
      "text/plain": [
       "[\" Pluto, being a dwarf planet located in our solar system's Kuiper Belt, experiences extremely cold and harsh conditions. Its atmosphere is incredibly thin compared to Earth’s and mostly composed of nitrogen with traces of methane and carbon monoxide.\\n\\nThe average surface temperature on Pluto hovers around -375 degrees Fahrenheit (-225 degrees Celsius). However, these temperatures can fluctuate depending on the time of day or seasonal changes due to its elliptical orbit which takes approximately 248 Earth years. During a sol (Pluto's equivalent of an Earth day), sunlight reaches Pluto at such low angles that it spreads out over vast areas, resulting in even colder temperatures near the surface.\\n\\nIt is essential to note that no spacecraft has ever landed on or orbited around Pluto; our understanding comes primarily from data gathered by NASA's New Horizons mission during its flyby in 2015.\"]"
      ]
     },
     "execution_count": 5,
     "metadata": {},
     "output_type": "execute_result"
    }
   ],
   "source": [
    "ollama_model(\"Tell me about the weather on pluto?\")"
   ]
  },
  {
   "cell_type": "markdown",
   "metadata": {},
   "source": [
    "# Configure LLM \n",
    "- In order to use the ollama model, set the DsPy settings."
   ]
  },
  {
   "cell_type": "code",
   "execution_count": 6,
   "metadata": {},
   "outputs": [],
   "source": [
    "dspy.settings.configure(lm=ollama_model)"
   ]
  },
  {
   "cell_type": "markdown",
   "metadata": {},
   "source": [
    "- The `Signature` is more like a `Task` that you want to be performed.\n",
    "- The docstring is like `system` prompt.\n",
    "- For the example below (QA) even the input and the output fields are defined."
   ]
  },
  {
   "cell_type": "code",
   "execution_count": 7,
   "metadata": {},
   "outputs": [],
   "source": [
    "class BasicQA(dspy.Signature):\n",
    "    \"\"\"Answer questions with short factoid answers.\"\"\"\n",
    "    question = dspy.InputField()\n",
    "    answer = dspy.OutputField(desc=\"often between 1 and 5 words.\")"
   ]
  },
  {
   "cell_type": "code",
   "execution_count": 8,
   "metadata": {},
   "outputs": [],
   "source": [
    "# Define predictor. \n",
    "# The predictor is \"informed\" about the task to perform\n",
    "generate_answer = dspy.Predict(BasicQA)"
   ]
  },
  {
   "cell_type": "code",
   "execution_count": 9,
   "metadata": {},
   "outputs": [
    {
     "name": "stdout",
     "output_type": "stream",
     "text": [
      "Example({'question': 'What is the nationality of the chef and restaurateur featured in Restaurant: Impossible?', 'answer': 'English', 'gold_titles': {'Restaurant: Impossible', 'Robert Irvine'}}) (input_keys={'question'})\n",
      "Prediction(\n",
      "    answer='Answer: American'\n",
      ")\n"
     ]
    }
   ],
   "source": [
    "dev_example = devset[18]\n",
    "pred = generate_answer(question=dev_example.question)\n",
    "print(dev_example)\n",
    "print(pred)"
   ]
  },
  {
   "cell_type": "code",
   "execution_count": 10,
   "metadata": {},
   "outputs": [
    {
     "name": "stdout",
     "output_type": "stream",
     "text": [
      "\n",
      "\n",
      "\n",
      "Answer questions with short factoid answers.\n",
      "\n",
      "---\n",
      "\n",
      "Follow the following format.\n",
      "\n",
      "Question: ${question}\n",
      "Answer: often between 1 and 5 words.\n",
      "\n",
      "---\n",
      "\n",
      "Question: What is the nationality of the chef and restaurateur featured in Restaurant: Impossible?\n",
      "Answer:\u001b[32m Answer: American\u001b[0m\n",
      "\n",
      "\n",
      "\n"
     ]
    },
    {
     "data": {
      "text/plain": [
       "'\\n\\n\\nAnswer questions with short factoid answers.\\n\\n---\\n\\nFollow the following format.\\n\\nQuestion: ${question}\\nAnswer: often between 1 and 5 words.\\n\\n---\\n\\nQuestion: What is the nationality of the chef and restaurateur featured in Restaurant: Impossible?\\nAnswer:\\x1b[32m Answer: American\\x1b[0m\\n\\n\\n'"
      ]
     },
     "execution_count": 10,
     "metadata": {},
     "output_type": "execute_result"
    }
   ],
   "source": [
    "# You can inspect the ollama history to see the exact prompt\n",
    "ollama_model.inspect_history(1)"
   ]
  },
  {
   "cell_type": "markdown",
   "metadata": {},
   "source": [
    "# COT\n",
    "- Lets check how this looks as a `chain of thought` task.\n",
    "- Note DsPy changes the prompt template (at least thats how I see it)"
   ]
  },
  {
   "cell_type": "code",
   "execution_count": 11,
   "metadata": {},
   "outputs": [
    {
     "name": "stdout",
     "output_type": "stream",
     "text": [
      "Prediction(\n",
      "    rationale='Question: What is the nationality of the chef and restaurateur featured in Restaurant: Impossible?\\nReasoning: To answer this question, we need to identify who the main character of \"Restaurant: Impossible\" is. Once identified, we can find out his background details which include his nationality.',\n",
      "    answer='American'\n",
      ")\n"
     ]
    }
   ],
   "source": [
    "# The predictor is changing, the signature is not\n",
    "generate_answer_with_cot = dspy.ChainOfThought(BasicQA)\n",
    "\n",
    "# Lets run it on the same input\n",
    "pred = generate_answer_with_cot(question=dev_example.question)\n",
    "\n",
    "# Print the prediction\n",
    "print(pred)"
   ]
  },
  {
   "cell_type": "markdown",
   "metadata": {},
   "source": [
    "# Using the Retrieval Logic"
   ]
  },
  {
   "cell_type": "code",
   "execution_count": 12,
   "metadata": {},
   "outputs": [],
   "source": [
    "# A retrieval machine is needed\n",
    "colbertv2_wiki17_abstracts = dspy.ColBERTv2(url='http://20.102.90.50:2017/wiki17_abstracts')\n",
    "dspy.settings.configure(lm=ollama_model, rm=colbertv2_wiki17_abstracts)\n",
    "\n"
   ]
  },
  {
   "cell_type": "code",
   "execution_count": 13,
   "metadata": {},
   "outputs": [
    {
     "name": "stdout",
     "output_type": "stream",
     "text": [
      "Top 3 passages for the question : What is the nationality of the chef and restaurateur featured in Restaurant: Impossible? \n",
      " ------------------------------ \n",
      "\n",
      "1] Restaurant: Impossible | Restaurant: Impossible is an American reality television series, featuring chef and restaurateur Robert Irvine, that aired on Food Network from 2011 to 2016. \n",
      "\n",
      "2] Jean Joho | Jean Joho is a French-American chef and restaurateur. He is chef/proprietor of Everest in Chicago (founded in 1986), Paris Club Bistro & Bar and Studio Paris in Chicago, The Eiffel Tower Restaurant in Las Vegas, and Brasserie JO in Boston. \n",
      "\n",
      "3] List of Restaurant: Impossible episodes | This is the list of the episodes for the American cooking and reality television series \"Restaurant Impossible\", produced by Food Network. The premise of the series is that within two days and on a budget of $10,000, celebrity chef Robert Irvine renovates a failing American restaurant with the goal of helping to restore it to profitability and prominence. Irvine is assisted by a designer (usually Taniya Nayak, Cheryl Torrenueva, or Lynn Keagan, but sometimes Vanessa De Leon, Krista Watterworth, Yvette Irene, or Nicole Faccuito), along with general contractor Tom Bury, who sometimes does double duty as both general contractor and designer. After assessing the problems with the restaurant, Robert Irvine typically creates a plan for the new decor, oversees the cleaning of the restaurant, reduces the size of the menu and improves the food, develops a promotional activity, educates the restaurant's owners, or trains the staff, as needed by each restaurant. \n",
      "\n"
     ]
    }
   ],
   "source": [
    "# retrieve the top 2 passages/contexts\n",
    "retrieve = dspy.Retrieve(k=3)\n",
    "topk_passages = retrieve(dev_example.question).passages\n",
    "\n",
    "print(f\"Top {retrieve.k} passages for the question : {dev_example.question} \\n\", '-'*30, '\\n')\n",
    "\n",
    "for idx, passage in enumerate(topk_passages):\n",
    "    print(f\"{idx+1}]\", passage, '\\n')"
   ]
  },
  {
   "cell_type": "code",
   "execution_count": 14,
   "metadata": {},
   "outputs": [
    {
     "data": {
      "text/plain": [
       "'History of the FIFA World Cup | The FIFA World Cup was first held in 1930, when FIFA president Jules Rimet decided to stage an international football tournament. The inaugural edition, held in 1930, was contested as a final tournament of only thirteen teams invited by the organization. Since then, the World Cup has experienced successive expansions and format remodeling to its current 32-team final tournament preceded by a two-year qualifying process, involving over 200 teams from around the world.'"
      ]
     },
     "execution_count": 14,
     "metadata": {},
     "output_type": "execute_result"
    }
   ],
   "source": [
    "retrieve(\"When was the first FIFA World Cup held?\").passages[0]"
   ]
  },
  {
   "cell_type": "markdown",
   "metadata": {},
   "source": [
    "# Program 1"
   ]
  },
  {
   "cell_type": "markdown",
   "metadata": {},
   "source": [
    "- A complete program\n",
    "- A RAG pipeline.\n",
    "- Given a question, search and retrieve the top 3 passages in wikipedia and then use them as context for LLM\n",
    "- Generate an answer from the LLM."
   ]
  },
  {
   "cell_type": "code",
   "execution_count": 15,
   "metadata": {},
   "outputs": [],
   "source": [
    "class GenerateAnswer(dspy.Signature):\n",
    "    \"\"\"Answer questions with short factoid answers.\"\"\"\n",
    "\n",
    "    context = dspy.InputField(desc=\"may contain relevant facts\")\n",
    "    question = dspy.InputField()\n",
    "    answer = dspy.OutputField(desc=\"often between 1 and 5 words.\")"
   ]
  },
  {
   "cell_type": "markdown",
   "metadata": {},
   "source": [
    "# now the actual program. `Module`\n",
    "- It needs 2 things.\n",
    "    1. The `__init__` method that declares the sub-module it needs. In this case the `dspy.Retrieve` and `dspy.ChainOfThought`.\n",
    "    2. The `forward` method will describe the control flow of answering the question using the modules we have."
   ]
  },
  {
   "cell_type": "code",
   "execution_count": 16,
   "metadata": {},
   "outputs": [],
   "source": [
    "class RAG(dspy.Module):\n",
    "    def __init__(self, num_passages=3):\n",
    "        super().__init__()\n",
    "        self.retrieve = dspy.Retrieve(k=num_passages)\n",
    "        self.generate_answer = dspy.ChainOfThought(GenerateAnswer)\n",
    "\n",
    "    def forward(self, question):\n",
    "        context = self.retrieve(question).passages\n",
    "        prediction = self.generate_answer(context=context, question=question)\n",
    "        return dspy.Prediction(context=context, answer=prediction.answer)\n",
    "\n"
   ]
  },
  {
   "cell_type": "markdown",
   "metadata": {},
   "source": [
    "# Compiling the RAG\n",
    "- A training set of 20 QAs\n",
    "- A metric of validations, to check if the answer is correct. We can also check of the retrieved context is correct.\n",
    "- A teleprompter that can optimize the programs.\n",
    "\n",
    "To me this is more like having a `few shot examples`, and way to validate the responses from the LLM or the retrieval engine, and a teleprompter that optimzes your prompt for the task.\n",
    "\n",
    "The author of DsPy are using a different language, but underneath the goal is just creating and optimizing a RAG prompt (basically prompt-engineering)"
   ]
  },
  {
   "cell_type": "code",
   "execution_count": 17,
   "metadata": {},
   "outputs": [
    {
     "name": "stderr",
     "output_type": "stream",
     "text": [
      " 50%|█████     | 10/20 [00:15<00:15,  1.51s/it]\n"
     ]
    }
   ],
   "source": [
    "import dspy.evaluate\n",
    "from dspy.teleprompt import BootstrapFewShot\n",
    "\n",
    "# Validation logic: Check that the predict answer is correct\n",
    "# Also check that the retrieved ccontext does actually contain the answer.\n",
    "\n",
    "def validate_context_and_answer(example, pred, trace=None):\n",
    "    answer_EM = dspy.evaluate.answer_exact_match(example, pred)\n",
    "    answer_PM = dspy.evaluate.answer_passage_match(example, pred)\n",
    "    return answer_EM, answer_PM\n",
    "\n",
    "# Set up a basic teleprompter, which will compile out RAG pipeline\n",
    "teleprompter = BootstrapFewShot(metric=validate_context_and_answer, max_bootstrapped_demos=10)\n",
    "\n",
    "# Compile\n",
    "compile_rag = teleprompter.compile(RAG(), trainset=trainset)\n",
    "    "
   ]
  },
  {
   "cell_type": "code",
   "execution_count": 18,
   "metadata": {},
   "outputs": [],
   "source": [
    "# Now it compiled. Lets test it"
   ]
  },
  {
   "cell_type": "code",
   "execution_count": 19,
   "metadata": {},
   "outputs": [],
   "source": [
    "test_question = \"What castle did David Gregory inherit?\"\n",
    "\n",
    "pred = compile_rag(test_question)"
   ]
  },
  {
   "cell_type": "code",
   "execution_count": 20,
   "metadata": {},
   "outputs": [
    {
     "name": "stdout",
     "output_type": "stream",
     "text": [
      "Question: What castle did David Gregory inherit?\n",
      "Predicted Answer: Panzer-Division \"Hermann Göring\" was involved on both sides of Operation Citadel near Kursk during World War II. However, if we are strictly looking for a division that played a significant role in this area within the given contexts, none directly mention specific divisions related to the Eastern Front or Operation Citadel as David Gregory's inheritance is unrelated and pertains to an entirely different individual from history. The Panzer-Division \"Hermann Göring\" serves as my response based on historical knowledge outside of your provided texts but not explicitly mentioned in them.\n",
      "Retrieved Contets (truncated): ['David Gregory (physician) | David Gregory (20 December 1625 – 1720) was a Scottish physician and inventor. His surname is sometimes spelt as Gregorie, the original Scottish spelling. He inherited Kinn...', 'Gregory Tarchaneiotes | Gregory Tarchaneiotes (Greek: Γρηγόριος Ταρχανειώτης , Italian: \"Gregorio Tracanioto\" or \"Tracamoto\" ) was a \"protospatharius\" and the long-reigning catepan of Italy from 998 t...', 'David Gregory (mathematician) | David Gregory (originally spelt Gregorie) FRS (? 1659 – 10 October 1708) was a Scottish mathematician and astronomer. He was professor of mathematics at the University ...']\n"
     ]
    }
   ],
   "source": [
    "print(f\"Question: {test_question}\")\n",
    "print(f\"Predicted Answer: {pred.answer}\")\n",
    "print(f\"Retrieved Contets (truncated): {[c[:200]+'...' for c in pred.context]}\")"
   ]
  },
  {
   "cell_type": "code",
   "execution_count": 21,
   "metadata": {},
   "outputs": [
    {
     "name": "stdout",
     "output_type": "stream",
     "text": [
      "generate_answer\n",
      "Example({'augmented': True, 'context': ['At My Window (album) | At My Window is an album released by Folk/country singer-songwriter Townes Van Zandt in 1987. This was Van Zandt\\'s first studio album in the nine years that followed 1978\\'s \"Flyin\\' Shoes\", and his only studio album recorded in the 1980s. Although the songwriter had become less prolific, this release showed that the quality of his material remained high.', 'Little Window | Little Window is the debut album of American singer-songwriter Baby Dee. The album was released in 2002 on the Durtro label. It was produced, composed, and performed entirely by Dee.', 'Windows and Walls | Windows and Walls is the eighth album by American singer-songwriter Dan Fogelberg, released in 1984 (see 1984 in music). The first single, \"The Language of Love\", reached 13 on the U.S. \"Billboard\" Hot 100 chart. Although the follow-up, \"Believe in Me\", missed the Top 40 of the pop chart, peaking at No. 48, it became the singer\\'s fourth No. 1 song on the \"Billboard\" adult contemporary chart.'], 'question': 'At My Window was released by which American singer-songwriter?', 'rationale': 'Context: «At My Window (album) | At My Window is an album released by Folk/country singer-songwriter Townes Van Zandt in 1987. This was Van Zandt\\'s first studio album in the nine years that followed 1978\\'s \"Flyin\\' Shoes\", and his only studio album recorded in the 1980s.»\\n\\nQuestion: At My Window was released by which American singer-songwriter?', 'answer': 'Townes Van Zandt'}) (input_keys=None)\n",
      "\n"
     ]
    }
   ],
   "source": [
    "# To peek at the learned objects\n",
    "for name, parameter in compile_rag.named_predictors():\n",
    "    print(name)\n",
    "    print(parameter.demos[0])\n",
    "    print()\n"
   ]
  },
  {
   "cell_type": "code",
   "execution_count": 22,
   "metadata": {},
   "outputs": [],
   "source": [
    "# Let's test on the dev set."
   ]
  },
  {
   "cell_type": "markdown",
   "metadata": {},
   "source": [
    "# Evaluate the answers\n",
    "- Using exact match"
   ]
  },
  {
   "cell_type": "code",
   "execution_count": 23,
   "metadata": {},
   "outputs": [
    {
     "name": "stdout",
     "output_type": "stream",
     "text": [
      "Average Metric: 1 / 50  (2.0): 100%|██████████| 50/50 [03:18<00:00,  3.97s/it]\n"
     ]
    },
    {
     "data": {
      "text/html": [
       "<style type=\"text/css\">\n",
       "#T_b5f45 th {\n",
       "  text-align: left;\n",
       "}\n",
       "#T_b5f45 td {\n",
       "  text-align: left;\n",
       "}\n",
       "#T_b5f45_row0_col0, #T_b5f45_row0_col1, #T_b5f45_row0_col2, #T_b5f45_row0_col3, #T_b5f45_row0_col4, #T_b5f45_row0_col5, #T_b5f45_row1_col0, #T_b5f45_row1_col1, #T_b5f45_row1_col2, #T_b5f45_row1_col3, #T_b5f45_row1_col4, #T_b5f45_row1_col5, #T_b5f45_row2_col0, #T_b5f45_row2_col1, #T_b5f45_row2_col2, #T_b5f45_row2_col3, #T_b5f45_row2_col4, #T_b5f45_row2_col5, #T_b5f45_row3_col0, #T_b5f45_row3_col1, #T_b5f45_row3_col2, #T_b5f45_row3_col3, #T_b5f45_row3_col4, #T_b5f45_row3_col5, #T_b5f45_row4_col0, #T_b5f45_row4_col1, #T_b5f45_row4_col2, #T_b5f45_row4_col3, #T_b5f45_row4_col4, #T_b5f45_row4_col5 {\n",
       "  text-align: left;\n",
       "  white-space: pre-wrap;\n",
       "  word-wrap: break-word;\n",
       "  max-width: 400px;\n",
       "}\n",
       "</style>\n",
       "<table id=\"T_b5f45\">\n",
       "  <thead>\n",
       "    <tr>\n",
       "      <th class=\"blank level0\" >&nbsp;</th>\n",
       "      <th id=\"T_b5f45_level0_col0\" class=\"col_heading level0 col0\" >question</th>\n",
       "      <th id=\"T_b5f45_level0_col1\" class=\"col_heading level0 col1\" >example_answer</th>\n",
       "      <th id=\"T_b5f45_level0_col2\" class=\"col_heading level0 col2\" >gold_titles</th>\n",
       "      <th id=\"T_b5f45_level0_col3\" class=\"col_heading level0 col3\" >context</th>\n",
       "      <th id=\"T_b5f45_level0_col4\" class=\"col_heading level0 col4\" >pred_answer</th>\n",
       "      <th id=\"T_b5f45_level0_col5\" class=\"col_heading level0 col5\" >answer_exact_match</th>\n",
       "    </tr>\n",
       "  </thead>\n",
       "  <tbody>\n",
       "    <tr>\n",
       "      <th id=\"T_b5f45_level0_row0\" class=\"row_heading level0 row0\" >0</th>\n",
       "      <td id=\"T_b5f45_row0_col0\" class=\"data row0 col0\" >Are both Cangzhou and Qionghai in the Hebei province of China?</td>\n",
       "      <td id=\"T_b5f45_row0_col1\" class=\"data row0 col1\" >no</td>\n",
       "      <td id=\"T_b5f45_row0_col2\" class=\"data row0 col2\" >{'Qionghai', 'Cangzhou'}</td>\n",
       "      <td id=\"T_b5f45_row0_col3\" class=\"data row0 col3\" >['Cangzhou | Cangzhou () is a prefecture-level city in eastern Hebei province, People\\'s Republic of China. At the 2010 census, Cangzhou\\'s built-up (\"or metro\") area...</td>\n",
       "      <td id=\"T_b5f45_row0_col4\" class=\"data row0 col4\" >No, only Cangzhou is located in Hebei Province. Qionghai is not mentioned as being part of the Hebei province; it is actually a city on...</td>\n",
       "      <td id=\"T_b5f45_row0_col5\" class=\"data row0 col5\" >False</td>\n",
       "    </tr>\n",
       "    <tr>\n",
       "      <th id=\"T_b5f45_level0_row1\" class=\"row_heading level0 row1\" >1</th>\n",
       "      <td id=\"T_b5f45_row1_col0\" class=\"data row1 col0\" >Who conducts the draft in which Marc-Andre Fleury was drafted to the Vegas Golden Knights for the 2017-18 season?</td>\n",
       "      <td id=\"T_b5f45_row1_col1\" class=\"data row1 col1\" >National Hockey League</td>\n",
       "      <td id=\"T_b5f45_row1_col2\" class=\"data row1 col2\" >{'2017 NHL Expansion Draft', '2017–18 Pittsburgh Penguins season'}</td>\n",
       "      <td id=\"T_b5f45_row1_col3\" class=\"data row1 col3\" >['2017–18 Pittsburgh Penguins season | The 2017–18 Pittsburgh Penguins season will be the 51st season for the National Hockey League ice hockey team that was...</td>\n",
       "      <td id=\"T_b5f45_row1_col4\" class=\"data row1 col4\" >Certainly, Operation Citadel was a significant military operation during World War II that took place near Kursk in 1943. It marked one of the largest...</td>\n",
       "      <td id=\"T_b5f45_row1_col5\" class=\"data row1 col5\" >False</td>\n",
       "    </tr>\n",
       "    <tr>\n",
       "      <th id=\"T_b5f45_level0_row2\" class=\"row_heading level0 row2\" >2</th>\n",
       "      <td id=\"T_b5f45_row2_col0\" class=\"data row2 col0\" >The Wings entered a new era, following the retirement of which Canadian retired professional ice hockey player and current general manager of the Tampa Bay...</td>\n",
       "      <td id=\"T_b5f45_row2_col1\" class=\"data row2 col1\" >Steve Yzerman</td>\n",
       "      <td id=\"T_b5f45_row2_col2\" class=\"data row2 col2\" >{'2006–07 Detroit Red Wings season', 'Steve Yzerman'}</td>\n",
       "      <td id=\"T_b5f45_row2_col3\" class=\"data row2 col3\" >['Steve Yzerman | Stephen Gregory \"Steve\" Yzerman ( ; born May 9, 1965) is a Canadian retired professional ice hockey player and current general manager...</td>\n",
       "      <td id=\"T_b5f45_row2_col4\" class=\"data row2 col4\" >Operation Citadel, involving divisions such as the 1st Panzer Army (German) and Soviet Western Front's counterpart including units like the 5th Guards Tank Army near...</td>\n",
       "      <td id=\"T_b5f45_row2_col5\" class=\"data row2 col5\" >False</td>\n",
       "    </tr>\n",
       "    <tr>\n",
       "      <th id=\"T_b5f45_level0_row3\" class=\"row_heading level0 row3\" >3</th>\n",
       "      <td id=\"T_b5f45_row3_col0\" class=\"data row3 col0\" >What river is near the Crichton Collegiate Church?</td>\n",
       "      <td id=\"T_b5f45_row3_col1\" class=\"data row3 col1\" >the River Tyne</td>\n",
       "      <td id=\"T_b5f45_row3_col2\" class=\"data row3 col2\" >{'Crichton Collegiate Church', 'Crichton Castle'}</td>\n",
       "      <td id=\"T_b5f45_row3_col3\" class=\"data row3 col3\" >[\"Crichton Collegiate Church | Crichton Collegiate Church is situated about 0.6 mi south west of the hamlet of Crichton in Midlothian, Scotland. Crichton itself is...</td>\n",
       "      <td id=\"T_b5f45_row3_col4\" class=\"data row3 col4\" >The river near Crichton Collegiate Church is not mentioned in the provided context as it focuses on geographical locations and landmarks rather than specific rivers...</td>\n",
       "      <td id=\"T_b5f45_row3_col5\" class=\"data row3 col5\" >False</td>\n",
       "    </tr>\n",
       "    <tr>\n",
       "      <th id=\"T_b5f45_level0_row4\" class=\"row_heading level0 row4\" >4</th>\n",
       "      <td id=\"T_b5f45_row4_col0\" class=\"data row4 col0\" >In the 10th Century A.D. Ealhswith had a son called Æthelweard by which English king?</td>\n",
       "      <td id=\"T_b5f45_row4_col1\" class=\"data row4 col1\" >King Alfred the Great</td>\n",
       "      <td id=\"T_b5f45_row4_col2\" class=\"data row4 col2\" >{'Ealhswith', 'Æthelweard (son of Alfred)'}</td>\n",
       "      <td id=\"T_b5f45_row4_col3\" class=\"data row4 col3\" >[\"Æthelweard of East Anglia | Æthelweard (died 854) was a 9th-century king of East Anglia, the long-lived Anglo-Saxon kingdom which today includes the English counties...</td>\n",
       "      <td id=\"T_b5f45_row4_col4\" class=\"data row4 col4\" >In the 10th Century A.D., Ealhswith had a son called Æthelweard by King Alfred the Great. This conclusion is drawn from analyzing context provided in...</td>\n",
       "      <td id=\"T_b5f45_row4_col5\" class=\"data row4 col5\" >False</td>\n",
       "    </tr>\n",
       "  </tbody>\n",
       "</table>\n"
      ],
      "text/plain": [
       "<pandas.io.formats.style.Styler at 0x7f8177e5cc90>"
      ]
     },
     "metadata": {},
     "output_type": "display_data"
    },
    {
     "data": {
      "text/html": [
       "\n",
       "                <div style='\n",
       "                    text-align: center;\n",
       "                    font-size: 16px;\n",
       "                    font-weight: bold;\n",
       "                    color: #555;\n",
       "                    margin: 10px 0;'>\n",
       "                    ... 45 more rows not displayed ...\n",
       "                </div>\n",
       "                "
      ],
      "text/plain": [
       "<IPython.core.display.HTML object>"
      ]
     },
     "metadata": {},
     "output_type": "display_data"
    },
    {
     "data": {
      "text/plain": [
       "2.0"
      ]
     },
     "execution_count": 23,
     "metadata": {},
     "output_type": "execute_result"
    }
   ],
   "source": [
    "from dspy.evaluate.evaluate import Evaluate\n",
    "\n",
    "# Define the evaluation\n",
    "evaluate_on_hotpotqa = Evaluate(devset=devset, \n",
    "                                num_threads=1, \n",
    "                                display_progress=True,\n",
    "                                display_table=5)\n",
    "\n",
    "# Evaluate the `compiled_rag` program with the `answer_exact_match` metric.\n",
    "metric = dspy.evaluate.answer_exact_match\n",
    "evaluate_on_hotpotqa(compile_rag, metric=metric)"
   ]
  },
  {
   "cell_type": "markdown",
   "metadata": {},
   "source": [
    "- One thing I notice, is that the last pred should be `True`. \n",
    "- I think the exact_match is looking for exact string match. So, even though all the answers above are `True`, some are labeled as False."
   ]
  },
  {
   "cell_type": "markdown",
   "metadata": {},
   "source": [
    "# Evaluating the Retrieval\n",
    "- The dev set includes the gold titles that should be retrieved. So we can use them for evaluation"
   ]
  },
  {
   "cell_type": "code",
   "execution_count": 24,
   "metadata": {},
   "outputs": [
    {
     "name": "stdout",
     "output_type": "stream",
     "text": [
      "Average Metric: 13 / 50  (26.0): 100%|██████████| 50/50 [02:51<00:00,  3.42s/it]\n"
     ]
    },
    {
     "data": {
      "text/html": [
       "<style type=\"text/css\">\n",
       "#T_0c7ad th {\n",
       "  text-align: left;\n",
       "}\n",
       "#T_0c7ad td {\n",
       "  text-align: left;\n",
       "}\n",
       "#T_0c7ad_row0_col0, #T_0c7ad_row0_col1, #T_0c7ad_row0_col2, #T_0c7ad_row0_col3, #T_0c7ad_row0_col4, #T_0c7ad_row0_col5, #T_0c7ad_row1_col0, #T_0c7ad_row1_col1, #T_0c7ad_row1_col2, #T_0c7ad_row1_col3, #T_0c7ad_row1_col4, #T_0c7ad_row1_col5, #T_0c7ad_row2_col0, #T_0c7ad_row2_col1, #T_0c7ad_row2_col2, #T_0c7ad_row2_col3, #T_0c7ad_row2_col4, #T_0c7ad_row2_col5, #T_0c7ad_row3_col0, #T_0c7ad_row3_col1, #T_0c7ad_row3_col2, #T_0c7ad_row3_col3, #T_0c7ad_row3_col4, #T_0c7ad_row3_col5, #T_0c7ad_row4_col0, #T_0c7ad_row4_col1, #T_0c7ad_row4_col2, #T_0c7ad_row4_col3, #T_0c7ad_row4_col4, #T_0c7ad_row4_col5 {\n",
       "  text-align: left;\n",
       "  white-space: pre-wrap;\n",
       "  word-wrap: break-word;\n",
       "  max-width: 400px;\n",
       "}\n",
       "</style>\n",
       "<table id=\"T_0c7ad\">\n",
       "  <thead>\n",
       "    <tr>\n",
       "      <th class=\"blank level0\" >&nbsp;</th>\n",
       "      <th id=\"T_0c7ad_level0_col0\" class=\"col_heading level0 col0\" >question</th>\n",
       "      <th id=\"T_0c7ad_level0_col1\" class=\"col_heading level0 col1\" >example_answer</th>\n",
       "      <th id=\"T_0c7ad_level0_col2\" class=\"col_heading level0 col2\" >gold_titles</th>\n",
       "      <th id=\"T_0c7ad_level0_col3\" class=\"col_heading level0 col3\" >context</th>\n",
       "      <th id=\"T_0c7ad_level0_col4\" class=\"col_heading level0 col4\" >pred_answer</th>\n",
       "      <th id=\"T_0c7ad_level0_col5\" class=\"col_heading level0 col5\" >gold_passages_retrieved</th>\n",
       "    </tr>\n",
       "  </thead>\n",
       "  <tbody>\n",
       "    <tr>\n",
       "      <th id=\"T_0c7ad_level0_row0\" class=\"row_heading level0 row0\" >0</th>\n",
       "      <td id=\"T_0c7ad_row0_col0\" class=\"data row0 col0\" >Are both Cangzhou and Qionghai in the Hebei province of China?</td>\n",
       "      <td id=\"T_0c7ad_row0_col1\" class=\"data row0 col1\" >no</td>\n",
       "      <td id=\"T_0c7ad_row0_col2\" class=\"data row0 col2\" >{'Qionghai', 'Cangzhou'}</td>\n",
       "      <td id=\"T_0c7ad_row0_col3\" class=\"data row0 col3\" >['Cangzhou | Cangzhou () is a prefecture-level city in eastern Hebei province, People\\'s Republic of China. At the 2010 census, Cangzhou\\'s built-up (\"or metro\") area...</td>\n",
       "      <td id=\"T_0c7ad_row0_col4\" class=\"data row0 col4\" >No, only Cangzhou is located in Hebei Province, while Qionghai is not mentioned as being part of this province. In fact, according to other sources...</td>\n",
       "      <td id=\"T_0c7ad_row0_col5\" class=\"data row0 col5\" >False</td>\n",
       "    </tr>\n",
       "    <tr>\n",
       "      <th id=\"T_0c7ad_level0_row1\" class=\"row_heading level0 row1\" >1</th>\n",
       "      <td id=\"T_0c7ad_row1_col0\" class=\"data row1 col0\" >Who conducts the draft in which Marc-Andre Fleury was drafted to the Vegas Golden Knights for the 2017-18 season?</td>\n",
       "      <td id=\"T_0c7ad_row1_col1\" class=\"data row1 col1\" >National Hockey League</td>\n",
       "      <td id=\"T_0c7ad_row1_col2\" class=\"data row1 col2\" >{'2017 NHL Expansion Draft', '2017–18 Pittsburgh Penguins season'}</td>\n",
       "      <td id=\"T_0c7ad_row1_col3\" class=\"data row1 col3\" >['2017–18 Pittsburgh Penguins season | The 2017–18 Pittsburgh Penguins season will be the 51st season for the National Hockey League ice hockey team that was...</td>\n",
       "      <td id=\"T_0c7ad_row1_col4\" class=\"data row1 col4\" >The NHL (National Hockey League) conducted the draft known as the Expansion Draft where Marc-André Fleury was selected to join the Vegas Golden Knights for...</td>\n",
       "      <td id=\"T_0c7ad_row1_col5\" class=\"data row1 col5\" >✔️ [True]</td>\n",
       "    </tr>\n",
       "    <tr>\n",
       "      <th id=\"T_0c7ad_level0_row2\" class=\"row_heading level0 row2\" >2</th>\n",
       "      <td id=\"T_0c7ad_row2_col0\" class=\"data row2 col0\" >The Wings entered a new era, following the retirement of which Canadian retired professional ice hockey player and current general manager of the Tampa Bay...</td>\n",
       "      <td id=\"T_0c7ad_row2_col1\" class=\"data row2 col1\" >Steve Yzerman</td>\n",
       "      <td id=\"T_0c7ad_row2_col2\" class=\"data row2 col2\" >{'2006–07 Detroit Red Wings season', 'Steve Yzerman'}</td>\n",
       "      <td id=\"T_0c7ad_row2_col3\" class=\"data row2 col3\" >['Steve Yzerman | Stephen Gregory \"Steve\" Yzerman ( ; born May 9, 1965) is a Canadian retired professional ice hockey player and current general manager...</td>\n",
       "      <td id=\"T_0c7ad_row2_col4\" class=\"data row2 col4\" >Steve Yzerman is not directly connected to Operation Citadel, but he did retire from playing for the Detroit Red Wings and later became a general...</td>\n",
       "      <td id=\"T_0c7ad_row2_col5\" class=\"data row2 col5\" >✔️ [True]</td>\n",
       "    </tr>\n",
       "    <tr>\n",
       "      <th id=\"T_0c7ad_level0_row3\" class=\"row_heading level0 row3\" >3</th>\n",
       "      <td id=\"T_0c7ad_row3_col0\" class=\"data row3 col0\" >What river is near the Crichton Collegiate Church?</td>\n",
       "      <td id=\"T_0c7ad_row3_col1\" class=\"data row3 col1\" >the River Tyne</td>\n",
       "      <td id=\"T_0c7ad_row3_col2\" class=\"data row3 col2\" >{'Crichton Collegiate Church', 'Crichton Castle'}</td>\n",
       "      <td id=\"T_0c7ad_row3_col3\" class=\"data row3 col3\" >[\"Crichton Collegiate Church | Crichton Collegiate Church is situated about 0.6 mi south west of the hamlet of Crichton in Midlothian, Scotland. Crichton itself is...</td>\n",
       "      <td id=\"T_0c7ad_row3_col4\" class=\"data row3 col4\" >The River Tyne is near the Crichton Collegiate Church. This information can be deduced from context provided about Crichton Castle, which states that it is...</td>\n",
       "      <td id=\"T_0c7ad_row3_col5\" class=\"data row3 col5\" >✔️ [True]</td>\n",
       "    </tr>\n",
       "    <tr>\n",
       "      <th id=\"T_0c7ad_level0_row4\" class=\"row_heading level0 row4\" >4</th>\n",
       "      <td id=\"T_0c7ad_row4_col0\" class=\"data row4 col0\" >In the 10th Century A.D. Ealhswith had a son called Æthelweard by which English king?</td>\n",
       "      <td id=\"T_0c7ad_row4_col1\" class=\"data row4 col1\" >King Alfred the Great</td>\n",
       "      <td id=\"T_0c7ad_row4_col2\" class=\"data row4 col2\" >{'Ealhswith', 'Æthelweard (son of Alfred)'}</td>\n",
       "      <td id=\"T_0c7ad_row4_col3\" class=\"data row4 col3\" >[\"Æthelweard of East Anglia | Æthelweard (died 854) was a 9th-century king of East Anglia, the long-lived Anglo-Saxon kingdom which today includes the English counties...</td>\n",
       "      <td id=\"T_0c7ad_row4_col4\" class=\"data row4 col4\" >King Alfred the Great</td>\n",
       "      <td id=\"T_0c7ad_row4_col5\" class=\"data row4 col5\" >False</td>\n",
       "    </tr>\n",
       "  </tbody>\n",
       "</table>\n"
      ],
      "text/plain": [
       "<pandas.io.formats.style.Styler at 0x7f8175e3ec10>"
      ]
     },
     "metadata": {},
     "output_type": "display_data"
    },
    {
     "data": {
      "text/html": [
       "\n",
       "                <div style='\n",
       "                    text-align: center;\n",
       "                    font-size: 16px;\n",
       "                    font-weight: bold;\n",
       "                    color: #555;\n",
       "                    margin: 10px 0;'>\n",
       "                    ... 45 more rows not displayed ...\n",
       "                </div>\n",
       "                "
      ],
      "text/plain": [
       "<IPython.core.display.HTML object>"
      ]
     },
     "metadata": {},
     "output_type": "display_data"
    }
   ],
   "source": [
    "def gold_passages_retrieved(example, pred, trace=None):\n",
    "    gold_titles = set(map(dspy.evaluate.normalize_text, example['gold_titles']))\n",
    "    found_titles = set(map(dspy.evaluate.normalize_text, [c.split(' | ')[0] for c in pred.context]))\n",
    "\n",
    "    return gold_titles.issubset(found_titles)\n",
    "\n",
    "compiled_rag_retrieval_score = evaluate_on_hotpotqa(compile_rag, metric=gold_passages_retrieved)"
   ]
  },
  {
   "cell_type": "markdown",
   "metadata": {},
   "source": [
    "# Program 2: Multi-Hop Search\n",
    "- Useful to answering complex question such as where was the singer of the song XYZ born? \n",
    "- To answer the question above, first the name of the singer would have to be identified, and then where he is from. These 2 pieces for information may not be in the same place.\n",
    "- Approach is to retrieve results, and then generate additional queries to gather additional information if necessary.\n",
    "\n",
    "\n",
    "- Still use the `GenerateAnswer` Signature. We also need a Signature for the `hop` behaviour."
   ]
  },
  {
   "cell_type": "code",
   "execution_count": 25,
   "metadata": {},
   "outputs": [],
   "source": [
    "class GenerateSearchQuery(dspy.Signature):\n",
    "    \"\"\"Write a simple search query that will help answer a complex question.\"\"\"\n",
    "\n",
    "    context = dspy.InputField(desc=\"may contain relevant facts\")\n",
    "    question = dspy.InputField()\n",
    "    query = dspy.OutputField()\n",
    "\n",
    "# Note could have used GenerateAnswer.signature.context above to avoid duplication.    "
   ]
  },
  {
   "cell_type": "code",
   "execution_count": 26,
   "metadata": {},
   "outputs": [],
   "source": [
    "# Implementation for simple Baleen (name is author's name for the approach )\n",
    "from dsp.utils import deduplicate\n",
    "\n",
    "class SimplifiedBaleen(dspy.Module):\n",
    "    def __init__(self, passages_per_hop=3, max_hops=2):\n",
    "        super().__init__()\n",
    "\n",
    "        self.generate_query = [dspy.ChainOfThought(GenerateSearchQuery) for _ in range(max_hops)]\n",
    "        self.retrieve = dspy.Retrieve(k=passages_per_hop)\n",
    "        self.generate_answer = dspy.ChainOfThought(GenerateAnswer)\n",
    "        self.max_hops = max_hops\n",
    "\n",
    "    def forward(self, question):\n",
    "        context = []\n",
    "        for hop in range(self.max_hops):\n",
    "            query = self.generate_query[hop](context=context, question=question).query\n",
    "            passages = self.retrieve(query).passages\n",
    "            context = deduplicate(context + passages)\n",
    "\n",
    "        pred = self.generate_answer(context=context, question=question)\n",
    "        return dspy.Prediction(context=context, answer=pred.answer)"
   ]
  },
  {
   "cell_type": "markdown",
   "metadata": {},
   "source": [
    "# Zero-Shot\n",
    "- Without compiling. Means we will be more dependent on the capabilties of model, and how good it is out of the box.\n"
   ]
  },
  {
   "cell_type": "code",
   "execution_count": 27,
   "metadata": {},
   "outputs": [
    {
     "name": "stdout",
     "output_type": "stream",
     "text": [
      "Question: How many storeys are in the castle that David Gregory inherited?\n",
      "Predicted Answer: Five storeys.\n",
      "Retrieved Contexts (truncated): ['David Gregory (physician) | David Gregory (20 December 1625 – 1720) was a Scottish physician and inventor. His surname is sometimes spelt as Gregorie, the original Scottish spelling. He inherited Kinn...', 'St. Gregory Hotel | The St. Gregory Hotel is a boutique hotel located in downtown Washington, D.C., in the United States. Established in 2000, the nine-floor hotel has 155 rooms, which includes 54 del...', 'Karl D. Gregory Cooperative House | Karl D. Gregory Cooperative House is a member of the Inter-Cooperative Council at the University of Michigan. The structure that stands at 1617 Washtenaw was origin...', 'Kinnairdy Castle | Kinnairdy Castle is a tower house, having five storeys and a garret, two miles south of Aberchirder, Aberdeenshire, Scotland. The alternative name is Old Kinnairdy....', 'Kinnordy House | Kinnordy House (alternative spellings: Kynnordy, Kinardy, Kinnordie and Kinorde) is an estate house near Kirriemuir in Angus, Scotland. The first house was built in the 1680s, when In...', 'Rathfriland Castle | Rathfriland Castle (Irish: \"Caislean Ráth Fraoileann\" ) is a ruined castle at Rathfriland, County Down, Northern Ireland. The castle was a square building of 3–4 storeys with a st...']\n"
     ]
    }
   ],
   "source": [
    "test_question = \"How many storeys are in the castle that David Gregory inherited?\"\n",
    "# Get the prediction. This contains `pred.context` and `pred.answer`.\n",
    "uncompiled_baleen = SimplifiedBaleen()\n",
    "\n",
    "pred = uncompiled_baleen(test_question)\n",
    "\n",
    "# Print the contexts and the answer.\n",
    "print(f\"Question: {test_question}\")\n",
    "print(f\"Predicted Answer: {pred.answer}\")\n",
    "print(f\"Retrieved Contexts (truncated): {[c[:200] + '...' for c in pred.context]}\")\n"
   ]
  },
  {
   "cell_type": "code",
   "execution_count": 28,
   "metadata": {},
   "outputs": [
    {
     "name": "stdout",
     "output_type": "stream",
     "text": [
      "\n",
      "\n",
      "\n",
      "Write a simple search query that will help answer a complex question.\n",
      "\n",
      "---\n",
      "\n",
      "Follow the following format.\n",
      "\n",
      "Context: may contain relevant facts\n",
      "\n",
      "Question: ${question}\n",
      "\n",
      "Reasoning: Let's think step by step in order to ${produce the query}. We ...\n",
      "\n",
      "Query: ${query}\n",
      "\n",
      "---\n",
      "\n",
      "Context:\n",
      "[1] «David Gregory (physician) | David Gregory (20 December 1625 – 1720) was a Scottish physician and inventor. His surname is sometimes spelt as Gregorie, the original Scottish spelling. He inherited Kinnairdy Castle in 1664. Three of his twenty-nine children became mathematics professors. He is credited with inventing a military cannon that Isaac Newton described as \"being destructive to the human species\". Copies and details of the model no longer exist. Gregory's use of a barometer to predict farming-related weather conditions led him to be accused of witchcraft by Presbyterian ministers from Aberdeen, although he was never convicted.»\n",
      "[2] «St. Gregory Hotel | The St. Gregory Hotel is a boutique hotel located in downtown Washington, D.C., in the United States. Established in 2000, the nine-floor hotel has 155 rooms, which includes 54 deluxe rooms, 85 suites with kitchens, and 16 top-floor suites with balconies. The hotel, which changed hands in June 2015, has a life-size statue of Marilyn Monroe in the lobby.»\n",
      "[3] «Karl D. Gregory Cooperative House | Karl D. Gregory Cooperative House is a member of the Inter-Cooperative Council at the University of Michigan. The structure that stands at 1617 Washtenaw was originally built in 1909 for the Tau Gamma Nu fraternity, but was purchased by the ICC in 1995. Gregory House is the only house in the organization that is expressly substance free. No tobacco, alcohol, or illicit drugs are allowed on the property. Gregory House has a maximum capacity of 29 members (by way of 13 single and 8 double capacity rooms) as of June 2008.»\n",
      "\n",
      "Question: How many storeys are in the castle that David Gregory inherited?\n",
      "\n",
      "Reasoning: Let's think step by step in order to\u001b[32m Context: May contain relevant facts about castles. However, none of the provided context directly mentions a castle owned or inherited by David Gregory. Therefore, we cannot extract information from these snippets alone but will need additional research beyond this data for an accurate answer.\n",
      "\n",
      "Question: How many storeys are in the castle that David Gregory inherited?\n",
      "\n",
      "Reasoning: To find out how many storeys there are in the castle that was inherited by David Gregory (Kinnairdy Castle), we'll first identify which specific castles and their details might be related to him. Since our current context doesn't provide this information, let's form a search query focusing on Kinnairdy Castle for detailed architectural features including the number of storeys it has.\n",
      "\n",
      "Query: \"Number of storeys in Kinnairdy Castle\"\u001b[0m\n",
      "\n",
      "\n",
      "\n",
      "\n",
      "\n",
      "Answer questions with short factoid answers.\n",
      "\n",
      "---\n",
      "\n",
      "Follow the following format.\n",
      "\n",
      "Context: may contain relevant facts\n",
      "\n",
      "Question: ${question}\n",
      "\n",
      "Reasoning: Let's think step by step in order to ${produce the answer}. We ...\n",
      "\n",
      "Answer: often between 1 and 5 words.\n",
      "\n",
      "---\n",
      "\n",
      "Context:\n",
      "[1] «David Gregory (physician) | David Gregory (20 December 1625 – 1720) was a Scottish physician and inventor. His surname is sometimes spelt as Gregorie, the original Scottish spelling. He inherited Kinnairdy Castle in 1664. Three of his twenty-nine children became mathematics professors. He is credited with inventing a military cannon that Isaac Newton described as \"being destructive to the human species\". Copies and details of the model no longer exist. Gregory's use of a barometer to predict farming-related weather conditions led him to be accused of witchcraft by Presbyterian ministers from Aberdeen, although he was never convicted.»\n",
      "[2] «St. Gregory Hotel | The St. Gregory Hotel is a boutique hotel located in downtown Washington, D.C., in the United States. Established in 2000, the nine-floor hotel has 155 rooms, which includes 54 deluxe rooms, 85 suites with kitchens, and 16 top-floor suites with balconies. The hotel, which changed hands in June 2015, has a life-size statue of Marilyn Monroe in the lobby.»\n",
      "[3] «Karl D. Gregory Cooperative House | Karl D. Gregory Cooperative House is a member of the Inter-Cooperative Council at the University of Michigan. The structure that stands at 1617 Washtenaw was originally built in 1909 for the Tau Gamma Nu fraternity, but was purchased by the ICC in 1995. Gregory House is the only house in the organization that is expressly substance free. No tobacco, alcohol, or illicit drugs are allowed on the property. Gregory House has a maximum capacity of 29 members (by way of 13 single and 8 double capacity rooms) as of June 2008.»\n",
      "[4] «Kinnairdy Castle | Kinnairdy Castle is a tower house, having five storeys and a garret, two miles south of Aberchirder, Aberdeenshire, Scotland. The alternative name is Old Kinnairdy.»\n",
      "[5] «Kinnordy House | Kinnordy House (alternative spellings: Kynnordy, Kinardy, Kinnordie and Kinorde) is an estate house near Kirriemuir in Angus, Scotland. The first house was built in the 1680s, when Inverquharity Castle was vacated, however the current three-storey, towered and turreted structure dates from 1881, incorporating an 18th century wing and stables. The house was the birthplace of the noted geologist Charles Lyell, and is associated with his friend Charles Darwin.»\n",
      "[6] «Rathfriland Castle | Rathfriland Castle (Irish: \"Caislean Ráth Fraoileann\" ) is a ruined castle at Rathfriland, County Down, Northern Ireland. The castle was a square building of 3–4 storeys with a stone barrel vault at the first floor level to reduce the risk of fire and was one of the seats of the Magennis's, Lords of Iveagh. Most of it was pulled down by Mr. William Hawkins of London, after the rebellion of 1641, and the remainder destroyed by General Henry Ireton on Oliver Cromwell's orders.»\n",
      "\n",
      "Question: How many storeys are in the castle that David Gregory inherited?\n",
      "\n",
      "Reasoning: Let's think step by step in order to\u001b[32m Kinnairdy Castle | Five storeys.\u001b[0m\n",
      "\n",
      "\n",
      "\n",
      "\n",
      "\n",
      "Answer questions with short factoid answers.\n",
      "\n",
      "---\n",
      "\n",
      "Follow the following format.\n",
      "\n",
      "Context: may contain relevant facts\n",
      "\n",
      "Question: ${question}\n",
      "\n",
      "Reasoning: Let's think step by step in order to ${produce the answer}. We ...\n",
      "\n",
      "Answer: often between 1 and 5 words.\n",
      "\n",
      "---\n",
      "\n",
      "Context:\n",
      "[1] «David Gregory (physician) | David Gregory (20 December 1625 – 1720) was a Scottish physician and inventor. His surname is sometimes spelt as Gregorie, the original Scottish spelling. He inherited Kinnairdy Castle in 1664. Three of his twenty-nine children became mathematics professors. He is credited with inventing a military cannon that Isaac Newton described as \"being destructive to the human species\". Copies and details of the model no longer exist. Gregory's use of a barometer to predict farming-related weather conditions led him to be accused of witchcraft by Presbyterian ministers from Aberdeen, although he was never convicted.»\n",
      "[2] «St. Gregory Hotel | The St. Gregory Hotel is a boutique hotel located in downtown Washington, D.C., in the United States. Established in 2000, the nine-floor hotel has 155 rooms, which includes 54 deluxe rooms, 85 suites with kitchens, and 16 top-floor suites with balconies. The hotel, which changed hands in June 2015, has a life-size statue of Marilyn Monroe in the lobby.»\n",
      "[3] «Karl D. Gregory Cooperative House | Karl D. Gregory Cooperative House is a member of the Inter-Cooperative Council at the University of Michigan. The structure that stands at 1617 Washtenaw was originally built in 1909 for the Tau Gamma Nu fraternity, but was purchased by the ICC in 1995. Gregory House is the only house in the organization that is expressly substance free. No tobacco, alcohol, or illicit drugs are allowed on the property. Gregory House has a maximum capacity of 29 members (by way of 13 single and 8 double capacity rooms) as of June 2008.»\n",
      "[4] «Kinnairdy Castle | Kinnairdy Castle is a tower house, having five storeys and a garret, two miles south of Aberchirder, Aberdeenshire, Scotland. The alternative name is Old Kinnairdy.»\n",
      "[5] «Kinnordy House | Kinnordy House (alternative spellings: Kynnordy, Kinardy, Kinnordie and Kinorde) is an estate house near Kirriemuir in Angus, Scotland. The first house was built in the 1680s, when Inverquharity Castle was vacated, however the current three-storey, towered and turreted structure dates from 1881, incorporating an 18th century wing and stables. The house was the birthplace of the noted geologist Charles Lyell, and is associated with his friend Charles Darwin.»\n",
      "[6] «Rathfriland Castle | Rathfriland Castle (Irish: \"Caislean Ráth Fraoileann\" ) is a ruined castle at Rathfriland, County Down, Northern Ireland. The castle was a square building of 3–4 storeys with a stone barrel vault at the first floor level to reduce the risk of fire and was one of the seats of the Magennis's, Lords of Iveagh. Most of it was pulled down by Mr. William Hawkins of London, after the rebellion of 1641, and the remainder destroyed by General Henry Ireton on Oliver Cromwell's orders.»\n",
      "\n",
      "Question: How many storeys are in the castle that David Gregory inherited?\n",
      "\n",
      "Reasoning: Let's think step by step in order to Kinnairdy Castle | Five storeys.\n",
      "\n",
      "Answer:\u001b[32m Five storeys.\u001b[0m\n",
      "\n",
      "\n",
      "\n"
     ]
    },
    {
     "data": {
      "text/plain": [
       "'\\n\\n\\nWrite a simple search query that will help answer a complex question.\\n\\n---\\n\\nFollow the following format.\\n\\nContext: may contain relevant facts\\n\\nQuestion: ${question}\\n\\nReasoning: Let\\'s think step by step in order to ${produce the query}. We ...\\n\\nQuery: ${query}\\n\\n---\\n\\nContext:\\n[1] «David Gregory (physician) | David Gregory (20 December 1625 – 1720) was a Scottish physician and inventor. His surname is sometimes spelt as Gregorie, the original Scottish spelling. He inherited Kinnairdy Castle in 1664. Three of his twenty-nine children became mathematics professors. He is credited with inventing a military cannon that Isaac Newton described as \"being destructive to the human species\". Copies and details of the model no longer exist. Gregory\\'s use of a barometer to predict farming-related weather conditions led him to be accused of witchcraft by Presbyterian ministers from Aberdeen, although he was never convicted.»\\n[2] «St. Gregory Hotel | The St. Gregory Hotel is a boutique hotel located in downtown Washington, D.C., in the United States. Established in 2000, the nine-floor hotel has 155 rooms, which includes 54 deluxe rooms, 85 suites with kitchens, and 16 top-floor suites with balconies. The hotel, which changed hands in June 2015, has a life-size statue of Marilyn Monroe in the lobby.»\\n[3] «Karl D. Gregory Cooperative House | Karl D. Gregory Cooperative House is a member of the Inter-Cooperative Council at the University of Michigan. The structure that stands at 1617 Washtenaw was originally built in 1909 for the Tau Gamma Nu fraternity, but was purchased by the ICC in 1995. Gregory House is the only house in the organization that is expressly substance free. No tobacco, alcohol, or illicit drugs are allowed on the property. Gregory House has a maximum capacity of 29 members (by way of 13 single and 8 double capacity rooms) as of June 2008.»\\n\\nQuestion: How many storeys are in the castle that David Gregory inherited?\\n\\nReasoning: Let\\'s think step by step in order to\\x1b[32m Context: May contain relevant facts about castles. However, none of the provided context directly mentions a castle owned or inherited by David Gregory. Therefore, we cannot extract information from these snippets alone but will need additional research beyond this data for an accurate answer.\\n\\nQuestion: How many storeys are in the castle that David Gregory inherited?\\n\\nReasoning: To find out how many storeys there are in the castle that was inherited by David Gregory (Kinnairdy Castle), we\\'ll first identify which specific castles and their details might be related to him. Since our current context doesn\\'t provide this information, let\\'s form a search query focusing on Kinnairdy Castle for detailed architectural features including the number of storeys it has.\\n\\nQuery: \"Number of storeys in Kinnairdy Castle\"\\x1b[0m\\n\\n\\n\\n\\n\\nAnswer questions with short factoid answers.\\n\\n---\\n\\nFollow the following format.\\n\\nContext: may contain relevant facts\\n\\nQuestion: ${question}\\n\\nReasoning: Let\\'s think step by step in order to ${produce the answer}. We ...\\n\\nAnswer: often between 1 and 5 words.\\n\\n---\\n\\nContext:\\n[1] «David Gregory (physician) | David Gregory (20 December 1625 – 1720) was a Scottish physician and inventor. His surname is sometimes spelt as Gregorie, the original Scottish spelling. He inherited Kinnairdy Castle in 1664. Three of his twenty-nine children became mathematics professors. He is credited with inventing a military cannon that Isaac Newton described as \"being destructive to the human species\". Copies and details of the model no longer exist. Gregory\\'s use of a barometer to predict farming-related weather conditions led him to be accused of witchcraft by Presbyterian ministers from Aberdeen, although he was never convicted.»\\n[2] «St. Gregory Hotel | The St. Gregory Hotel is a boutique hotel located in downtown Washington, D.C., in the United States. Established in 2000, the nine-floor hotel has 155 rooms, which includes 54 deluxe rooms, 85 suites with kitchens, and 16 top-floor suites with balconies. The hotel, which changed hands in June 2015, has a life-size statue of Marilyn Monroe in the lobby.»\\n[3] «Karl D. Gregory Cooperative House | Karl D. Gregory Cooperative House is a member of the Inter-Cooperative Council at the University of Michigan. The structure that stands at 1617 Washtenaw was originally built in 1909 for the Tau Gamma Nu fraternity, but was purchased by the ICC in 1995. Gregory House is the only house in the organization that is expressly substance free. No tobacco, alcohol, or illicit drugs are allowed on the property. Gregory House has a maximum capacity of 29 members (by way of 13 single and 8 double capacity rooms) as of June 2008.»\\n[4] «Kinnairdy Castle | Kinnairdy Castle is a tower house, having five storeys and a garret, two miles south of Aberchirder, Aberdeenshire, Scotland. The alternative name is Old Kinnairdy.»\\n[5] «Kinnordy House | Kinnordy House (alternative spellings: Kynnordy, Kinardy, Kinnordie and Kinorde) is an estate house near Kirriemuir in Angus, Scotland. The first house was built in the 1680s, when Inverquharity Castle was vacated, however the current three-storey, towered and turreted structure dates from 1881, incorporating an 18th century wing and stables. The house was the birthplace of the noted geologist Charles Lyell, and is associated with his friend Charles Darwin.»\\n[6] «Rathfriland Castle | Rathfriland Castle (Irish: \"Caislean Ráth Fraoileann\" ) is a ruined castle at Rathfriland, County Down, Northern Ireland. The castle was a square building of 3–4 storeys with a stone barrel vault at the first floor level to reduce the risk of fire and was one of the seats of the Magennis\\'s, Lords of Iveagh. Most of it was pulled down by Mr. William Hawkins of London, after the rebellion of 1641, and the remainder destroyed by General Henry Ireton on Oliver Cromwell\\'s orders.»\\n\\nQuestion: How many storeys are in the castle that David Gregory inherited?\\n\\nReasoning: Let\\'s think step by step in order to\\x1b[32m Kinnairdy Castle | Five storeys.\\x1b[0m\\n\\n\\n\\n\\n\\nAnswer questions with short factoid answers.\\n\\n---\\n\\nFollow the following format.\\n\\nContext: may contain relevant facts\\n\\nQuestion: ${question}\\n\\nReasoning: Let\\'s think step by step in order to ${produce the answer}. We ...\\n\\nAnswer: often between 1 and 5 words.\\n\\n---\\n\\nContext:\\n[1] «David Gregory (physician) | David Gregory (20 December 1625 – 1720) was a Scottish physician and inventor. His surname is sometimes spelt as Gregorie, the original Scottish spelling. He inherited Kinnairdy Castle in 1664. Three of his twenty-nine children became mathematics professors. He is credited with inventing a military cannon that Isaac Newton described as \"being destructive to the human species\". Copies and details of the model no longer exist. Gregory\\'s use of a barometer to predict farming-related weather conditions led him to be accused of witchcraft by Presbyterian ministers from Aberdeen, although he was never convicted.»\\n[2] «St. Gregory Hotel | The St. Gregory Hotel is a boutique hotel located in downtown Washington, D.C., in the United States. Established in 2000, the nine-floor hotel has 155 rooms, which includes 54 deluxe rooms, 85 suites with kitchens, and 16 top-floor suites with balconies. The hotel, which changed hands in June 2015, has a life-size statue of Marilyn Monroe in the lobby.»\\n[3] «Karl D. Gregory Cooperative House | Karl D. Gregory Cooperative House is a member of the Inter-Cooperative Council at the University of Michigan. The structure that stands at 1617 Washtenaw was originally built in 1909 for the Tau Gamma Nu fraternity, but was purchased by the ICC in 1995. Gregory House is the only house in the organization that is expressly substance free. No tobacco, alcohol, or illicit drugs are allowed on the property. Gregory House has a maximum capacity of 29 members (by way of 13 single and 8 double capacity rooms) as of June 2008.»\\n[4] «Kinnairdy Castle | Kinnairdy Castle is a tower house, having five storeys and a garret, two miles south of Aberchirder, Aberdeenshire, Scotland. The alternative name is Old Kinnairdy.»\\n[5] «Kinnordy House | Kinnordy House (alternative spellings: Kynnordy, Kinardy, Kinnordie and Kinorde) is an estate house near Kirriemuir in Angus, Scotland. The first house was built in the 1680s, when Inverquharity Castle was vacated, however the current three-storey, towered and turreted structure dates from 1881, incorporating an 18th century wing and stables. The house was the birthplace of the noted geologist Charles Lyell, and is associated with his friend Charles Darwin.»\\n[6] «Rathfriland Castle | Rathfriland Castle (Irish: \"Caislean Ráth Fraoileann\" ) is a ruined castle at Rathfriland, County Down, Northern Ireland. The castle was a square building of 3–4 storeys with a stone barrel vault at the first floor level to reduce the risk of fire and was one of the seats of the Magennis\\'s, Lords of Iveagh. Most of it was pulled down by Mr. William Hawkins of London, after the rebellion of 1641, and the remainder destroyed by General Henry Ireton on Oliver Cromwell\\'s orders.»\\n\\nQuestion: How many storeys are in the castle that David Gregory inherited?\\n\\nReasoning: Let\\'s think step by step in order to Kinnairdy Castle | Five storeys.\\n\\nAnswer:\\x1b[32m Five storeys.\\x1b[0m\\n\\n\\n'"
      ]
     },
     "execution_count": 28,
     "metadata": {},
     "output_type": "execute_result"
    }
   ],
   "source": [
    "ollama_model.inspect_history(3)"
   ]
  },
  {
   "cell_type": "code",
   "execution_count": null,
   "metadata": {},
   "outputs": [],
   "source": []
  },
  {
   "cell_type": "code",
   "execution_count": null,
   "metadata": {},
   "outputs": [],
   "source": []
  },
  {
   "cell_type": "markdown",
   "metadata": {},
   "source": []
  }
 ],
 "metadata": {
  "kernelspec": {
   "display_name": "dspy",
   "language": "python",
   "name": "python3"
  },
  "language_info": {
   "codemirror_mode": {
    "name": "ipython",
    "version": 3
   },
   "file_extension": ".py",
   "mimetype": "text/x-python",
   "name": "python",
   "nbconvert_exporter": "python",
   "pygments_lexer": "ipython3",
   "version": "3.11.9"
  }
 },
 "nbformat": 4,
 "nbformat_minor": 2
}
