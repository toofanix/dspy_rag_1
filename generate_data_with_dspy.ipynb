{
 "cells": [
  {
   "cell_type": "code",
   "execution_count": 1,
   "metadata": {},
   "outputs": [],
   "source": [
    "# pip install dspy-ai\n",
    "# https://medium.com/@frederick.ros/dspy-essentials-leveraging-assertions-for-optimized-data-handling-b9e8769cd087"
   ]
  },
  {
   "cell_type": "code",
   "execution_count": 1,
   "metadata": {},
   "outputs": [],
   "source": [
    "import dspy\n",
    "import random"
   ]
  },
  {
   "cell_type": "code",
   "execution_count": 2,
   "metadata": {},
   "outputs": [],
   "source": [
    "my_name = dspy.Example(transcript=\"This is a transcript from a conversation\",\n",
    "                       action_items=\"and extracted action items\").with_inputs(\"transcript\")"
   ]
  },
  {
   "cell_type": "code",
   "execution_count": 3,
   "metadata": {},
   "outputs": [],
   "source": [
    "llm = dspy.OllamaLocal(model='gemma2', temperature=0.0)"
   ]
  },
  {
   "cell_type": "code",
   "execution_count": 4,
   "metadata": {},
   "outputs": [],
   "source": [
    "dspy.settings.configure(lm=llm)"
   ]
  },
  {
   "cell_type": "code",
   "execution_count": 5,
   "metadata": {},
   "outputs": [],
   "source": [
    "def varying_temp():\n",
    "    temperature = 0.5 + 0.0001 * random.uniform(-1, 1)\n",
    "    return {\"config\": {\"temperature\": temperature}}"
   ]
  },
  {
   "cell_type": "code",
   "execution_count": 6,
   "metadata": {},
   "outputs": [
    {
     "name": "stdout",
     "output_type": "stream",
     "text": [
      "Prediction(\n",
      "    rationale=\"Reasoning: Let's think step by step in order to  generate a realistic conversation transcript about planning a weekend trip. We need to consider things like destination, activities, budget, and who is going.\",\n",
      "    transcript='\"Okay, so we\\'re finally taking that weekend trip! I was thinking maybe somewhere with mountains? Hiking would be amazing. What do you guys think?  We could look at places within driving distance, save on gas and flights.  Also, how much are we looking to spend? We need to figure out accommodation and food. Oh, and who\\'s coming? Just us or inviting some friends?\"',\n",
      "    action_items='- Research mountain destinations within driving distance\\n- Determine budget for trip\\n-'\n",
      ")\n",
      "Prediction(\n",
      "    rationale='## Conversation Transcript Example \\n\\n**Reasoning:** Let\\'s think step by step in order to  brainstorm ideas for our team\\'s upcoming holiday party and figure out who can take on which tasks. We need to consider the theme, location, food, and activities.\\n\\n**Transcript:**\\n\\n\"Okay, so we\\'re planning the holiday party! I was thinking something fun and festive, maybe a winter wonderland theme? We could have decorations like snowflakes and white lights, serve hot cocoa and gingerbread cookies... What do you guys think?  \\n\\nAlso, where should we hold it? The office kitchen is always an option, but maybe a rented space would be nice. We could even look into places with outdoor areas for some fun winter',\n",
      "    transcript='',\n",
      "    action_items='Reasoning: Let\\'s think step by step in order to plan the next steps for our marketing campaign and assign responsibilities. We need to finalize the content calendar, confirm social media posting schedule, and delegate tasks for creating visuals and writing copy. \\n\\nTranscript: \"Alright team, let\\'s get this marketing campaign rolling! First things first, we need to lock down that content calendar.  Sarah, can you send over your finalized draft by tomorrow? Then, I want to make sure our social media schedule is aligned with the content drops. John, could you take a look at that and see if there are any conflicts? For visuals, maybe we can ask Emily to create some graphics based on the themes we discussed. And for the'\n",
      ")\n",
      "Prediction(\n",
      "    rationale=\"Reasoning: Let's think step by step in order to  generate a realistic conversation about planning a weekend trip. We need to include details like destination, budget, activities, and potential participants.\",\n",
      "    transcript='\"Okay, so I was thinking we should do something this weekend, right? Maybe a little getaway? Not too far, just somewhere fun.  I\\'m thinking maybe the beach? Or maybe that cute little town with the wineries everyone talks about? Anyone have any ideas? Oh, and budget-wise, let\\'s try to keep it under $200 per person, okay?\"',\n",
      "    action_items='* Decide on a destination (beach or winery town) , *Set a budget of $20'\n",
      ")\n"
     ]
    }
   ],
   "source": [
    "class TranscriptExample(dspy.Signature):\n",
    "    \"\"\"Generate a short conversation transcript a discussion and extracted action_items\"\"\"\n",
    "    transcript = dspy.OutputField(desc=\"A short transcript of a discussion (can be a monolog, like something you recording on your phone to not forget)\")\n",
    "    action_items = dspy.OutputField(desc=\"A comma-separated list of action items present in the transcript\")\n",
    "\n",
    "class GenerateExample(dspy.Module):\n",
    "    def __init__(self):\n",
    "        super().__init__()\n",
    "        self.generate_example = dspy.ChainOfThought(TranscriptExample)\n",
    "\n",
    "    def forward(self):\n",
    "        return self.generate_example(**varying_temp())\n",
    "\n",
    "\n",
    "example_generator = GenerateExample()\n",
    "example = example_generator()\n",
    "example2 = example_generator()\n",
    "example3 = example_generator()\n",
    "\n",
    "print(example)\n",
    "print(example2)\n",
    "print(example3)"
   ]
  },
  {
   "cell_type": "code",
   "execution_count": 7,
   "metadata": {},
   "outputs": [],
   "source": [
    "import re\n",
    "\n",
    "def check_format(action_items):\n",
    "  \"\"\"Check that the action items are a list of comma-separated action items\"\"\"\n",
    "  # Simple check first: if we split according the , we should have more than 2 items\n",
    "  if len(action_items.split(\",\")) == 1:\n",
    "    return False\n",
    "  \n",
    "  # Now let's check it's not formated as 1.action item 1, blablah\\n2. Action item 2, ..\n",
    "  match = re.search(r'(\\d)\\.\\s.+?(\\\\n|$)', action_items, re.MULTILINE)\n",
    "  if match:\n",
    "    return False\n",
    "    \n",
    "  return True\n",
    "\n",
    "class GenerateExampleWithAssert(dspy.Module):\n",
    "  def __init__(self):\n",
    "    super().__init__()\n",
    "    self.generate_example = dspy.ChainOfThought(TranscriptExample)\n",
    "  \n",
    "  def forward(self):\n",
    "    ex = self.generate_example(**varying_temp())\n",
    "    dspy.Assert(check_format(ex.action_items), \"Action Items should be a comma-separated list\")\n",
    "\n",
    "    return ex"
   ]
  },
  {
   "cell_type": "code",
   "execution_count": 8,
   "metadata": {},
   "outputs": [
    {
     "name": "stdout",
     "output_type": "stream",
     "text": [
      "Prediction(\n",
      "    rationale='##  Conversation Transcript Example \\n\\n**Reasoning:** Let\\'s think step by step in order to identify tasks that need to be completed for the upcoming team presentation. We should brainstorm ideas, assign responsibilities, and set deadlines. \\n\\n**Transcript:** \"Okay, so we have the team presentation next week. I think we should start brainstorming some ideas today. What are everyone\\'s thoughts on the topic?  Maybe Sarah, you could lead on finding some data to support our points? And John, since you\\'re great with visuals, could you look into creating some slides? As for me, I\\'ll focus on outlining the main talking points and scheduling a time for us to rehearse. What do you guys think?\"',\n",
      "    transcript='',\n",
      "    action_items='Reasoning: Let\\'s think step by step in order to  plan our weekend trip. We need to decide on a destination, book accommodations, and make a list of activities. \\n\\nTranscript: \"Hey! So I was thinking about our weekend getaway. Where should we go? I\\'m open to anything, really - mountains, beach, city... What are you guys feeling?  Oh, and we should probably start looking at hotels or Airbnbs. And maybe make a list of things we want to do once we get there? Hiking, museums, trying new restaurants...\"\\n\\nAction Items: \\nDecide on a destination, book accommodations, make a list of activities'\n",
      ")\n",
      "Prediction(\n",
      "    rationale=\"Reasoning: Let's think step by step in order to **come up with a realistic conversation about planning a dinner party and extract actionable items from it.** We need to include details like guest list, menu, and logistics.\",\n",
      "    transcript='\"Okay, so I\\'m thinking of having a dinner party next Saturday.  Maybe around six? I want to invite Sarah, John, Emily, and Mark. What do you think?  I was thinking of doing a pasta bake - it\\'s easy and everyone loves it. But maybe we could have a salad too, and some kind of dessert? Oh, and I need to check if anyone has any dietary restrictions. And I should probably send out invitations soon...\"',\n",
      "    action_items='Reasoning: Let\\'s think step by step in order to **come up with a realistic conversation about planning a dinner party and extract actionable items from it.** We need to include details like guest list, menu, and logistics.\\n\\nTranscript: \"Okay, so I\\'m thinking of having a dinner party next Saturday. Maybe around six? I want to invite Sarah, John, Emily, and Mark. What do you think? I was thinking of doing a pasta bake - it\\'s easy and everyone loves it. But maybe we could have a salad too, and some kind of dessert? Oh, and I need to check if anyone has any dietary restrictions. And I should probably send out invitations soon...\"\\n\\nAction Items:  check for'\n",
      ")\n",
      "Prediction(\n",
      "    rationale='## Conversation Transcript Example \\n\\n**Reasoning:** Let\\'s think step by step in order to  brainstorm ideas for our team\\'s upcoming presentation and figure out who will be responsible for what. We need to decide on a clear theme, gather supporting materials, and delegate tasks effectively.\\n\\n**Transcript:** \\n\"Okay, so the big presentation is next week, right? I think we should focus on showcasing our recent successes. Maybe something like \\'How Our Team Transformed [Project Name]\\' would be a good theme.  We need to pull together some strong visuals, maybe even a short video demo. John, you\\'re great with design, could you handle that? Sarah, you were the project lead for [Project Name',\n",
      "    transcript='',\n",
      "    action_items='Reasoning: Let\\'s think step by step in order to plan our weekend trip and make sure we have everything covered. We need to decide on a destination, book accommodations, and figure out activities. \\n\\nTranscript: \"Okay, so I was thinking about going somewhere with good hiking trails this weekend. Maybe Yosemite or Sequoia National Park?  We could rent a cabin for the night. What do you think? And we should definitely pack our hiking boots! Oh, and maybe bring some board games for the evening.\"\\n\\n\\nAction Items: \\nDecide on a destination, Book accommodations, Pack hiking boots, Bring board games'\n",
      ")\n"
     ]
    }
   ],
   "source": [
    "from dspy.primitives.assertions import assert_transform_module, backtrack_handler\n",
    "\n",
    "dspy.configure(trace=[])\n",
    "\n",
    "generate_with_assert = assert_transform_module(GenerateExampleWithAssert(), backtrack_handler)\n",
    "\n",
    "example = generate_with_assert()\n",
    "example1 = generate_with_assert()\n",
    "example2 = generate_with_assert()\n",
    "\n",
    "print(example)\n",
    "print(example1)\n",
    "print(example2)\n"
   ]
  },
  {
   "cell_type": "code",
   "execution_count": 9,
   "metadata": {},
   "outputs": [
    {
     "name": "stdout",
     "output_type": "stream",
     "text": [
      "True\n"
     ]
    }
   ],
   "source": [
    "class ActionItemCompliance(dspy.Signature):\n",
    "    \"\"\"Check that all action items are included in the text\"\"\"\n",
    "    text = dspy.InputField()\n",
    "    action_items = dspy.InputField(desc=\"A comma-separated list of action items\")\n",
    "    comply : bool = dspy.OutputField(desc=\"True or False\")\n",
    "\n",
    "check_inclusion = dspy.TypedChainOfThought(ActionItemCompliance)\n",
    "\n",
    "def are_action_items_included(transcript, action_items):\n",
    "    comp = check_inclusion(text=transcript, action_items=action_items)\n",
    "    return comp.comply\n",
    "\n",
    "print(are_action_items_included(example.transcript, example.action_items))"
   ]
  },
  {
   "cell_type": "code",
   "execution_count": 10,
   "metadata": {},
   "outputs": [
    {
     "ename": "ValueError",
     "evalue": "('Too many retries trying to get the correct output format. Try simplifying the requirements.', {'comply': \"ValueError('Respond with true or false')\"})",
     "output_type": "error",
     "traceback": [
      "\u001b[0;31m---------------------------------------------------------------------------\u001b[0m",
      "\u001b[0;31mValueError\u001b[0m                                Traceback (most recent call last)",
      "Cell \u001b[0;32mIn[10], line 15\u001b[0m\n\u001b[1;32m     11\u001b[0m     \u001b[38;5;28;01mreturn\u001b[39;00m ex\n\u001b[1;32m     13\u001b[0m generate_with_assert \u001b[38;5;241m=\u001b[39m assert_transform_module(GenerateExampleWith2Assert(), backtrack_handler)\n\u001b[0;32m---> 15\u001b[0m example \u001b[38;5;241m=\u001b[39m \u001b[43mgenerate_with_assert\u001b[49m\u001b[43m(\u001b[49m\u001b[43m)\u001b[49m\n\u001b[1;32m     16\u001b[0m \u001b[38;5;28mprint\u001b[39m(example)\n",
      "File \u001b[0;32m~/miniconda3/envs/dspy/lib/python3.11/site-packages/dspy/primitives/program.py:26\u001b[0m, in \u001b[0;36mModule.__call__\u001b[0;34m(self, *args, **kwargs)\u001b[0m\n\u001b[1;32m     25\u001b[0m \u001b[38;5;28;01mdef\u001b[39;00m \u001b[38;5;21m__call__\u001b[39m(\u001b[38;5;28mself\u001b[39m, \u001b[38;5;241m*\u001b[39margs, \u001b[38;5;241m*\u001b[39m\u001b[38;5;241m*\u001b[39mkwargs):\n\u001b[0;32m---> 26\u001b[0m     \u001b[38;5;28;01mreturn\u001b[39;00m \u001b[38;5;28;43mself\u001b[39;49m\u001b[38;5;241;43m.\u001b[39;49m\u001b[43mforward\u001b[49m\u001b[43m(\u001b[49m\u001b[38;5;241;43m*\u001b[39;49m\u001b[43margs\u001b[49m\u001b[43m,\u001b[49m\u001b[43m \u001b[49m\u001b[38;5;241;43m*\u001b[39;49m\u001b[38;5;241;43m*\u001b[39;49m\u001b[43mkwargs\u001b[49m\u001b[43m)\u001b[49m\n",
      "File \u001b[0;32m~/miniconda3/envs/dspy/lib/python3.11/site-packages/dspy/primitives/assertions.py:294\u001b[0m, in \u001b[0;36mhandle_assert_forward.<locals>.forward\u001b[0;34m(self, *args, **kwargs)\u001b[0m\n\u001b[1;32m    291\u001b[0m     dspy\u001b[38;5;241m.\u001b[39msettings\u001b[38;5;241m.\u001b[39mconfigure(bypass_assert\u001b[38;5;241m=\u001b[39margs_to_vals[\u001b[38;5;124m\"\u001b[39m\u001b[38;5;124mbypass_assert\u001b[39m\u001b[38;5;124m\"\u001b[39m])\n\u001b[1;32m    293\u001b[0m wrapped_forward \u001b[38;5;241m=\u001b[39m assertion_handler(\u001b[38;5;28mself\u001b[39m\u001b[38;5;241m.\u001b[39m_forward, \u001b[38;5;241m*\u001b[39m\u001b[38;5;241m*\u001b[39mhandler_args)\n\u001b[0;32m--> 294\u001b[0m \u001b[38;5;28;01mreturn\u001b[39;00m \u001b[43mwrapped_forward\u001b[49m\u001b[43m(\u001b[49m\u001b[38;5;241;43m*\u001b[39;49m\u001b[43margs\u001b[49m\u001b[43m,\u001b[49m\u001b[43m \u001b[49m\u001b[38;5;241;43m*\u001b[39;49m\u001b[38;5;241;43m*\u001b[39;49m\u001b[43mkwargs\u001b[49m\u001b[43m)\u001b[49m\n",
      "File \u001b[0;32m~/miniconda3/envs/dspy/lib/python3.11/site-packages/dspy/primitives/assertions.py:220\u001b[0m, in \u001b[0;36mbacktrack_handler.<locals>.wrapper\u001b[0;34m(*args, **kwargs)\u001b[0m\n\u001b[1;32m    218\u001b[0m \u001b[38;5;28;01mtry\u001b[39;00m:\n\u001b[1;32m    219\u001b[0m     dsp\u001b[38;5;241m.\u001b[39msettings\u001b[38;5;241m.\u001b[39mtrace\u001b[38;5;241m.\u001b[39mclear()\n\u001b[0;32m--> 220\u001b[0m     result \u001b[38;5;241m=\u001b[39m \u001b[43mfunc\u001b[49m\u001b[43m(\u001b[49m\u001b[38;5;241;43m*\u001b[39;49m\u001b[43margs\u001b[49m\u001b[43m,\u001b[49m\u001b[43m \u001b[49m\u001b[38;5;241;43m*\u001b[39;49m\u001b[38;5;241;43m*\u001b[39;49m\u001b[43mkwargs\u001b[49m\u001b[43m)\u001b[49m\n\u001b[1;32m    221\u001b[0m     \u001b[38;5;28;01mbreak\u001b[39;00m\n\u001b[1;32m    222\u001b[0m \u001b[38;5;28;01mexcept\u001b[39;00m (DSPySuggestionError, DSPyAssertionError) \u001b[38;5;28;01mas\u001b[39;00m e:\n",
      "Cell \u001b[0;32mIn[10], line 9\u001b[0m, in \u001b[0;36mGenerateExampleWith2Assert.forward\u001b[0;34m(self)\u001b[0m\n\u001b[1;32m      7\u001b[0m ex \u001b[38;5;241m=\u001b[39m \u001b[38;5;28mself\u001b[39m\u001b[38;5;241m.\u001b[39mgenerate_example(\u001b[38;5;241m*\u001b[39m\u001b[38;5;241m*\u001b[39mvarying_temp())\n\u001b[1;32m      8\u001b[0m dspy\u001b[38;5;241m.\u001b[39mAssert(check_format(ex\u001b[38;5;241m.\u001b[39maction_items), \u001b[38;5;124m\"\u001b[39m\u001b[38;5;124mAction Items should be a comma-separated list\u001b[39m\u001b[38;5;124m\"\u001b[39m)\n\u001b[0;32m----> 9\u001b[0m dspy\u001b[38;5;241m.\u001b[39mAssert(\u001b[43mare_action_items_included\u001b[49m\u001b[43m(\u001b[49m\u001b[43mex\u001b[49m\u001b[38;5;241;43m.\u001b[39;49m\u001b[43mtranscript\u001b[49m\u001b[43m,\u001b[49m\u001b[43m \u001b[49m\u001b[43mex\u001b[49m\u001b[38;5;241;43m.\u001b[39;49m\u001b[43maction_items\u001b[49m\u001b[43m)\u001b[49m, \u001b[38;5;124m\"\u001b[39m\u001b[38;5;124mAction Items should be included in the transcript\u001b[39m\u001b[38;5;124m\"\u001b[39m)\n\u001b[1;32m     11\u001b[0m \u001b[38;5;28;01mreturn\u001b[39;00m ex\n",
      "Cell \u001b[0;32mIn[9], line 10\u001b[0m, in \u001b[0;36mare_action_items_included\u001b[0;34m(transcript, action_items)\u001b[0m\n\u001b[1;32m      9\u001b[0m \u001b[38;5;28;01mdef\u001b[39;00m \u001b[38;5;21mare_action_items_included\u001b[39m(transcript, action_items):\n\u001b[0;32m---> 10\u001b[0m     comp \u001b[38;5;241m=\u001b[39m \u001b[43mcheck_inclusion\u001b[49m\u001b[43m(\u001b[49m\u001b[43mtext\u001b[49m\u001b[38;5;241;43m=\u001b[39;49m\u001b[43mtranscript\u001b[49m\u001b[43m,\u001b[49m\u001b[43m \u001b[49m\u001b[43maction_items\u001b[49m\u001b[38;5;241;43m=\u001b[39;49m\u001b[43maction_items\u001b[49m\u001b[43m)\u001b[49m\n\u001b[1;32m     11\u001b[0m     \u001b[38;5;28;01mreturn\u001b[39;00m comp\u001b[38;5;241m.\u001b[39mcomply\n",
      "File \u001b[0;32m~/miniconda3/envs/dspy/lib/python3.11/site-packages/dspy/primitives/program.py:26\u001b[0m, in \u001b[0;36mModule.__call__\u001b[0;34m(self, *args, **kwargs)\u001b[0m\n\u001b[1;32m     25\u001b[0m \u001b[38;5;28;01mdef\u001b[39;00m \u001b[38;5;21m__call__\u001b[39m(\u001b[38;5;28mself\u001b[39m, \u001b[38;5;241m*\u001b[39margs, \u001b[38;5;241m*\u001b[39m\u001b[38;5;241m*\u001b[39mkwargs):\n\u001b[0;32m---> 26\u001b[0m     \u001b[38;5;28;01mreturn\u001b[39;00m \u001b[38;5;28;43mself\u001b[39;49m\u001b[38;5;241;43m.\u001b[39;49m\u001b[43mforward\u001b[49m\u001b[43m(\u001b[49m\u001b[38;5;241;43m*\u001b[39;49m\u001b[43margs\u001b[49m\u001b[43m,\u001b[49m\u001b[43m \u001b[49m\u001b[38;5;241;43m*\u001b[39;49m\u001b[38;5;241;43m*\u001b[39;49m\u001b[43mkwargs\u001b[49m\u001b[43m)\u001b[49m\n",
      "File \u001b[0;32m~/miniconda3/envs/dspy/lib/python3.11/site-packages/dspy/functional/functional.py:369\u001b[0m, in \u001b[0;36mTypedPredictor.forward\u001b[0;34m(self, **kwargs)\u001b[0m\n\u001b[1;32m    364\u001b[0m     \u001b[38;5;28;01melse\u001b[39;00m:\n\u001b[1;32m    365\u001b[0m         \u001b[38;5;66;03m# If there are no errors, we return the parsed results\u001b[39;00m\n\u001b[1;32m    366\u001b[0m         \u001b[38;5;28;01mreturn\u001b[39;00m Prediction\u001b[38;5;241m.\u001b[39mfrom_completions(\n\u001b[1;32m    367\u001b[0m             {key: [r[key] \u001b[38;5;28;01mfor\u001b[39;00m r \u001b[38;5;129;01min\u001b[39;00m parsed_results] \u001b[38;5;28;01mfor\u001b[39;00m key \u001b[38;5;129;01min\u001b[39;00m signature\u001b[38;5;241m.\u001b[39moutput_fields},\n\u001b[1;32m    368\u001b[0m         )\n\u001b[0;32m--> 369\u001b[0m \u001b[38;5;28;01mraise\u001b[39;00m \u001b[38;5;167;01mValueError\u001b[39;00m(\n\u001b[1;32m    370\u001b[0m     \u001b[38;5;124m\"\u001b[39m\u001b[38;5;124mToo many retries trying to get the correct output format. \u001b[39m\u001b[38;5;124m\"\u001b[39m \u001b[38;5;241m+\u001b[39m \u001b[38;5;124m\"\u001b[39m\u001b[38;5;124mTry simplifying the requirements.\u001b[39m\u001b[38;5;124m\"\u001b[39m,\n\u001b[1;32m    371\u001b[0m     errors,\n\u001b[1;32m    372\u001b[0m )\n",
      "\u001b[0;31mValueError\u001b[0m: ('Too many retries trying to get the correct output format. Try simplifying the requirements.', {'comply': \"ValueError('Respond with true or false')\"})"
     ]
    }
   ],
   "source": [
    "class GenerateExampleWith2Assert(dspy.Module):\n",
    "  def __init__(self):\n",
    "    super().__init__()\n",
    "    self.generate_example = dspy.ChainOfThought(TranscriptExample)\n",
    "  \n",
    "  def forward(self):\n",
    "    ex = self.generate_example(**varying_temp())\n",
    "    dspy.Assert(check_format(ex.action_items), \"Action Items should be a comma-separated list\")\n",
    "    dspy.Assert(are_action_items_included(ex.transcript, ex.action_items), \"Action Items should be included in the transcript\")\n",
    "\n",
    "    return ex\n",
    "  \n",
    "generate_with_assert = assert_transform_module(GenerateExampleWith2Assert(), backtrack_handler)\n",
    "\n",
    "example = generate_with_assert()\n",
    "print(example)"
   ]
  },
  {
   "cell_type": "code",
   "execution_count": null,
   "metadata": {},
   "outputs": [],
   "source": [
    "# Seems like dspy is trying to fix this for non-OpenAI models."
   ]
  }
 ],
 "metadata": {
  "kernelspec": {
   "display_name": "dspy",
   "language": "python",
   "name": "python3"
  },
  "language_info": {
   "codemirror_mode": {
    "name": "ipython",
    "version": 3
   },
   "file_extension": ".py",
   "mimetype": "text/x-python",
   "name": "python",
   "nbconvert_exporter": "python",
   "pygments_lexer": "ipython3",
   "version": "3.11.9"
  }
 },
 "nbformat": 4,
 "nbformat_minor": 2
}
