{
 "cells": [
  {
   "cell_type": "code",
   "execution_count": 1,
   "metadata": {},
   "outputs": [],
   "source": [
    "# pip install dspy-ai\n",
    "# https://medium.com/@frederick.ros/dspy-essentials-leveraging-assertions-for-optimized-data-handling-b9e8769cd087"
   ]
  },
  {
   "cell_type": "code",
   "execution_count": 8,
   "metadata": {},
   "outputs": [],
   "source": [
    "import dspy\n",
    "import random\n",
    "from dotenv import load_dotenv\n",
    "load_dotenv()\n",
    "import os"
   ]
  },
  {
   "cell_type": "code",
   "execution_count": 2,
   "metadata": {},
   "outputs": [],
   "source": [
    "my_name = dspy.Example(transcript=\"This is a transcript from a conversation\",\n",
    "                       action_items=\"and extracted action items\").with_inputs(\"transcript\")"
   ]
  },
  {
   "cell_type": "markdown",
   "metadata": {},
   "source": []
  },
  {
   "cell_type": "code",
   "execution_count": 10,
   "metadata": {},
   "outputs": [],
   "source": [
    "# llm = dspy.OllamaLocal(model='gemma2', temperature=0.0)\n",
    "llm = dspy.GROQ(model='gemma2-9b-it', api_key=os.getenv(\"GROQ_API_KEY\"))\n",
    "# llm = dspy.OpenAI(model='gpt-4o-mini', \n",
    "#                   max_tokens=4096, \n",
    "#                   temperature=1,\n",
    "#                   )\n"
   ]
  },
  {
   "cell_type": "code",
   "execution_count": 11,
   "metadata": {},
   "outputs": [],
   "source": [
    "dspy.settings.configure(lm=llm)"
   ]
  },
  {
   "cell_type": "code",
   "execution_count": 12,
   "metadata": {},
   "outputs": [],
   "source": [
    "def varying_temp():\n",
    "    temperature = 0.5 + 0.0001 * random.uniform(-1, 1)\n",
    "    return {\"config\": {\"temperature\": temperature}}"
   ]
  },
  {
   "cell_type": "code",
   "execution_count": 13,
   "metadata": {},
   "outputs": [
    {
     "name": "stdout",
     "output_type": "stream",
     "text": [
      "Prediction(\n",
      "    rationale=\"Reasoning: Let's think step by step in order to generate a short conversation transcript about planning a weekend trip and extract action items from it. We'll imagine a conversation between two friends, Sarah and John, discussing their options.\",\n",
      "    transcript=\"Sarah: Hey John, are you free this weekend? I was thinking we could get out of the city for a bit. \\n\\nJohn: Yeah, I'm free! Where were you thinking of going? \\n\\nSarah: I don't know, something close by. Maybe that lake we talked about?  \\n\\nJohn:  The one with the hiking trails?  Sounds good to me.  Do you want to check the weather forecast?\\n\\nSarah:  Absolutely\",\n",
      "    action_items=\"Reasoning: Let's think step by step in order to generate a short conversation transcript about planning a weekend trip and extract action items from it. We'll imagine a conversation between two friends, Sarah and John, discussing their options. \\n\\nTranscript: Sarah: Hey John, are you free this weekend? I was thinking we could get out of the city for a\"\n",
      ")\n",
      "Prediction(\n",
      "    rationale=\"Reasoning: Let's think step by step in order to  generate a conversation transcript and extract action items. We need to come up with a topic for the discussion and then craft a realistic dialogue that includes actionable tasks.\",\n",
      "    transcript='\"Okay, so the marketing campaign for the new product launch is coming up. We need to finalize the budget, get the creative assets ready, and schedule the social media posts.  Sarah, can you send over the latest budget proposal by Friday? And John, I need you to check in with the design team about the video script and make sure we have a timeline for the final edits. For social media, I\\'ll start drafting the initial posts this week and we can review them at',\n",
      "    action_items='Reasoning: Let\\'s think step by step in order to generate a conversation transcript and extract action items. We need to come up with a topic for the discussion and then craft a realistic dialogue that includes actionable tasks. \\n\\nTranscript: \"Hey team, quick update on the website redesign. We got the feedback from the user testing last week, and there are a few'\n",
      ")\n",
      "Prediction(\n",
      "    rationale=\"Reasoning: Let's think step by step in order to generate a conversation transcript and action items. We need to come up with a topic for the discussion, then write a short dialogue that includes actionable items.\",\n",
      "    transcript='\"Okay, so the marketing campaign for the new product launch is coming up. We need to finalize the social media strategy.  I think we should focus on Instagram and TikTok, those platforms seem to be where our target audience is most active.  We also need to get some influencer partnerships lined up.  Maybe we can reach out to a few food bloggers and beauty influencers?  And of course, we\\'ll need to create engaging content, like short videos and eye-catching images.  I\\'',\n",
      "    action_items='Reasoning: Let\\'s think step by step in order to generate a conversation transcript and action items. We need to come up with a topic for the discussion, then write a short dialogue that includes actionable items.  Let\\'s focus on a team meeting about a website redesign. \\n\\nTranscript: \"Alright team, so we\\'re finally moving forward with the website'\n",
      ")\n"
     ]
    }
   ],
   "source": [
    "class TranscriptExample(dspy.Signature):\n",
    "    \"\"\"Generate a short conversation transcript a discussion and extracted action_items\"\"\"\n",
    "    transcript = dspy.OutputField(desc=\"A short transcript of a discussion (can be a monolog, like something you recording on your phone to not forget)\")\n",
    "    action_items = dspy.OutputField(desc=\"A comma-separated list of action items present in the transcript\")\n",
    "\n",
    "class GenerateExample(dspy.Module):\n",
    "    def __init__(self):\n",
    "        super().__init__()\n",
    "        self.generate_example = dspy.ChainOfThought(TranscriptExample)\n",
    "\n",
    "    def forward(self):\n",
    "        return self.generate_example(**varying_temp())\n",
    "\n",
    "\n",
    "example_generator = GenerateExample()\n",
    "example = example_generator()\n",
    "example2 = example_generator()\n",
    "example3 = example_generator()\n",
    "\n",
    "print(example)\n",
    "print(example2)\n",
    "print(example3)"
   ]
  },
  {
   "cell_type": "code",
   "execution_count": 48,
   "metadata": {},
   "outputs": [],
   "source": [
    "import re\n",
    "\n",
    "def check_format(action_items):\n",
    "  \"\"\"Check that the action items are a list of comma-separated action items\"\"\"\n",
    "  # Simple check first: if we split according the , we should have more than 2 items\n",
    "  if len(action_items.split(\",\")) == 1:\n",
    "    return False\n",
    "  \n",
    "  # Now let's check it's not formated as 1.action item 1, blablah\\n2. Action item 2, ..\n",
    "  match = re.search(r'(\\d)\\.\\s.+?(\\\\n|$)', action_items, re.MULTILINE)\n",
    "  if match:\n",
    "    return False\n",
    "    \n",
    "  return True\n",
    "\n",
    "class GenerateExampleWithAssert(dspy.Module):\n",
    "  def __init__(self):\n",
    "    super().__init__()\n",
    "    self.generate_example = dspy.ChainOfThought(TranscriptExample)\n",
    "  \n",
    "  def forward(self):\n",
    "    ex = self.generate_example(**varying_temp())\n",
    "    dspy.Assert(check_format(ex.action_items), \"Action Items should be a comma-separated list\")\n",
    "\n",
    "    return ex"
   ]
  },
  {
   "cell_type": "code",
   "execution_count": 49,
   "metadata": {},
   "outputs": [
    {
     "name": "stdout",
     "output_type": "stream",
     "text": [
      "Prediction(\n",
      "    rationale='produce the action_items. We need to identify the key points discussed in the conversation and extract any tasks or follow-ups mentioned.',\n",
      "    transcript='Alice: Hey Bob, I was thinking we should finalize the project timeline by the end of this week. We need to make sure everyone is on the same page before we start the next phase. \\nBob: Absolutely, I can draft a timeline and share it with the team for feedback. \\nAlice: Great! Also, can you remind Sarah to send over the budget report? We need that for our meeting next Tuesday. \\nBob: Sure thing. I’ll ping her about it. Anything else? \\nAlice: Yes, let’s also set up a quick check-in with the marketing team to align on our messaging. We should do that by Thursday. \\nBob: Got it. I’ll schedule that meeting.',\n",
      "    action_items='finalize project timeline by end of the week, draft timeline and share with team for feedback, remind Sarah to send budget report, set up check-in with marketing team by Thursday, schedule meeting with marketing team.'\n",
      ")\n",
      "Prediction(\n",
      "    rationale='produce the action_items. We will analyze the conversation to identify key decisions, tasks, and responsibilities that need to be addressed.',\n",
      "    transcript=\"Alice: Hey Bob, we really need to finalize the marketing plan for next quarter. I think we should include a social media campaign. \\nBob: I agree, but we also need to allocate a budget for that. How much do you think we should set aside?\\nAlice: I was thinking around $5,000. We should also consider collaborating with influencers to boost our reach. \\nBob: Good idea! Let's also make sure to set deadlines for each part of the campaign. \\nAlice: Definitely, I can draft a timeline and share it with you. \\nBob: Perfect. Once we have the budget approved, we can start reaching out to potential influencers. \\nAlice: Sounds like a plan. I’ll get started on the timeline and budget proposal.\",\n",
      "    action_items='Finalize marketing plan, Allocate budget of $5,000, Draft timeline for campaign, Share timeline with Bob, Get budget approved, Reach out to potential influencers'\n",
      ")\n",
      "Prediction(\n",
      "    rationale='produce the action_items. We need to identify the main points discussed, any decisions made, and tasks assigned during the conversation.',\n",
      "    transcript=\"Alice: Hey team, we need to finalize the marketing strategy for the upcoming product launch. I think we should focus on social media campaigns and influencer partnerships. \\nBob: I agree, but we should also consider email marketing to reach our existing customers. \\nAlice: Good point, Bob. Let's allocate some budget for that as well. Can you draft a proposal for the email campaign? \\nBob: Sure, I’ll have that ready by Friday. \\nCharlie: I can work on identifying potential influencers and their rates. \\nAlice: Perfect! Charlie, can you present your findings in our next meeting? \\nCharlie: Absolutely, I’ll compile a list and share it with everyone. \\nAlice: Great! So to recap, Bob will draft the email proposal, and Charlie will research influencers. Let’s touch base next week to review everything.\",\n",
      "    action_items='Draft email campaign proposal by Friday, Research potential influencers and their rates, Present findings in the next meeting, Touch base next week to review everything.'\n",
      ")\n"
     ]
    }
   ],
   "source": [
    "from dspy.primitives.assertions import assert_transform_module, backtrack_handler\n",
    "\n",
    "dspy.configure(trace=[])\n",
    "\n",
    "generate_with_assert = assert_transform_module(GenerateExampleWithAssert(), backtrack_handler)\n",
    "\n",
    "example = generate_with_assert()\n",
    "example1 = generate_with_assert()\n",
    "example2 = generate_with_assert()\n",
    "\n",
    "print(example)\n",
    "print(example1)\n",
    "print(example2)\n"
   ]
  },
  {
   "cell_type": "code",
   "execution_count": 50,
   "metadata": {},
   "outputs": [
    {
     "name": "stdout",
     "output_type": "stream",
     "text": [
      "True\n"
     ]
    }
   ],
   "source": [
    "class ActionItemCompliance(dspy.Signature):\n",
    "    \"\"\"Check that all action items are included in the text\"\"\"\n",
    "    text = dspy.InputField()\n",
    "    action_items = dspy.InputField(desc=\"A comma-separated list of action items\")\n",
    "    comply : bool = dspy.OutputField(desc=\"True or False\")\n",
    "\n",
    "check_inclusion = dspy.TypedChainOfThought(ActionItemCompliance)\n",
    "\n",
    "def are_action_items_included(transcript, action_items):\n",
    "    comp = check_inclusion(text=transcript, action_items=action_items)\n",
    "    return comp.comply\n",
    "\n",
    "print(are_action_items_included(example.transcript, example.action_items))"
   ]
  },
  {
   "cell_type": "code",
   "execution_count": 51,
   "metadata": {},
   "outputs": [
    {
     "name": "stdout",
     "output_type": "stream",
     "text": [
      "Prediction(\n",
      "    rationale='produce the action_items. We need to identify the key points discussed, decisions made, and tasks assigned during the conversation.',\n",
      "    transcript='Alice: \"Hey team, we need to finalize the marketing strategy for the upcoming product launch. I think we should target social media influencers to reach a wider audience.\"\\nBob: \"That\\'s a great idea, Alice. We should also consider creating some engaging video content to capture attention.\"\\nCathy: \"I can handle the video production if we set a timeline. How about we aim to have the first draft ready in two weeks?\"\\nAlice: \"Perfect! Let\\'s also make sure to allocate a budget for influencer partnerships. Bob, can you research potential influencers and their rates?\"\\nBob: \"Absolutely, I\\'ll have a list ready by next week.\"\\nCathy: \"And I’ll start working on the video concept as soon as we have the key messages defined.\"\\nAlice: \"Sounds good. Let\\'s reconvene next Friday to review our progress.\"',\n",
      "    action_items='finalize marketing strategy, target social media influencers, create engaging video content, set timeline for video production, allocate budget for influencer partnerships, research potential influencers and their rates, define key messages, reconvene next Friday to review progress'\n",
      ")\n"
     ]
    }
   ],
   "source": [
    "class GenerateExampleWith2Assert(dspy.Module):\n",
    "  def __init__(self):\n",
    "    super().__init__()\n",
    "    self.generate_example = dspy.ChainOfThought(TranscriptExample)\n",
    "  \n",
    "  def forward(self):\n",
    "    ex = self.generate_example(**varying_temp())\n",
    "    dspy.Assert(check_format(ex.action_items), \"Action Items should be a comma-separated list\")\n",
    "    dspy.Assert(are_action_items_included(ex.transcript, ex.action_items), \"Action Items should be included in the transcript\")\n",
    "\n",
    "    return ex\n",
    "  \n",
    "generate_with_assert = assert_transform_module(GenerateExampleWith2Assert(), backtrack_handler)\n",
    "\n",
    "example = generate_with_assert()\n",
    "print(example)"
   ]
  },
  {
   "cell_type": "code",
   "execution_count": null,
   "metadata": {},
   "outputs": [],
   "source": [
    "# Seems like dspy is trying to fix this for non-OpenAI models."
   ]
  }
 ],
 "metadata": {
  "kernelspec": {
   "display_name": "dspy",
   "language": "python",
   "name": "python3"
  },
  "language_info": {
   "codemirror_mode": {
    "name": "ipython",
    "version": 3
   },
   "file_extension": ".py",
   "mimetype": "text/x-python",
   "name": "python",
   "nbconvert_exporter": "python",
   "pygments_lexer": "ipython3",
   "version": "3.11.9"
  }
 },
 "nbformat": 4,
 "nbformat_minor": 2
}
